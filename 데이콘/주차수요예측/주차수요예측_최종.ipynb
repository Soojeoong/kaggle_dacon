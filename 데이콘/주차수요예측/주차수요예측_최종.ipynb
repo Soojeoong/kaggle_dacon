{
 "cells": [
  {
   "cell_type": "markdown",
   "id": "2bb92e7d",
   "metadata": {},
   "source": [
    "# 1. 데이터 탐색적 분석"
   ]
  },
  {
   "cell_type": "code",
   "execution_count": 1,
   "id": "0bc54a4b",
   "metadata": {},
   "outputs": [],
   "source": [
    "import pandas as pd\n",
    "import numpy as np\n",
    "import matplotlib as plt\n",
    "import seaborn as sns\n",
    "import warnings\n",
    "# 경고메세지 끄기\n",
    "warnings.filterwarnings(action='ignore')\n",
    "import matplotlib.pyplot as plt\n",
    "plt.rc('font', family='NanumBarunGothic')\n",
    "#한글 폰트 세팅\n",
    "import matplotlib\n",
    "matplotlib.rcParams['font.family'] ='Malgun Gothic'\n",
    "matplotlib.rcParams['axes.unicode_minus'] =False\n",
    "import numpy as np\n",
    "from tqdm import tqdm\n",
    "from sklearn.metrics import mean_absolute_error\n",
    "from sklearn.model_selection import train_test_split\n",
    "from sklearn.preprocessing import StandardScaler\n",
    "from sklearn.linear_model import Lasso\n",
    "from sklearn.ensemble import RandomForestRegressor\n",
    "from pprint import pprint\n",
    "from sklearn.model_selection import RandomizedSearchCV\n",
    "from xgboost import plot_importance\n",
    "from sklearn.model_selection import GridSearchCV\n",
    "from sklearn import metrics\n",
    "import xgboost\n",
    "from xgboost import XGBRegressor\n",
    "from lightgbm import LGBMRegressor\n",
    "from sklearn.linear_model import Ridge, Lasso, ElasticNet"
   ]
  },
  {
   "cell_type": "markdown",
   "id": "0bdf4078",
   "metadata": {},
   "source": [
    "## (1) 데이터 둘러보기"
   ]
  },
  {
   "cell_type": "code",
   "execution_count": 2,
   "id": "761b06e2",
   "metadata": {},
   "outputs": [],
   "source": [
    "train = pd.read_csv('train.csv')\n",
    "test = pd.read_csv('test.csv')\n",
    "age_gender = pd.read_csv('age_gender_info.csv')\n",
    "submission = pd.read_csv('sample_submission.csv')"
   ]
  },
  {
   "cell_type": "code",
   "execution_count": 3,
   "id": "f3659335",
   "metadata": {},
   "outputs": [
    {
     "data": {
      "text/html": [
       "<div>\n",
       "<style scoped>\n",
       "    .dataframe tbody tr th:only-of-type {\n",
       "        vertical-align: middle;\n",
       "    }\n",
       "\n",
       "    .dataframe tbody tr th {\n",
       "        vertical-align: top;\n",
       "    }\n",
       "\n",
       "    .dataframe thead th {\n",
       "        text-align: right;\n",
       "    }\n",
       "</style>\n",
       "<table border=\"1\" class=\"dataframe\">\n",
       "  <thead>\n",
       "    <tr style=\"text-align: right;\">\n",
       "      <th></th>\n",
       "      <th>단지코드</th>\n",
       "      <th>총세대수</th>\n",
       "      <th>임대건물구분</th>\n",
       "      <th>지역</th>\n",
       "      <th>공급유형</th>\n",
       "      <th>전용면적</th>\n",
       "      <th>전용면적별세대수</th>\n",
       "      <th>공가수</th>\n",
       "      <th>자격유형</th>\n",
       "      <th>임대보증금</th>\n",
       "      <th>임대료</th>\n",
       "      <th>도보 10분거리 내 지하철역 수(환승노선 수 반영)</th>\n",
       "      <th>도보 10분거리 내 버스정류장 수</th>\n",
       "      <th>단지내주차면수</th>\n",
       "      <th>등록차량수</th>\n",
       "    </tr>\n",
       "  </thead>\n",
       "  <tbody>\n",
       "    <tr>\n",
       "      <th>0</th>\n",
       "      <td>C2483</td>\n",
       "      <td>900</td>\n",
       "      <td>아파트</td>\n",
       "      <td>경상북도</td>\n",
       "      <td>국민임대</td>\n",
       "      <td>39.72</td>\n",
       "      <td>134</td>\n",
       "      <td>38.0</td>\n",
       "      <td>A</td>\n",
       "      <td>15667000</td>\n",
       "      <td>103680</td>\n",
       "      <td>0.0</td>\n",
       "      <td>3.0</td>\n",
       "      <td>1425.0</td>\n",
       "      <td>1015.0</td>\n",
       "    </tr>\n",
       "    <tr>\n",
       "      <th>1</th>\n",
       "      <td>C2483</td>\n",
       "      <td>900</td>\n",
       "      <td>아파트</td>\n",
       "      <td>경상북도</td>\n",
       "      <td>국민임대</td>\n",
       "      <td>39.72</td>\n",
       "      <td>15</td>\n",
       "      <td>38.0</td>\n",
       "      <td>A</td>\n",
       "      <td>15667000</td>\n",
       "      <td>103680</td>\n",
       "      <td>0.0</td>\n",
       "      <td>3.0</td>\n",
       "      <td>1425.0</td>\n",
       "      <td>1015.0</td>\n",
       "    </tr>\n",
       "    <tr>\n",
       "      <th>2</th>\n",
       "      <td>C2483</td>\n",
       "      <td>900</td>\n",
       "      <td>아파트</td>\n",
       "      <td>경상북도</td>\n",
       "      <td>국민임대</td>\n",
       "      <td>51.93</td>\n",
       "      <td>385</td>\n",
       "      <td>38.0</td>\n",
       "      <td>A</td>\n",
       "      <td>27304000</td>\n",
       "      <td>184330</td>\n",
       "      <td>0.0</td>\n",
       "      <td>3.0</td>\n",
       "      <td>1425.0</td>\n",
       "      <td>1015.0</td>\n",
       "    </tr>\n",
       "    <tr>\n",
       "      <th>3</th>\n",
       "      <td>C2483</td>\n",
       "      <td>900</td>\n",
       "      <td>아파트</td>\n",
       "      <td>경상북도</td>\n",
       "      <td>국민임대</td>\n",
       "      <td>51.93</td>\n",
       "      <td>15</td>\n",
       "      <td>38.0</td>\n",
       "      <td>A</td>\n",
       "      <td>27304000</td>\n",
       "      <td>184330</td>\n",
       "      <td>0.0</td>\n",
       "      <td>3.0</td>\n",
       "      <td>1425.0</td>\n",
       "      <td>1015.0</td>\n",
       "    </tr>\n",
       "    <tr>\n",
       "      <th>4</th>\n",
       "      <td>C2483</td>\n",
       "      <td>900</td>\n",
       "      <td>아파트</td>\n",
       "      <td>경상북도</td>\n",
       "      <td>국민임대</td>\n",
       "      <td>51.93</td>\n",
       "      <td>41</td>\n",
       "      <td>38.0</td>\n",
       "      <td>A</td>\n",
       "      <td>27304000</td>\n",
       "      <td>184330</td>\n",
       "      <td>0.0</td>\n",
       "      <td>3.0</td>\n",
       "      <td>1425.0</td>\n",
       "      <td>1015.0</td>\n",
       "    </tr>\n",
       "  </tbody>\n",
       "</table>\n",
       "</div>"
      ],
      "text/plain": [
       "    단지코드  총세대수 임대건물구분    지역  공급유형   전용면적  전용면적별세대수   공가수 자격유형     임대보증금  \\\n",
       "0  C2483   900    아파트  경상북도  국민임대  39.72       134  38.0    A  15667000   \n",
       "1  C2483   900    아파트  경상북도  국민임대  39.72        15  38.0    A  15667000   \n",
       "2  C2483   900    아파트  경상북도  국민임대  51.93       385  38.0    A  27304000   \n",
       "3  C2483   900    아파트  경상북도  국민임대  51.93        15  38.0    A  27304000   \n",
       "4  C2483   900    아파트  경상북도  국민임대  51.93        41  38.0    A  27304000   \n",
       "\n",
       "      임대료  도보 10분거리 내 지하철역 수(환승노선 수 반영)  도보 10분거리 내 버스정류장 수  단지내주차면수   등록차량수  \n",
       "0  103680                           0.0                 3.0   1425.0  1015.0  \n",
       "1  103680                           0.0                 3.0   1425.0  1015.0  \n",
       "2  184330                           0.0                 3.0   1425.0  1015.0  \n",
       "3  184330                           0.0                 3.0   1425.0  1015.0  \n",
       "4  184330                           0.0                 3.0   1425.0  1015.0  "
      ]
     },
     "execution_count": 3,
     "metadata": {},
     "output_type": "execute_result"
    }
   ],
   "source": [
    "train.head()"
   ]
  },
  {
   "cell_type": "code",
   "execution_count": 4,
   "id": "8647d4c2",
   "metadata": {},
   "outputs": [
    {
     "data": {
      "text/html": [
       "<div>\n",
       "<style scoped>\n",
       "    .dataframe tbody tr th:only-of-type {\n",
       "        vertical-align: middle;\n",
       "    }\n",
       "\n",
       "    .dataframe tbody tr th {\n",
       "        vertical-align: top;\n",
       "    }\n",
       "\n",
       "    .dataframe thead th {\n",
       "        text-align: right;\n",
       "    }\n",
       "</style>\n",
       "<table border=\"1\" class=\"dataframe\">\n",
       "  <thead>\n",
       "    <tr style=\"text-align: right;\">\n",
       "      <th></th>\n",
       "      <th>단지코드</th>\n",
       "      <th>총세대수</th>\n",
       "      <th>임대건물구분</th>\n",
       "      <th>지역</th>\n",
       "      <th>공급유형</th>\n",
       "      <th>전용면적</th>\n",
       "      <th>전용면적별세대수</th>\n",
       "      <th>공가수</th>\n",
       "      <th>자격유형</th>\n",
       "      <th>임대보증금</th>\n",
       "      <th>임대료</th>\n",
       "      <th>도보 10분거리 내 지하철역 수(환승노선 수 반영)</th>\n",
       "      <th>도보 10분거리 내 버스정류장 수</th>\n",
       "      <th>단지내주차면수</th>\n",
       "    </tr>\n",
       "  </thead>\n",
       "  <tbody>\n",
       "    <tr>\n",
       "      <th>0</th>\n",
       "      <td>C1072</td>\n",
       "      <td>754</td>\n",
       "      <td>아파트</td>\n",
       "      <td>경기도</td>\n",
       "      <td>국민임대</td>\n",
       "      <td>39.79</td>\n",
       "      <td>116</td>\n",
       "      <td>14.0</td>\n",
       "      <td>H</td>\n",
       "      <td>22830000</td>\n",
       "      <td>189840</td>\n",
       "      <td>0.0</td>\n",
       "      <td>2.0</td>\n",
       "      <td>683.0</td>\n",
       "    </tr>\n",
       "    <tr>\n",
       "      <th>1</th>\n",
       "      <td>C1072</td>\n",
       "      <td>754</td>\n",
       "      <td>아파트</td>\n",
       "      <td>경기도</td>\n",
       "      <td>국민임대</td>\n",
       "      <td>46.81</td>\n",
       "      <td>30</td>\n",
       "      <td>14.0</td>\n",
       "      <td>A</td>\n",
       "      <td>36048000</td>\n",
       "      <td>249930</td>\n",
       "      <td>0.0</td>\n",
       "      <td>2.0</td>\n",
       "      <td>683.0</td>\n",
       "    </tr>\n",
       "    <tr>\n",
       "      <th>2</th>\n",
       "      <td>C1072</td>\n",
       "      <td>754</td>\n",
       "      <td>아파트</td>\n",
       "      <td>경기도</td>\n",
       "      <td>국민임대</td>\n",
       "      <td>46.90</td>\n",
       "      <td>112</td>\n",
       "      <td>14.0</td>\n",
       "      <td>H</td>\n",
       "      <td>36048000</td>\n",
       "      <td>249930</td>\n",
       "      <td>0.0</td>\n",
       "      <td>2.0</td>\n",
       "      <td>683.0</td>\n",
       "    </tr>\n",
       "    <tr>\n",
       "      <th>3</th>\n",
       "      <td>C1072</td>\n",
       "      <td>754</td>\n",
       "      <td>아파트</td>\n",
       "      <td>경기도</td>\n",
       "      <td>국민임대</td>\n",
       "      <td>46.90</td>\n",
       "      <td>120</td>\n",
       "      <td>14.0</td>\n",
       "      <td>H</td>\n",
       "      <td>36048000</td>\n",
       "      <td>249930</td>\n",
       "      <td>0.0</td>\n",
       "      <td>2.0</td>\n",
       "      <td>683.0</td>\n",
       "    </tr>\n",
       "    <tr>\n",
       "      <th>4</th>\n",
       "      <td>C1072</td>\n",
       "      <td>754</td>\n",
       "      <td>아파트</td>\n",
       "      <td>경기도</td>\n",
       "      <td>국민임대</td>\n",
       "      <td>51.46</td>\n",
       "      <td>60</td>\n",
       "      <td>14.0</td>\n",
       "      <td>H</td>\n",
       "      <td>43497000</td>\n",
       "      <td>296780</td>\n",
       "      <td>0.0</td>\n",
       "      <td>2.0</td>\n",
       "      <td>683.0</td>\n",
       "    </tr>\n",
       "  </tbody>\n",
       "</table>\n",
       "</div>"
      ],
      "text/plain": [
       "    단지코드  총세대수 임대건물구분   지역  공급유형   전용면적  전용면적별세대수   공가수 자격유형     임대보증금  \\\n",
       "0  C1072   754    아파트  경기도  국민임대  39.79       116  14.0    H  22830000   \n",
       "1  C1072   754    아파트  경기도  국민임대  46.81        30  14.0    A  36048000   \n",
       "2  C1072   754    아파트  경기도  국민임대  46.90       112  14.0    H  36048000   \n",
       "3  C1072   754    아파트  경기도  국민임대  46.90       120  14.0    H  36048000   \n",
       "4  C1072   754    아파트  경기도  국민임대  51.46        60  14.0    H  43497000   \n",
       "\n",
       "      임대료  도보 10분거리 내 지하철역 수(환승노선 수 반영)  도보 10분거리 내 버스정류장 수  단지내주차면수  \n",
       "0  189840                           0.0                 2.0    683.0  \n",
       "1  249930                           0.0                 2.0    683.0  \n",
       "2  249930                           0.0                 2.0    683.0  \n",
       "3  249930                           0.0                 2.0    683.0  \n",
       "4  296780                           0.0                 2.0    683.0  "
      ]
     },
     "execution_count": 4,
     "metadata": {},
     "output_type": "execute_result"
    }
   ],
   "source": [
    "test.head()"
   ]
  },
  {
   "cell_type": "code",
   "execution_count": 5,
   "id": "b30b8b7d",
   "metadata": {},
   "outputs": [
    {
     "data": {
      "text/plain": [
       "((2952, 15), (1022, 14))"
      ]
     },
     "execution_count": 5,
     "metadata": {},
     "output_type": "execute_result"
    }
   ],
   "source": [
    "train.shape, test.shape"
   ]
  },
  {
   "cell_type": "code",
   "execution_count": 6,
   "id": "96c87e1d",
   "metadata": {
    "scrolled": true
   },
   "outputs": [
    {
     "name": "stdout",
     "output_type": "stream",
     "text": [
      "<class 'pandas.core.frame.DataFrame'>\n",
      "RangeIndex: 2952 entries, 0 to 2951\n",
      "Data columns (total 15 columns):\n",
      " #   Column                        Non-Null Count  Dtype  \n",
      "---  ------                        --------------  -----  \n",
      " 0   단지코드                          2952 non-null   object \n",
      " 1   총세대수                          2952 non-null   int64  \n",
      " 2   임대건물구분                        2952 non-null   object \n",
      " 3   지역                            2952 non-null   object \n",
      " 4   공급유형                          2952 non-null   object \n",
      " 5   전용면적                          2952 non-null   float64\n",
      " 6   전용면적별세대수                      2952 non-null   int64  \n",
      " 7   공가수                           2952 non-null   float64\n",
      " 8   자격유형                          2952 non-null   object \n",
      " 9   임대보증금                         2383 non-null   object \n",
      " 10  임대료                           2383 non-null   object \n",
      " 11  도보 10분거리 내 지하철역 수(환승노선 수 반영)  2741 non-null   float64\n",
      " 12  도보 10분거리 내 버스정류장 수            2948 non-null   float64\n",
      " 13  단지내주차면수                       2952 non-null   float64\n",
      " 14  등록차량수                         2952 non-null   float64\n",
      "dtypes: float64(6), int64(2), object(7)\n",
      "memory usage: 346.1+ KB\n"
     ]
    }
   ],
   "source": [
    "train.info()"
   ]
  },
  {
   "cell_type": "code",
   "execution_count": 7,
   "id": "f10cbc7e",
   "metadata": {},
   "outputs": [],
   "source": [
    "# 임대보증금과 임대료는 '-'을 null로 바꾼 후 float로 타입 변경\n",
    "# train\n",
    "train.loc[train.임대보증금=='-', '임대보증금'] = np.nan\n",
    "train['임대보증금'] = train['임대보증금'].astype(float)\n",
    "\n",
    "train.loc[train.임대료=='-', '임대료'] = np.nan\n",
    "train['임대료'] = train['임대료'].astype(float)\n",
    "#test\n",
    "test.loc[test.임대보증금=='-', '임대보증금'] = np.nan\n",
    "test['임대보증금'] = test['임대보증금'].astype(float)\n",
    "\n",
    "test.loc[test.임대료=='-', '임대료'] = np.nan\n",
    "test['임대료'] = test['임대료'].astype(float)"
   ]
  },
  {
   "cell_type": "code",
   "execution_count": 8,
   "id": "83b200be",
   "metadata": {
    "scrolled": true
   },
   "outputs": [
    {
     "name": "stdout",
     "output_type": "stream",
     "text": [
      "<class 'pandas.core.frame.DataFrame'>\n",
      "RangeIndex: 2952 entries, 0 to 2951\n",
      "Data columns (total 15 columns):\n",
      " #   Column                        Non-Null Count  Dtype  \n",
      "---  ------                        --------------  -----  \n",
      " 0   단지코드                          2952 non-null   object \n",
      " 1   총세대수                          2952 non-null   int64  \n",
      " 2   임대건물구분                        2952 non-null   object \n",
      " 3   지역                            2952 non-null   object \n",
      " 4   공급유형                          2952 non-null   object \n",
      " 5   전용면적                          2952 non-null   float64\n",
      " 6   전용면적별세대수                      2952 non-null   int64  \n",
      " 7   공가수                           2952 non-null   float64\n",
      " 8   자격유형                          2952 non-null   object \n",
      " 9   임대보증금                         2371 non-null   float64\n",
      " 10  임대료                           2362 non-null   float64\n",
      " 11  도보 10분거리 내 지하철역 수(환승노선 수 반영)  2741 non-null   float64\n",
      " 12  도보 10분거리 내 버스정류장 수            2948 non-null   float64\n",
      " 13  단지내주차면수                       2952 non-null   float64\n",
      " 14  등록차량수                         2952 non-null   float64\n",
      "dtypes: float64(8), int64(2), object(5)\n",
      "memory usage: 346.1+ KB\n"
     ]
    }
   ],
   "source": [
    "train.info()"
   ]
  },
  {
   "cell_type": "code",
   "execution_count": 9,
   "id": "c2dcb58c",
   "metadata": {},
   "outputs": [
    {
     "name": "stdout",
     "output_type": "stream",
     "text": [
      "<class 'pandas.core.frame.DataFrame'>\n",
      "RangeIndex: 1022 entries, 0 to 1021\n",
      "Data columns (total 14 columns):\n",
      " #   Column                        Non-Null Count  Dtype  \n",
      "---  ------                        --------------  -----  \n",
      " 0   단지코드                          1022 non-null   object \n",
      " 1   총세대수                          1022 non-null   int64  \n",
      " 2   임대건물구분                        1022 non-null   object \n",
      " 3   지역                            1022 non-null   object \n",
      " 4   공급유형                          1022 non-null   object \n",
      " 5   전용면적                          1022 non-null   float64\n",
      " 6   전용면적별세대수                      1022 non-null   int64  \n",
      " 7   공가수                           1022 non-null   float64\n",
      " 8   자격유형                          1020 non-null   object \n",
      " 9   임대보증금                         836 non-null    float64\n",
      " 10  임대료                           836 non-null    float64\n",
      " 11  도보 10분거리 내 지하철역 수(환승노선 수 반영)  980 non-null    float64\n",
      " 12  도보 10분거리 내 버스정류장 수            1022 non-null   float64\n",
      " 13  단지내주차면수                       1022 non-null   float64\n",
      "dtypes: float64(7), int64(2), object(5)\n",
      "memory usage: 111.9+ KB\n"
     ]
    }
   ],
   "source": [
    "test.info()"
   ]
  },
  {
   "cell_type": "markdown",
   "id": "8cd5cbe8",
   "metadata": {},
   "source": [
    "- null값 : 임대보증금, 임대료, 지하철, 버스정류장"
   ]
  },
  {
   "cell_type": "markdown",
   "id": "defbae62",
   "metadata": {},
   "source": [
    "## (2)피처 요약표"
   ]
  },
  {
   "cell_type": "code",
   "execution_count": 10,
   "id": "8c972fa7",
   "metadata": {
    "scrolled": true
   },
   "outputs": [
    {
     "name": "stdout",
     "output_type": "stream",
     "text": [
      "데이터셋 형상: (2952, 15)\n"
     ]
    },
    {
     "data": {
      "text/html": [
       "<div>\n",
       "<style scoped>\n",
       "    .dataframe tbody tr th:only-of-type {\n",
       "        vertical-align: middle;\n",
       "    }\n",
       "\n",
       "    .dataframe tbody tr th {\n",
       "        vertical-align: top;\n",
       "    }\n",
       "\n",
       "    .dataframe thead th {\n",
       "        text-align: right;\n",
       "    }\n",
       "</style>\n",
       "<table border=\"1\" class=\"dataframe\">\n",
       "  <thead>\n",
       "    <tr style=\"text-align: right;\">\n",
       "      <th></th>\n",
       "      <th>피처</th>\n",
       "      <th>데이터 타입</th>\n",
       "      <th>결측값 개수</th>\n",
       "      <th>고윳값 개수</th>\n",
       "      <th>첫 번째 값</th>\n",
       "      <th>두 번째 값</th>\n",
       "      <th>세 번째 값</th>\n",
       "    </tr>\n",
       "  </thead>\n",
       "  <tbody>\n",
       "    <tr>\n",
       "      <th>0</th>\n",
       "      <td>단지코드</td>\n",
       "      <td>object</td>\n",
       "      <td>0</td>\n",
       "      <td>423</td>\n",
       "      <td>C2483</td>\n",
       "      <td>C2483</td>\n",
       "      <td>C2483</td>\n",
       "    </tr>\n",
       "    <tr>\n",
       "      <th>1</th>\n",
       "      <td>총세대수</td>\n",
       "      <td>int64</td>\n",
       "      <td>0</td>\n",
       "      <td>351</td>\n",
       "      <td>900</td>\n",
       "      <td>900</td>\n",
       "      <td>900</td>\n",
       "    </tr>\n",
       "    <tr>\n",
       "      <th>2</th>\n",
       "      <td>임대건물구분</td>\n",
       "      <td>object</td>\n",
       "      <td>0</td>\n",
       "      <td>2</td>\n",
       "      <td>아파트</td>\n",
       "      <td>아파트</td>\n",
       "      <td>아파트</td>\n",
       "    </tr>\n",
       "    <tr>\n",
       "      <th>3</th>\n",
       "      <td>지역</td>\n",
       "      <td>object</td>\n",
       "      <td>0</td>\n",
       "      <td>16</td>\n",
       "      <td>경상북도</td>\n",
       "      <td>경상북도</td>\n",
       "      <td>경상북도</td>\n",
       "    </tr>\n",
       "    <tr>\n",
       "      <th>4</th>\n",
       "      <td>공급유형</td>\n",
       "      <td>object</td>\n",
       "      <td>0</td>\n",
       "      <td>10</td>\n",
       "      <td>국민임대</td>\n",
       "      <td>국민임대</td>\n",
       "      <td>국민임대</td>\n",
       "    </tr>\n",
       "    <tr>\n",
       "      <th>5</th>\n",
       "      <td>전용면적</td>\n",
       "      <td>float64</td>\n",
       "      <td>0</td>\n",
       "      <td>679</td>\n",
       "      <td>39.72</td>\n",
       "      <td>39.72</td>\n",
       "      <td>51.93</td>\n",
       "    </tr>\n",
       "    <tr>\n",
       "      <th>6</th>\n",
       "      <td>전용면적별세대수</td>\n",
       "      <td>int64</td>\n",
       "      <td>0</td>\n",
       "      <td>403</td>\n",
       "      <td>134</td>\n",
       "      <td>15</td>\n",
       "      <td>385</td>\n",
       "    </tr>\n",
       "    <tr>\n",
       "      <th>7</th>\n",
       "      <td>공가수</td>\n",
       "      <td>float64</td>\n",
       "      <td>0</td>\n",
       "      <td>48</td>\n",
       "      <td>38.0</td>\n",
       "      <td>38.0</td>\n",
       "      <td>38.0</td>\n",
       "    </tr>\n",
       "    <tr>\n",
       "      <th>8</th>\n",
       "      <td>자격유형</td>\n",
       "      <td>object</td>\n",
       "      <td>0</td>\n",
       "      <td>15</td>\n",
       "      <td>A</td>\n",
       "      <td>A</td>\n",
       "      <td>A</td>\n",
       "    </tr>\n",
       "    <tr>\n",
       "      <th>9</th>\n",
       "      <td>임대보증금</td>\n",
       "      <td>float64</td>\n",
       "      <td>581</td>\n",
       "      <td>956</td>\n",
       "      <td>15667000.0</td>\n",
       "      <td>15667000.0</td>\n",
       "      <td>27304000.0</td>\n",
       "    </tr>\n",
       "    <tr>\n",
       "      <th>10</th>\n",
       "      <td>임대료</td>\n",
       "      <td>float64</td>\n",
       "      <td>590</td>\n",
       "      <td>994</td>\n",
       "      <td>103680.0</td>\n",
       "      <td>103680.0</td>\n",
       "      <td>184330.0</td>\n",
       "    </tr>\n",
       "    <tr>\n",
       "      <th>11</th>\n",
       "      <td>도보 10분거리 내 지하철역 수(환승노선 수 반영)</td>\n",
       "      <td>float64</td>\n",
       "      <td>211</td>\n",
       "      <td>4</td>\n",
       "      <td>0.0</td>\n",
       "      <td>0.0</td>\n",
       "      <td>0.0</td>\n",
       "    </tr>\n",
       "    <tr>\n",
       "      <th>12</th>\n",
       "      <td>도보 10분거리 내 버스정류장 수</td>\n",
       "      <td>float64</td>\n",
       "      <td>4</td>\n",
       "      <td>17</td>\n",
       "      <td>3.0</td>\n",
       "      <td>3.0</td>\n",
       "      <td>3.0</td>\n",
       "    </tr>\n",
       "    <tr>\n",
       "      <th>13</th>\n",
       "      <td>단지내주차면수</td>\n",
       "      <td>float64</td>\n",
       "      <td>0</td>\n",
       "      <td>355</td>\n",
       "      <td>1425.0</td>\n",
       "      <td>1425.0</td>\n",
       "      <td>1425.0</td>\n",
       "    </tr>\n",
       "    <tr>\n",
       "      <th>14</th>\n",
       "      <td>등록차량수</td>\n",
       "      <td>float64</td>\n",
       "      <td>0</td>\n",
       "      <td>354</td>\n",
       "      <td>1015.0</td>\n",
       "      <td>1015.0</td>\n",
       "      <td>1015.0</td>\n",
       "    </tr>\n",
       "  </tbody>\n",
       "</table>\n",
       "</div>"
      ],
      "text/plain": [
       "                              피처   데이터 타입  결측값 개수  고윳값 개수      첫 번째 값  \\\n",
       "0                           단지코드   object       0     423       C2483   \n",
       "1                           총세대수    int64       0     351         900   \n",
       "2                         임대건물구분   object       0       2         아파트   \n",
       "3                             지역   object       0      16        경상북도   \n",
       "4                           공급유형   object       0      10        국민임대   \n",
       "5                           전용면적  float64       0     679       39.72   \n",
       "6                       전용면적별세대수    int64       0     403         134   \n",
       "7                            공가수  float64       0      48        38.0   \n",
       "8                           자격유형   object       0      15           A   \n",
       "9                          임대보증금  float64     581     956  15667000.0   \n",
       "10                           임대료  float64     590     994    103680.0   \n",
       "11  도보 10분거리 내 지하철역 수(환승노선 수 반영)  float64     211       4         0.0   \n",
       "12            도보 10분거리 내 버스정류장 수  float64       4      17         3.0   \n",
       "13                       단지내주차면수  float64       0     355      1425.0   \n",
       "14                         등록차량수  float64       0     354      1015.0   \n",
       "\n",
       "        두 번째 값      세 번째 값  \n",
       "0        C2483       C2483  \n",
       "1          900         900  \n",
       "2          아파트         아파트  \n",
       "3         경상북도        경상북도  \n",
       "4         국민임대        국민임대  \n",
       "5        39.72       51.93  \n",
       "6           15         385  \n",
       "7         38.0        38.0  \n",
       "8            A           A  \n",
       "9   15667000.0  27304000.0  \n",
       "10    103680.0    184330.0  \n",
       "11         0.0         0.0  \n",
       "12         3.0         3.0  \n",
       "13      1425.0      1425.0  \n",
       "14      1015.0      1015.0  "
      ]
     },
     "execution_count": 10,
     "metadata": {},
     "output_type": "execute_result"
    }
   ],
   "source": [
    "def resumetable(df):\n",
    "    print(f'데이터셋 형상: {df.shape}')\n",
    "    summary=pd.DataFrame(df.dtypes, columns={'데이터 타입'})\n",
    "    summary=summary.reset_index()\n",
    "    summary=summary.rename(columns={'index': '피처'})\n",
    "    \n",
    "    summary['결측값 개수']=df.isnull().sum().values\n",
    "    summary['고윳값 개수']=df.nunique().values\n",
    "    summary['첫 번째 값']=df.loc[0].values \n",
    "    summary['두 번째 값']=df.loc[1].values \n",
    "    summary['세 번째 값']=df.loc[2].values \n",
    "    \n",
    "    return summary\n",
    "\n",
    "resumetable(train)"
   ]
  },
  {
   "cell_type": "markdown",
   "id": "941cb303",
   "metadata": {},
   "source": [
    "## (3) 타깃값 분포"
   ]
  },
  {
   "cell_type": "code",
   "execution_count": 11,
   "id": "a3058495",
   "metadata": {},
   "outputs": [
    {
     "data": {
      "text/plain": [
       "<AxesSubplot:xlabel='등록차량수', ylabel='Count'>"
      ]
     },
     "execution_count": 11,
     "metadata": {},
     "output_type": "execute_result"
    },
    {
     "data": {
      "image/png": "[encoded data removed]",
      "text/plain": [
       "<Figure size 432x288 with 1 Axes>"
      ]
     },
     "metadata": {
      "needs_background": "light"
     },
     "output_type": "display_data"
    }
   ],
   "source": [
    "sns.histplot(data=train, x='등록차량수')"
   ]
  },
  {
   "cell_type": "markdown",
   "id": "29c79cd1",
   "metadata": {},
   "source": [
    "-> 성능 개선을 위해 나중에 로그변환할거임"
   ]
  },
  {
   "cell_type": "code",
   "execution_count": 12,
   "id": "26c16c6b",
   "metadata": {},
   "outputs": [
    {
     "data": {
      "text/plain": [
       "<seaborn.axisgrid.FacetGrid at 0x16a5834a550>"
      ]
     },
     "execution_count": 12,
     "metadata": {},
     "output_type": "execute_result"
    },
    {
     "data": {
      "image/png": "[encoded data removed]",
      "text/plain": [
       "<Figure size 360x360 with 1 Axes>"
      ]
     },
     "metadata": {
      "needs_background": "light"
     },
     "output_type": "display_data"
    }
   ],
   "source": [
    "#로그 변환시 그래프\n",
    "sns.displot(np.log(train['등록차량수']))"
   ]
  },
  {
   "cell_type": "markdown",
   "id": "076142d3",
   "metadata": {},
   "source": [
    "## (4) 전용면적 5의 배수로 변경 후 상/하한 적용"
   ]
  },
  {
   "cell_type": "code",
   "execution_count": 13,
   "id": "f1c3220c",
   "metadata": {},
   "outputs": [
    {
     "data": {
      "text/plain": [
       "count    2952.000000\n",
       "mean       44.757215\n",
       "std        31.874280\n",
       "min        12.620000\n",
       "25%        32.100000\n",
       "50%        39.930000\n",
       "75%        51.562500\n",
       "max       583.400000\n",
       "Name: 전용면적, dtype: float64"
      ]
     },
     "execution_count": 13,
     "metadata": {},
     "output_type": "execute_result"
    }
   ],
   "source": [
    "train['전용면적'].describe()"
   ]
  },
  {
   "cell_type": "code",
   "execution_count": 14,
   "id": "b6dc448e",
   "metadata": {},
   "outputs": [
    {
     "data": {
      "text/plain": [
       "<AxesSubplot:xlabel='전용면적'>"
      ]
     },
     "execution_count": 14,
     "metadata": {},
     "output_type": "execute_result"
    },
    {
     "data": {
      "image/png": "[encoded data removed]",
      "text/plain": [
       "<Figure size 432x288 with 1 Axes>"
      ]
     },
     "metadata": {
      "needs_background": "light"
     },
     "output_type": "display_data"
    }
   ],
   "source": [
    " sns.boxplot(data=train, x='전용면적')"
   ]
  },
  {
   "cell_type": "code",
   "execution_count": 15,
   "id": "081650c3",
   "metadata": {},
   "outputs": [],
   "source": [
    "train['전용면적'] = train['전용면적']//5*5\n",
    "test['전용면적'] = test['전용면적']//5*5"
   ]
  },
  {
   "cell_type": "code",
   "execution_count": 16,
   "id": "ed4c6768",
   "metadata": {},
   "outputs": [],
   "source": [
    "#상한100, 하한 15\n",
    "idx = train[train['전용면적']>100].index\n",
    "train.loc[idx, '전용면적'] = 100\n",
    "idx = test[test['전용면적']>100].index\n",
    "test.loc[idx, '전용면적'] = 100\n",
    "\n",
    "idx = train[train['전용면적']<15].index\n",
    "train.loc[idx, '전용면적'] = 15\n",
    "idx = test[test['전용면적']<15].index\n",
    "test.loc[idx, '전용면적'] = 15"
   ]
  },
  {
   "cell_type": "code",
   "execution_count": 17,
   "id": "88769ab2",
   "metadata": {
    "scrolled": true
   },
   "outputs": [
    {
     "data": {
      "text/plain": [
       "array([ 35.,  50.,  55.,  30.,  45.,  40.,  25.,  70.,  15.,  20., 100.,\n",
       "        60.,  75.,  80.,  65.])"
      ]
     },
     "execution_count": 17,
     "metadata": {},
     "output_type": "execute_result"
    }
   ],
   "source": [
    "train['전용면적'].unique()"
   ]
  },
  {
   "cell_type": "code",
   "execution_count": 18,
   "id": "8846576d",
   "metadata": {},
   "outputs": [
    {
     "data": {
      "text/plain": [
       "<AxesSubplot:xlabel='전용면적'>"
      ]
     },
     "execution_count": 18,
     "metadata": {},
     "output_type": "execute_result"
    },
    {
     "data": {
      "image/png": "[encoded data removed]",
      "text/plain": [
       "<Figure size 432x288 with 1 Axes>"
      ]
     },
     "metadata": {
      "needs_background": "light"
     },
     "output_type": "display_data"
    }
   ],
   "source": [
    "sns.boxplot(data=train, x='전용면적') #이상치도 제거됨"
   ]
  },
  {
   "cell_type": "markdown",
   "id": "a2058277",
   "metadata": {},
   "source": [
    "## (5) 단지별 데이터 1차원으로 취합\n",
    "- submission이 단지별로 되어있고, 같은 단지이면서 겹치는 데이터가 많으므로"
   ]
  },
  {
   "cell_type": "code",
   "execution_count": 19,
   "id": "e0ba506d",
   "metadata": {},
   "outputs": [],
   "source": [
    "columns = test.columns\n",
    "target = '등록차량수'\n",
    "area_columns = []\n",
    "for area in train['전용면적'].unique():\n",
    "    area_columns.append(f'면적_{area}')"
   ]
  },
  {
   "cell_type": "code",
   "execution_count": 20,
   "id": "6e195311",
   "metadata": {},
   "outputs": [],
   "source": [
    "train2 = pd.DataFrame()\n",
    "test2 = pd.DataFrame()"
   ]
  },
  {
   "cell_type": "code",
   "execution_count": 21,
   "id": "1e38db58",
   "metadata": {},
   "outputs": [
    {
     "name": "stderr",
     "output_type": "stream",
     "text": [
      "423it [00:06, 68.87it/s]\n",
      "150it [00:01, 79.04it/s]\n"
     ]
    }
   ],
   "source": [
    "for i, code in tqdm(enumerate(train['단지코드'].unique())):\n",
    "    temp = train[train['단지코드']==code]\n",
    "    temp.index = range(temp.shape[0])\n",
    "    for col in columns:\n",
    "        train2.loc[i, col] = temp.loc[0, col]\n",
    "    \n",
    "    for col in area_columns:\n",
    "        area = float(col.split('_')[-1])\n",
    "        train2.loc[i, col] = temp[temp['전용면적']==area]['전용면적별세대수'].sum()\n",
    "    \n",
    "    train2.loc[i, '등록차량수'] = temp.loc[0, '등록차량수']\n",
    "    \n",
    "for i, code in tqdm(enumerate(test['단지코드'].unique())):\n",
    "    temp = test[test['단지코드']==code]\n",
    "    temp.index = range(temp.shape[0])\n",
    "    for col in columns:\n",
    "        test2.loc[i, col] = temp.loc[0, col]\n",
    "    \n",
    "    for col in area_columns:\n",
    "        area = float(col.split('_')[-1])\n",
    "        test2.loc[i, col] = temp[temp['전용면적']==area]['전용면적별세대수'].sum()"
   ]
  },
  {
   "cell_type": "code",
   "execution_count": 22,
   "id": "9a062bde",
   "metadata": {},
   "outputs": [
    {
     "data": {
      "text/html": [
       "<div>\n",
       "<style scoped>\n",
       "    .dataframe tbody tr th:only-of-type {\n",
       "        vertical-align: middle;\n",
       "    }\n",
       "\n",
       "    .dataframe tbody tr th {\n",
       "        vertical-align: top;\n",
       "    }\n",
       "\n",
       "    .dataframe thead th {\n",
       "        text-align: right;\n",
       "    }\n",
       "</style>\n",
       "<table border=\"1\" class=\"dataframe\">\n",
       "  <thead>\n",
       "    <tr style=\"text-align: right;\">\n",
       "      <th></th>\n",
       "      <th>단지코드</th>\n",
       "      <th>총세대수</th>\n",
       "      <th>임대건물구분</th>\n",
       "      <th>지역</th>\n",
       "      <th>공급유형</th>\n",
       "      <th>전용면적</th>\n",
       "      <th>전용면적별세대수</th>\n",
       "      <th>공가수</th>\n",
       "      <th>자격유형</th>\n",
       "      <th>임대보증금</th>\n",
       "      <th>...</th>\n",
       "      <th>면적_25.0</th>\n",
       "      <th>면적_70.0</th>\n",
       "      <th>면적_15.0</th>\n",
       "      <th>면적_20.0</th>\n",
       "      <th>면적_100.0</th>\n",
       "      <th>면적_60.0</th>\n",
       "      <th>면적_75.0</th>\n",
       "      <th>면적_80.0</th>\n",
       "      <th>면적_65.0</th>\n",
       "      <th>등록차량수</th>\n",
       "    </tr>\n",
       "  </thead>\n",
       "  <tbody>\n",
       "    <tr>\n",
       "      <th>0</th>\n",
       "      <td>C2483</td>\n",
       "      <td>900.0</td>\n",
       "      <td>아파트</td>\n",
       "      <td>경상북도</td>\n",
       "      <td>국민임대</td>\n",
       "      <td>35.0</td>\n",
       "      <td>134.0</td>\n",
       "      <td>38.0</td>\n",
       "      <td>A</td>\n",
       "      <td>15667000.0</td>\n",
       "      <td>...</td>\n",
       "      <td>0.0</td>\n",
       "      <td>0.0</td>\n",
       "      <td>0.0</td>\n",
       "      <td>0.0</td>\n",
       "      <td>0.0</td>\n",
       "      <td>0.0</td>\n",
       "      <td>0.0</td>\n",
       "      <td>0.0</td>\n",
       "      <td>0.0</td>\n",
       "      <td>1015.0</td>\n",
       "    </tr>\n",
       "    <tr>\n",
       "      <th>1</th>\n",
       "      <td>C2515</td>\n",
       "      <td>545.0</td>\n",
       "      <td>아파트</td>\n",
       "      <td>경상남도</td>\n",
       "      <td>국민임대</td>\n",
       "      <td>30.0</td>\n",
       "      <td>276.0</td>\n",
       "      <td>17.0</td>\n",
       "      <td>A</td>\n",
       "      <td>9216000.0</td>\n",
       "      <td>...</td>\n",
       "      <td>0.0</td>\n",
       "      <td>0.0</td>\n",
       "      <td>0.0</td>\n",
       "      <td>0.0</td>\n",
       "      <td>0.0</td>\n",
       "      <td>0.0</td>\n",
       "      <td>0.0</td>\n",
       "      <td>0.0</td>\n",
       "      <td>0.0</td>\n",
       "      <td>205.0</td>\n",
       "    </tr>\n",
       "    <tr>\n",
       "      <th>2</th>\n",
       "      <td>C1407</td>\n",
       "      <td>1216.0</td>\n",
       "      <td>아파트</td>\n",
       "      <td>대전광역시</td>\n",
       "      <td>국민임대</td>\n",
       "      <td>30.0</td>\n",
       "      <td>288.0</td>\n",
       "      <td>13.0</td>\n",
       "      <td>A</td>\n",
       "      <td>15620000.0</td>\n",
       "      <td>...</td>\n",
       "      <td>0.0</td>\n",
       "      <td>0.0</td>\n",
       "      <td>0.0</td>\n",
       "      <td>0.0</td>\n",
       "      <td>0.0</td>\n",
       "      <td>0.0</td>\n",
       "      <td>0.0</td>\n",
       "      <td>0.0</td>\n",
       "      <td>0.0</td>\n",
       "      <td>1064.0</td>\n",
       "    </tr>\n",
       "    <tr>\n",
       "      <th>3</th>\n",
       "      <td>C1945</td>\n",
       "      <td>755.0</td>\n",
       "      <td>아파트</td>\n",
       "      <td>경기도</td>\n",
       "      <td>국민임대</td>\n",
       "      <td>35.0</td>\n",
       "      <td>120.0</td>\n",
       "      <td>6.0</td>\n",
       "      <td>B</td>\n",
       "      <td>15607000.0</td>\n",
       "      <td>...</td>\n",
       "      <td>0.0</td>\n",
       "      <td>0.0</td>\n",
       "      <td>0.0</td>\n",
       "      <td>0.0</td>\n",
       "      <td>0.0</td>\n",
       "      <td>0.0</td>\n",
       "      <td>0.0</td>\n",
       "      <td>0.0</td>\n",
       "      <td>0.0</td>\n",
       "      <td>730.0</td>\n",
       "    </tr>\n",
       "    <tr>\n",
       "      <th>4</th>\n",
       "      <td>C1470</td>\n",
       "      <td>696.0</td>\n",
       "      <td>아파트</td>\n",
       "      <td>전라북도</td>\n",
       "      <td>국민임대</td>\n",
       "      <td>35.0</td>\n",
       "      <td>228.0</td>\n",
       "      <td>14.0</td>\n",
       "      <td>A</td>\n",
       "      <td>12015000.0</td>\n",
       "      <td>...</td>\n",
       "      <td>0.0</td>\n",
       "      <td>0.0</td>\n",
       "      <td>0.0</td>\n",
       "      <td>0.0</td>\n",
       "      <td>0.0</td>\n",
       "      <td>0.0</td>\n",
       "      <td>0.0</td>\n",
       "      <td>0.0</td>\n",
       "      <td>0.0</td>\n",
       "      <td>553.0</td>\n",
       "    </tr>\n",
       "    <tr>\n",
       "      <th>...</th>\n",
       "      <td>...</td>\n",
       "      <td>...</td>\n",
       "      <td>...</td>\n",
       "      <td>...</td>\n",
       "      <td>...</td>\n",
       "      <td>...</td>\n",
       "      <td>...</td>\n",
       "      <td>...</td>\n",
       "      <td>...</td>\n",
       "      <td>...</td>\n",
       "      <td>...</td>\n",
       "      <td>...</td>\n",
       "      <td>...</td>\n",
       "      <td>...</td>\n",
       "      <td>...</td>\n",
       "      <td>...</td>\n",
       "      <td>...</td>\n",
       "      <td>...</td>\n",
       "      <td>...</td>\n",
       "      <td>...</td>\n",
       "      <td>...</td>\n",
       "    </tr>\n",
       "    <tr>\n",
       "      <th>418</th>\n",
       "      <td>C2586</td>\n",
       "      <td>90.0</td>\n",
       "      <td>아파트</td>\n",
       "      <td>제주특별자치도</td>\n",
       "      <td>행복주택</td>\n",
       "      <td>15.0</td>\n",
       "      <td>12.0</td>\n",
       "      <td>7.0</td>\n",
       "      <td>J</td>\n",
       "      <td>16800000.0</td>\n",
       "      <td>...</td>\n",
       "      <td>42.0</td>\n",
       "      <td>0.0</td>\n",
       "      <td>12.0</td>\n",
       "      <td>0.0</td>\n",
       "      <td>0.0</td>\n",
       "      <td>0.0</td>\n",
       "      <td>0.0</td>\n",
       "      <td>0.0</td>\n",
       "      <td>0.0</td>\n",
       "      <td>57.0</td>\n",
       "    </tr>\n",
       "    <tr>\n",
       "      <th>419</th>\n",
       "      <td>C2035</td>\n",
       "      <td>492.0</td>\n",
       "      <td>아파트</td>\n",
       "      <td>강원도</td>\n",
       "      <td>국민임대</td>\n",
       "      <td>25.0</td>\n",
       "      <td>132.0</td>\n",
       "      <td>24.0</td>\n",
       "      <td>A</td>\n",
       "      <td>10000000.0</td>\n",
       "      <td>...</td>\n",
       "      <td>156.0</td>\n",
       "      <td>0.0</td>\n",
       "      <td>0.0</td>\n",
       "      <td>0.0</td>\n",
       "      <td>0.0</td>\n",
       "      <td>0.0</td>\n",
       "      <td>0.0</td>\n",
       "      <td>0.0</td>\n",
       "      <td>0.0</td>\n",
       "      <td>246.0</td>\n",
       "    </tr>\n",
       "    <tr>\n",
       "      <th>420</th>\n",
       "      <td>C2020</td>\n",
       "      <td>40.0</td>\n",
       "      <td>아파트</td>\n",
       "      <td>부산광역시</td>\n",
       "      <td>행복주택</td>\n",
       "      <td>15.0</td>\n",
       "      <td>20.0</td>\n",
       "      <td>7.0</td>\n",
       "      <td>L</td>\n",
       "      <td>18000000.0</td>\n",
       "      <td>...</td>\n",
       "      <td>5.0</td>\n",
       "      <td>0.0</td>\n",
       "      <td>20.0</td>\n",
       "      <td>0.0</td>\n",
       "      <td>0.0</td>\n",
       "      <td>0.0</td>\n",
       "      <td>0.0</td>\n",
       "      <td>0.0</td>\n",
       "      <td>0.0</td>\n",
       "      <td>19.0</td>\n",
       "    </tr>\n",
       "    <tr>\n",
       "      <th>421</th>\n",
       "      <td>C2437</td>\n",
       "      <td>90.0</td>\n",
       "      <td>아파트</td>\n",
       "      <td>충청북도</td>\n",
       "      <td>영구임대</td>\n",
       "      <td>20.0</td>\n",
       "      <td>90.0</td>\n",
       "      <td>12.0</td>\n",
       "      <td>C</td>\n",
       "      <td>10346000.0</td>\n",
       "      <td>...</td>\n",
       "      <td>0.0</td>\n",
       "      <td>0.0</td>\n",
       "      <td>0.0</td>\n",
       "      <td>90.0</td>\n",
       "      <td>0.0</td>\n",
       "      <td>0.0</td>\n",
       "      <td>0.0</td>\n",
       "      <td>0.0</td>\n",
       "      <td>0.0</td>\n",
       "      <td>16.0</td>\n",
       "    </tr>\n",
       "    <tr>\n",
       "      <th>422</th>\n",
       "      <td>C2532</td>\n",
       "      <td>239.0</td>\n",
       "      <td>아파트</td>\n",
       "      <td>강원도</td>\n",
       "      <td>국민임대</td>\n",
       "      <td>45.0</td>\n",
       "      <td>19.0</td>\n",
       "      <td>7.0</td>\n",
       "      <td>A</td>\n",
       "      <td>11346000.0</td>\n",
       "      <td>...</td>\n",
       "      <td>0.0</td>\n",
       "      <td>0.0</td>\n",
       "      <td>0.0</td>\n",
       "      <td>0.0</td>\n",
       "      <td>0.0</td>\n",
       "      <td>0.0</td>\n",
       "      <td>0.0</td>\n",
       "      <td>0.0</td>\n",
       "      <td>0.0</td>\n",
       "      <td>146.0</td>\n",
       "    </tr>\n",
       "  </tbody>\n",
       "</table>\n",
       "<p>423 rows × 30 columns</p>\n",
       "</div>"
      ],
      "text/plain": [
       "      단지코드    총세대수 임대건물구분       지역  공급유형  전용면적  전용면적별세대수   공가수 자격유형  \\\n",
       "0    C2483   900.0    아파트     경상북도  국민임대  35.0     134.0  38.0    A   \n",
       "1    C2515   545.0    아파트     경상남도  국민임대  30.0     276.0  17.0    A   \n",
       "2    C1407  1216.0    아파트    대전광역시  국민임대  30.0     288.0  13.0    A   \n",
       "3    C1945   755.0    아파트      경기도  국민임대  35.0     120.0   6.0    B   \n",
       "4    C1470   696.0    아파트     전라북도  국민임대  35.0     228.0  14.0    A   \n",
       "..     ...     ...    ...      ...   ...   ...       ...   ...  ...   \n",
       "418  C2586    90.0    아파트  제주특별자치도  행복주택  15.0      12.0   7.0    J   \n",
       "419  C2035   492.0    아파트      강원도  국민임대  25.0     132.0  24.0    A   \n",
       "420  C2020    40.0    아파트    부산광역시  행복주택  15.0      20.0   7.0    L   \n",
       "421  C2437    90.0    아파트     충청북도  영구임대  20.0      90.0  12.0    C   \n",
       "422  C2532   239.0    아파트      강원도  국민임대  45.0      19.0   7.0    A   \n",
       "\n",
       "          임대보증금  ...  면적_25.0  면적_70.0  면적_15.0  면적_20.0  면적_100.0  면적_60.0  \\\n",
       "0    15667000.0  ...      0.0      0.0      0.0      0.0       0.0      0.0   \n",
       "1     9216000.0  ...      0.0      0.0      0.0      0.0       0.0      0.0   \n",
       "2    15620000.0  ...      0.0      0.0      0.0      0.0       0.0      0.0   \n",
       "3    15607000.0  ...      0.0      0.0      0.0      0.0       0.0      0.0   \n",
       "4    12015000.0  ...      0.0      0.0      0.0      0.0       0.0      0.0   \n",
       "..          ...  ...      ...      ...      ...      ...       ...      ...   \n",
       "418  16800000.0  ...     42.0      0.0     12.0      0.0       0.0      0.0   \n",
       "419  10000000.0  ...    156.0      0.0      0.0      0.0       0.0      0.0   \n",
       "420  18000000.0  ...      5.0      0.0     20.0      0.0       0.0      0.0   \n",
       "421  10346000.0  ...      0.0      0.0      0.0     90.0       0.0      0.0   \n",
       "422  11346000.0  ...      0.0      0.0      0.0      0.0       0.0      0.0   \n",
       "\n",
       "     면적_75.0  면적_80.0  면적_65.0   등록차량수  \n",
       "0        0.0      0.0      0.0  1015.0  \n",
       "1        0.0      0.0      0.0   205.0  \n",
       "2        0.0      0.0      0.0  1064.0  \n",
       "3        0.0      0.0      0.0   730.0  \n",
       "4        0.0      0.0      0.0   553.0  \n",
       "..       ...      ...      ...     ...  \n",
       "418      0.0      0.0      0.0    57.0  \n",
       "419      0.0      0.0      0.0   246.0  \n",
       "420      0.0      0.0      0.0    19.0  \n",
       "421      0.0      0.0      0.0    16.0  \n",
       "422      0.0      0.0      0.0   146.0  \n",
       "\n",
       "[423 rows x 30 columns]"
      ]
     },
     "execution_count": 22,
     "metadata": {},
     "output_type": "execute_result"
    }
   ],
   "source": [
    "train2"
   ]
  },
  {
   "cell_type": "code",
   "execution_count": 23,
   "id": "8055ac45",
   "metadata": {},
   "outputs": [
    {
     "data": {
      "text/plain": [
       "((423, 30), (150, 29))"
      ]
     },
     "execution_count": 23,
     "metadata": {},
     "output_type": "execute_result"
    }
   ],
   "source": [
    "train2.shape, test2.shape "
   ]
  },
  {
   "cell_type": "markdown",
   "id": "fd795985",
   "metadata": {},
   "source": [
    "## (6) 데이터 합치기"
   ]
  },
  {
   "cell_type": "code",
   "execution_count": 24,
   "id": "aeb62b13",
   "metadata": {
    "scrolled": true
   },
   "outputs": [
    {
     "data": {
      "text/plain": [
       "단지코드                              0\n",
       "총세대수                              0\n",
       "임대건물구분                            0\n",
       "지역                                0\n",
       "공급유형                              0\n",
       "전용면적                              0\n",
       "전용면적별세대수                          0\n",
       "공가수                               0\n",
       "자격유형                              1\n",
       "임대보증금                             5\n",
       "임대료                               7\n",
       "도보 10분거리 내 지하철역 수(환승노선 수 반영)     25\n",
       "도보 10분거리 내 버스정류장 수                1\n",
       "단지내주차면수                           0\n",
       "면적_35.0                           0\n",
       "면적_50.0                           0\n",
       "면적_55.0                           0\n",
       "면적_30.0                           0\n",
       "면적_45.0                           0\n",
       "면적_40.0                           0\n",
       "면적_25.0                           0\n",
       "면적_70.0                           0\n",
       "면적_15.0                           0\n",
       "면적_20.0                           0\n",
       "면적_100.0                          0\n",
       "면적_60.0                           0\n",
       "면적_75.0                           0\n",
       "면적_80.0                           0\n",
       "면적_65.0                           0\n",
       "등록차량수                           150\n",
       "dtype: int64"
      ]
     },
     "execution_count": 24,
     "metadata": {},
     "output_type": "execute_result"
    }
   ],
   "source": [
    "df = pd.concat([train2, test2])\n",
    "df.isnull().sum()"
   ]
  },
  {
   "cell_type": "code",
   "execution_count": 25,
   "id": "48c165d2",
   "metadata": {},
   "outputs": [
    {
     "data": {
      "text/plain": [
       "(573, 30)"
      ]
     },
     "execution_count": 25,
     "metadata": {},
     "output_type": "execute_result"
    }
   ],
   "source": [
    "df.shape"
   ]
  },
  {
   "cell_type": "code",
   "execution_count": 26,
   "id": "7f90e6d9",
   "metadata": {},
   "outputs": [
    {
     "data": {
      "text/plain": [
       "단지코드                             0\n",
       "총세대수                             0\n",
       "임대건물구분                           0\n",
       "지역                               0\n",
       "공급유형                             0\n",
       "전용면적                             0\n",
       "전용면적별세대수                         0\n",
       "공가수                              0\n",
       "자격유형                             0\n",
       "임대보증금                            4\n",
       "임대료                              6\n",
       "도보 10분거리 내 지하철역 수(환승노선 수 반영)    20\n",
       "도보 10분거리 내 버스정류장 수               1\n",
       "단지내주차면수                          0\n",
       "면적_35.0                          0\n",
       "면적_50.0                          0\n",
       "면적_55.0                          0\n",
       "면적_30.0                          0\n",
       "면적_45.0                          0\n",
       "면적_40.0                          0\n",
       "면적_25.0                          0\n",
       "면적_70.0                          0\n",
       "면적_15.0                          0\n",
       "면적_20.0                          0\n",
       "면적_100.0                         0\n",
       "면적_60.0                          0\n",
       "면적_75.0                          0\n",
       "면적_80.0                          0\n",
       "면적_65.0                          0\n",
       "등록차량수                            0\n",
       "dtype: int64"
      ]
     },
     "execution_count": 26,
     "metadata": {},
     "output_type": "execute_result"
    }
   ],
   "source": [
    "train2.isnull().sum()"
   ]
  },
  {
   "cell_type": "code",
   "execution_count": 27,
   "id": "198c388b",
   "metadata": {},
   "outputs": [
    {
     "data": {
      "text/plain": [
       "단지코드                              0\n",
       "총세대수                              0\n",
       "임대건물구분                            0\n",
       "지역                                0\n",
       "공급유형                              0\n",
       "전용면적                              0\n",
       "전용면적별세대수                          0\n",
       "공가수                               0\n",
       "자격유형                              2\n",
       "임대보증금                           186\n",
       "임대료                             186\n",
       "도보 10분거리 내 지하철역 수(환승노선 수 반영)     42\n",
       "도보 10분거리 내 버스정류장 수                0\n",
       "단지내주차면수                           0\n",
       "dtype: int64"
      ]
     },
     "execution_count": 27,
     "metadata": {},
     "output_type": "execute_result"
    }
   ],
   "source": [
    "test.isnull().sum()"
   ]
  },
  {
   "cell_type": "markdown",
   "id": "b0f55ec1",
   "metadata": {},
   "source": [
    "train 결측: 임대료, 임대보증금, 지하철역, 버스정류장  \n",
    "test 결측: 자격유형, 임대료, 임대보증금, 지하철역"
   ]
  },
  {
   "cell_type": "markdown",
   "id": "d6ebe250",
   "metadata": {},
   "source": [
    "## (7) EDA"
   ]
  },
  {
   "cell_type": "markdown",
   "id": "94bf66a5",
   "metadata": {},
   "source": [
    "### 1. 자격유형\n",
    "- 행 하나밖에 없으므로 자격유형 중 많은 값으로 채움 -> 'A'로 채움"
   ]
  },
  {
   "cell_type": "code",
   "execution_count": 28,
   "id": "7c67f55c",
   "metadata": {
    "scrolled": true
   },
   "outputs": [
    {
     "data": {
      "text/html": [
       "<div>\n",
       "<style scoped>\n",
       "    .dataframe tbody tr th:only-of-type {\n",
       "        vertical-align: middle;\n",
       "    }\n",
       "\n",
       "    .dataframe tbody tr th {\n",
       "        vertical-align: top;\n",
       "    }\n",
       "\n",
       "    .dataframe thead th {\n",
       "        text-align: right;\n",
       "    }\n",
       "</style>\n",
       "<table border=\"1\" class=\"dataframe\">\n",
       "  <thead>\n",
       "    <tr style=\"text-align: right;\">\n",
       "      <th></th>\n",
       "      <th>단지코드</th>\n",
       "      <th>총세대수</th>\n",
       "      <th>임대건물구분</th>\n",
       "      <th>지역</th>\n",
       "      <th>공급유형</th>\n",
       "      <th>전용면적</th>\n",
       "      <th>전용면적별세대수</th>\n",
       "      <th>공가수</th>\n",
       "      <th>자격유형</th>\n",
       "      <th>임대보증금</th>\n",
       "      <th>...</th>\n",
       "      <th>면적_25.0</th>\n",
       "      <th>면적_70.0</th>\n",
       "      <th>면적_15.0</th>\n",
       "      <th>면적_20.0</th>\n",
       "      <th>면적_100.0</th>\n",
       "      <th>면적_60.0</th>\n",
       "      <th>면적_75.0</th>\n",
       "      <th>면적_80.0</th>\n",
       "      <th>면적_65.0</th>\n",
       "      <th>등록차량수</th>\n",
       "    </tr>\n",
       "  </thead>\n",
       "  <tbody>\n",
       "    <tr>\n",
       "      <th>26</th>\n",
       "      <td>C2253</td>\n",
       "      <td>1161.0</td>\n",
       "      <td>아파트</td>\n",
       "      <td>강원도</td>\n",
       "      <td>영구임대</td>\n",
       "      <td>25.0</td>\n",
       "      <td>745.0</td>\n",
       "      <td>0.0</td>\n",
       "      <td>NaN</td>\n",
       "      <td>2249000.0</td>\n",
       "      <td>...</td>\n",
       "      <td>759.0</td>\n",
       "      <td>0.0</td>\n",
       "      <td>1.0</td>\n",
       "      <td>7.0</td>\n",
       "      <td>1.0</td>\n",
       "      <td>0.0</td>\n",
       "      <td>0.0</td>\n",
       "      <td>1.0</td>\n",
       "      <td>0.0</td>\n",
       "      <td>NaN</td>\n",
       "    </tr>\n",
       "  </tbody>\n",
       "</table>\n",
       "<p>1 rows × 30 columns</p>\n",
       "</div>"
      ],
      "text/plain": [
       "     단지코드    총세대수 임대건물구분   지역  공급유형  전용면적  전용면적별세대수  공가수 자격유형      임대보증금  ...  \\\n",
       "26  C2253  1161.0    아파트  강원도  영구임대  25.0     745.0  0.0  NaN  2249000.0  ...   \n",
       "\n",
       "    면적_25.0  면적_70.0  면적_15.0  면적_20.0  면적_100.0  면적_60.0  면적_75.0  면적_80.0  \\\n",
       "26    759.0      0.0      1.0      7.0       1.0      0.0      0.0      1.0   \n",
       "\n",
       "    면적_65.0  등록차량수  \n",
       "26      0.0    NaN  \n",
       "\n",
       "[1 rows x 30 columns]"
      ]
     },
     "execution_count": 28,
     "metadata": {},
     "output_type": "execute_result"
    }
   ],
   "source": [
    "df[df['자격유형'].isnull()]"
   ]
  },
  {
   "cell_type": "code",
   "execution_count": 29,
   "id": "2668fd90",
   "metadata": {},
   "outputs": [
    {
     "data": {
      "text/html": [
       "<div>\n",
       "<style scoped>\n",
       "    .dataframe tbody tr th:only-of-type {\n",
       "        vertical-align: middle;\n",
       "    }\n",
       "\n",
       "    .dataframe tbody tr th {\n",
       "        vertical-align: top;\n",
       "    }\n",
       "\n",
       "    .dataframe thead th {\n",
       "        text-align: right;\n",
       "    }\n",
       "</style>\n",
       "<table border=\"1\" class=\"dataframe\">\n",
       "  <thead>\n",
       "    <tr style=\"text-align: right;\">\n",
       "      <th></th>\n",
       "      <th>단지코드</th>\n",
       "      <th>총세대수</th>\n",
       "      <th>임대건물구분</th>\n",
       "      <th>지역</th>\n",
       "      <th>공급유형</th>\n",
       "      <th>전용면적</th>\n",
       "      <th>전용면적별세대수</th>\n",
       "      <th>공가수</th>\n",
       "      <th>자격유형</th>\n",
       "      <th>임대보증금</th>\n",
       "      <th>...</th>\n",
       "      <th>면적_25.0</th>\n",
       "      <th>면적_70.0</th>\n",
       "      <th>면적_15.0</th>\n",
       "      <th>면적_20.0</th>\n",
       "      <th>면적_100.0</th>\n",
       "      <th>면적_60.0</th>\n",
       "      <th>면적_75.0</th>\n",
       "      <th>면적_80.0</th>\n",
       "      <th>면적_65.0</th>\n",
       "      <th>등록차량수</th>\n",
       "    </tr>\n",
       "  </thead>\n",
       "  <tbody>\n",
       "    <tr>\n",
       "      <th>26</th>\n",
       "      <td>C2253</td>\n",
       "      <td>1161.0</td>\n",
       "      <td>아파트</td>\n",
       "      <td>강원도</td>\n",
       "      <td>영구임대</td>\n",
       "      <td>25.0</td>\n",
       "      <td>745.0</td>\n",
       "      <td>0.0</td>\n",
       "      <td>NaN</td>\n",
       "      <td>2249000.0</td>\n",
       "      <td>...</td>\n",
       "      <td>759.0</td>\n",
       "      <td>0.0</td>\n",
       "      <td>1.0</td>\n",
       "      <td>7.0</td>\n",
       "      <td>1.0</td>\n",
       "      <td>0.0</td>\n",
       "      <td>0.0</td>\n",
       "      <td>1.0</td>\n",
       "      <td>0.0</td>\n",
       "      <td>NaN</td>\n",
       "    </tr>\n",
       "  </tbody>\n",
       "</table>\n",
       "<p>1 rows × 30 columns</p>\n",
       "</div>"
      ],
      "text/plain": [
       "     단지코드    총세대수 임대건물구분   지역  공급유형  전용면적  전용면적별세대수  공가수 자격유형      임대보증금  ...  \\\n",
       "26  C2253  1161.0    아파트  강원도  영구임대  25.0     745.0  0.0  NaN  2249000.0  ...   \n",
       "\n",
       "    면적_25.0  면적_70.0  면적_15.0  면적_20.0  면적_100.0  면적_60.0  면적_75.0  면적_80.0  \\\n",
       "26    759.0      0.0      1.0      7.0       1.0      0.0      0.0      1.0   \n",
       "\n",
       "    면적_65.0  등록차량수  \n",
       "26      0.0    NaN  \n",
       "\n",
       "[1 rows x 30 columns]"
      ]
     },
     "execution_count": 29,
     "metadata": {},
     "output_type": "execute_result"
    }
   ],
   "source": [
    "df[df['단지코드']=='C2253']"
   ]
  },
  {
   "cell_type": "code",
   "execution_count": 30,
   "id": "2af9a8f9",
   "metadata": {},
   "outputs": [
    {
     "data": {
      "text/plain": [
       "A      434\n",
       "H       43\n",
       "C       38\n",
       "J       27\n",
       "K        7\n",
       "E        5\n",
       "L        5\n",
       "B        3\n",
       "G        3\n",
       "N        3\n",
       "M        2\n",
       "F        1\n",
       "D        1\n",
       "NaN      1\n",
       "Name: 자격유형, dtype: int64"
      ]
     },
     "execution_count": 30,
     "metadata": {},
     "output_type": "execute_result"
    }
   ],
   "source": [
    "df['자격유형'].value_counts(dropna=False)"
   ]
  },
  {
   "cell_type": "code",
   "execution_count": 31,
   "id": "bc7b3aa7",
   "metadata": {},
   "outputs": [],
   "source": [
    "# 자격유형 중 가장 많은 값인 A로 채움\n",
    "df.loc[df['자격유형'].isnull(), '자격유형'] ='A'"
   ]
  },
  {
   "cell_type": "markdown",
   "id": "feb07038",
   "metadata": {},
   "source": [
    "### 2. 임대보증금, 임대료\n",
    "-> 평균으로 대체"
   ]
  },
  {
   "cell_type": "code",
   "execution_count": 32,
   "id": "3619df6a",
   "metadata": {
    "scrolled": true
   },
   "outputs": [
    {
     "data": {
      "text/html": [
       "<div>\n",
       "<style scoped>\n",
       "    .dataframe tbody tr th:only-of-type {\n",
       "        vertical-align: middle;\n",
       "    }\n",
       "\n",
       "    .dataframe tbody tr th {\n",
       "        vertical-align: top;\n",
       "    }\n",
       "\n",
       "    .dataframe thead th {\n",
       "        text-align: right;\n",
       "    }\n",
       "</style>\n",
       "<table border=\"1\" class=\"dataframe\">\n",
       "  <thead>\n",
       "    <tr style=\"text-align: right;\">\n",
       "      <th></th>\n",
       "      <th>단지코드</th>\n",
       "      <th>총세대수</th>\n",
       "      <th>임대건물구분</th>\n",
       "      <th>지역</th>\n",
       "      <th>공급유형</th>\n",
       "      <th>전용면적</th>\n",
       "      <th>전용면적별세대수</th>\n",
       "      <th>공가수</th>\n",
       "      <th>자격유형</th>\n",
       "      <th>임대보증금</th>\n",
       "      <th>...</th>\n",
       "      <th>면적_25.0</th>\n",
       "      <th>면적_70.0</th>\n",
       "      <th>면적_15.0</th>\n",
       "      <th>면적_20.0</th>\n",
       "      <th>면적_100.0</th>\n",
       "      <th>면적_60.0</th>\n",
       "      <th>면적_75.0</th>\n",
       "      <th>면적_80.0</th>\n",
       "      <th>면적_65.0</th>\n",
       "      <th>등록차량수</th>\n",
       "    </tr>\n",
       "  </thead>\n",
       "  <tbody>\n",
       "    <tr>\n",
       "      <th>321</th>\n",
       "      <td>C1350</td>\n",
       "      <td>1401.0</td>\n",
       "      <td>아파트</td>\n",
       "      <td>대전광역시</td>\n",
       "      <td>공공분양</td>\n",
       "      <td>70.0</td>\n",
       "      <td>317.0</td>\n",
       "      <td>2.0</td>\n",
       "      <td>D</td>\n",
       "      <td>NaN</td>\n",
       "      <td>...</td>\n",
       "      <td>0.0</td>\n",
       "      <td>476.0</td>\n",
       "      <td>0.0</td>\n",
       "      <td>0.0</td>\n",
       "      <td>0.0</td>\n",
       "      <td>0.0</td>\n",
       "      <td>0.0</td>\n",
       "      <td>235.0</td>\n",
       "      <td>0.0</td>\n",
       "      <td>2315.0</td>\n",
       "    </tr>\n",
       "    <tr>\n",
       "      <th>358</th>\n",
       "      <td>C1326</td>\n",
       "      <td>1934.0</td>\n",
       "      <td>아파트</td>\n",
       "      <td>부산광역시</td>\n",
       "      <td>국민임대</td>\n",
       "      <td>20.0</td>\n",
       "      <td>472.0</td>\n",
       "      <td>43.0</td>\n",
       "      <td>H</td>\n",
       "      <td>NaN</td>\n",
       "      <td>...</td>\n",
       "      <td>590.0</td>\n",
       "      <td>0.0</td>\n",
       "      <td>0.0</td>\n",
       "      <td>576.0</td>\n",
       "      <td>0.0</td>\n",
       "      <td>0.0</td>\n",
       "      <td>0.0</td>\n",
       "      <td>0.0</td>\n",
       "      <td>0.0</td>\n",
       "      <td>1153.0</td>\n",
       "    </tr>\n",
       "    <tr>\n",
       "      <th>377</th>\n",
       "      <td>C1786</td>\n",
       "      <td>480.0</td>\n",
       "      <td>아파트</td>\n",
       "      <td>강원도</td>\n",
       "      <td>행복주택</td>\n",
       "      <td>15.0</td>\n",
       "      <td>156.0</td>\n",
       "      <td>25.0</td>\n",
       "      <td>K</td>\n",
       "      <td>NaN</td>\n",
       "      <td>...</td>\n",
       "      <td>232.0</td>\n",
       "      <td>0.0</td>\n",
       "      <td>156.0</td>\n",
       "      <td>0.0</td>\n",
       "      <td>0.0</td>\n",
       "      <td>0.0</td>\n",
       "      <td>0.0</td>\n",
       "      <td>0.0</td>\n",
       "      <td>0.0</td>\n",
       "      <td>345.0</td>\n",
       "    </tr>\n",
       "    <tr>\n",
       "      <th>415</th>\n",
       "      <td>C2186</td>\n",
       "      <td>924.0</td>\n",
       "      <td>아파트</td>\n",
       "      <td>대구광역시</td>\n",
       "      <td>국민임대</td>\n",
       "      <td>25.0</td>\n",
       "      <td>238.0</td>\n",
       "      <td>0.0</td>\n",
       "      <td>H</td>\n",
       "      <td>NaN</td>\n",
       "      <td>...</td>\n",
       "      <td>508.0</td>\n",
       "      <td>0.0</td>\n",
       "      <td>0.0</td>\n",
       "      <td>0.0</td>\n",
       "      <td>0.0</td>\n",
       "      <td>0.0</td>\n",
       "      <td>0.0</td>\n",
       "      <td>0.0</td>\n",
       "      <td>0.0</td>\n",
       "      <td>744.0</td>\n",
       "    </tr>\n",
       "    <tr>\n",
       "      <th>147</th>\n",
       "      <td>C2152</td>\n",
       "      <td>120.0</td>\n",
       "      <td>아파트</td>\n",
       "      <td>강원도</td>\n",
       "      <td>영구임대</td>\n",
       "      <td>20.0</td>\n",
       "      <td>66.0</td>\n",
       "      <td>9.0</td>\n",
       "      <td>C</td>\n",
       "      <td>NaN</td>\n",
       "      <td>...</td>\n",
       "      <td>0.0</td>\n",
       "      <td>0.0</td>\n",
       "      <td>0.0</td>\n",
       "      <td>66.0</td>\n",
       "      <td>0.0</td>\n",
       "      <td>0.0</td>\n",
       "      <td>0.0</td>\n",
       "      <td>0.0</td>\n",
       "      <td>0.0</td>\n",
       "      <td>NaN</td>\n",
       "    </tr>\n",
       "  </tbody>\n",
       "</table>\n",
       "<p>5 rows × 30 columns</p>\n",
       "</div>"
      ],
      "text/plain": [
       "      단지코드    총세대수 임대건물구분     지역  공급유형  전용면적  전용면적별세대수   공가수 자격유형  임대보증금  ...  \\\n",
       "321  C1350  1401.0    아파트  대전광역시  공공분양  70.0     317.0   2.0    D    NaN  ...   \n",
       "358  C1326  1934.0    아파트  부산광역시  국민임대  20.0     472.0  43.0    H    NaN  ...   \n",
       "377  C1786   480.0    아파트    강원도  행복주택  15.0     156.0  25.0    K    NaN  ...   \n",
       "415  C2186   924.0    아파트  대구광역시  국민임대  25.0     238.0   0.0    H    NaN  ...   \n",
       "147  C2152   120.0    아파트    강원도  영구임대  20.0      66.0   9.0    C    NaN  ...   \n",
       "\n",
       "     면적_25.0  면적_70.0  면적_15.0  면적_20.0  면적_100.0  면적_60.0  면적_75.0  면적_80.0  \\\n",
       "321      0.0    476.0      0.0      0.0       0.0      0.0      0.0    235.0   \n",
       "358    590.0      0.0      0.0    576.0       0.0      0.0      0.0      0.0   \n",
       "377    232.0      0.0    156.0      0.0       0.0      0.0      0.0      0.0   \n",
       "415    508.0      0.0      0.0      0.0       0.0      0.0      0.0      0.0   \n",
       "147      0.0      0.0      0.0     66.0       0.0      0.0      0.0      0.0   \n",
       "\n",
       "     면적_65.0   등록차량수  \n",
       "321      0.0  2315.0  \n",
       "358      0.0  1153.0  \n",
       "377      0.0   345.0  \n",
       "415      0.0   744.0  \n",
       "147      0.0     NaN  \n",
       "\n",
       "[5 rows x 30 columns]"
      ]
     },
     "execution_count": 32,
     "metadata": {},
     "output_type": "execute_result"
    }
   ],
   "source": [
    "df[df['임대보증금'].isnull()]"
   ]
  },
  {
   "cell_type": "code",
   "execution_count": 33,
   "id": "203b5a47",
   "metadata": {
    "scrolled": false
   },
   "outputs": [
    {
     "data": {
      "text/html": [
       "<div>\n",
       "<style scoped>\n",
       "    .dataframe tbody tr th:only-of-type {\n",
       "        vertical-align: middle;\n",
       "    }\n",
       "\n",
       "    .dataframe tbody tr th {\n",
       "        vertical-align: top;\n",
       "    }\n",
       "\n",
       "    .dataframe thead th {\n",
       "        text-align: right;\n",
       "    }\n",
       "</style>\n",
       "<table border=\"1\" class=\"dataframe\">\n",
       "  <thead>\n",
       "    <tr style=\"text-align: right;\">\n",
       "      <th></th>\n",
       "      <th>단지코드</th>\n",
       "      <th>총세대수</th>\n",
       "      <th>임대건물구분</th>\n",
       "      <th>지역</th>\n",
       "      <th>공급유형</th>\n",
       "      <th>전용면적</th>\n",
       "      <th>전용면적별세대수</th>\n",
       "      <th>공가수</th>\n",
       "      <th>자격유형</th>\n",
       "      <th>임대보증금</th>\n",
       "      <th>...</th>\n",
       "      <th>면적_25.0</th>\n",
       "      <th>면적_70.0</th>\n",
       "      <th>면적_15.0</th>\n",
       "      <th>면적_20.0</th>\n",
       "      <th>면적_100.0</th>\n",
       "      <th>면적_60.0</th>\n",
       "      <th>면적_75.0</th>\n",
       "      <th>면적_80.0</th>\n",
       "      <th>면적_65.0</th>\n",
       "      <th>등록차량수</th>\n",
       "    </tr>\n",
       "  </thead>\n",
       "  <tbody>\n",
       "    <tr>\n",
       "      <th>274</th>\n",
       "      <td>C1397</td>\n",
       "      <td>370.0</td>\n",
       "      <td>아파트</td>\n",
       "      <td>서울특별시</td>\n",
       "      <td>장기전세</td>\n",
       "      <td>20.0</td>\n",
       "      <td>51.0</td>\n",
       "      <td>9.0</td>\n",
       "      <td>A</td>\n",
       "      <td>87444000.0</td>\n",
       "      <td>...</td>\n",
       "      <td>0.0</td>\n",
       "      <td>0.0</td>\n",
       "      <td>0.0</td>\n",
       "      <td>51.0</td>\n",
       "      <td>0.0</td>\n",
       "      <td>0.0</td>\n",
       "      <td>0.0</td>\n",
       "      <td>0.0</td>\n",
       "      <td>0.0</td>\n",
       "      <td>1595.0</td>\n",
       "    </tr>\n",
       "    <tr>\n",
       "      <th>282</th>\n",
       "      <td>C1039</td>\n",
       "      <td>790.0</td>\n",
       "      <td>아파트</td>\n",
       "      <td>서울특별시</td>\n",
       "      <td>장기전세</td>\n",
       "      <td>50.0</td>\n",
       "      <td>126.0</td>\n",
       "      <td>13.0</td>\n",
       "      <td>A</td>\n",
       "      <td>187694000.0</td>\n",
       "      <td>...</td>\n",
       "      <td>96.0</td>\n",
       "      <td>0.0</td>\n",
       "      <td>0.0</td>\n",
       "      <td>0.0</td>\n",
       "      <td>0.0</td>\n",
       "      <td>0.0</td>\n",
       "      <td>0.0</td>\n",
       "      <td>0.0</td>\n",
       "      <td>0.0</td>\n",
       "      <td>645.0</td>\n",
       "    </tr>\n",
       "    <tr>\n",
       "      <th>321</th>\n",
       "      <td>C1350</td>\n",
       "      <td>1401.0</td>\n",
       "      <td>아파트</td>\n",
       "      <td>대전광역시</td>\n",
       "      <td>공공분양</td>\n",
       "      <td>70.0</td>\n",
       "      <td>317.0</td>\n",
       "      <td>2.0</td>\n",
       "      <td>D</td>\n",
       "      <td>NaN</td>\n",
       "      <td>...</td>\n",
       "      <td>0.0</td>\n",
       "      <td>476.0</td>\n",
       "      <td>0.0</td>\n",
       "      <td>0.0</td>\n",
       "      <td>0.0</td>\n",
       "      <td>0.0</td>\n",
       "      <td>0.0</td>\n",
       "      <td>235.0</td>\n",
       "      <td>0.0</td>\n",
       "      <td>2315.0</td>\n",
       "    </tr>\n",
       "    <tr>\n",
       "      <th>358</th>\n",
       "      <td>C1326</td>\n",
       "      <td>1934.0</td>\n",
       "      <td>아파트</td>\n",
       "      <td>부산광역시</td>\n",
       "      <td>국민임대</td>\n",
       "      <td>20.0</td>\n",
       "      <td>472.0</td>\n",
       "      <td>43.0</td>\n",
       "      <td>H</td>\n",
       "      <td>NaN</td>\n",
       "      <td>...</td>\n",
       "      <td>590.0</td>\n",
       "      <td>0.0</td>\n",
       "      <td>0.0</td>\n",
       "      <td>576.0</td>\n",
       "      <td>0.0</td>\n",
       "      <td>0.0</td>\n",
       "      <td>0.0</td>\n",
       "      <td>0.0</td>\n",
       "      <td>0.0</td>\n",
       "      <td>1153.0</td>\n",
       "    </tr>\n",
       "    <tr>\n",
       "      <th>377</th>\n",
       "      <td>C1786</td>\n",
       "      <td>480.0</td>\n",
       "      <td>아파트</td>\n",
       "      <td>강원도</td>\n",
       "      <td>행복주택</td>\n",
       "      <td>15.0</td>\n",
       "      <td>156.0</td>\n",
       "      <td>25.0</td>\n",
       "      <td>K</td>\n",
       "      <td>NaN</td>\n",
       "      <td>...</td>\n",
       "      <td>232.0</td>\n",
       "      <td>0.0</td>\n",
       "      <td>156.0</td>\n",
       "      <td>0.0</td>\n",
       "      <td>0.0</td>\n",
       "      <td>0.0</td>\n",
       "      <td>0.0</td>\n",
       "      <td>0.0</td>\n",
       "      <td>0.0</td>\n",
       "      <td>345.0</td>\n",
       "    </tr>\n",
       "    <tr>\n",
       "      <th>415</th>\n",
       "      <td>C2186</td>\n",
       "      <td>924.0</td>\n",
       "      <td>아파트</td>\n",
       "      <td>대구광역시</td>\n",
       "      <td>국민임대</td>\n",
       "      <td>25.0</td>\n",
       "      <td>238.0</td>\n",
       "      <td>0.0</td>\n",
       "      <td>H</td>\n",
       "      <td>NaN</td>\n",
       "      <td>...</td>\n",
       "      <td>508.0</td>\n",
       "      <td>0.0</td>\n",
       "      <td>0.0</td>\n",
       "      <td>0.0</td>\n",
       "      <td>0.0</td>\n",
       "      <td>0.0</td>\n",
       "      <td>0.0</td>\n",
       "      <td>0.0</td>\n",
       "      <td>0.0</td>\n",
       "      <td>744.0</td>\n",
       "    </tr>\n",
       "    <tr>\n",
       "      <th>147</th>\n",
       "      <td>C2152</td>\n",
       "      <td>120.0</td>\n",
       "      <td>아파트</td>\n",
       "      <td>강원도</td>\n",
       "      <td>영구임대</td>\n",
       "      <td>20.0</td>\n",
       "      <td>66.0</td>\n",
       "      <td>9.0</td>\n",
       "      <td>C</td>\n",
       "      <td>NaN</td>\n",
       "      <td>...</td>\n",
       "      <td>0.0</td>\n",
       "      <td>0.0</td>\n",
       "      <td>0.0</td>\n",
       "      <td>66.0</td>\n",
       "      <td>0.0</td>\n",
       "      <td>0.0</td>\n",
       "      <td>0.0</td>\n",
       "      <td>0.0</td>\n",
       "      <td>0.0</td>\n",
       "      <td>NaN</td>\n",
       "    </tr>\n",
       "  </tbody>\n",
       "</table>\n",
       "<p>7 rows × 30 columns</p>\n",
       "</div>"
      ],
      "text/plain": [
       "      단지코드    총세대수 임대건물구분     지역  공급유형  전용면적  전용면적별세대수   공가수 자격유형  \\\n",
       "274  C1397   370.0    아파트  서울특별시  장기전세  20.0      51.0   9.0    A   \n",
       "282  C1039   790.0    아파트  서울특별시  장기전세  50.0     126.0  13.0    A   \n",
       "321  C1350  1401.0    아파트  대전광역시  공공분양  70.0     317.0   2.0    D   \n",
       "358  C1326  1934.0    아파트  부산광역시  국민임대  20.0     472.0  43.0    H   \n",
       "377  C1786   480.0    아파트    강원도  행복주택  15.0     156.0  25.0    K   \n",
       "415  C2186   924.0    아파트  대구광역시  국민임대  25.0     238.0   0.0    H   \n",
       "147  C2152   120.0    아파트    강원도  영구임대  20.0      66.0   9.0    C   \n",
       "\n",
       "           임대보증금  ...  면적_25.0  면적_70.0  면적_15.0  면적_20.0  면적_100.0  면적_60.0  \\\n",
       "274   87444000.0  ...      0.0      0.0      0.0     51.0       0.0      0.0   \n",
       "282  187694000.0  ...     96.0      0.0      0.0      0.0       0.0      0.0   \n",
       "321          NaN  ...      0.0    476.0      0.0      0.0       0.0      0.0   \n",
       "358          NaN  ...    590.0      0.0      0.0    576.0       0.0      0.0   \n",
       "377          NaN  ...    232.0      0.0    156.0      0.0       0.0      0.0   \n",
       "415          NaN  ...    508.0      0.0      0.0      0.0       0.0      0.0   \n",
       "147          NaN  ...      0.0      0.0      0.0     66.0       0.0      0.0   \n",
       "\n",
       "     면적_75.0  면적_80.0  면적_65.0   등록차량수  \n",
       "274      0.0      0.0      0.0  1595.0  \n",
       "282      0.0      0.0      0.0   645.0  \n",
       "321      0.0    235.0      0.0  2315.0  \n",
       "358      0.0      0.0      0.0  1153.0  \n",
       "377      0.0      0.0      0.0   345.0  \n",
       "415      0.0      0.0      0.0   744.0  \n",
       "147      0.0      0.0      0.0     NaN  \n",
       "\n",
       "[7 rows x 30 columns]"
      ]
     },
     "execution_count": 33,
     "metadata": {},
     "output_type": "execute_result"
    }
   ],
   "source": [
    "df[df['임대료'].isnull()]"
   ]
  },
  {
   "cell_type": "code",
   "execution_count": 34,
   "id": "33c79a60",
   "metadata": {},
   "outputs": [
    {
     "data": {
      "text/plain": [
       "<AxesSubplot:xlabel='자격유형', ylabel='임대료'>"
      ]
     },
     "execution_count": 34,
     "metadata": {},
     "output_type": "execute_result"
    },
    {
     "data": {
      "image/png": "[encoded data removed]",
      "text/plain": [
       "<Figure size 432x288 with 1 Axes>"
      ]
     },
     "metadata": {
      "needs_background": "light"
     },
     "output_type": "display_data"
    }
   ],
   "source": [
    "sns.barplot(x='자격유형', y='임대료', data=df) "
   ]
  },
  {
   "cell_type": "code",
   "execution_count": 35,
   "id": "73da9d43",
   "metadata": {
    "scrolled": true
   },
   "outputs": [
    {
     "data": {
      "text/plain": [
       "<AxesSubplot:xlabel='자격유형', ylabel='임대보증금'>"
      ]
     },
     "execution_count": 35,
     "metadata": {},
     "output_type": "execute_result"
    },
    {
     "data": {
      "image/png": "[encoded data removed]",
      "text/plain": [
       "<Figure size 432x288 with 1 Axes>"
      ]
     },
     "metadata": {
      "needs_background": "light"
     },
     "output_type": "display_data"
    }
   ],
   "source": [
    "sns.barplot(x='자격유형', y='임대보증금', data=df)"
   ]
  },
  {
   "cell_type": "code",
   "execution_count": 36,
   "id": "c3b636b9",
   "metadata": {},
   "outputs": [],
   "source": [
    "#임대료 - train데이터의 평균으로 채우기\n",
    "df.loc[df['임대료'].isnull(), '임대료'] = train2['임대료'].mean()"
   ]
  },
  {
   "cell_type": "code",
   "execution_count": 37,
   "id": "f81c92f1",
   "metadata": {
    "scrolled": true
   },
   "outputs": [],
   "source": [
    "#임대보증금 - train데이터의 평균으로 채우기\n",
    "df.loc[df['임대보증금'].isnull(), '임대보증금'] = train2['임대보증금'].mean()"
   ]
  },
  {
   "cell_type": "markdown",
   "id": "47117878",
   "metadata": {},
   "source": [
    "### 4. 버스\n",
    "- 젤 많은 값인 2로 채움"
   ]
  },
  {
   "cell_type": "code",
   "execution_count": 38,
   "id": "25bd4e86",
   "metadata": {},
   "outputs": [
    {
     "data": {
      "text/html": [
       "<div>\n",
       "<style scoped>\n",
       "    .dataframe tbody tr th:only-of-type {\n",
       "        vertical-align: middle;\n",
       "    }\n",
       "\n",
       "    .dataframe tbody tr th {\n",
       "        vertical-align: top;\n",
       "    }\n",
       "\n",
       "    .dataframe thead th {\n",
       "        text-align: right;\n",
       "    }\n",
       "</style>\n",
       "<table border=\"1\" class=\"dataframe\">\n",
       "  <thead>\n",
       "    <tr style=\"text-align: right;\">\n",
       "      <th></th>\n",
       "      <th>단지코드</th>\n",
       "      <th>총세대수</th>\n",
       "      <th>임대건물구분</th>\n",
       "      <th>지역</th>\n",
       "      <th>공급유형</th>\n",
       "      <th>전용면적</th>\n",
       "      <th>전용면적별세대수</th>\n",
       "      <th>공가수</th>\n",
       "      <th>자격유형</th>\n",
       "      <th>임대보증금</th>\n",
       "      <th>...</th>\n",
       "      <th>면적_25.0</th>\n",
       "      <th>면적_70.0</th>\n",
       "      <th>면적_15.0</th>\n",
       "      <th>면적_20.0</th>\n",
       "      <th>면적_100.0</th>\n",
       "      <th>면적_60.0</th>\n",
       "      <th>면적_75.0</th>\n",
       "      <th>면적_80.0</th>\n",
       "      <th>면적_65.0</th>\n",
       "      <th>등록차량수</th>\n",
       "    </tr>\n",
       "  </thead>\n",
       "  <tbody>\n",
       "    <tr>\n",
       "      <th>318</th>\n",
       "      <td>C1649</td>\n",
       "      <td>575.0</td>\n",
       "      <td>아파트</td>\n",
       "      <td>경상남도</td>\n",
       "      <td>공공임대(10년)</td>\n",
       "      <td>70.0</td>\n",
       "      <td>80.0</td>\n",
       "      <td>15.0</td>\n",
       "      <td>A</td>\n",
       "      <td>46000000.0</td>\n",
       "      <td>...</td>\n",
       "      <td>0.0</td>\n",
       "      <td>80.0</td>\n",
       "      <td>0.0</td>\n",
       "      <td>0.0</td>\n",
       "      <td>0.0</td>\n",
       "      <td>0.0</td>\n",
       "      <td>0.0</td>\n",
       "      <td>495.0</td>\n",
       "      <td>0.0</td>\n",
       "      <td>855.0</td>\n",
       "    </tr>\n",
       "  </tbody>\n",
       "</table>\n",
       "<p>1 rows × 30 columns</p>\n",
       "</div>"
      ],
      "text/plain": [
       "      단지코드   총세대수 임대건물구분    지역       공급유형  전용면적  전용면적별세대수   공가수 자격유형  \\\n",
       "318  C1649  575.0    아파트  경상남도  공공임대(10년)  70.0      80.0  15.0    A   \n",
       "\n",
       "          임대보증금  ...  면적_25.0  면적_70.0  면적_15.0  면적_20.0  면적_100.0  면적_60.0  \\\n",
       "318  46000000.0  ...      0.0     80.0      0.0      0.0       0.0      0.0   \n",
       "\n",
       "     면적_75.0  면적_80.0  면적_65.0  등록차량수  \n",
       "318      0.0    495.0      0.0  855.0  \n",
       "\n",
       "[1 rows x 30 columns]"
      ]
     },
     "execution_count": 38,
     "metadata": {},
     "output_type": "execute_result"
    }
   ],
   "source": [
    "df[df['도보 10분거리 내 버스정류장 수'].isnull()]"
   ]
  },
  {
   "cell_type": "code",
   "execution_count": 39,
   "id": "934074c4",
   "metadata": {
    "scrolled": true
   },
   "outputs": [
    {
     "data": {
      "text/plain": [
       "2.0     113\n",
       "3.0     104\n",
       "4.0      64\n",
       "1.0      45\n",
       "5.0      27\n",
       "6.0      25\n",
       "8.0      13\n",
       "7.0      10\n",
       "10.0      8\n",
       "12.0      4\n",
       "20.0      3\n",
       "16.0      1\n",
       "NaN       1\n",
       "15.0      1\n",
       "14.0      1\n",
       "11.0      1\n",
       "0.0       1\n",
       "19.0      1\n",
       "Name: 도보 10분거리 내 버스정류장 수, dtype: int64"
      ]
     },
     "execution_count": 39,
     "metadata": {},
     "output_type": "execute_result"
    }
   ],
   "source": [
    "train2['도보 10분거리 내 버스정류장 수'].value_counts(dropna=False)"
   ]
  },
  {
   "cell_type": "code",
   "execution_count": 40,
   "id": "6b9b010c",
   "metadata": {},
   "outputs": [],
   "source": [
    "# 제일 많은 값인 2로 채움\n",
    "df['도보 10분거리 내 버스정류장 수'] = df['도보 10분거리 내 버스정류장 수'].fillna(2)"
   ]
  },
  {
   "cell_type": "markdown",
   "id": "039a8c4e",
   "metadata": {},
   "source": [
    "### 5. 지하철\n",
    "- 제일 많은 값이 0으로 채움"
   ]
  },
  {
   "cell_type": "code",
   "execution_count": 41,
   "id": "2cbf1cda",
   "metadata": {},
   "outputs": [
    {
     "data": {
      "text/html": [
       "<div>\n",
       "<style scoped>\n",
       "    .dataframe tbody tr th:only-of-type {\n",
       "        vertical-align: middle;\n",
       "    }\n",
       "\n",
       "    .dataframe tbody tr th {\n",
       "        vertical-align: top;\n",
       "    }\n",
       "\n",
       "    .dataframe thead th {\n",
       "        text-align: right;\n",
       "    }\n",
       "</style>\n",
       "<table border=\"1\" class=\"dataframe\">\n",
       "  <thead>\n",
       "    <tr style=\"text-align: right;\">\n",
       "      <th></th>\n",
       "      <th>단지코드</th>\n",
       "      <th>총세대수</th>\n",
       "      <th>임대건물구분</th>\n",
       "      <th>지역</th>\n",
       "      <th>공급유형</th>\n",
       "      <th>전용면적</th>\n",
       "      <th>전용면적별세대수</th>\n",
       "      <th>공가수</th>\n",
       "      <th>자격유형</th>\n",
       "      <th>임대보증금</th>\n",
       "      <th>...</th>\n",
       "      <th>면적_25.0</th>\n",
       "      <th>면적_70.0</th>\n",
       "      <th>면적_15.0</th>\n",
       "      <th>면적_20.0</th>\n",
       "      <th>면적_100.0</th>\n",
       "      <th>면적_60.0</th>\n",
       "      <th>면적_75.0</th>\n",
       "      <th>면적_80.0</th>\n",
       "      <th>면적_65.0</th>\n",
       "      <th>등록차량수</th>\n",
       "    </tr>\n",
       "  </thead>\n",
       "  <tbody>\n",
       "    <tr>\n",
       "      <th>15</th>\n",
       "      <td>C1312</td>\n",
       "      <td>518.0</td>\n",
       "      <td>아파트</td>\n",
       "      <td>충청남도</td>\n",
       "      <td>국민임대</td>\n",
       "      <td>35.0</td>\n",
       "      <td>60.0</td>\n",
       "      <td>12.0</td>\n",
       "      <td>A</td>\n",
       "      <td>1.746000e+07</td>\n",
       "      <td>...</td>\n",
       "      <td>0.0</td>\n",
       "      <td>0.0</td>\n",
       "      <td>0.0</td>\n",
       "      <td>0.0</td>\n",
       "      <td>0.0</td>\n",
       "      <td>0.0</td>\n",
       "      <td>0.0</td>\n",
       "      <td>0.0</td>\n",
       "      <td>0.0</td>\n",
       "      <td>359.0</td>\n",
       "    </tr>\n",
       "    <tr>\n",
       "      <th>16</th>\n",
       "      <td>C1874</td>\n",
       "      <td>619.0</td>\n",
       "      <td>아파트</td>\n",
       "      <td>충청남도</td>\n",
       "      <td>영구임대</td>\n",
       "      <td>25.0</td>\n",
       "      <td>294.0</td>\n",
       "      <td>2.0</td>\n",
       "      <td>C</td>\n",
       "      <td>3.141000e+06</td>\n",
       "      <td>...</td>\n",
       "      <td>455.0</td>\n",
       "      <td>0.0</td>\n",
       "      <td>3.0</td>\n",
       "      <td>4.0</td>\n",
       "      <td>0.0</td>\n",
       "      <td>0.0</td>\n",
       "      <td>0.0</td>\n",
       "      <td>0.0</td>\n",
       "      <td>0.0</td>\n",
       "      <td>62.0</td>\n",
       "    </tr>\n",
       "    <tr>\n",
       "      <th>20</th>\n",
       "      <td>C1424</td>\n",
       "      <td>625.0</td>\n",
       "      <td>아파트</td>\n",
       "      <td>대전광역시</td>\n",
       "      <td>공공임대(50년)</td>\n",
       "      <td>35.0</td>\n",
       "      <td>268.0</td>\n",
       "      <td>2.0</td>\n",
       "      <td>A</td>\n",
       "      <td>1.424700e+07</td>\n",
       "      <td>...</td>\n",
       "      <td>0.0</td>\n",
       "      <td>0.0</td>\n",
       "      <td>0.0</td>\n",
       "      <td>0.0</td>\n",
       "      <td>0.0</td>\n",
       "      <td>0.0</td>\n",
       "      <td>0.0</td>\n",
       "      <td>0.0</td>\n",
       "      <td>0.0</td>\n",
       "      <td>179.0</td>\n",
       "    </tr>\n",
       "    <tr>\n",
       "      <th>21</th>\n",
       "      <td>C2100</td>\n",
       "      <td>880.0</td>\n",
       "      <td>아파트</td>\n",
       "      <td>대전광역시</td>\n",
       "      <td>국민임대</td>\n",
       "      <td>50.0</td>\n",
       "      <td>46.0</td>\n",
       "      <td>4.0</td>\n",
       "      <td>A</td>\n",
       "      <td>2.230700e+07</td>\n",
       "      <td>...</td>\n",
       "      <td>0.0</td>\n",
       "      <td>0.0</td>\n",
       "      <td>0.0</td>\n",
       "      <td>0.0</td>\n",
       "      <td>0.0</td>\n",
       "      <td>0.0</td>\n",
       "      <td>0.0</td>\n",
       "      <td>0.0</td>\n",
       "      <td>0.0</td>\n",
       "      <td>671.0</td>\n",
       "    </tr>\n",
       "    <tr>\n",
       "      <th>23</th>\n",
       "      <td>C2520</td>\n",
       "      <td>970.0</td>\n",
       "      <td>아파트</td>\n",
       "      <td>대전광역시</td>\n",
       "      <td>공공임대(50년)</td>\n",
       "      <td>35.0</td>\n",
       "      <td>960.0</td>\n",
       "      <td>2.0</td>\n",
       "      <td>A</td>\n",
       "      <td>1.315500e+07</td>\n",
       "      <td>...</td>\n",
       "      <td>0.0</td>\n",
       "      <td>0.0</td>\n",
       "      <td>0.0</td>\n",
       "      <td>0.0</td>\n",
       "      <td>0.0</td>\n",
       "      <td>0.0</td>\n",
       "      <td>0.0</td>\n",
       "      <td>0.0</td>\n",
       "      <td>0.0</td>\n",
       "      <td>386.0</td>\n",
       "    </tr>\n",
       "    <tr>\n",
       "      <th>25</th>\n",
       "      <td>C1616</td>\n",
       "      <td>1507.0</td>\n",
       "      <td>아파트</td>\n",
       "      <td>대전광역시</td>\n",
       "      <td>영구임대</td>\n",
       "      <td>25.0</td>\n",
       "      <td>588.0</td>\n",
       "      <td>1.0</td>\n",
       "      <td>C</td>\n",
       "      <td>5.787000e+06</td>\n",
       "      <td>...</td>\n",
       "      <td>588.0</td>\n",
       "      <td>0.0</td>\n",
       "      <td>0.0</td>\n",
       "      <td>0.0</td>\n",
       "      <td>2.0</td>\n",
       "      <td>0.0</td>\n",
       "      <td>1.0</td>\n",
       "      <td>0.0</td>\n",
       "      <td>0.0</td>\n",
       "      <td>98.0</td>\n",
       "    </tr>\n",
       "    <tr>\n",
       "      <th>26</th>\n",
       "      <td>C1704</td>\n",
       "      <td>639.0</td>\n",
       "      <td>아파트</td>\n",
       "      <td>대전광역시</td>\n",
       "      <td>영구임대</td>\n",
       "      <td>35.0</td>\n",
       "      <td>204.0</td>\n",
       "      <td>34.0</td>\n",
       "      <td>C</td>\n",
       "      <td>8.625000e+06</td>\n",
       "      <td>...</td>\n",
       "      <td>0.0</td>\n",
       "      <td>0.0</td>\n",
       "      <td>0.0</td>\n",
       "      <td>0.0</td>\n",
       "      <td>1.0</td>\n",
       "      <td>0.0</td>\n",
       "      <td>0.0</td>\n",
       "      <td>0.0</td>\n",
       "      <td>0.0</td>\n",
       "      <td>131.0</td>\n",
       "    </tr>\n",
       "    <tr>\n",
       "      <th>27</th>\n",
       "      <td>C2258</td>\n",
       "      <td>965.0</td>\n",
       "      <td>아파트</td>\n",
       "      <td>대전광역시</td>\n",
       "      <td>영구임대</td>\n",
       "      <td>25.0</td>\n",
       "      <td>588.0</td>\n",
       "      <td>13.0</td>\n",
       "      <td>C</td>\n",
       "      <td>5.787000e+06</td>\n",
       "      <td>...</td>\n",
       "      <td>589.0</td>\n",
       "      <td>0.0</td>\n",
       "      <td>3.0</td>\n",
       "      <td>7.0</td>\n",
       "      <td>1.0</td>\n",
       "      <td>0.0</td>\n",
       "      <td>0.0</td>\n",
       "      <td>0.0</td>\n",
       "      <td>0.0</td>\n",
       "      <td>78.0</td>\n",
       "    </tr>\n",
       "    <tr>\n",
       "      <th>36</th>\n",
       "      <td>C1068</td>\n",
       "      <td>806.0</td>\n",
       "      <td>아파트</td>\n",
       "      <td>충청남도</td>\n",
       "      <td>국민임대</td>\n",
       "      <td>35.0</td>\n",
       "      <td>200.0</td>\n",
       "      <td>11.0</td>\n",
       "      <td>A</td>\n",
       "      <td>1.123400e+07</td>\n",
       "      <td>...</td>\n",
       "      <td>0.0</td>\n",
       "      <td>0.0</td>\n",
       "      <td>0.0</td>\n",
       "      <td>0.0</td>\n",
       "      <td>0.0</td>\n",
       "      <td>0.0</td>\n",
       "      <td>0.0</td>\n",
       "      <td>0.0</td>\n",
       "      <td>0.0</td>\n",
       "      <td>510.0</td>\n",
       "    </tr>\n",
       "    <tr>\n",
       "      <th>37</th>\n",
       "      <td>C1983</td>\n",
       "      <td>903.0</td>\n",
       "      <td>아파트</td>\n",
       "      <td>충청남도</td>\n",
       "      <td>공공임대(50년)</td>\n",
       "      <td>35.0</td>\n",
       "      <td>40.0</td>\n",
       "      <td>3.0</td>\n",
       "      <td>A</td>\n",
       "      <td>1.036300e+07</td>\n",
       "      <td>...</td>\n",
       "      <td>478.0</td>\n",
       "      <td>0.0</td>\n",
       "      <td>0.0</td>\n",
       "      <td>0.0</td>\n",
       "      <td>1.0</td>\n",
       "      <td>1.0</td>\n",
       "      <td>0.0</td>\n",
       "      <td>0.0</td>\n",
       "      <td>0.0</td>\n",
       "      <td>253.0</td>\n",
       "    </tr>\n",
       "    <tr>\n",
       "      <th>49</th>\n",
       "      <td>C2216</td>\n",
       "      <td>390.0</td>\n",
       "      <td>아파트</td>\n",
       "      <td>충청남도</td>\n",
       "      <td>공공임대(50년)</td>\n",
       "      <td>35.0</td>\n",
       "      <td>210.0</td>\n",
       "      <td>2.0</td>\n",
       "      <td>A</td>\n",
       "      <td>9.401000e+06</td>\n",
       "      <td>...</td>\n",
       "      <td>0.0</td>\n",
       "      <td>0.0</td>\n",
       "      <td>0.0</td>\n",
       "      <td>0.0</td>\n",
       "      <td>0.0</td>\n",
       "      <td>0.0</td>\n",
       "      <td>0.0</td>\n",
       "      <td>0.0</td>\n",
       "      <td>0.0</td>\n",
       "      <td>149.0</td>\n",
       "    </tr>\n",
       "    <tr>\n",
       "      <th>52</th>\n",
       "      <td>C2644</td>\n",
       "      <td>779.0</td>\n",
       "      <td>아파트</td>\n",
       "      <td>충청남도</td>\n",
       "      <td>공공임대(50년)</td>\n",
       "      <td>35.0</td>\n",
       "      <td>89.0</td>\n",
       "      <td>7.0</td>\n",
       "      <td>A</td>\n",
       "      <td>1.187900e+07</td>\n",
       "      <td>...</td>\n",
       "      <td>388.0</td>\n",
       "      <td>0.0</td>\n",
       "      <td>0.0</td>\n",
       "      <td>0.0</td>\n",
       "      <td>0.0</td>\n",
       "      <td>0.0</td>\n",
       "      <td>0.0</td>\n",
       "      <td>0.0</td>\n",
       "      <td>0.0</td>\n",
       "      <td>177.0</td>\n",
       "    </tr>\n",
       "    <tr>\n",
       "      <th>65</th>\n",
       "      <td>C1005</td>\n",
       "      <td>1144.0</td>\n",
       "      <td>아파트</td>\n",
       "      <td>충청남도</td>\n",
       "      <td>국민임대</td>\n",
       "      <td>50.0</td>\n",
       "      <td>304.0</td>\n",
       "      <td>16.0</td>\n",
       "      <td>A</td>\n",
       "      <td>1.620500e+07</td>\n",
       "      <td>...</td>\n",
       "      <td>0.0</td>\n",
       "      <td>0.0</td>\n",
       "      <td>0.0</td>\n",
       "      <td>0.0</td>\n",
       "      <td>0.0</td>\n",
       "      <td>0.0</td>\n",
       "      <td>0.0</td>\n",
       "      <td>0.0</td>\n",
       "      <td>0.0</td>\n",
       "      <td>376.0</td>\n",
       "    </tr>\n",
       "    <tr>\n",
       "      <th>66</th>\n",
       "      <td>C1004</td>\n",
       "      <td>521.0</td>\n",
       "      <td>아파트</td>\n",
       "      <td>충청남도</td>\n",
       "      <td>영구임대</td>\n",
       "      <td>35.0</td>\n",
       "      <td>240.0</td>\n",
       "      <td>3.0</td>\n",
       "      <td>C</td>\n",
       "      <td>4.682000e+06</td>\n",
       "      <td>...</td>\n",
       "      <td>1.0</td>\n",
       "      <td>0.0</td>\n",
       "      <td>3.0</td>\n",
       "      <td>7.0</td>\n",
       "      <td>1.0</td>\n",
       "      <td>0.0</td>\n",
       "      <td>0.0</td>\n",
       "      <td>0.0</td>\n",
       "      <td>0.0</td>\n",
       "      <td>93.0</td>\n",
       "    </tr>\n",
       "    <tr>\n",
       "      <th>67</th>\n",
       "      <td>C1875</td>\n",
       "      <td>1003.0</td>\n",
       "      <td>아파트</td>\n",
       "      <td>충청남도</td>\n",
       "      <td>영구임대</td>\n",
       "      <td>25.0</td>\n",
       "      <td>596.0</td>\n",
       "      <td>5.0</td>\n",
       "      <td>C</td>\n",
       "      <td>3.141000e+06</td>\n",
       "      <td>...</td>\n",
       "      <td>837.0</td>\n",
       "      <td>0.0</td>\n",
       "      <td>3.0</td>\n",
       "      <td>9.0</td>\n",
       "      <td>1.0</td>\n",
       "      <td>0.0</td>\n",
       "      <td>0.0</td>\n",
       "      <td>0.0</td>\n",
       "      <td>0.0</td>\n",
       "      <td>209.0</td>\n",
       "    </tr>\n",
       "    <tr>\n",
       "      <th>68</th>\n",
       "      <td>C2156</td>\n",
       "      <td>306.0</td>\n",
       "      <td>아파트</td>\n",
       "      <td>충청남도</td>\n",
       "      <td>국민임대</td>\n",
       "      <td>35.0</td>\n",
       "      <td>120.0</td>\n",
       "      <td>0.0</td>\n",
       "      <td>A</td>\n",
       "      <td>8.670000e+06</td>\n",
       "      <td>...</td>\n",
       "      <td>0.0</td>\n",
       "      <td>0.0</td>\n",
       "      <td>0.0</td>\n",
       "      <td>0.0</td>\n",
       "      <td>0.0</td>\n",
       "      <td>0.0</td>\n",
       "      <td>0.0</td>\n",
       "      <td>0.0</td>\n",
       "      <td>0.0</td>\n",
       "      <td>204.0</td>\n",
       "    </tr>\n",
       "    <tr>\n",
       "      <th>72</th>\n",
       "      <td>C1175</td>\n",
       "      <td>468.0</td>\n",
       "      <td>아파트</td>\n",
       "      <td>충청남도</td>\n",
       "      <td>국민임대</td>\n",
       "      <td>45.0</td>\n",
       "      <td>198.0</td>\n",
       "      <td>15.0</td>\n",
       "      <td>A</td>\n",
       "      <td>2.113400e+07</td>\n",
       "      <td>...</td>\n",
       "      <td>0.0</td>\n",
       "      <td>0.0</td>\n",
       "      <td>0.0</td>\n",
       "      <td>0.0</td>\n",
       "      <td>0.0</td>\n",
       "      <td>0.0</td>\n",
       "      <td>0.0</td>\n",
       "      <td>0.0</td>\n",
       "      <td>0.0</td>\n",
       "      <td>430.0</td>\n",
       "    </tr>\n",
       "    <tr>\n",
       "      <th>313</th>\n",
       "      <td>C2583</td>\n",
       "      <td>1106.0</td>\n",
       "      <td>아파트</td>\n",
       "      <td>대전광역시</td>\n",
       "      <td>국민임대</td>\n",
       "      <td>35.0</td>\n",
       "      <td>24.0</td>\n",
       "      <td>21.0</td>\n",
       "      <td>A</td>\n",
       "      <td>1.139700e+07</td>\n",
       "      <td>...</td>\n",
       "      <td>180.0</td>\n",
       "      <td>0.0</td>\n",
       "      <td>0.0</td>\n",
       "      <td>60.0</td>\n",
       "      <td>0.0</td>\n",
       "      <td>0.0</td>\n",
       "      <td>0.0</td>\n",
       "      <td>0.0</td>\n",
       "      <td>0.0</td>\n",
       "      <td>982.0</td>\n",
       "    </tr>\n",
       "    <tr>\n",
       "      <th>318</th>\n",
       "      <td>C1649</td>\n",
       "      <td>575.0</td>\n",
       "      <td>아파트</td>\n",
       "      <td>경상남도</td>\n",
       "      <td>공공임대(10년)</td>\n",
       "      <td>70.0</td>\n",
       "      <td>80.0</td>\n",
       "      <td>15.0</td>\n",
       "      <td>A</td>\n",
       "      <td>4.600000e+07</td>\n",
       "      <td>...</td>\n",
       "      <td>0.0</td>\n",
       "      <td>80.0</td>\n",
       "      <td>0.0</td>\n",
       "      <td>0.0</td>\n",
       "      <td>0.0</td>\n",
       "      <td>0.0</td>\n",
       "      <td>0.0</td>\n",
       "      <td>495.0</td>\n",
       "      <td>0.0</td>\n",
       "      <td>855.0</td>\n",
       "    </tr>\n",
       "    <tr>\n",
       "      <th>321</th>\n",
       "      <td>C1350</td>\n",
       "      <td>1401.0</td>\n",
       "      <td>아파트</td>\n",
       "      <td>대전광역시</td>\n",
       "      <td>공공분양</td>\n",
       "      <td>70.0</td>\n",
       "      <td>317.0</td>\n",
       "      <td>2.0</td>\n",
       "      <td>D</td>\n",
       "      <td>1.815170e+07</td>\n",
       "      <td>...</td>\n",
       "      <td>0.0</td>\n",
       "      <td>476.0</td>\n",
       "      <td>0.0</td>\n",
       "      <td>0.0</td>\n",
       "      <td>0.0</td>\n",
       "      <td>0.0</td>\n",
       "      <td>0.0</td>\n",
       "      <td>235.0</td>\n",
       "      <td>0.0</td>\n",
       "      <td>2315.0</td>\n",
       "    </tr>\n",
       "    <tr>\n",
       "      <th>10</th>\n",
       "      <td>C1472</td>\n",
       "      <td>548.0</td>\n",
       "      <td>아파트</td>\n",
       "      <td>충청남도</td>\n",
       "      <td>국민임대</td>\n",
       "      <td>35.0</td>\n",
       "      <td>116.0</td>\n",
       "      <td>2.0</td>\n",
       "      <td>A</td>\n",
       "      <td>8.738000e+06</td>\n",
       "      <td>...</td>\n",
       "      <td>0.0</td>\n",
       "      <td>0.0</td>\n",
       "      <td>0.0</td>\n",
       "      <td>0.0</td>\n",
       "      <td>0.0</td>\n",
       "      <td>0.0</td>\n",
       "      <td>0.0</td>\n",
       "      <td>0.0</td>\n",
       "      <td>0.0</td>\n",
       "      <td>NaN</td>\n",
       "    </tr>\n",
       "    <tr>\n",
       "      <th>12</th>\n",
       "      <td>C1083</td>\n",
       "      <td>427.0</td>\n",
       "      <td>아파트</td>\n",
       "      <td>대전광역시</td>\n",
       "      <td>국민임대</td>\n",
       "      <td>35.0</td>\n",
       "      <td>40.0</td>\n",
       "      <td>0.0</td>\n",
       "      <td>A</td>\n",
       "      <td>1.248300e+07</td>\n",
       "      <td>...</td>\n",
       "      <td>0.0</td>\n",
       "      <td>0.0</td>\n",
       "      <td>0.0</td>\n",
       "      <td>0.0</td>\n",
       "      <td>0.0</td>\n",
       "      <td>0.0</td>\n",
       "      <td>0.0</td>\n",
       "      <td>0.0</td>\n",
       "      <td>0.0</td>\n",
       "      <td>NaN</td>\n",
       "    </tr>\n",
       "    <tr>\n",
       "      <th>18</th>\n",
       "      <td>C2177</td>\n",
       "      <td>1245.0</td>\n",
       "      <td>아파트</td>\n",
       "      <td>충청남도</td>\n",
       "      <td>영구임대</td>\n",
       "      <td>25.0</td>\n",
       "      <td>478.0</td>\n",
       "      <td>2.0</td>\n",
       "      <td>C</td>\n",
       "      <td>3.141000e+06</td>\n",
       "      <td>...</td>\n",
       "      <td>1077.0</td>\n",
       "      <td>0.0</td>\n",
       "      <td>5.0</td>\n",
       "      <td>6.0</td>\n",
       "      <td>1.0</td>\n",
       "      <td>1.0</td>\n",
       "      <td>0.0</td>\n",
       "      <td>0.0</td>\n",
       "      <td>0.0</td>\n",
       "      <td>NaN</td>\n",
       "    </tr>\n",
       "    <tr>\n",
       "      <th>33</th>\n",
       "      <td>C1318</td>\n",
       "      <td>312.0</td>\n",
       "      <td>아파트</td>\n",
       "      <td>충청남도</td>\n",
       "      <td>공공임대(50년)</td>\n",
       "      <td>35.0</td>\n",
       "      <td>135.0</td>\n",
       "      <td>1.0</td>\n",
       "      <td>A</td>\n",
       "      <td>1.444000e+07</td>\n",
       "      <td>...</td>\n",
       "      <td>0.0</td>\n",
       "      <td>0.0</td>\n",
       "      <td>0.0</td>\n",
       "      <td>0.0</td>\n",
       "      <td>0.0</td>\n",
       "      <td>0.0</td>\n",
       "      <td>0.0</td>\n",
       "      <td>0.0</td>\n",
       "      <td>0.0</td>\n",
       "      <td>NaN</td>\n",
       "    </tr>\n",
       "    <tr>\n",
       "      <th>130</th>\n",
       "      <td>C1327</td>\n",
       "      <td>98.0</td>\n",
       "      <td>아파트</td>\n",
       "      <td>대전광역시</td>\n",
       "      <td>행복주택</td>\n",
       "      <td>15.0</td>\n",
       "      <td>30.0</td>\n",
       "      <td>13.0</td>\n",
       "      <td>J</td>\n",
       "      <td>1.880000e+07</td>\n",
       "      <td>...</td>\n",
       "      <td>20.0</td>\n",
       "      <td>0.0</td>\n",
       "      <td>30.0</td>\n",
       "      <td>0.0</td>\n",
       "      <td>0.0</td>\n",
       "      <td>0.0</td>\n",
       "      <td>0.0</td>\n",
       "      <td>0.0</td>\n",
       "      <td>0.0</td>\n",
       "      <td>NaN</td>\n",
       "    </tr>\n",
       "  </tbody>\n",
       "</table>\n",
       "<p>25 rows × 30 columns</p>\n",
       "</div>"
      ],
      "text/plain": [
       "      단지코드    총세대수 임대건물구분     지역       공급유형  전용면적  전용면적별세대수   공가수 자격유형  \\\n",
       "15   C1312   518.0    아파트   충청남도       국민임대  35.0      60.0  12.0    A   \n",
       "16   C1874   619.0    아파트   충청남도       영구임대  25.0     294.0   2.0    C   \n",
       "20   C1424   625.0    아파트  대전광역시  공공임대(50년)  35.0     268.0   2.0    A   \n",
       "21   C2100   880.0    아파트  대전광역시       국민임대  50.0      46.0   4.0    A   \n",
       "23   C2520   970.0    아파트  대전광역시  공공임대(50년)  35.0     960.0   2.0    A   \n",
       "25   C1616  1507.0    아파트  대전광역시       영구임대  25.0     588.0   1.0    C   \n",
       "26   C1704   639.0    아파트  대전광역시       영구임대  35.0     204.0  34.0    C   \n",
       "27   C2258   965.0    아파트  대전광역시       영구임대  25.0     588.0  13.0    C   \n",
       "36   C1068   806.0    아파트   충청남도       국민임대  35.0     200.0  11.0    A   \n",
       "37   C1983   903.0    아파트   충청남도  공공임대(50년)  35.0      40.0   3.0    A   \n",
       "49   C2216   390.0    아파트   충청남도  공공임대(50년)  35.0     210.0   2.0    A   \n",
       "52   C2644   779.0    아파트   충청남도  공공임대(50년)  35.0      89.0   7.0    A   \n",
       "65   C1005  1144.0    아파트   충청남도       국민임대  50.0     304.0  16.0    A   \n",
       "66   C1004   521.0    아파트   충청남도       영구임대  35.0     240.0   3.0    C   \n",
       "67   C1875  1003.0    아파트   충청남도       영구임대  25.0     596.0   5.0    C   \n",
       "68   C2156   306.0    아파트   충청남도       국민임대  35.0     120.0   0.0    A   \n",
       "72   C1175   468.0    아파트   충청남도       국민임대  45.0     198.0  15.0    A   \n",
       "313  C2583  1106.0    아파트  대전광역시       국민임대  35.0      24.0  21.0    A   \n",
       "318  C1649   575.0    아파트   경상남도  공공임대(10년)  70.0      80.0  15.0    A   \n",
       "321  C1350  1401.0    아파트  대전광역시       공공분양  70.0     317.0   2.0    D   \n",
       "10   C1472   548.0    아파트   충청남도       국민임대  35.0     116.0   2.0    A   \n",
       "12   C1083   427.0    아파트  대전광역시       국민임대  35.0      40.0   0.0    A   \n",
       "18   C2177  1245.0    아파트   충청남도       영구임대  25.0     478.0   2.0    C   \n",
       "33   C1318   312.0    아파트   충청남도  공공임대(50년)  35.0     135.0   1.0    A   \n",
       "130  C1327    98.0    아파트  대전광역시       행복주택  15.0      30.0  13.0    J   \n",
       "\n",
       "            임대보증금  ...  면적_25.0  면적_70.0  면적_15.0  면적_20.0  면적_100.0  면적_60.0  \\\n",
       "15   1.746000e+07  ...      0.0      0.0      0.0      0.0       0.0      0.0   \n",
       "16   3.141000e+06  ...    455.0      0.0      3.0      4.0       0.0      0.0   \n",
       "20   1.424700e+07  ...      0.0      0.0      0.0      0.0       0.0      0.0   \n",
       "21   2.230700e+07  ...      0.0      0.0      0.0      0.0       0.0      0.0   \n",
       "23   1.315500e+07  ...      0.0      0.0      0.0      0.0       0.0      0.0   \n",
       "25   5.787000e+06  ...    588.0      0.0      0.0      0.0       2.0      0.0   \n",
       "26   8.625000e+06  ...      0.0      0.0      0.0      0.0       1.0      0.0   \n",
       "27   5.787000e+06  ...    589.0      0.0      3.0      7.0       1.0      0.0   \n",
       "36   1.123400e+07  ...      0.0      0.0      0.0      0.0       0.0      0.0   \n",
       "37   1.036300e+07  ...    478.0      0.0      0.0      0.0       1.0      1.0   \n",
       "49   9.401000e+06  ...      0.0      0.0      0.0      0.0       0.0      0.0   \n",
       "52   1.187900e+07  ...    388.0      0.0      0.0      0.0       0.0      0.0   \n",
       "65   1.620500e+07  ...      0.0      0.0      0.0      0.0       0.0      0.0   \n",
       "66   4.682000e+06  ...      1.0      0.0      3.0      7.0       1.0      0.0   \n",
       "67   3.141000e+06  ...    837.0      0.0      3.0      9.0       1.0      0.0   \n",
       "68   8.670000e+06  ...      0.0      0.0      0.0      0.0       0.0      0.0   \n",
       "72   2.113400e+07  ...      0.0      0.0      0.0      0.0       0.0      0.0   \n",
       "313  1.139700e+07  ...    180.0      0.0      0.0     60.0       0.0      0.0   \n",
       "318  4.600000e+07  ...      0.0     80.0      0.0      0.0       0.0      0.0   \n",
       "321  1.815170e+07  ...      0.0    476.0      0.0      0.0       0.0      0.0   \n",
       "10   8.738000e+06  ...      0.0      0.0      0.0      0.0       0.0      0.0   \n",
       "12   1.248300e+07  ...      0.0      0.0      0.0      0.0       0.0      0.0   \n",
       "18   3.141000e+06  ...   1077.0      0.0      5.0      6.0       1.0      1.0   \n",
       "33   1.444000e+07  ...      0.0      0.0      0.0      0.0       0.0      0.0   \n",
       "130  1.880000e+07  ...     20.0      0.0     30.0      0.0       0.0      0.0   \n",
       "\n",
       "     면적_75.0  면적_80.0  면적_65.0   등록차량수  \n",
       "15       0.0      0.0      0.0   359.0  \n",
       "16       0.0      0.0      0.0    62.0  \n",
       "20       0.0      0.0      0.0   179.0  \n",
       "21       0.0      0.0      0.0   671.0  \n",
       "23       0.0      0.0      0.0   386.0  \n",
       "25       1.0      0.0      0.0    98.0  \n",
       "26       0.0      0.0      0.0   131.0  \n",
       "27       0.0      0.0      0.0    78.0  \n",
       "36       0.0      0.0      0.0   510.0  \n",
       "37       0.0      0.0      0.0   253.0  \n",
       "49       0.0      0.0      0.0   149.0  \n",
       "52       0.0      0.0      0.0   177.0  \n",
       "65       0.0      0.0      0.0   376.0  \n",
       "66       0.0      0.0      0.0    93.0  \n",
       "67       0.0      0.0      0.0   209.0  \n",
       "68       0.0      0.0      0.0   204.0  \n",
       "72       0.0      0.0      0.0   430.0  \n",
       "313      0.0      0.0      0.0   982.0  \n",
       "318      0.0    495.0      0.0   855.0  \n",
       "321      0.0    235.0      0.0  2315.0  \n",
       "10       0.0      0.0      0.0     NaN  \n",
       "12       0.0      0.0      0.0     NaN  \n",
       "18       0.0      0.0      0.0     NaN  \n",
       "33       0.0      0.0      0.0     NaN  \n",
       "130      0.0      0.0      0.0     NaN  \n",
       "\n",
       "[25 rows x 30 columns]"
      ]
     },
     "execution_count": 41,
     "metadata": {},
     "output_type": "execute_result"
    }
   ],
   "source": [
    "df[df['도보 10분거리 내 지하철역 수(환승노선 수 반영)'].isnull()]"
   ]
  },
  {
   "cell_type": "code",
   "execution_count": 42,
   "id": "2ee8bda9",
   "metadata": {},
   "outputs": [
    {
     "data": {
      "text/plain": [
       "0.0    359\n",
       "1.0     38\n",
       "NaN     20\n",
       "2.0      5\n",
       "3.0      1\n",
       "Name: 도보 10분거리 내 지하철역 수(환승노선 수 반영), dtype: int64"
      ]
     },
     "execution_count": 42,
     "metadata": {},
     "output_type": "execute_result"
    }
   ],
   "source": [
    "train2['도보 10분거리 내 지하철역 수(환승노선 수 반영)'].value_counts(dropna=False)"
   ]
  },
  {
   "cell_type": "code",
   "execution_count": 43,
   "id": "e821df1b",
   "metadata": {},
   "outputs": [],
   "source": [
    "# 원래는 단지코드에 해당하는 역 수를 채울려고 했는데 없으니까 그냥 역 수 중에서 가장 많은 값인 0으로 채운다.\n",
    "df['도보 10분거리 내 지하철역 수(환승노선 수 반영)'] = df['도보 10분거리 내 지하철역 수(환승노선 수 반영)'].fillna(0)"
   ]
  },
  {
   "cell_type": "markdown",
   "id": "fea44264",
   "metadata": {},
   "source": [
    "결측값 처리 최종!!!"
   ]
  },
  {
   "cell_type": "code",
   "execution_count": 44,
   "id": "209b7d6f",
   "metadata": {},
   "outputs": [
    {
     "data": {
      "text/plain": [
       "단지코드                              0\n",
       "총세대수                              0\n",
       "임대건물구분                            0\n",
       "지역                                0\n",
       "공급유형                              0\n",
       "전용면적                              0\n",
       "전용면적별세대수                          0\n",
       "공가수                               0\n",
       "자격유형                              0\n",
       "임대보증금                             0\n",
       "임대료                               0\n",
       "도보 10분거리 내 지하철역 수(환승노선 수 반영)      0\n",
       "도보 10분거리 내 버스정류장 수                0\n",
       "단지내주차면수                           0\n",
       "면적_35.0                           0\n",
       "면적_50.0                           0\n",
       "면적_55.0                           0\n",
       "면적_30.0                           0\n",
       "면적_45.0                           0\n",
       "면적_40.0                           0\n",
       "면적_25.0                           0\n",
       "면적_70.0                           0\n",
       "면적_15.0                           0\n",
       "면적_20.0                           0\n",
       "면적_100.0                          0\n",
       "면적_60.0                           0\n",
       "면적_75.0                           0\n",
       "면적_80.0                           0\n",
       "면적_65.0                           0\n",
       "등록차량수                           150\n",
       "dtype: int64"
      ]
     },
     "execution_count": 44,
     "metadata": {},
     "output_type": "execute_result"
    }
   ],
   "source": [
    "#결측값 처리: 최종\n",
    "df.isnull().sum()"
   ]
  },
  {
   "cell_type": "markdown",
   "id": "957af139",
   "metadata": {},
   "source": [
    "# 2. 시각화"
   ]
  },
  {
   "cell_type": "code",
   "execution_count": 45,
   "id": "8ed51688",
   "metadata": {},
   "outputs": [
    {
     "data": {
      "text/html": [
       "<div>\n",
       "<style scoped>\n",
       "    .dataframe tbody tr th:only-of-type {\n",
       "        vertical-align: middle;\n",
       "    }\n",
       "\n",
       "    .dataframe tbody tr th {\n",
       "        vertical-align: top;\n",
       "    }\n",
       "\n",
       "    .dataframe thead th {\n",
       "        text-align: right;\n",
       "    }\n",
       "</style>\n",
       "<table border=\"1\" class=\"dataframe\">\n",
       "  <thead>\n",
       "    <tr style=\"text-align: right;\">\n",
       "      <th></th>\n",
       "      <th>단지코드</th>\n",
       "      <th>총세대수</th>\n",
       "      <th>임대건물구분</th>\n",
       "      <th>지역</th>\n",
       "      <th>공급유형</th>\n",
       "      <th>전용면적</th>\n",
       "      <th>전용면적별세대수</th>\n",
       "      <th>공가수</th>\n",
       "      <th>자격유형</th>\n",
       "      <th>임대보증금</th>\n",
       "      <th>...</th>\n",
       "      <th>면적_25.0</th>\n",
       "      <th>면적_70.0</th>\n",
       "      <th>면적_15.0</th>\n",
       "      <th>면적_20.0</th>\n",
       "      <th>면적_100.0</th>\n",
       "      <th>면적_60.0</th>\n",
       "      <th>면적_75.0</th>\n",
       "      <th>면적_80.0</th>\n",
       "      <th>면적_65.0</th>\n",
       "      <th>등록차량수</th>\n",
       "    </tr>\n",
       "  </thead>\n",
       "  <tbody>\n",
       "    <tr>\n",
       "      <th>0</th>\n",
       "      <td>C2483</td>\n",
       "      <td>900.0</td>\n",
       "      <td>아파트</td>\n",
       "      <td>경상북도</td>\n",
       "      <td>국민임대</td>\n",
       "      <td>35.0</td>\n",
       "      <td>134.0</td>\n",
       "      <td>38.0</td>\n",
       "      <td>A</td>\n",
       "      <td>15667000.0</td>\n",
       "      <td>...</td>\n",
       "      <td>0.0</td>\n",
       "      <td>0.0</td>\n",
       "      <td>0.0</td>\n",
       "      <td>0.0</td>\n",
       "      <td>0.0</td>\n",
       "      <td>0.0</td>\n",
       "      <td>0.0</td>\n",
       "      <td>0.0</td>\n",
       "      <td>0.0</td>\n",
       "      <td>1015.0</td>\n",
       "    </tr>\n",
       "    <tr>\n",
       "      <th>1</th>\n",
       "      <td>C2515</td>\n",
       "      <td>545.0</td>\n",
       "      <td>아파트</td>\n",
       "      <td>경상남도</td>\n",
       "      <td>국민임대</td>\n",
       "      <td>30.0</td>\n",
       "      <td>276.0</td>\n",
       "      <td>17.0</td>\n",
       "      <td>A</td>\n",
       "      <td>9216000.0</td>\n",
       "      <td>...</td>\n",
       "      <td>0.0</td>\n",
       "      <td>0.0</td>\n",
       "      <td>0.0</td>\n",
       "      <td>0.0</td>\n",
       "      <td>0.0</td>\n",
       "      <td>0.0</td>\n",
       "      <td>0.0</td>\n",
       "      <td>0.0</td>\n",
       "      <td>0.0</td>\n",
       "      <td>205.0</td>\n",
       "    </tr>\n",
       "    <tr>\n",
       "      <th>2</th>\n",
       "      <td>C1407</td>\n",
       "      <td>1216.0</td>\n",
       "      <td>아파트</td>\n",
       "      <td>대전광역시</td>\n",
       "      <td>국민임대</td>\n",
       "      <td>30.0</td>\n",
       "      <td>288.0</td>\n",
       "      <td>13.0</td>\n",
       "      <td>A</td>\n",
       "      <td>15620000.0</td>\n",
       "      <td>...</td>\n",
       "      <td>0.0</td>\n",
       "      <td>0.0</td>\n",
       "      <td>0.0</td>\n",
       "      <td>0.0</td>\n",
       "      <td>0.0</td>\n",
       "      <td>0.0</td>\n",
       "      <td>0.0</td>\n",
       "      <td>0.0</td>\n",
       "      <td>0.0</td>\n",
       "      <td>1064.0</td>\n",
       "    </tr>\n",
       "    <tr>\n",
       "      <th>3</th>\n",
       "      <td>C1945</td>\n",
       "      <td>755.0</td>\n",
       "      <td>아파트</td>\n",
       "      <td>경기도</td>\n",
       "      <td>국민임대</td>\n",
       "      <td>35.0</td>\n",
       "      <td>120.0</td>\n",
       "      <td>6.0</td>\n",
       "      <td>B</td>\n",
       "      <td>15607000.0</td>\n",
       "      <td>...</td>\n",
       "      <td>0.0</td>\n",
       "      <td>0.0</td>\n",
       "      <td>0.0</td>\n",
       "      <td>0.0</td>\n",
       "      <td>0.0</td>\n",
       "      <td>0.0</td>\n",
       "      <td>0.0</td>\n",
       "      <td>0.0</td>\n",
       "      <td>0.0</td>\n",
       "      <td>730.0</td>\n",
       "    </tr>\n",
       "    <tr>\n",
       "      <th>4</th>\n",
       "      <td>C1470</td>\n",
       "      <td>696.0</td>\n",
       "      <td>아파트</td>\n",
       "      <td>전라북도</td>\n",
       "      <td>국민임대</td>\n",
       "      <td>35.0</td>\n",
       "      <td>228.0</td>\n",
       "      <td>14.0</td>\n",
       "      <td>A</td>\n",
       "      <td>12015000.0</td>\n",
       "      <td>...</td>\n",
       "      <td>0.0</td>\n",
       "      <td>0.0</td>\n",
       "      <td>0.0</td>\n",
       "      <td>0.0</td>\n",
       "      <td>0.0</td>\n",
       "      <td>0.0</td>\n",
       "      <td>0.0</td>\n",
       "      <td>0.0</td>\n",
       "      <td>0.0</td>\n",
       "      <td>553.0</td>\n",
       "    </tr>\n",
       "  </tbody>\n",
       "</table>\n",
       "<p>5 rows × 30 columns</p>\n",
       "</div>"
      ],
      "text/plain": [
       "    단지코드    총세대수 임대건물구분     지역  공급유형  전용면적  전용면적별세대수   공가수 자격유형       임대보증금  \\\n",
       "0  C2483   900.0    아파트   경상북도  국민임대  35.0     134.0  38.0    A  15667000.0   \n",
       "1  C2515   545.0    아파트   경상남도  국민임대  30.0     276.0  17.0    A   9216000.0   \n",
       "2  C1407  1216.0    아파트  대전광역시  국민임대  30.0     288.0  13.0    A  15620000.0   \n",
       "3  C1945   755.0    아파트    경기도  국민임대  35.0     120.0   6.0    B  15607000.0   \n",
       "4  C1470   696.0    아파트   전라북도  국민임대  35.0     228.0  14.0    A  12015000.0   \n",
       "\n",
       "   ...  면적_25.0  면적_70.0  면적_15.0  면적_20.0  면적_100.0  면적_60.0  면적_75.0  \\\n",
       "0  ...      0.0      0.0      0.0      0.0       0.0      0.0      0.0   \n",
       "1  ...      0.0      0.0      0.0      0.0       0.0      0.0      0.0   \n",
       "2  ...      0.0      0.0      0.0      0.0       0.0      0.0      0.0   \n",
       "3  ...      0.0      0.0      0.0      0.0       0.0      0.0      0.0   \n",
       "4  ...      0.0      0.0      0.0      0.0       0.0      0.0      0.0   \n",
       "\n",
       "   면적_80.0  면적_65.0   등록차량수  \n",
       "0      0.0      0.0  1015.0  \n",
       "1      0.0      0.0   205.0  \n",
       "2      0.0      0.0  1064.0  \n",
       "3      0.0      0.0   730.0  \n",
       "4      0.0      0.0   553.0  \n",
       "\n",
       "[5 rows x 30 columns]"
      ]
     },
     "execution_count": 45,
     "metadata": {},
     "output_type": "execute_result"
    }
   ],
   "source": [
    "#타깃값과의 관계를 시각화하기 위해 new_train 만들기\n",
    "new_train=df.iloc[:len(train2), :]\n",
    "new_test=df.iloc[len(train2):, :-1]\n",
    "new_train.head()"
   ]
  },
  {
   "cell_type": "code",
   "execution_count": 46,
   "id": "848b1ef1",
   "metadata": {},
   "outputs": [
    {
     "data": {
      "text/plain": [
       "((423, 30), (150, 29))"
      ]
     },
     "execution_count": 46,
     "metadata": {},
     "output_type": "execute_result"
    }
   ],
   "source": [
    "new_train.shape, new_test.shape"
   ]
  },
  {
   "cell_type": "markdown",
   "id": "70b7c849",
   "metadata": {},
   "source": [
    "## (1) 범주형 변수\n",
    "- 공급유형, 단지코드, 임대건물구분, 자격유형, 지역"
   ]
  },
  {
   "cell_type": "markdown",
   "id": "36050183",
   "metadata": {},
   "source": [
    "### 1. 공급유형과 자격유형간의 관계 \n",
    "-> 매우 높음"
   ]
  },
  {
   "cell_type": "code",
   "execution_count": 47,
   "id": "d240f4e2",
   "metadata": {
    "scrolled": true
   },
   "outputs": [
    {
     "data": {
      "text/html": [
       "<style type=\"text/css\">\n",
       "#T_1d424_row0_col0, #T_1d424_row0_col1, #T_1d424_row0_col2, #T_1d424_row0_col4, #T_1d424_row0_col5, #T_1d424_row0_col6, #T_1d424_row0_col7, #T_1d424_row0_col8, #T_1d424_row0_col9, #T_1d424_row0_col10, #T_1d424_row0_col11, #T_1d424_row0_col12, #T_1d424_row1_col1, #T_1d424_row1_col2, #T_1d424_row1_col3, #T_1d424_row1_col4, #T_1d424_row1_col5, #T_1d424_row1_col6, #T_1d424_row1_col7, #T_1d424_row1_col8, #T_1d424_row1_col9, #T_1d424_row1_col10, #T_1d424_row1_col11, #T_1d424_row1_col12, #T_1d424_row2_col1, #T_1d424_row2_col2, #T_1d424_row2_col3, #T_1d424_row2_col4, #T_1d424_row2_col5, #T_1d424_row2_col6, #T_1d424_row2_col7, #T_1d424_row2_col8, #T_1d424_row2_col9, #T_1d424_row2_col10, #T_1d424_row2_col11, #T_1d424_row2_col12, #T_1d424_row3_col0, #T_1d424_row3_col1, #T_1d424_row3_col2, #T_1d424_row3_col3, #T_1d424_row3_col4, #T_1d424_row3_col5, #T_1d424_row3_col6, #T_1d424_row3_col7, #T_1d424_row3_col8, #T_1d424_row3_col9, #T_1d424_row3_col10, #T_1d424_row3_col11, #T_1d424_row3_col12, #T_1d424_row4_col2, #T_1d424_row4_col3, #T_1d424_row4_col5, #T_1d424_row4_col8, #T_1d424_row4_col9, #T_1d424_row4_col10, #T_1d424_row4_col11, #T_1d424_row4_col12, #T_1d424_row5_col0, #T_1d424_row5_col1, #T_1d424_row5_col3, #T_1d424_row5_col4, #T_1d424_row5_col6, #T_1d424_row5_col7, #T_1d424_row5_col8, #T_1d424_row5_col9, #T_1d424_row5_col10, #T_1d424_row5_col11, #T_1d424_row5_col12, #T_1d424_row6_col1, #T_1d424_row6_col2, #T_1d424_row6_col3, #T_1d424_row6_col4, #T_1d424_row6_col5, #T_1d424_row6_col6, #T_1d424_row6_col7, #T_1d424_row6_col8, #T_1d424_row6_col9, #T_1d424_row6_col10, #T_1d424_row6_col11, #T_1d424_row6_col12, #T_1d424_row7_col0, #T_1d424_row7_col1, #T_1d424_row7_col2, #T_1d424_row7_col3, #T_1d424_row7_col4, #T_1d424_row7_col5, #T_1d424_row7_col6, #T_1d424_row7_col7 {\n",
       "  background-color: #f7fbff;\n",
       "  color: #000000;\n",
       "}\n",
       "#T_1d424_row0_col3, #T_1d424_row4_col0, #T_1d424_row4_col1, #T_1d424_row4_col4, #T_1d424_row4_col6, #T_1d424_row4_col7, #T_1d424_row5_col2, #T_1d424_row5_col5, #T_1d424_row7_col8, #T_1d424_row7_col9, #T_1d424_row7_col10, #T_1d424_row7_col11, #T_1d424_row7_col12 {\n",
       "  background-color: #08306b;\n",
       "  color: #f1f1f1;\n",
       "}\n",
       "#T_1d424_row1_col0 {\n",
       "  background-color: #dfecf7;\n",
       "  color: #000000;\n",
       "}\n",
       "#T_1d424_row2_col0 {\n",
       "  background-color: #f0f6fd;\n",
       "  color: #000000;\n",
       "}\n",
       "#T_1d424_row6_col0 {\n",
       "  background-color: #f6faff;\n",
       "  color: #000000;\n",
       "}\n",
       "</style>\n",
       "<table id=\"T_1d424_\">\n",
       "  <thead>\n",
       "    <tr>\n",
       "      <th class=\"index_name level0\" >자격유형</th>\n",
       "      <th class=\"col_heading level0 col0\" >A</th>\n",
       "      <th class=\"col_heading level0 col1\" >B</th>\n",
       "      <th class=\"col_heading level0 col2\" >C</th>\n",
       "      <th class=\"col_heading level0 col3\" >D</th>\n",
       "      <th class=\"col_heading level0 col4\" >E</th>\n",
       "      <th class=\"col_heading level0 col5\" >F</th>\n",
       "      <th class=\"col_heading level0 col6\" >G</th>\n",
       "      <th class=\"col_heading level0 col7\" >H</th>\n",
       "      <th class=\"col_heading level0 col8\" >J</th>\n",
       "      <th class=\"col_heading level0 col9\" >K</th>\n",
       "      <th class=\"col_heading level0 col10\" >L</th>\n",
       "      <th class=\"col_heading level0 col11\" >M</th>\n",
       "      <th class=\"col_heading level0 col12\" >N</th>\n",
       "    </tr>\n",
       "    <tr>\n",
       "      <th class=\"index_name level0\" >공급유형</th>\n",
       "      <th class=\"blank col0\" >&nbsp;</th>\n",
       "      <th class=\"blank col1\" >&nbsp;</th>\n",
       "      <th class=\"blank col2\" >&nbsp;</th>\n",
       "      <th class=\"blank col3\" >&nbsp;</th>\n",
       "      <th class=\"blank col4\" >&nbsp;</th>\n",
       "      <th class=\"blank col5\" >&nbsp;</th>\n",
       "      <th class=\"blank col6\" >&nbsp;</th>\n",
       "      <th class=\"blank col7\" >&nbsp;</th>\n",
       "      <th class=\"blank col8\" >&nbsp;</th>\n",
       "      <th class=\"blank col9\" >&nbsp;</th>\n",
       "      <th class=\"blank col10\" >&nbsp;</th>\n",
       "      <th class=\"blank col11\" >&nbsp;</th>\n",
       "      <th class=\"blank col12\" >&nbsp;</th>\n",
       "    </tr>\n",
       "  </thead>\n",
       "  <tbody>\n",
       "    <tr>\n",
       "      <th id=\"T_1d424_level0_row0\" class=\"row_heading level0 row0\" >공공분양</th>\n",
       "      <td id=\"T_1d424_row0_col0\" class=\"data row0 col0\" >0</td>\n",
       "      <td id=\"T_1d424_row0_col1\" class=\"data row0 col1\" >0</td>\n",
       "      <td id=\"T_1d424_row0_col2\" class=\"data row0 col2\" >0</td>\n",
       "      <td id=\"T_1d424_row0_col3\" class=\"data row0 col3\" >1</td>\n",
       "      <td id=\"T_1d424_row0_col4\" class=\"data row0 col4\" >0</td>\n",
       "      <td id=\"T_1d424_row0_col5\" class=\"data row0 col5\" >0</td>\n",
       "      <td id=\"T_1d424_row0_col6\" class=\"data row0 col6\" >0</td>\n",
       "      <td id=\"T_1d424_row0_col7\" class=\"data row0 col7\" >0</td>\n",
       "      <td id=\"T_1d424_row0_col8\" class=\"data row0 col8\" >0</td>\n",
       "      <td id=\"T_1d424_row0_col9\" class=\"data row0 col9\" >0</td>\n",
       "      <td id=\"T_1d424_row0_col10\" class=\"data row0 col10\" >0</td>\n",
       "      <td id=\"T_1d424_row0_col11\" class=\"data row0 col11\" >0</td>\n",
       "      <td id=\"T_1d424_row0_col12\" class=\"data row0 col12\" >0</td>\n",
       "    </tr>\n",
       "    <tr>\n",
       "      <th id=\"T_1d424_level0_row1\" class=\"row_heading level0 row1\" >공공임대(10년)</th>\n",
       "      <td id=\"T_1d424_row1_col0\" class=\"data row1 col0\" >45</td>\n",
       "      <td id=\"T_1d424_row1_col1\" class=\"data row1 col1\" >0</td>\n",
       "      <td id=\"T_1d424_row1_col2\" class=\"data row1 col2\" >0</td>\n",
       "      <td id=\"T_1d424_row1_col3\" class=\"data row1 col3\" >0</td>\n",
       "      <td id=\"T_1d424_row1_col4\" class=\"data row1 col4\" >0</td>\n",
       "      <td id=\"T_1d424_row1_col5\" class=\"data row1 col5\" >0</td>\n",
       "      <td id=\"T_1d424_row1_col6\" class=\"data row1 col6\" >0</td>\n",
       "      <td id=\"T_1d424_row1_col7\" class=\"data row1 col7\" >0</td>\n",
       "      <td id=\"T_1d424_row1_col8\" class=\"data row1 col8\" >0</td>\n",
       "      <td id=\"T_1d424_row1_col9\" class=\"data row1 col9\" >0</td>\n",
       "      <td id=\"T_1d424_row1_col10\" class=\"data row1 col10\" >0</td>\n",
       "      <td id=\"T_1d424_row1_col11\" class=\"data row1 col11\" >0</td>\n",
       "      <td id=\"T_1d424_row1_col12\" class=\"data row1 col12\" >0</td>\n",
       "    </tr>\n",
       "    <tr>\n",
       "      <th id=\"T_1d424_level0_row2\" class=\"row_heading level0 row2\" >공공임대(50년)</th>\n",
       "      <td id=\"T_1d424_row2_col0\" class=\"data row2 col0\" >14</td>\n",
       "      <td id=\"T_1d424_row2_col1\" class=\"data row2 col1\" >0</td>\n",
       "      <td id=\"T_1d424_row2_col2\" class=\"data row2 col2\" >0</td>\n",
       "      <td id=\"T_1d424_row2_col3\" class=\"data row2 col3\" >0</td>\n",
       "      <td id=\"T_1d424_row2_col4\" class=\"data row2 col4\" >0</td>\n",
       "      <td id=\"T_1d424_row2_col5\" class=\"data row2 col5\" >0</td>\n",
       "      <td id=\"T_1d424_row2_col6\" class=\"data row2 col6\" >0</td>\n",
       "      <td id=\"T_1d424_row2_col7\" class=\"data row2 col7\" >0</td>\n",
       "      <td id=\"T_1d424_row2_col8\" class=\"data row2 col8\" >0</td>\n",
       "      <td id=\"T_1d424_row2_col9\" class=\"data row2 col9\" >0</td>\n",
       "      <td id=\"T_1d424_row2_col10\" class=\"data row2 col10\" >0</td>\n",
       "      <td id=\"T_1d424_row2_col11\" class=\"data row2 col11\" >0</td>\n",
       "      <td id=\"T_1d424_row2_col12\" class=\"data row2 col12\" >0</td>\n",
       "    </tr>\n",
       "    <tr>\n",
       "      <th id=\"T_1d424_level0_row3\" class=\"row_heading level0 row3\" >공공임대(5년)</th>\n",
       "      <td id=\"T_1d424_row3_col0\" class=\"data row3 col0\" >1</td>\n",
       "      <td id=\"T_1d424_row3_col1\" class=\"data row3 col1\" >0</td>\n",
       "      <td id=\"T_1d424_row3_col2\" class=\"data row3 col2\" >0</td>\n",
       "      <td id=\"T_1d424_row3_col3\" class=\"data row3 col3\" >0</td>\n",
       "      <td id=\"T_1d424_row3_col4\" class=\"data row3 col4\" >0</td>\n",
       "      <td id=\"T_1d424_row3_col5\" class=\"data row3 col5\" >0</td>\n",
       "      <td id=\"T_1d424_row3_col6\" class=\"data row3 col6\" >0</td>\n",
       "      <td id=\"T_1d424_row3_col7\" class=\"data row3 col7\" >0</td>\n",
       "      <td id=\"T_1d424_row3_col8\" class=\"data row3 col8\" >0</td>\n",
       "      <td id=\"T_1d424_row3_col9\" class=\"data row3 col9\" >0</td>\n",
       "      <td id=\"T_1d424_row3_col10\" class=\"data row3 col10\" >0</td>\n",
       "      <td id=\"T_1d424_row3_col11\" class=\"data row3 col11\" >0</td>\n",
       "      <td id=\"T_1d424_row3_col12\" class=\"data row3 col12\" >0</td>\n",
       "    </tr>\n",
       "    <tr>\n",
       "      <th id=\"T_1d424_level0_row4\" class=\"row_heading level0 row4\" >국민임대</th>\n",
       "      <td id=\"T_1d424_row4_col0\" class=\"data row4 col0\" >372</td>\n",
       "      <td id=\"T_1d424_row4_col1\" class=\"data row4 col1\" >3</td>\n",
       "      <td id=\"T_1d424_row4_col2\" class=\"data row4 col2\" >0</td>\n",
       "      <td id=\"T_1d424_row4_col3\" class=\"data row4 col3\" >0</td>\n",
       "      <td id=\"T_1d424_row4_col4\" class=\"data row4 col4\" >5</td>\n",
       "      <td id=\"T_1d424_row4_col5\" class=\"data row4 col5\" >0</td>\n",
       "      <td id=\"T_1d424_row4_col6\" class=\"data row4 col6\" >3</td>\n",
       "      <td id=\"T_1d424_row4_col7\" class=\"data row4 col7\" >43</td>\n",
       "      <td id=\"T_1d424_row4_col8\" class=\"data row4 col8\" >0</td>\n",
       "      <td id=\"T_1d424_row4_col9\" class=\"data row4 col9\" >0</td>\n",
       "      <td id=\"T_1d424_row4_col10\" class=\"data row4 col10\" >0</td>\n",
       "      <td id=\"T_1d424_row4_col11\" class=\"data row4 col11\" >0</td>\n",
       "      <td id=\"T_1d424_row4_col12\" class=\"data row4 col12\" >0</td>\n",
       "    </tr>\n",
       "    <tr>\n",
       "      <th id=\"T_1d424_level0_row5\" class=\"row_heading level0 row5\" >영구임대</th>\n",
       "      <td id=\"T_1d424_row5_col0\" class=\"data row5 col0\" >1</td>\n",
       "      <td id=\"T_1d424_row5_col1\" class=\"data row5 col1\" >0</td>\n",
       "      <td id=\"T_1d424_row5_col2\" class=\"data row5 col2\" >38</td>\n",
       "      <td id=\"T_1d424_row5_col3\" class=\"data row5 col3\" >0</td>\n",
       "      <td id=\"T_1d424_row5_col4\" class=\"data row5 col4\" >0</td>\n",
       "      <td id=\"T_1d424_row5_col5\" class=\"data row5 col5\" >1</td>\n",
       "      <td id=\"T_1d424_row5_col6\" class=\"data row5 col6\" >0</td>\n",
       "      <td id=\"T_1d424_row5_col7\" class=\"data row5 col7\" >0</td>\n",
       "      <td id=\"T_1d424_row5_col8\" class=\"data row5 col8\" >0</td>\n",
       "      <td id=\"T_1d424_row5_col9\" class=\"data row5 col9\" >0</td>\n",
       "      <td id=\"T_1d424_row5_col10\" class=\"data row5 col10\" >0</td>\n",
       "      <td id=\"T_1d424_row5_col11\" class=\"data row5 col11\" >0</td>\n",
       "      <td id=\"T_1d424_row5_col12\" class=\"data row5 col12\" >0</td>\n",
       "    </tr>\n",
       "    <tr>\n",
       "      <th id=\"T_1d424_level0_row6\" class=\"row_heading level0 row6\" >장기전세</th>\n",
       "      <td id=\"T_1d424_row6_col0\" class=\"data row6 col0\" >2</td>\n",
       "      <td id=\"T_1d424_row6_col1\" class=\"data row6 col1\" >0</td>\n",
       "      <td id=\"T_1d424_row6_col2\" class=\"data row6 col2\" >0</td>\n",
       "      <td id=\"T_1d424_row6_col3\" class=\"data row6 col3\" >0</td>\n",
       "      <td id=\"T_1d424_row6_col4\" class=\"data row6 col4\" >0</td>\n",
       "      <td id=\"T_1d424_row6_col5\" class=\"data row6 col5\" >0</td>\n",
       "      <td id=\"T_1d424_row6_col6\" class=\"data row6 col6\" >0</td>\n",
       "      <td id=\"T_1d424_row6_col7\" class=\"data row6 col7\" >0</td>\n",
       "      <td id=\"T_1d424_row6_col8\" class=\"data row6 col8\" >0</td>\n",
       "      <td id=\"T_1d424_row6_col9\" class=\"data row6 col9\" >0</td>\n",
       "      <td id=\"T_1d424_row6_col10\" class=\"data row6 col10\" >0</td>\n",
       "      <td id=\"T_1d424_row6_col11\" class=\"data row6 col11\" >0</td>\n",
       "      <td id=\"T_1d424_row6_col12\" class=\"data row6 col12\" >0</td>\n",
       "    </tr>\n",
       "    <tr>\n",
       "      <th id=\"T_1d424_level0_row7\" class=\"row_heading level0 row7\" >행복주택</th>\n",
       "      <td id=\"T_1d424_row7_col0\" class=\"data row7 col0\" >0</td>\n",
       "      <td id=\"T_1d424_row7_col1\" class=\"data row7 col1\" >0</td>\n",
       "      <td id=\"T_1d424_row7_col2\" class=\"data row7 col2\" >0</td>\n",
       "      <td id=\"T_1d424_row7_col3\" class=\"data row7 col3\" >0</td>\n",
       "      <td id=\"T_1d424_row7_col4\" class=\"data row7 col4\" >0</td>\n",
       "      <td id=\"T_1d424_row7_col5\" class=\"data row7 col5\" >0</td>\n",
       "      <td id=\"T_1d424_row7_col6\" class=\"data row7 col6\" >0</td>\n",
       "      <td id=\"T_1d424_row7_col7\" class=\"data row7 col7\" >0</td>\n",
       "      <td id=\"T_1d424_row7_col8\" class=\"data row7 col8\" >27</td>\n",
       "      <td id=\"T_1d424_row7_col9\" class=\"data row7 col9\" >7</td>\n",
       "      <td id=\"T_1d424_row7_col10\" class=\"data row7 col10\" >5</td>\n",
       "      <td id=\"T_1d424_row7_col11\" class=\"data row7 col11\" >2</td>\n",
       "      <td id=\"T_1d424_row7_col12\" class=\"data row7 col12\" >3</td>\n",
       "    </tr>\n",
       "  </tbody>\n",
       "</table>\n"
      ],
      "text/plain": [
       "<pandas.io.formats.style.Styler at 0x16a587bcd00>"
      ]
     },
     "execution_count": 47,
     "metadata": {},
     "output_type": "execute_result"
    }
   ],
   "source": [
    "#A에는 공공임대10년, 국민임대, B는 다 국민임대, C는 다 영구임대 이런식\n",
    "pd.crosstab(df['공급유형'], df['자격유형']).style.background_gradient(cmap= 'Blues')"
   ]
  },
  {
   "cell_type": "markdown",
   "id": "8d2d9a0c",
   "metadata": {},
   "source": [
    "### 2. 단지코드와 타깃값과의 관계\n",
    "-> 제거 X"
   ]
  },
  {
   "cell_type": "code",
   "execution_count": 48,
   "id": "38fd23f4",
   "metadata": {
    "scrolled": true
   },
   "outputs": [
    {
     "data": {
      "text/plain": [
       "<AxesSubplot:xlabel='단지코드', ylabel='등록차량수'>"
      ]
     },
     "execution_count": 48,
     "metadata": {},
     "output_type": "execute_result"
    },
    {
     "data": {
      "image/png": "[encoded data removed]",
      "text/plain": [
       "<Figure size 432x288 with 1 Axes>"
      ]
     },
     "metadata": {
      "needs_background": "light"
     },
     "output_type": "display_data"
    }
   ],
   "source": [
    "sns.barplot(data=new_train, x='단지코드', y='등록차량수')"
   ]
  },
  {
   "cell_type": "markdown",
   "id": "5df96a77",
   "metadata": {},
   "source": [
    "### 3. 임대건물구분과 타깃값과의 관계\n",
    "-> 모두 다 아파트니까 삭제"
   ]
  },
  {
   "cell_type": "code",
   "execution_count": 49,
   "id": "f0cf3c65",
   "metadata": {
    "scrolled": true
   },
   "outputs": [
    {
     "data": {
      "text/plain": [
       "<AxesSubplot:xlabel='임대건물구분', ylabel='등록차량수'>"
      ]
     },
     "execution_count": 49,
     "metadata": {},
     "output_type": "execute_result"
    },
    {
     "data": {
      "image/png": "[encoded data removed]",
      "text/plain": [
       "<Figure size 432x288 with 1 Axes>"
      ]
     },
     "metadata": {
      "needs_background": "light"
     },
     "output_type": "display_data"
    }
   ],
   "source": [
    "sns.barplot(data=new_train, x='임대건물구분', y='등록차량수')"
   ]
  },
  {
   "cell_type": "markdown",
   "id": "429860b7",
   "metadata": {},
   "source": [
    "### 4. 지역과 타깃값과의 관계\n",
    "-> 제거 X"
   ]
  },
  {
   "cell_type": "code",
   "execution_count": 50,
   "id": "c65af466",
   "metadata": {},
   "outputs": [
    {
     "data": {
      "text/plain": [
       "<AxesSubplot:xlabel='지역', ylabel='등록차량수'>"
      ]
     },
     "execution_count": 50,
     "metadata": {},
     "output_type": "execute_result"
    },
    {
     "data": {
      "image/png": "[encoded data removed]",
      "text/plain": [
       "<Figure size 1296x504 with 1 Axes>"
      ]
     },
     "metadata": {
      "needs_background": "light"
     },
     "output_type": "display_data"
    }
   ],
   "source": [
    "plt.figure(figsize=(18,7))\n",
    "sns.barplot(data=new_train, x='지역', y='등록차량수')"
   ]
  },
  {
   "cell_type": "markdown",
   "id": "6aefd75b",
   "metadata": {},
   "source": [
    "### 5. 공급유형\n",
    "-> 공공분양, 장기전세는 임대가 아니므로 없애고, 다른 임대유형들은 따로 컬럼을 만들어줌"
   ]
  },
  {
   "cell_type": "code",
   "execution_count": 51,
   "id": "5ff289b5",
   "metadata": {},
   "outputs": [],
   "source": [
    "# # 원핫 인코딩 이용\n",
    "# new_train = pd.get_dummies(new_train, columns=['공급유형'])\n",
    "# new_test = pd.get_dummies(new_test, columns=['공급유형'])"
   ]
  },
  {
   "cell_type": "code",
   "execution_count": 52,
   "id": "e89da709",
   "metadata": {},
   "outputs": [],
   "source": [
    "# new_train.drop(['공급유형_공공분양', '공급유형_장기전세', '자격유형'], axis=1, inplace=True)\n",
    "# new_test.drop(['자격유형'], axis=1, inplace=True) #테스트에는 공공분양, 장기전세 없음"
   ]
  },
  {
   "cell_type": "markdown",
   "id": "cdae4d04",
   "metadata": {},
   "source": [
    "## (2) 수치형 변수\n",
    "공가수, 단지내주차면수, 버스정류장 수, 지하철역 수, 임대료, 임대보증금, 전용면적, 전용면적별세대수, 총세대수  "
   ]
  },
  {
   "cell_type": "markdown",
   "id": "cfc762cb",
   "metadata": {},
   "source": [
    "### 히트맵\n",
    "히트맵을 통해서는 단지내주차면수의 값만 가장 유의미하게 타깃값과 관계성이 있음"
   ]
  },
  {
   "cell_type": "code",
   "execution_count": 53,
   "id": "73fd14df",
   "metadata": {},
   "outputs": [
    {
     "data": {
      "text/plain": [
       "Index(['단지코드', '총세대수', '임대건물구분', '지역', '공급유형', '전용면적', '전용면적별세대수', '공가수',\n",
       "       '자격유형', '임대보증금', '임대료', '지하철역 수', '버스정류장 수', '단지내주차면수', '면적_35.0',\n",
       "       '면적_50.0', '면적_55.0', '면적_30.0', '면적_45.0', '면적_40.0', '면적_25.0',\n",
       "       '면적_70.0', '면적_15.0', '면적_20.0', '면적_100.0', '면적_60.0', '면적_75.0',\n",
       "       '면적_80.0', '면적_65.0', '등록차량수'],\n",
       "      dtype='object')"
      ]
     },
     "execution_count": 53,
     "metadata": {},
     "output_type": "execute_result"
    }
   ],
   "source": [
    "train_heat = new_train.rename(columns={'도보 10분거리 내 지하철역 수(환승노선 수 반영)':'지하철역 수', '도보 10분거리 내 버스정류장 수': '버스정류장 수'})\n",
    "train_heat.columns"
   ]
  },
  {
   "cell_type": "code",
   "execution_count": 54,
   "id": "1496960a",
   "metadata": {
    "scrolled": false
   },
   "outputs": [
    {
     "data": {
      "text/plain": [
       "<AxesSubplot:>"
      ]
     },
     "execution_count": 54,
     "metadata": {},
     "output_type": "execute_result"
    },
    {
     "data": {
      "image/png": "[encoded data removed]",
      "text/plain": [
       "<Figure size 1080x720 with 2 Axes>"
      ]
     },
     "metadata": {
      "needs_background": "light"
     },
     "output_type": "display_data"
    }
   ],
   "source": [
    "plt.figure(figsize=(15,10))\n",
    "sns.heatmap(train_heat.corr(),annot= True,cmap=\"YlGnBu\")"
   ]
  },
  {
   "cell_type": "markdown",
   "id": "cb870daf",
   "metadata": {},
   "source": [
    "### 1. 단지내주차면수\n",
    ": 제거X"
   ]
  },
  {
   "cell_type": "markdown",
   "id": "77c6e448",
   "metadata": {},
   "source": [
    "### 2. 공가수\n",
    "- 공가수: 11인 데이터만 제거 (신뢰구간 너무 넓음)"
   ]
  },
  {
   "cell_type": "code",
   "execution_count": 55,
   "id": "da350298",
   "metadata": {
    "scrolled": false
   },
   "outputs": [
    {
     "data": {
      "text/plain": [
       "<AxesSubplot:xlabel='공가수', ylabel='등록차량수'>"
      ]
     },
     "execution_count": 55,
     "metadata": {},
     "output_type": "execute_result"
    },
    {
     "data": {
      "image/png": "[encoded data removed]",
      "text/plain": [
       "<Figure size 2160x720 with 1 Axes>"
      ]
     },
     "metadata": {
      "needs_background": "light"
     },
     "output_type": "display_data"
    }
   ],
   "source": [
    "plt.figure(figsize=(30,10))\n",
    "sns.barplot(data=new_train, x='공가수', y='등록차량수')"
   ]
  },
  {
   "cell_type": "code",
   "execution_count": 56,
   "id": "6eb2e64c",
   "metadata": {},
   "outputs": [],
   "source": [
    "# #공가수 11인 데이터 행 제거\n",
    "# df_idx=df[df.공가수==11.0].index\n",
    "# df.drop(df_idx, axis=0, inplace=True)"
   ]
  },
  {
   "cell_type": "markdown",
   "id": "13b8216f",
   "metadata": {},
   "source": [
    "### 3. 버스\n",
    "도보 10분거리 내 버스정류장 수: 0인 데이터만 제거\n",
    "주변에 버스정류장이 하나도 없는데 등록차량수의 비율이 가장 낮다는 것은 서로 관계성이 떨어진다고 판단하여 0인 데이터만 제거"
   ]
  },
  {
   "cell_type": "code",
   "execution_count": 57,
   "id": "0c051645",
   "metadata": {},
   "outputs": [
    {
     "data": {
      "text/plain": [
       "<AxesSubplot:xlabel='도보 10분거리 내 버스정류장 수', ylabel='등록차량수'>"
      ]
     },
     "execution_count": 57,
     "metadata": {},
     "output_type": "execute_result"
    },
    {
     "data": {
      "image/png": "[encoded data removed]",
      "text/plain": [
       "<Figure size 432x288 with 1 Axes>"
      ]
     },
     "metadata": {
      "needs_background": "light"
     },
     "output_type": "display_data"
    }
   ],
   "source": [
    "sns.barplot(data=new_train, x='도보 10분거리 내 버스정류장 수', y='등록차량수')"
   ]
  },
  {
   "cell_type": "code",
   "execution_count": 58,
   "id": "34798543",
   "metadata": {},
   "outputs": [
    {
     "data": {
      "text/plain": [
       "<AxesSubplot:xlabel='도보 10분거리 내 버스정류장 수', ylabel='count'>"
      ]
     },
     "execution_count": 58,
     "metadata": {},
     "output_type": "execute_result"
    },
    {
     "data": {
      "image/png": "[encoded data removed]",
      "text/plain": [
       "<Figure size 432x288 with 1 Axes>"
      ]
     },
     "metadata": {
      "needs_background": "light"
     },
     "output_type": "display_data"
    }
   ],
   "source": [
    "sns.countplot(x=new_train['도보 10분거리 내 버스정류장 수'])"
   ]
  },
  {
   "cell_type": "code",
   "execution_count": 59,
   "id": "e62abac1",
   "metadata": {},
   "outputs": [],
   "source": [
    "# #버스정류장 수가 0인 데이터 행 제거\n",
    "# train_idx=new_train[new_train['도보 10분거리 내 버스정류장 수']==0.0].index\n",
    "# new_train.drop(train_idx, axis=0, inplace=True)\n",
    "\n",
    "# test_idx=new_test[new_test['도보 10분거리 내 버스정류장 수']==0.0].index\n",
    "# new_test.drop(test_idx, axis=0, inplace=True)"
   ]
  },
  {
   "cell_type": "markdown",
   "id": "c8122816",
   "metadata": {},
   "source": [
    "### 4. 지하철\n",
    "- 제거 X (연관성 있으니까)"
   ]
  },
  {
   "cell_type": "code",
   "execution_count": 60,
   "id": "5b72f159",
   "metadata": {},
   "outputs": [
    {
     "data": {
      "text/plain": [
       "<AxesSubplot:xlabel='도보 10분거리 내 지하철역 수(환승노선 수 반영)', ylabel='등록차량수'>"
      ]
     },
     "execution_count": 60,
     "metadata": {},
     "output_type": "execute_result"
    },
    {
     "data": {
      "image/png": "[encoded data removed]",
      "text/plain": [
       "<Figure size 432x288 with 1 Axes>"
      ]
     },
     "metadata": {
      "needs_background": "light"
     },
     "output_type": "display_data"
    }
   ],
   "source": [
    "sns.barplot(data=new_train, x='도보 10분거리 내 지하철역 수(환승노선 수 반영)', y='등록차량수')"
   ]
  },
  {
   "cell_type": "code",
   "execution_count": 61,
   "id": "b5040076",
   "metadata": {
    "scrolled": true
   },
   "outputs": [
    {
     "data": {
      "text/plain": [
       "<AxesSubplot:xlabel='도보 10분거리 내 지하철역 수(환승노선 수 반영)', ylabel='count'>"
      ]
     },
     "execution_count": 61,
     "metadata": {},
     "output_type": "execute_result"
    },
    {
     "data": {
      "image/png": "[encoded data removed]",
      "text/plain": [
       "<Figure size 432x288 with 1 Axes>"
      ]
     },
     "metadata": {
      "needs_background": "light"
     },
     "output_type": "display_data"
    }
   ],
   "source": [
    "sns.countplot(x=new_train['도보 10분거리 내 지하철역 수(환승노선 수 반영)'])"
   ]
  },
  {
   "cell_type": "markdown",
   "id": "d9a4eb80",
   "metadata": {},
   "source": [
    "### 5. 임대료, 임대보증금\n",
    "제거X  \n",
    "신뢰구간이 넓기는 하지만 전반적으로 약한 양의 상관관계가 있어 제거하지 않음"
   ]
  },
  {
   "cell_type": "code",
   "execution_count": 62,
   "id": "5aa216d7",
   "metadata": {},
   "outputs": [
    {
     "data": {
      "text/plain": [
       "<AxesSubplot:xlabel='임대료', ylabel='등록차량수'>"
      ]
     },
     "execution_count": 62,
     "metadata": {},
     "output_type": "execute_result"
    },
    {
     "data": {
      "image/png": "[encoded data removed]",
      "text/plain": [
       "<Figure size 432x288 with 1 Axes>"
      ]
     },
     "metadata": {
      "needs_background": "light"
     },
     "output_type": "display_data"
    }
   ],
   "source": [
    "sns.barplot(data=new_train, x='임대료', y='등록차량수')"
   ]
  },
  {
   "cell_type": "code",
   "execution_count": 63,
   "id": "ce565da8",
   "metadata": {
    "scrolled": true
   },
   "outputs": [
    {
     "data": {
      "text/plain": [
       "<AxesSubplot:xlabel='임대보증금', ylabel='등록차량수'>"
      ]
     },
     "execution_count": 63,
     "metadata": {},
     "output_type": "execute_result"
    },
    {
     "data": {
      "image/png": "[encoded data removed]",
      "text/plain": [
       "<Figure size 432x288 with 1 Axes>"
      ]
     },
     "metadata": {
      "needs_background": "light"
     },
     "output_type": "display_data"
    }
   ],
   "source": [
    "sns.barplot(data=new_train, x='임대보증금', y='등록차량수')"
   ]
  },
  {
   "cell_type": "markdown",
   "id": "2db8f908",
   "metadata": {},
   "source": [
    "### 6. 전용면적, 전용면적별세대수\n",
    "- 전용면적: 파생 변수 만들었으므로 삭제\n",
    "- 전용면적별세대수: 신뢰구간이 너무 넓고 타깃값과의 전반적인 상관관계도 많이 떨어져서 제거"
   ]
  },
  {
   "cell_type": "code",
   "execution_count": 64,
   "id": "8acb7d38",
   "metadata": {},
   "outputs": [
    {
     "data": {
      "text/plain": [
       "<AxesSubplot:xlabel='전용면적', ylabel='등록차량수'>"
      ]
     },
     "execution_count": 64,
     "metadata": {},
     "output_type": "execute_result"
    },
    {
     "data": {
      "image/png": "[encoded data removed]",
      "text/plain": [
       "<Figure size 432x288 with 1 Axes>"
      ]
     },
     "metadata": {
      "needs_background": "light"
     },
     "output_type": "display_data"
    }
   ],
   "source": [
    "sns.barplot(data=new_train, x='전용면적', y='등록차량수')"
   ]
  },
  {
   "cell_type": "code",
   "execution_count": 65,
   "id": "da6688d3",
   "metadata": {},
   "outputs": [
    {
     "data": {
      "text/plain": [
       "<AxesSubplot:xlabel='전용면적별세대수', ylabel='등록차량수'>"
      ]
     },
     "execution_count": 65,
     "metadata": {},
     "output_type": "execute_result"
    },
    {
     "data": {
      "image/png": "[encoded data removed]",
      "text/plain": [
       "<Figure size 432x288 with 1 Axes>"
      ]
     },
     "metadata": {
      "needs_background": "light"
     },
     "output_type": "display_data"
    }
   ],
   "source": [
    "sns.barplot(data=new_train, x='전용면적별세대수', y='등록차량수')"
   ]
  },
  {
   "cell_type": "code",
   "execution_count": 66,
   "id": "6d08967e",
   "metadata": {},
   "outputs": [],
   "source": [
    "# #의미없는 컬럼 제거\n",
    "# df.drop(['전용면적', '전용면적별세대수'], axis=1, inplace=True)"
   ]
  },
  {
   "cell_type": "markdown",
   "id": "502fc083",
   "metadata": {},
   "source": [
    "### 7. 총세대수\n",
    "- 제거 X"
   ]
  },
  {
   "cell_type": "code",
   "execution_count": 67,
   "id": "6897cf1f",
   "metadata": {
    "scrolled": true
   },
   "outputs": [
    {
     "data": {
      "text/plain": [
       "<AxesSubplot:xlabel='총세대수', ylabel='등록차량수'>"
      ]
     },
     "execution_count": 67,
     "metadata": {},
     "output_type": "execute_result"
    },
    {
     "data": {
      "image/png": "[encoded data removed]",
      "text/plain": [
       "<Figure size 432x288 with 1 Axes>"
      ]
     },
     "metadata": {
      "needs_background": "light"
     },
     "output_type": "display_data"
    }
   ],
   "source": [
    "sns.barplot(data=new_train, x='총세대수', y='등록차량수')"
   ]
  },
  {
   "cell_type": "markdown",
   "id": "72a59aa3",
   "metadata": {},
   "source": [
    "### 피처, 이상치 제거"
   ]
  },
  {
   "cell_type": "code",
   "execution_count": 68,
   "id": "078ba787",
   "metadata": {},
   "outputs": [
    {
     "data": {
      "text/plain": [
       "((423, 30), (150, 29))"
      ]
     },
     "execution_count": 68,
     "metadata": {},
     "output_type": "execute_result"
    }
   ],
   "source": [
    "new_train.shape, new_test.shape"
   ]
  },
  {
   "cell_type": "code",
   "execution_count": 69,
   "id": "8ccffdbc",
   "metadata": {},
   "outputs": [],
   "source": [
    "# 1. 공가수: 11인 데이터 행만 제거\n",
    "train_idx=new_train[new_train.공가수==11.0].index\n",
    "new_train.drop(train_idx, axis=0, inplace=True)\n",
    "# test_idx=new_test[new_test.공가수==11.0].index\n",
    "# new_test.drop(test_idx, axis=0, inplace=True)\n",
    "\n",
    "# 2. 버스정류장: 0인 데이터 행만 제거\n",
    "train_idx=new_train[new_train['도보 10분거리 내 버스정류장 수']==0.0].index\n",
    "new_train.drop(train_idx, axis=0, inplace=True)\n",
    "# test_idx=new_test[new_test['도보 10분거리 내 버스정류장 수']==0.0].index\n",
    "# new_test.drop(test_idx, axis=0, inplace=True)\n",
    "\n",
    "# 3. 임대건물구분, 전용면적, 전용면적별세대수 컬럼 삭제\n",
    "# + '면적_30.0', '면적_15.0', 지하철역 수\n",
    "new_train.drop(['전용면적', '전용면적별세대수','임대건물구분','면적_30.0', '면적_15.0','면적_75.0', '도보 10분거리 내 지하철역 수(환승노선 수 반영)'], axis=1, inplace=True)\n",
    "new_test.drop(['전용면적', '전용면적별세대수','임대건물구분','면적_30.0', '면적_15.0','면적_75.0','도보 10분거리 내 지하철역 수(환승노선 수 반영)'], axis=1, inplace=True)"
   ]
  },
  {
   "cell_type": "code",
   "execution_count": 70,
   "id": "89a2a858",
   "metadata": {},
   "outputs": [
    {
     "data": {
      "text/plain": [
       "((416, 23), (150, 22))"
      ]
     },
     "execution_count": 70,
     "metadata": {},
     "output_type": "execute_result"
    }
   ],
   "source": [
    "new_train.shape, new_test.shape"
   ]
  },
  {
   "cell_type": "code",
   "execution_count": 71,
   "id": "2f77c401",
   "metadata": {},
   "outputs": [],
   "source": [
    "# 공급유형: 파생 컬럼 만들고 의미없는 컬럼 제거\n",
    "# new_train, new_test합치기\n",
    "df2 = pd.concat([new_train, new_test])\n",
    "\n",
    "# 파생 컬럼 만들기\n",
    "df2 = pd.get_dummies(df2, columns=['공급유형'])\n",
    "\n",
    "# 의미없는 컬럼 제거\n",
    "df2.drop(['공급유형_공공분양', '공급유형_장기전세', '자격유형'], axis=1, inplace=True)"
   ]
  },
  {
   "cell_type": "code",
   "execution_count": 72,
   "id": "18af8b04",
   "metadata": {
    "scrolled": true
   },
   "outputs": [
    {
     "name": "stdout",
     "output_type": "stream",
     "text": [
      "<class 'pandas.core.frame.DataFrame'>\n",
      "Int64Index: 566 entries, 0 to 149\n",
      "Data columns (total 27 columns):\n",
      " #   Column              Non-Null Count  Dtype  \n",
      "---  ------              --------------  -----  \n",
      " 0   단지코드                566 non-null    object \n",
      " 1   총세대수                566 non-null    float64\n",
      " 2   지역                  566 non-null    object \n",
      " 3   공가수                 566 non-null    float64\n",
      " 4   임대보증금               566 non-null    float64\n",
      " 5   임대료                 566 non-null    float64\n",
      " 6   도보 10분거리 내 버스정류장 수  566 non-null    float64\n",
      " 7   단지내주차면수             566 non-null    float64\n",
      " 8   면적_35.0             566 non-null    float64\n",
      " 9   면적_50.0             566 non-null    float64\n",
      " 10  면적_55.0             566 non-null    float64\n",
      " 11  면적_45.0             566 non-null    float64\n",
      " 12  면적_40.0             566 non-null    float64\n",
      " 13  면적_25.0             566 non-null    float64\n",
      " 14  면적_70.0             566 non-null    float64\n",
      " 15  면적_20.0             566 non-null    float64\n",
      " 16  면적_100.0            566 non-null    float64\n",
      " 17  면적_60.0             566 non-null    float64\n",
      " 18  면적_80.0             566 non-null    float64\n",
      " 19  면적_65.0             566 non-null    float64\n",
      " 20  등록차량수               416 non-null    float64\n",
      " 21  공급유형_공공임대(10년)      566 non-null    uint8  \n",
      " 22  공급유형_공공임대(50년)      566 non-null    uint8  \n",
      " 23  공급유형_공공임대(5년)       566 non-null    uint8  \n",
      " 24  공급유형_국민임대           566 non-null    uint8  \n",
      " 25  공급유형_영구임대           566 non-null    uint8  \n",
      " 26  공급유형_행복주택           566 non-null    uint8  \n",
      "dtypes: float64(19), object(2), uint8(6)\n",
      "memory usage: 100.6+ KB\n"
     ]
    }
   ],
   "source": [
    "df2.info()"
   ]
  },
  {
   "cell_type": "code",
   "execution_count": 73,
   "id": "37c5ebd5",
   "metadata": {},
   "outputs": [],
   "source": [
    "df_merge=df2"
   ]
  },
  {
   "cell_type": "markdown",
   "id": "6948e4ea",
   "metadata": {},
   "source": [
    "# age_gender 데이터 추가"
   ]
  },
  {
   "cell_type": "code",
   "execution_count": 74,
   "id": "f959749c",
   "metadata": {},
   "outputs": [],
   "source": [
    "# age_gender.head()"
   ]
  },
  {
   "cell_type": "markdown",
   "id": "5dfdb080",
   "metadata": {},
   "source": [
    "(1) 지역이 겹치니까 지역을 기준으로 데이터프레임 merge하기"
   ]
  },
  {
   "cell_type": "code",
   "execution_count": 75,
   "id": "c45dfdb8",
   "metadata": {},
   "outputs": [],
   "source": [
    "# df_merge = pd.merge(df2, age_gender)\n",
    "# df_merge.head()"
   ]
  },
  {
   "cell_type": "code",
   "execution_count": 76,
   "id": "a239ce1c",
   "metadata": {
    "scrolled": false
   },
   "outputs": [],
   "source": [
    "# df_merge.shape"
   ]
  },
  {
   "cell_type": "markdown",
   "id": "ce40d435",
   "metadata": {},
   "source": [
    "(2) 나이에 따른 세대 수\n",
    "- 총세대수 곱해주기"
   ]
  },
  {
   "cell_type": "code",
   "execution_count": 77,
   "id": "a90a6d75",
   "metadata": {},
   "outputs": [],
   "source": [
    "# df_merge['20대 미만'] = (df_merge['10대미만(여자)'] + df_merge['10대미만(남자)'] + df_merge['10대(여자)'] + df_merge['10대(남자)']) * df_merge['총세대수']\n",
    "# df_merge['20대'] = (df_merge['20대(여자)'] + df_merge['20대(남자)']) * df_merge['총세대수']\n",
    "# df_merge['30대'] = (df_merge['30대(여자)'] + df_merge['30대(남자)']) * df_merge['총세대수']\n",
    "# df_merge['40대'] = (df_merge['40대(여자)'] + df_merge['40대(남자)']) * df_merge['총세대수']\n",
    "# df_merge['50대'] = (df_merge['50대(여자)'] + df_merge['50대(남자)']) * df_merge['총세대수']\n",
    "# df_merge['60대'] = (df_merge['60대(여자)'] + df_merge['60대(남자)']) * df_merge['총세대수']\n",
    "# df_merge['70대 이상'] = df_merge[['60대(여자)', '60대(남자)','70대(여자)', '70대(남자)', \n",
    "#                                   '80대(여자)','80대(남자)', '90대(여자)', '90대(남자)', \n",
    "#                                   '100대(여자)', '100대(남자)']].sum(axis=1) * df_merge['총세대수']"
   ]
  },
  {
   "cell_type": "markdown",
   "id": "dfec03ac",
   "metadata": {},
   "source": [
    "(3) 성별에 따른 세대 수"
   ]
  },
  {
   "cell_type": "code",
   "execution_count": 78,
   "id": "fa138c5d",
   "metadata": {},
   "outputs": [],
   "source": [
    "# #운전할 수 있는 연령으로 \n",
    "# df_merge['20대 남녀 차'] = (df_merge['20대(여자)'] - df_merge['20대(남자)']) * df_merge['총세대수']\n",
    "# df_merge['30대 남녀 차'] = (df_merge['30대(여자)'] - df_merge['30대(남자)']) * df_merge['총세대수']\n",
    "# df_merge['40대 남녀 차'] = (df_merge['40대(여자)'] - df_merge['40대(남자)']) * df_merge['총세대수']\n",
    "# df_merge['50대 남녀 차'] = (df_merge['50대(여자)'] - df_merge['50대(남자)']) * df_merge['총세대수']\n",
    "# df_merge['60대 남녀 차'] = (df_merge['60대(여자)'] - df_merge['60대(남자)']) * df_merge['총세대수']"
   ]
  },
  {
   "cell_type": "markdown",
   "id": "cdacd51d",
   "metadata": {},
   "source": [
    "(4) 기존 age_gender 피처 drop"
   ]
  },
  {
   "cell_type": "code",
   "execution_count": 79,
   "id": "700fbf25",
   "metadata": {},
   "outputs": [],
   "source": [
    "# # 필요없는 피처 삭제\n",
    "# df_merge.drop(['10대미만(여자)','10대미만(남자)', '10대(여자)', '10대(남자)', \n",
    "#                      '20대(여자)', '20대(남자)', '30대(여자)','30대(남자)', \n",
    "#                      '40대(여자)', '40대(남자)', '50대(여자)', '50대(남자)', \n",
    "#                      '60대(여자)','60대(남자)', '70대(여자)', '70대(남자)', \n",
    "#                      '80대(여자)', '80대(남자)', '90대(여자)','90대(남자)', \n",
    "#                      '100대(여자)', '100대(남자)'], axis=1, inplace=True)"
   ]
  },
  {
   "cell_type": "code",
   "execution_count": 80,
   "id": "9b605b4d",
   "metadata": {},
   "outputs": [],
   "source": [
    "# df_merge.columns"
   ]
  },
  {
   "cell_type": "code",
   "execution_count": 81,
   "id": "9954d467",
   "metadata": {
    "scrolled": true
   },
   "outputs": [],
   "source": [
    "# df_merge.info()"
   ]
  },
  {
   "cell_type": "code",
   "execution_count": 82,
   "id": "66ab6305",
   "metadata": {},
   "outputs": [],
   "source": [
    "# df_merge.shape"
   ]
  },
  {
   "cell_type": "markdown",
   "id": "d27684cc",
   "metadata": {},
   "source": [
    "\n",
    "\n",
    "# 3. 베이스라인"
   ]
  },
  {
   "cell_type": "markdown",
   "id": "6ba2331d",
   "metadata": {},
   "source": [
    "## (1) 인코딩"
   ]
  },
  {
   "cell_type": "code",
   "execution_count": 83,
   "id": "e7807165",
   "metadata": {},
   "outputs": [
    {
     "data": {
      "text/html": [
       "<div>\n",
       "<style scoped>\n",
       "    .dataframe tbody tr th:only-of-type {\n",
       "        vertical-align: middle;\n",
       "    }\n",
       "\n",
       "    .dataframe tbody tr th {\n",
       "        vertical-align: top;\n",
       "    }\n",
       "\n",
       "    .dataframe thead th {\n",
       "        text-align: right;\n",
       "    }\n",
       "</style>\n",
       "<table border=\"1\" class=\"dataframe\">\n",
       "  <thead>\n",
       "    <tr style=\"text-align: right;\">\n",
       "      <th></th>\n",
       "      <th>단지코드</th>\n",
       "      <th>지역</th>\n",
       "    </tr>\n",
       "  </thead>\n",
       "  <tbody>\n",
       "    <tr>\n",
       "      <th>0</th>\n",
       "      <td>C2483</td>\n",
       "      <td>경상북도</td>\n",
       "    </tr>\n",
       "    <tr>\n",
       "      <th>1</th>\n",
       "      <td>C2515</td>\n",
       "      <td>경상남도</td>\n",
       "    </tr>\n",
       "    <tr>\n",
       "      <th>2</th>\n",
       "      <td>C1407</td>\n",
       "      <td>대전광역시</td>\n",
       "    </tr>\n",
       "    <tr>\n",
       "      <th>3</th>\n",
       "      <td>C1945</td>\n",
       "      <td>경기도</td>\n",
       "    </tr>\n",
       "    <tr>\n",
       "      <th>4</th>\n",
       "      <td>C1470</td>\n",
       "      <td>전라북도</td>\n",
       "    </tr>\n",
       "    <tr>\n",
       "      <th>...</th>\n",
       "      <td>...</td>\n",
       "      <td>...</td>\n",
       "    </tr>\n",
       "    <tr>\n",
       "      <th>145</th>\n",
       "      <td>C2456</td>\n",
       "      <td>제주특별자치도</td>\n",
       "    </tr>\n",
       "    <tr>\n",
       "      <th>146</th>\n",
       "      <td>C1266</td>\n",
       "      <td>충청북도</td>\n",
       "    </tr>\n",
       "    <tr>\n",
       "      <th>147</th>\n",
       "      <td>C2152</td>\n",
       "      <td>강원도</td>\n",
       "    </tr>\n",
       "    <tr>\n",
       "      <th>148</th>\n",
       "      <td>C1267</td>\n",
       "      <td>경상남도</td>\n",
       "    </tr>\n",
       "    <tr>\n",
       "      <th>149</th>\n",
       "      <td>C2189</td>\n",
       "      <td>전라북도</td>\n",
       "    </tr>\n",
       "  </tbody>\n",
       "</table>\n",
       "<p>566 rows × 2 columns</p>\n",
       "</div>"
      ],
      "text/plain": [
       "      단지코드       지역\n",
       "0    C2483     경상북도\n",
       "1    C2515     경상남도\n",
       "2    C1407    대전광역시\n",
       "3    C1945      경기도\n",
       "4    C1470     전라북도\n",
       "..     ...      ...\n",
       "145  C2456  제주특별자치도\n",
       "146  C1266     충청북도\n",
       "147  C2152      강원도\n",
       "148  C1267     경상남도\n",
       "149  C2189     전라북도\n",
       "\n",
       "[566 rows x 2 columns]"
      ]
     },
     "execution_count": 83,
     "metadata": {},
     "output_type": "execute_result"
    }
   ],
   "source": [
    "df_merge.select_dtypes(\"object\")"
   ]
  },
  {
   "cell_type": "code",
   "execution_count": 84,
   "id": "7df32cb9",
   "metadata": {},
   "outputs": [],
   "source": [
    "#명목형 변수 원핫 인코딩\n",
    "df_merge = pd.get_dummies(df_merge, columns=['지역'])"
   ]
  },
  {
   "cell_type": "code",
   "execution_count": 85,
   "id": "6540d1b9",
   "metadata": {
    "scrolled": true
   },
   "outputs": [
    {
     "data": {
      "text/html": [
       "<div>\n",
       "<style scoped>\n",
       "    .dataframe tbody tr th:only-of-type {\n",
       "        vertical-align: middle;\n",
       "    }\n",
       "\n",
       "    .dataframe tbody tr th {\n",
       "        vertical-align: top;\n",
       "    }\n",
       "\n",
       "    .dataframe thead th {\n",
       "        text-align: right;\n",
       "    }\n",
       "</style>\n",
       "<table border=\"1\" class=\"dataframe\">\n",
       "  <thead>\n",
       "    <tr style=\"text-align: right;\">\n",
       "      <th></th>\n",
       "      <th>단지코드</th>\n",
       "      <th>총세대수</th>\n",
       "      <th>공가수</th>\n",
       "      <th>임대보증금</th>\n",
       "      <th>임대료</th>\n",
       "      <th>도보 10분거리 내 버스정류장 수</th>\n",
       "      <th>단지내주차면수</th>\n",
       "      <th>면적_35.0</th>\n",
       "      <th>면적_50.0</th>\n",
       "      <th>면적_55.0</th>\n",
       "      <th>...</th>\n",
       "      <th>지역_대전광역시</th>\n",
       "      <th>지역_부산광역시</th>\n",
       "      <th>지역_서울특별시</th>\n",
       "      <th>지역_세종특별자치시</th>\n",
       "      <th>지역_울산광역시</th>\n",
       "      <th>지역_전라남도</th>\n",
       "      <th>지역_전라북도</th>\n",
       "      <th>지역_제주특별자치도</th>\n",
       "      <th>지역_충청남도</th>\n",
       "      <th>지역_충청북도</th>\n",
       "    </tr>\n",
       "  </thead>\n",
       "  <tbody>\n",
       "    <tr>\n",
       "      <th>0</th>\n",
       "      <td>C2483</td>\n",
       "      <td>900.0</td>\n",
       "      <td>38.0</td>\n",
       "      <td>15667000.0</td>\n",
       "      <td>103680.0</td>\n",
       "      <td>3.0</td>\n",
       "      <td>1425.0</td>\n",
       "      <td>149.0</td>\n",
       "      <td>665.0</td>\n",
       "      <td>86.0</td>\n",
       "      <td>...</td>\n",
       "      <td>0</td>\n",
       "      <td>0</td>\n",
       "      <td>0</td>\n",
       "      <td>0</td>\n",
       "      <td>0</td>\n",
       "      <td>0</td>\n",
       "      <td>0</td>\n",
       "      <td>0</td>\n",
       "      <td>0</td>\n",
       "      <td>0</td>\n",
       "    </tr>\n",
       "    <tr>\n",
       "      <th>1</th>\n",
       "      <td>C2515</td>\n",
       "      <td>545.0</td>\n",
       "      <td>17.0</td>\n",
       "      <td>9216000.0</td>\n",
       "      <td>82940.0</td>\n",
       "      <td>3.0</td>\n",
       "      <td>624.0</td>\n",
       "      <td>80.0</td>\n",
       "      <td>132.0</td>\n",
       "      <td>0.0</td>\n",
       "      <td>...</td>\n",
       "      <td>0</td>\n",
       "      <td>0</td>\n",
       "      <td>0</td>\n",
       "      <td>0</td>\n",
       "      <td>0</td>\n",
       "      <td>0</td>\n",
       "      <td>0</td>\n",
       "      <td>0</td>\n",
       "      <td>0</td>\n",
       "      <td>0</td>\n",
       "    </tr>\n",
       "    <tr>\n",
       "      <th>2</th>\n",
       "      <td>C1407</td>\n",
       "      <td>1216.0</td>\n",
       "      <td>13.0</td>\n",
       "      <td>15620000.0</td>\n",
       "      <td>127350.0</td>\n",
       "      <td>1.0</td>\n",
       "      <td>1285.0</td>\n",
       "      <td>0.0</td>\n",
       "      <td>124.0</td>\n",
       "      <td>0.0</td>\n",
       "      <td>...</td>\n",
       "      <td>1</td>\n",
       "      <td>0</td>\n",
       "      <td>0</td>\n",
       "      <td>0</td>\n",
       "      <td>0</td>\n",
       "      <td>0</td>\n",
       "      <td>0</td>\n",
       "      <td>0</td>\n",
       "      <td>0</td>\n",
       "      <td>0</td>\n",
       "    </tr>\n",
       "    <tr>\n",
       "      <th>3</th>\n",
       "      <td>C1945</td>\n",
       "      <td>755.0</td>\n",
       "      <td>6.0</td>\n",
       "      <td>15607000.0</td>\n",
       "      <td>130070.0</td>\n",
       "      <td>3.0</td>\n",
       "      <td>734.0</td>\n",
       "      <td>240.0</td>\n",
       "      <td>303.0</td>\n",
       "      <td>212.0</td>\n",
       "      <td>...</td>\n",
       "      <td>0</td>\n",
       "      <td>0</td>\n",
       "      <td>0</td>\n",
       "      <td>0</td>\n",
       "      <td>0</td>\n",
       "      <td>0</td>\n",
       "      <td>0</td>\n",
       "      <td>0</td>\n",
       "      <td>0</td>\n",
       "      <td>0</td>\n",
       "    </tr>\n",
       "    <tr>\n",
       "      <th>4</th>\n",
       "      <td>C1470</td>\n",
       "      <td>696.0</td>\n",
       "      <td>14.0</td>\n",
       "      <td>12015000.0</td>\n",
       "      <td>102130.0</td>\n",
       "      <td>2.0</td>\n",
       "      <td>645.0</td>\n",
       "      <td>254.0</td>\n",
       "      <td>246.0</td>\n",
       "      <td>0.0</td>\n",
       "      <td>...</td>\n",
       "      <td>0</td>\n",
       "      <td>0</td>\n",
       "      <td>0</td>\n",
       "      <td>0</td>\n",
       "      <td>0</td>\n",
       "      <td>0</td>\n",
       "      <td>1</td>\n",
       "      <td>0</td>\n",
       "      <td>0</td>\n",
       "      <td>0</td>\n",
       "    </tr>\n",
       "  </tbody>\n",
       "</table>\n",
       "<p>5 rows × 42 columns</p>\n",
       "</div>"
      ],
      "text/plain": [
       "    단지코드    총세대수   공가수       임대보증금       임대료  도보 10분거리 내 버스정류장 수  단지내주차면수  \\\n",
       "0  C2483   900.0  38.0  15667000.0  103680.0                 3.0   1425.0   \n",
       "1  C2515   545.0  17.0   9216000.0   82940.0                 3.0    624.0   \n",
       "2  C1407  1216.0  13.0  15620000.0  127350.0                 1.0   1285.0   \n",
       "3  C1945   755.0   6.0  15607000.0  130070.0                 3.0    734.0   \n",
       "4  C1470   696.0  14.0  12015000.0  102130.0                 2.0    645.0   \n",
       "\n",
       "   면적_35.0  면적_50.0  면적_55.0  ...  지역_대전광역시  지역_부산광역시  지역_서울특별시  지역_세종특별자치시  \\\n",
       "0    149.0    665.0     86.0  ...         0         0         0           0   \n",
       "1     80.0    132.0      0.0  ...         0         0         0           0   \n",
       "2      0.0    124.0      0.0  ...         1         0         0           0   \n",
       "3    240.0    303.0    212.0  ...         0         0         0           0   \n",
       "4    254.0    246.0      0.0  ...         0         0         0           0   \n",
       "\n",
       "   지역_울산광역시  지역_전라남도  지역_전라북도  지역_제주특별자치도  지역_충청남도  지역_충청북도  \n",
       "0         0        0        0           0        0        0  \n",
       "1         0        0        0           0        0        0  \n",
       "2         0        0        0           0        0        0  \n",
       "3         0        0        0           0        0        0  \n",
       "4         0        0        1           0        0        0  \n",
       "\n",
       "[5 rows x 42 columns]"
      ]
     },
     "execution_count": 85,
     "metadata": {},
     "output_type": "execute_result"
    }
   ],
   "source": [
    "df_merge.head()"
   ]
  },
  {
   "cell_type": "code",
   "execution_count": 86,
   "id": "45b0b711",
   "metadata": {},
   "outputs": [],
   "source": [
    "# # row 생략 없이 출력\n",
    "# pd.set_option('display.max_rows', None)"
   ]
  },
  {
   "cell_type": "code",
   "execution_count": 87,
   "id": "596c4a3f",
   "metadata": {
    "scrolled": false
   },
   "outputs": [
    {
     "data": {
      "text/plain": [
       "단지코드                    0\n",
       "총세대수                    0\n",
       "공가수                     0\n",
       "임대보증금                   0\n",
       "임대료                     0\n",
       "도보 10분거리 내 버스정류장 수      0\n",
       "단지내주차면수                 0\n",
       "면적_35.0                 0\n",
       "면적_50.0                 0\n",
       "면적_55.0                 0\n",
       "면적_45.0                 0\n",
       "면적_40.0                 0\n",
       "면적_25.0                 0\n",
       "면적_70.0                 0\n",
       "면적_20.0                 0\n",
       "면적_100.0                0\n",
       "면적_60.0                 0\n",
       "면적_80.0                 0\n",
       "면적_65.0                 0\n",
       "등록차량수                 150\n",
       "공급유형_공공임대(10년)          0\n",
       "공급유형_공공임대(50년)          0\n",
       "공급유형_공공임대(5년)           0\n",
       "공급유형_국민임대               0\n",
       "공급유형_영구임대               0\n",
       "공급유형_행복주택               0\n",
       "지역_강원도                  0\n",
       "지역_경기도                  0\n",
       "지역_경상남도                 0\n",
       "지역_경상북도                 0\n",
       "지역_광주광역시                0\n",
       "지역_대구광역시                0\n",
       "지역_대전광역시                0\n",
       "지역_부산광역시                0\n",
       "지역_서울특별시                0\n",
       "지역_세종특별자치시              0\n",
       "지역_울산광역시                0\n",
       "지역_전라남도                 0\n",
       "지역_전라북도                 0\n",
       "지역_제주특별자치도              0\n",
       "지역_충청남도                 0\n",
       "지역_충청북도                 0\n",
       "dtype: int64"
      ]
     },
     "execution_count": 87,
     "metadata": {},
     "output_type": "execute_result"
    }
   ],
   "source": [
    "df_merge.isnull().sum()"
   ]
  },
  {
   "cell_type": "markdown",
   "id": "53744a50",
   "metadata": {},
   "source": [
    "## (2) train_test 나누기"
   ]
  },
  {
   "cell_type": "code",
   "execution_count": 88,
   "id": "50e113e3",
   "metadata": {},
   "outputs": [
    {
     "data": {
      "text/plain": [
       "((416, 42), (150, 42))"
      ]
     },
     "execution_count": 88,
     "metadata": {},
     "output_type": "execute_result"
    }
   ],
   "source": [
    "new_train2=df_merge[df_merge['등록차량수'].isnull()==False]\n",
    "new_test2=df_merge[df_merge['등록차량수'].isnull()]\n",
    "y=new_train2['등록차량수'] \n",
    "\n",
    "new_train2.shape, new_test2.shape"
   ]
  },
  {
   "cell_type": "code",
   "execution_count": 89,
   "id": "e0b026cb",
   "metadata": {},
   "outputs": [
    {
     "data": {
      "text/plain": [
       "0      1015.0\n",
       "1       205.0\n",
       "2      1064.0\n",
       "3       730.0\n",
       "4       553.0\n",
       "        ...  \n",
       "418      57.0\n",
       "419     246.0\n",
       "420      19.0\n",
       "421      16.0\n",
       "422     146.0\n",
       "Name: 등록차량수, Length: 416, dtype: float64"
      ]
     },
     "execution_count": 89,
     "metadata": {},
     "output_type": "execute_result"
    }
   ],
   "source": [
    "y"
   ]
  },
  {
   "cell_type": "code",
   "execution_count": 90,
   "id": "82a2dc20",
   "metadata": {},
   "outputs": [
    {
     "data": {
      "text/plain": [
       "((416, 42), (150, 41))"
      ]
     },
     "execution_count": 90,
     "metadata": {},
     "output_type": "execute_result"
    }
   ],
   "source": [
    "# test 타깃값 등록차량수 제거\n",
    "new_test2 = new_test2.drop(['등록차량수'], axis=1)\n",
    "\n",
    "new_train2.shape, new_test2.shape"
   ]
  },
  {
   "cell_type": "code",
   "execution_count": 91,
   "id": "a08ed1e9",
   "metadata": {},
   "outputs": [
    {
     "data": {
      "text/plain": [
       "((416, 41), (150, 41))"
      ]
     },
     "execution_count": 91,
     "metadata": {},
     "output_type": "execute_result"
    }
   ],
   "source": [
    "# tain 타깃값 등록차량수 제거\n",
    "new_train2 = new_train2.drop(['등록차량수'], axis=1)\n",
    "\n",
    "new_train2.shape, new_test2.shape"
   ]
  },
  {
   "cell_type": "markdown",
   "id": "c4a6d846",
   "metadata": {},
   "source": [
    "## (3) 스케일링"
   ]
  },
  {
   "cell_type": "code",
   "execution_count": 92,
   "id": "09e77184",
   "metadata": {},
   "outputs": [],
   "source": [
    "new_train2 = new_train2.drop(['단지코드'], axis=1)\n",
    "new_test2 = new_test2.drop(['단지코드'], axis=1)"
   ]
  },
  {
   "cell_type": "code",
   "execution_count": 93,
   "id": "272636e1",
   "metadata": {},
   "outputs": [],
   "source": [
    "scaler = StandardScaler()\n",
    "\n",
    "scaler.fit(new_train2)\n",
    "train_scaled = scaler.transform(new_train2)\n",
    "test_scaled = scaler.transform(new_test2)"
   ]
  },
  {
   "cell_type": "code",
   "execution_count": 94,
   "id": "a2dab989",
   "metadata": {
    "scrolled": true
   },
   "outputs": [
    {
     "data": {
      "text/plain": [
       "array([[ 8.02872284e-02,  4.33097690e-02,  3.16227472e-01, ...,\n",
       "        -1.79605302e-01, -2.12664362e-01, -2.73743311e-01],\n",
       "       [ 1.59500319e+00, -4.35862144e-01,  3.16227472e-01, ...,\n",
       "        -1.79605302e-01, -2.12664362e-01, -2.73743311e-01],\n",
       "       [-2.60523864e-01,  4.26647299e-01,  1.05392567e-01, ...,\n",
       "        -1.79605302e-01, -2.12664362e-01, -2.73743311e-01],\n",
       "       ...,\n",
       "       [-1.52026264e+00, -4.35862144e-01,  4.94665350e-04, ...,\n",
       "        -1.79605302e-01, -2.12664362e-01, -2.73743311e-01],\n",
       "       [-1.19150374e-01,  2.34333495e+00, -7.60083368e-01, ...,\n",
       "        -1.79605302e-01, -2.12664362e-01, -2.73743311e-01],\n",
       "       [-8.58836669e-01,  3.01417563e+00, -7.60758256e-01, ...,\n",
       "        -1.79605302e-01, -2.12664362e-01, -2.73743311e-01]])"
      ]
     },
     "execution_count": 94,
     "metadata": {},
     "output_type": "execute_result"
    }
   ],
   "source": [
    "test_scaled"
   ]
  },
  {
   "cell_type": "markdown",
   "id": "5ae54c36",
   "metadata": {},
   "source": [
    "## *MAE*"
   ]
  },
  {
   "cell_type": "code",
   "execution_count": 95,
   "id": "e7f8ac60",
   "metadata": {},
   "outputs": [],
   "source": [
    "def MAE(y, pred):\n",
    "    return np.mean(np.abs(y - pred))"
   ]
  },
  {
   "cell_type": "markdown",
   "id": "4838984f",
   "metadata": {},
   "source": [
    "## (4) 모델 학습 - 랜덤포레스트(베이스라인)"
   ]
  },
  {
   "cell_type": "code",
   "execution_count": 96,
   "id": "90841c0c",
   "metadata": {},
   "outputs": [
    {
     "data": {
      "text/plain": [
       "0"
      ]
     },
     "execution_count": 96,
     "metadata": {},
     "output_type": "execute_result"
    }
   ],
   "source": [
    "y.isnull().sum()"
   ]
  },
  {
   "cell_type": "code",
   "execution_count": 97,
   "id": "9ab29806",
   "metadata": {},
   "outputs": [
    {
     "data": {
      "text/plain": [
       "RandomForestRegressor()"
      ]
     },
     "execution_count": 97,
     "metadata": {},
     "output_type": "execute_result"
    }
   ],
   "source": [
    "model = RandomForestRegressor() # 랜덤포레스트 모델 생성\n",
    "log_y = np.log(y) # 타깃값 로그변환\n",
    "model.fit(train_scaled, log_y) # 모델 훈련"
   ]
  },
  {
   "cell_type": "code",
   "execution_count": 98,
   "id": "7c821bdf",
   "metadata": {},
   "outputs": [
    {
     "name": "stdout",
     "output_type": "stream",
     "text": [
      "랜덤포레스트의 MAE 값 : 47.4492\n"
     ]
    }
   ],
   "source": [
    "# train 데이터로 예측\n",
    "preds = model.predict(train_scaled)\n",
    "# train 지수변환\n",
    "train_preds = np.exp(preds)\n",
    "\n",
    "# MAE 성능검증\n",
    "print (f'랜덤포레스트의 MAE 값 : {MAE(y, train_preds):.4f}')"
   ]
  },
  {
   "cell_type": "code",
   "execution_count": 99,
   "id": "b05556fa",
   "metadata": {
    "scrolled": true
   },
   "outputs": [
    {
     "data": {
      "text/plain": [
       "array([ 739.1735787 , 1277.37899418,  516.70963409,  537.22268087,\n",
       "       1173.61878348, 1522.67463092,  877.44362252,  511.84664341,\n",
       "        380.24807295,  240.77043147,  466.98176801,  174.65441571,\n",
       "        407.07465852,  269.63733899,  187.01149844,  281.84789817,\n",
       "        444.04731479,  273.80905924,  168.76161297,  606.37790531,\n",
       "        187.16724695,  495.190455  ,  558.08954899,  498.12660289,\n",
       "        459.54832765,  144.55581746,  137.45906002,  530.83332816,\n",
       "        491.15314976,  563.38351225,  990.11477426,  124.20500276,\n",
       "        524.75832632,  221.0630954 ,   88.30165071,  273.68403721,\n",
       "        400.98796466,  596.00452889,  784.92591707,  307.23578424,\n",
       "        438.69193985,  516.70581261,  449.29599118,  542.90051648,\n",
       "        775.92966724, 1115.50985099,  463.33049318,  613.04560164,\n",
       "        328.44267851,  381.24008709,  774.87849183,  288.12780089,\n",
       "       1066.66061318,  668.22163161,  612.07183117,  303.02083194,\n",
       "        565.16455116,  231.43637528,  419.32058121,   66.03160205,\n",
       "        339.84871684,  561.41323983,  860.68396896,  476.6927155 ,\n",
       "         42.93966283,  258.11186268,  534.05693648,  884.29134391,\n",
       "        574.64913765,  485.61500854,  527.04334346,  275.67736161,\n",
       "        604.63069244,  792.48929927,  775.13936712,  461.14415441,\n",
       "        717.34124552, 1020.36989659,  673.92576647,  831.92692602,\n",
       "        737.6312848 , 1108.43817194,  308.04213318,  268.71861033,\n",
       "        298.65271911,  205.49784114,  237.8298293 ,  413.04622872,\n",
       "        268.56025366,  882.15556479,  907.69367195,  542.17700566,\n",
       "        248.10371359,  515.12582392,  997.05837901,  848.11088805,\n",
       "        596.98443874,  931.93609996,  912.94485539,  812.67489464,\n",
       "        931.842959  ,  428.95734957,  756.03984946,  559.75244245,\n",
       "        941.24012557,  524.87507074, 1025.3184873 ,  556.00518839,\n",
       "        849.48631729,  280.05980211,  547.39030832, 1037.35381161,\n",
       "        748.27702878,  860.40997024,  822.50636767,  114.01896139,\n",
       "        164.38307402,  554.5809786 ,  832.32340306, 1273.35389754,\n",
       "        535.42820992,  709.30019538,  662.77063561,  373.17278133,\n",
       "        660.14401235,  251.61992949,  442.62187733,  604.07910385,\n",
       "         71.05784221,   20.96322389,   86.12036262,  562.62222386,\n",
       "        571.17055699,  250.61313714,  234.72610113,  254.77681999,\n",
       "        361.31997223,  423.69701969,  513.89779583,   99.03062942,\n",
       "        387.87199303,   68.53904755,  137.02256775,  238.24902756,\n",
       "        198.83796548,  267.23495453,  485.9559522 ,   25.27141968,\n",
       "        432.58807739,  240.1002148 ])"
      ]
     },
     "execution_count": 99,
     "metadata": {},
     "output_type": "execute_result"
    }
   ],
   "source": [
    "# 테스트 데이터로 예측\n",
    "test_preds = model.predict(test_scaled)\n",
    "np.exp(test_preds)"
   ]
  },
  {
   "cell_type": "code",
   "execution_count": 100,
   "id": "7893ead8",
   "metadata": {},
   "outputs": [],
   "source": [
    "# submission['num'] = np.exp(test_preds)\n",
    "# submission.to_csv('randomforest_12_10.csv', index=False)"
   ]
  },
  {
   "cell_type": "markdown",
   "id": "2d9d5bc0",
   "metadata": {},
   "source": [
    "<!-- submission['num'] = np.exp(test_preds)\n",
    "submission.to_csv('what.csv', index=False) -->"
   ]
  },
  {
   "cell_type": "markdown",
   "id": "a1dd5e6c",
   "metadata": {},
   "source": [
    "### train, valid "
   ]
  },
  {
   "cell_type": "code",
   "execution_count": 101,
   "id": "9304cd66",
   "metadata": {},
   "outputs": [],
   "source": [
    "X_train, X_valid, y_train, y_valid = train_test_split(train_scaled, log_y, test_size=0.2, random_state=22)"
   ]
  },
  {
   "cell_type": "code",
   "execution_count": 102,
   "id": "543a09fa",
   "metadata": {},
   "outputs": [
    {
     "data": {
      "text/plain": [
       "((332, 40), (84, 40), (332,), (84,))"
      ]
     },
     "execution_count": 102,
     "metadata": {},
     "output_type": "execute_result"
    }
   ],
   "source": [
    "X_train.shape, X_valid.shape, y_train.shape, y_valid.shape"
   ]
  },
  {
   "cell_type": "code",
   "execution_count": 103,
   "id": "2407d93b",
   "metadata": {},
   "outputs": [
    {
     "data": {
      "text/plain": [
       "RandomForestRegressor()"
      ]
     },
     "execution_count": 103,
     "metadata": {},
     "output_type": "execute_result"
    }
   ],
   "source": [
    "model = RandomForestRegressor() # 랜덤포레스트 모델 생성\n",
    "model.fit(X_train, y_train) # 모델 훈련"
   ]
  },
  {
   "cell_type": "code",
   "execution_count": 104,
   "id": "6c75dc81",
   "metadata": {},
   "outputs": [
    {
     "name": "stdout",
     "output_type": "stream",
     "text": [
      "랜덤포레스트의 MAE 값 : 51.0137\n"
     ]
    }
   ],
   "source": [
    "# train 데이터로 예측\n",
    "train_preds = model.predict(X_train)\n",
    "# train 지수변환\n",
    "train_preds = np.exp(train_preds)\n",
    "\n",
    "# MAE 성능검증\n",
    "print (f'랜덤포레스트의 MAE 값 : {MAE(np.exp(y_train), train_preds):.4f}')"
   ]
  },
  {
   "cell_type": "code",
   "execution_count": 105,
   "id": "9c7e10b8",
   "metadata": {},
   "outputs": [
    {
     "name": "stdout",
     "output_type": "stream",
     "text": [
      "랜덤포레스트의 MAE 값 : 102.9424\n"
     ]
    }
   ],
   "source": [
    "# valid 데이터로 예측\n",
    "valid_preds = model.predict(X_valid)\n",
    "valid_preds = np.exp(valid_preds)\n",
    "\n",
    "# MAE 성능검증\n",
    "print (f'랜덤포레스트의 MAE 값 : {MAE(np.exp(y_valid), valid_preds):.4f}')"
   ]
  },
  {
   "attachments": {
    "image.png": {
     "image/png": "[encoded data removed]"
    }
   },
   "cell_type": "markdown",
   "id": "2d7ed59d",
   "metadata": {},
   "source": [
    "![image.png](attachment:image.png)"
   ]
  },
  {
   "cell_type": "markdown",
   "id": "a73dde05",
   "metadata": {},
   "source": [
    "# 4. 성능 개선1\n",
    "## (1) 모델 비교(랜덤포레스트, XGBoost, LGBM, Lasso, Ridge, ElasticNet"
   ]
  },
  {
   "cell_type": "code",
   "execution_count": 153,
   "id": "23fa477e",
   "metadata": {},
   "outputs": [],
   "source": [
    "models = pd.DataFrame(columns = ['Model Name','MAE'])"
   ]
  },
  {
   "cell_type": "code",
   "execution_count": 154,
   "id": "d2a04aa0",
   "metadata": {},
   "outputs": [],
   "source": [
    "model_list = [('Random Forest Regressor', RandomForestRegressor(random_state = 49)),\n",
    "              ('XGBoost Regressor',XGBRegressor(random_state = 49)),\n",
    "              ('LightGBM',LGBMRegressor(n_estimators=1000, num_leaves=64, n_jobs=-1, boost_from_average=False)),\n",
    "             ('Lasso', Lasso(alpha=0.01, max_iter=1000)),\n",
    "              ('Ridge', Ridge(alpha=0.01, max_iter=1000)),\n",
    "             ('ElasticNet', ElasticNet(alpha=0.1, max_iter=1000))]"
   ]
  },
  {
   "cell_type": "code",
   "execution_count": 155,
   "id": "1c9859e3",
   "metadata": {
    "scrolled": true
   },
   "outputs": [
    {
     "name": "stdout",
     "output_type": "stream",
     "text": [
      "Random Forest Regressor\n",
      "102.84295187954913\n",
      "XGBoost Regressor\n",
      "130.28334217979796\n",
      "LightGBM\n",
      "137.71107043659026\n",
      "Lasso\n",
      "159.14755178558593\n",
      "Ridge\n",
      "176.90110531088084\n",
      "ElasticNet\n",
      "152.66012698234468\n"
     ]
    }
   ],
   "source": [
    "for name, clf in model_list:\n",
    "    clf.fit(X_train, y_train)\n",
    "    pred = np.exp(clf.predict(X_valid))\n",
    "    score = MAE(np.exp(y_valid), pred)\n",
    "    print(name)\n",
    "    print(score)\n",
    "    new_row = {'Model Name':name, 'MAE':score}\n",
    "    models = models.append(new_row,ignore_index = True)"
   ]
  },
  {
   "cell_type": "code",
   "execution_count": 156,
   "id": "d5bdbefb",
   "metadata": {},
   "outputs": [
    {
     "data": {
      "text/html": [
       "<div>\n",
       "<style scoped>\n",
       "    .dataframe tbody tr th:only-of-type {\n",
       "        vertical-align: middle;\n",
       "    }\n",
       "\n",
       "    .dataframe tbody tr th {\n",
       "        vertical-align: top;\n",
       "    }\n",
       "\n",
       "    .dataframe thead th {\n",
       "        text-align: right;\n",
       "    }\n",
       "</style>\n",
       "<table border=\"1\" class=\"dataframe\">\n",
       "  <thead>\n",
       "    <tr style=\"text-align: right;\">\n",
       "      <th></th>\n",
       "      <th>Model Name</th>\n",
       "      <th>MAE</th>\n",
       "    </tr>\n",
       "  </thead>\n",
       "  <tbody>\n",
       "    <tr>\n",
       "      <th>0</th>\n",
       "      <td>Random Forest Regressor</td>\n",
       "      <td>102.842952</td>\n",
       "    </tr>\n",
       "    <tr>\n",
       "      <th>1</th>\n",
       "      <td>XGBoost Regressor</td>\n",
       "      <td>130.283342</td>\n",
       "    </tr>\n",
       "    <tr>\n",
       "      <th>2</th>\n",
       "      <td>LightGBM</td>\n",
       "      <td>137.711070</td>\n",
       "    </tr>\n",
       "    <tr>\n",
       "      <th>5</th>\n",
       "      <td>ElasticNet</td>\n",
       "      <td>152.660127</td>\n",
       "    </tr>\n",
       "    <tr>\n",
       "      <th>3</th>\n",
       "      <td>Lasso</td>\n",
       "      <td>159.147552</td>\n",
       "    </tr>\n",
       "    <tr>\n",
       "      <th>4</th>\n",
       "      <td>Ridge</td>\n",
       "      <td>176.901105</td>\n",
       "    </tr>\n",
       "  </tbody>\n",
       "</table>\n",
       "</div>"
      ],
      "text/plain": [
       "                Model Name         MAE\n",
       "0  Random Forest Regressor  102.842952\n",
       "1        XGBoost Regressor  130.283342\n",
       "2                 LightGBM  137.711070\n",
       "5               ElasticNet  152.660127\n",
       "3                    Lasso  159.147552\n",
       "4                    Ridge  176.901105"
      ]
     },
     "execution_count": 156,
     "metadata": {},
     "output_type": "execute_result"
    }
   ],
   "source": [
    "models.sort_values(by = 'MAE', ascending = True)"
   ]
  },
  {
   "cell_type": "markdown",
   "id": "36b149ca",
   "metadata": {},
   "source": [
    "## (2) 라쏘 (+ 그리드서치)"
   ]
  },
  {
   "cell_type": "code",
   "execution_count": 110,
   "id": "56ed841d",
   "metadata": {},
   "outputs": [
    {
     "name": "stdout",
     "output_type": "stream",
     "text": [
      "라쏘 회귀 MAE 값 : 142.6790\n",
      "{'alpha': 0.01, 'max_iter': 10}\n"
     ]
    }
   ],
   "source": [
    "# 모델 생성\n",
    "lasso_model = Lasso()\n",
    "\n",
    "# 하이퍼파라미터 값 목록\n",
    "lasso_params = {'max_iter':[10,100,1000,3000,100000], 'alpha':[0.01,0.1,1,10,100,1000]}\n",
    "\n",
    "# 그리드서치(with 라쏘) 객체 생성\n",
    "gridsearch_lasso_model = GridSearchCV(estimator=lasso_model,\n",
    "                                      param_grid=lasso_params,\n",
    "                                      scoring='neg_mean_absolute_error',\n",
    "                                      cv=5)\n",
    "# 그리드서치 수행\n",
    "gs = gridsearch_lasso_model.fit(train_scaled, log_y)\n",
    "# 예측\n",
    "preds = gs.best_estimator_.predict(train_scaled)\n",
    "\n",
    "# 평가\n",
    "print(f'라쏘 회귀 MAE 값 : {MAE(y, np.exp(preds)):.4f}')\n",
    "#print(gs.best_score_)\n",
    "print(gs.best_params_)"
   ]
  },
  {
   "cell_type": "code",
   "execution_count": 111,
   "id": "c1abf172",
   "metadata": {
    "scrolled": true
   },
   "outputs": [
    {
     "data": {
      "text/plain": [
       "array([ 640.35225699, 1540.91862625,  365.38468791,  423.78193421,\n",
       "       1333.98527028, 3651.14666268, 1020.03358157,  410.77112771,\n",
       "        302.09098405,  257.19160592,  306.01138181,  167.83594355,\n",
       "        313.37871669,  199.94170718,  307.37908868,  203.51246149,\n",
       "        416.86590063,  313.44851094,  107.45677707,  633.49311927,\n",
       "        134.12456904,  390.41386859,  414.83082478,  366.89486222,\n",
       "        358.1941294 ,   98.31639125,  123.51097641,  606.57561763,\n",
       "        463.12556958,  494.23955145, 1094.76328239,  239.98064529,\n",
       "        425.49829265,  193.63532691,   94.57060462,  342.14190316,\n",
       "        358.92764979,  520.93368944,  770.71828712,  314.2899675 ,\n",
       "        374.20907553,  455.77313123,  397.008501  ,  492.54219642,\n",
       "        901.89311308, 1437.96426577,  392.80308909,  479.93099772,\n",
       "        362.54532926,  361.7685002 ,  720.53818705,  277.6935992 ,\n",
       "       1079.1530893 ,  517.61808753,  402.48021519,  272.63371576,\n",
       "        607.69361196,  247.25873747,  368.38085964,  262.50693728,\n",
       "        315.00265392,  567.50169582,  889.4415222 ,  367.40077838,\n",
       "        236.59470072,  280.01435167,  382.37152305,  964.98250656,\n",
       "        464.49456997,  379.63777725,  628.69987027,  278.24584918,\n",
       "        465.05491003,  780.71757179,  922.13428106,  438.04446714,\n",
       "        538.31674357,  573.27308648,  534.85602755,  863.46086519,\n",
       "        734.31720518, 1432.87294484,  315.44081291,  270.54932813,\n",
       "        290.40642182,  273.62070001,  256.53318428,  345.38899295,\n",
       "        319.35456467,  878.90096474,  903.8728608 ,  590.59508906,\n",
       "        272.0182734 ,  541.31466112, 1270.10681676, 1090.34241633,\n",
       "        479.93260584, 1024.67468462,  619.51039821,  836.89717864,\n",
       "        850.79095839,  397.57210057,  763.09059375,  713.43807766,\n",
       "        828.57171657,  512.16511656, 1299.92521811,  575.48916529,\n",
       "       1003.35644023,  306.35849115,  438.27763849, 1203.44498786,\n",
       "        839.310353  , 1288.69226038,  989.90779157,  219.12253107,\n",
       "        268.97711973,  558.40661703,  695.6077117 , 1421.45681431,\n",
       "        416.87559013,  524.20112897,  611.4237693 ,  323.82548893,\n",
       "        619.61692897,  169.05212408,  278.97796563,  372.04753382,\n",
       "        208.71574304,  131.01752889,  116.59026199,  614.88353731,\n",
       "        301.67602398,  201.02839363,  179.43916621,  158.85257591,\n",
       "        217.54720072,  313.60797894,  278.50760577,  219.79372426,\n",
       "         80.74067897,  132.2137881 ,  137.88901483,  157.33247921,\n",
       "        199.15737637,  279.63291414,  427.43632265,   63.66205027,\n",
       "        346.15964931,  279.10091314])"
      ]
     },
     "execution_count": 111,
     "metadata": {},
     "output_type": "execute_result"
    }
   ],
   "source": [
    "# 테스트 데이터로 예측\n",
    "test_preds = gridsearch_lasso_model.best_estimator_.predict(test_scaled)\n",
    "np.exp(test_preds)"
   ]
  },
  {
   "cell_type": "code",
   "execution_count": 112,
   "id": "380df69a",
   "metadata": {},
   "outputs": [],
   "source": [
    "# submission['num'] = np.exp(test_preds)\n",
    "# submission.to_csv('lasso_submission.csv', index=False)"
   ]
  },
  {
   "cell_type": "markdown",
   "id": "276e0923",
   "metadata": {},
   "source": [
    "### Lasso: train, valid"
   ]
  },
  {
   "cell_type": "code",
   "execution_count": 113,
   "id": "8f7eefb3",
   "metadata": {},
   "outputs": [
    {
     "name": "stdout",
     "output_type": "stream",
     "text": [
      "Lasso의 MAE 값 : 139.4089\n"
     ]
    }
   ],
   "source": [
    "# train 데이터로 예측\n",
    "train_preds = gs.best_estimator_.predict(X_train)\n",
    "# train 지수변환\n",
    "train_preds = np.exp(train_preds)\n",
    "\n",
    "# MAE 성능검증\n",
    "print (f'Lasso의 MAE 값 : {MAE(np.exp(y_train), train_preds):.4f}')"
   ]
  },
  {
   "cell_type": "code",
   "execution_count": 114,
   "id": "23b1385f",
   "metadata": {
    "scrolled": false
   },
   "outputs": [
    {
     "name": "stdout",
     "output_type": "stream",
     "text": [
      "Lasso의 MAE 값 : 155.6035\n"
     ]
    }
   ],
   "source": [
    "# valid 데이터로 예측\n",
    "valid_preds = gs.best_estimator_.predict(X_valid)\n",
    "valid_preds = np.exp(valid_preds)\n",
    "\n",
    "# MAE 성능검증\n",
    "print (f'Lasso의 MAE 값 : {MAE(np.exp(y_valid), valid_preds):.4f}')"
   ]
  },
  {
   "cell_type": "markdown",
   "id": "3a49f624",
   "metadata": {},
   "source": [
    "## (3) XGBoost + 그리드서치"
   ]
  },
  {
   "cell_type": "code",
   "execution_count": 157,
   "id": "4594cbad",
   "metadata": {
    "scrolled": true
   },
   "outputs": [],
   "source": [
    "model = XGBRegressor() #모델 생성\n",
    "xgb_val = model.fit(X_train, y_train) # 모델 훈련"
   ]
  },
  {
   "cell_type": "code",
   "execution_count": 158,
   "id": "61dbda81",
   "metadata": {},
   "outputs": [
    {
     "name": "stdout",
     "output_type": "stream",
     "text": [
      "xgboost의 MAE 값 : 0.7611\n"
     ]
    }
   ],
   "source": [
    "# train 데이터로 예측\n",
    "train_preds = model.predict(X_train)\n",
    "# train 지수변환\n",
    "train_preds = np.exp(train_preds)\n",
    "\n",
    "# MAE 성능검증\n",
    "print (f'xgboost의 MAE 값 : {MAE(np.exp(y_train), train_preds):.4f}')"
   ]
  },
  {
   "cell_type": "code",
   "execution_count": 159,
   "id": "dd6f5869",
   "metadata": {},
   "outputs": [
    {
     "name": "stdout",
     "output_type": "stream",
     "text": [
      "xgboost의 MAE 값 : 130.2833\n"
     ]
    }
   ],
   "source": [
    "# valid 데이터로 예측\n",
    "valid_preds = model.predict(X_valid)\n",
    "valid_preds = np.exp(valid_preds)\n",
    "\n",
    "# MAE 성능검증\n",
    "print (f'xgboost의 MAE 값 : {MAE(np.exp(y_valid), valid_preds):.4f}')"
   ]
  },
  {
   "cell_type": "code",
   "execution_count": 160,
   "id": "2ec90daa",
   "metadata": {
    "scrolled": false
   },
   "outputs": [
    {
     "data": {
      "text/plain": [
       "Text(0.5, 0, 'Xgboost Feature Importance')"
      ]
     },
     "execution_count": 160,
     "metadata": {},
     "output_type": "execute_result"
    },
    {
     "data": {
      "image/png": "[encoded data removed]",
      "text/plain": [
       "<Figure size 720x1080 with 1 Axes>"
      ]
     },
     "metadata": {
      "needs_background": "light"
     },
     "output_type": "display_data"
    }
   ],
   "source": [
    "#피처 중요도 시각화\n",
    "plt.figure(figsize=(10,15))\n",
    "feature_names = new_train2.columns\n",
    "xgb_val.feature_importances_\n",
    "sorted_idx = xgb_val.feature_importances_.argsort()\n",
    "plt.barh(feature_names[sorted_idx], xgb_val.feature_importances_[sorted_idx])\n",
    "plt.xlabel(\"Xgboost Feature Importance\")"
   ]
  },
  {
   "cell_type": "code",
   "execution_count": 164,
   "id": "43620d06",
   "metadata": {},
   "outputs": [
    {
     "name": "stdout",
     "output_type": "stream",
     "text": [
      "xgboost MAE 값 : 36.3118\n",
      "-0.31192387739055966\n",
      "{'gamma': 0, 'learning_rate': 0.05, 'max_depth': 5, 'min_child_weight': 1, 'n_estimators': 200}\n"
     ]
    }
   ],
   "source": [
    "#그리드 서치\n",
    "# 모델 생성\n",
    "xgb_model = XGBRegressor()\n",
    "\n",
    "# 하이퍼파라미터 값 목록\n",
    "param_grid = {\n",
    "     'max_depth':range(3,10,2),\n",
    "     'min_child_weight':range(1,10,2),\n",
    "     'gamma':range(0,3,1),\n",
    "     'n_estimators': [100,200,300],\n",
    "     'learning_rate': [0.01,0.05,0.1]\n",
    "}\n",
    "\n",
    "# 그리드서치 객체 생성\n",
    "gridsearch_model = GridSearchCV(estimator=xgb_model,\n",
    "                                      param_grid=param_grid,\n",
    "                                      scoring='neg_mean_absolute_error',\n",
    "                                      cv=5)\n",
    "# 그리드서치 수행\n",
    "gs = gridsearch_model.fit(train_scaled, log_y)\n",
    "# 예측\n",
    "preds = gs.best_estimator_.predict(train_scaled)\n",
    "\n",
    "# 평가\n",
    "print(f'xgboost MAE 값 : {MAE(np.exp(log_y), np.exp(preds)):.4f}')\n",
    "print(gs.best_score_)\n",
    "print(gs.best_params_)"
   ]
  },
  {
   "cell_type": "code",
   "execution_count": 165,
   "id": "53cc21fa",
   "metadata": {},
   "outputs": [
    {
     "data": {
      "text/plain": [
       "array([ 725.14966 , 1248.7687  ,  548.2044  ,  486.63266 , 1121.27    ,\n",
       "       1843.6501  , 1000.5758  ,  545.4728  ,  324.3073  ,  243.35484 ,\n",
       "        465.46454 ,  186.24637 ,  372.8698  ,  275.21017 ,  194.28835 ,\n",
       "        299.6306  ,  433.09174 ,  297.03516 ,  168.86714 ,  583.4855  ,\n",
       "        210.38806 ,  490.98053 ,  467.62756 ,  409.64862 ,  313.9696  ,\n",
       "        131.60551 ,  113.320206,  553.14935 ,  397.85013 ,  544.996   ,\n",
       "        841.8581  ,  126.36021 ,  448.84003 ,  222.63757 ,   80.76694 ,\n",
       "        273.63077 ,  377.69583 ,  614.0301  ,  854.8166  ,  261.91534 ,\n",
       "        322.09085 ,  574.4194  ,  539.597   ,  506.50723 ,  794.05835 ,\n",
       "       1150.924   ,  441.85043 ,  568.0486  ,  303.43735 ,  426.71124 ,\n",
       "        797.68256 ,  255.12881 , 1055.3488  ,  678.53467 ,  681.93884 ,\n",
       "        285.60034 ,  503.45084 ,  267.60025 ,  364.79495 ,   41.784676,\n",
       "        360.13943 ,  473.43048 ,  855.3156  ,  455.35358 ,   42.917053,\n",
       "        267.23312 ,  460.38513 ,  860.7084  ,  605.25024 ,  326.32437 ,\n",
       "        500.09067 ,  264.099   ,  623.09326 ,  816.2518  ,  842.9499  ,\n",
       "        408.2532  ,  735.75055 ,  827.6353  ,  644.9898  ,  917.60876 ,\n",
       "        767.91766 , 1054.5585  ,  333.8462  ,  273.67996 ,  297.45996 ,\n",
       "        250.8994  ,  192.56453 ,  311.01645 ,  264.3903  ,  929.8009  ,\n",
       "        953.3181  ,  665.1689  ,  213.79271 ,  542.11536 , 1154.9614  ,\n",
       "        752.7754  ,  617.66974 , 1046.6587  ,  703.6832  ,  832.1783  ,\n",
       "        818.1343  ,  477.7932  ,  891.6121  ,  520.7475  , 1038.508   ,\n",
       "        440.00067 , 1179.0344  ,  706.04333 ,  698.68036 ,  320.34995 ,\n",
       "        534.17426 , 1110.32    ,  784.4451  ,  891.8698  ,  823.01276 ,\n",
       "        111.19751 ,  137.093   ,  514.13727 ,  865.85767 , 1262.5427  ,\n",
       "        520.58856 ,  790.81213 ,  697.4265  ,  334.79822 ,  630.3452  ,\n",
       "        229.11938 ,  442.83548 ,  571.7283  ,   96.95176 ,   19.605326,\n",
       "         78.354935,  580.3926  ,  562.0606  ,  229.72665 ,  211.46172 ,\n",
       "        258.51645 ,  367.5672  ,  425.69205 ,  485.55136 ,  118.48044 ,\n",
       "        300.9844  ,   59.077366,  111.09252 ,  213.2892  ,  200.94763 ,\n",
       "        251.45058 ,  499.00446 ,   52.43877 ,  401.2494  ,  207.6611  ],\n",
       "      dtype=float32)"
      ]
     },
     "execution_count": 165,
     "metadata": {},
     "output_type": "execute_result"
    }
   ],
   "source": [
    "# 테스트 데이터로 예측\n",
    "test_preds = gridsearch_model.best_estimator_.predict(test_scaled)\n",
    "np.exp(test_preds)"
   ]
  },
  {
   "cell_type": "code",
   "execution_count": 166,
   "id": "dafbb80e",
   "metadata": {},
   "outputs": [],
   "source": [
    "submission['num'] = np.exp(test_preds)\n",
    "submission.to_csv('xgboost_submission.csv', index=False)"
   ]
  },
  {
   "attachments": {
    "image.png": {
     "image/png": "[encoded data removed]"
    }
   },
   "cell_type": "markdown",
   "id": "3e412ff6",
   "metadata": {},
   "source": [
    "![image.png](attachment:image.png)"
   ]
  },
  {
   "cell_type": "code",
   "execution_count": null,
   "id": "0dc8e7fe",
   "metadata": {},
   "outputs": [],
   "source": [
    "# # train 데이터로 예측\n",
    "# train_preds = gs.best_estimator_.predict(X_train)\n",
    "# # train 지수변환\n",
    "# train_preds = np.exp(train_preds)\n",
    "\n",
    "# # MAE 성능검증\n",
    "# print (f'xgboost의 MAE 값 : {MAE(np.exp(y_train), train_preds):.4f}')"
   ]
  },
  {
   "cell_type": "code",
   "execution_count": null,
   "id": "c263cd86",
   "metadata": {},
   "outputs": [],
   "source": [
    "# # valid 데이터로 예측\n",
    "# valid_preds = gs.best_estimator_.predict(X_valid)\n",
    "# valid_preds = np.exp(valid_preds)\n",
    "\n",
    "# # MAE 성능검증\n",
    "# print (f'xgboost의 MAE 값 : {MAE(np.exp(y_valid), valid_preds):.4f}')"
   ]
  },
  {
   "cell_type": "markdown",
   "id": "698d6624",
   "metadata": {},
   "source": [
    "# 5. 성능 개선2 - 랜덤포레스트 "
   ]
  },
  {
   "cell_type": "markdown",
   "id": "578bc1c1",
   "metadata": {},
   "source": [
    "### - 1 랜덤서치"
   ]
  },
  {
   "cell_type": "code",
   "execution_count": 122,
   "id": "0cbff36b",
   "metadata": {},
   "outputs": [
    {
     "name": "stdout",
     "output_type": "stream",
     "text": [
      "Parameters currently in use:\n",
      "\n",
      "{'bootstrap': True,\n",
      " 'ccp_alpha': 0.0,\n",
      " 'criterion': 'squared_error',\n",
      " 'max_depth': None,\n",
      " 'max_features': 'auto',\n",
      " 'max_leaf_nodes': None,\n",
      " 'max_samples': None,\n",
      " 'min_impurity_decrease': 0.0,\n",
      " 'min_samples_leaf': 1,\n",
      " 'min_samples_split': 2,\n",
      " 'min_weight_fraction_leaf': 0.0,\n",
      " 'n_estimators': 100,\n",
      " 'n_jobs': None,\n",
      " 'oob_score': False,\n",
      " 'random_state': 42,\n",
      " 'verbose': 0,\n",
      " 'warm_start': False}\n"
     ]
    }
   ],
   "source": [
    "rf = RandomForestRegressor(random_state = 42)\n",
    "# Look at parameters used by our current forest\n",
    "print('Parameters currently in use:\\n')\n",
    "pprint(rf.get_params())"
   ]
  },
  {
   "cell_type": "code",
   "execution_count": 123,
   "id": "9b82a453",
   "metadata": {},
   "outputs": [
    {
     "name": "stdout",
     "output_type": "stream",
     "text": [
      "{'bootstrap': [True, False],\n",
      " 'max_depth': [10, 20, 30, 40, 50, 60, 70, 80, 90, 100, 110, None],\n",
      " 'max_features': ['auto', 'sqrt'],\n",
      " 'min_samples_leaf': [1, 2, 4],\n",
      " 'min_samples_split': [2, 5, 10],\n",
      " 'n_estimators': [200, 400, 600, 800, 1000, 1200, 1400, 1600, 1800, 2000]}\n"
     ]
    }
   ],
   "source": [
    "#그리드서치\n",
    "# Number of trees in random forest\n",
    "n_estimators = [int(x) for x in np.linspace(start = 200, stop = 2000, num = 10)]\n",
    "# Number of features to consider at every split\n",
    "max_features = ['auto', 'sqrt']\n",
    "# Maximum number of levels in tree\n",
    "max_depth = [int(x) for x in np.linspace(10, 110, num = 11)]\n",
    "max_depth.append(None)\n",
    "# Minimum number of samples required to split a node\n",
    "min_samples_split = [2, 5, 10]\n",
    "# Minimum number of samples required at each leaf node\n",
    "min_samples_leaf = [1, 2, 4]\n",
    "# Method of selecting samples for training each tree\n",
    "bootstrap = [True, False]\n",
    "# Create the random grid\n",
    "random_grid = {'n_estimators': n_estimators,\n",
    "               'max_features': max_features,\n",
    "               'max_depth': max_depth,\n",
    "               'min_samples_split': min_samples_split,\n",
    "               'min_samples_leaf': min_samples_leaf,\n",
    "               'bootstrap': bootstrap}\n",
    "pprint(random_grid)"
   ]
  },
  {
   "cell_type": "code",
   "execution_count": 124,
   "id": "ec0127bc",
   "metadata": {},
   "outputs": [
    {
     "name": "stdout",
     "output_type": "stream",
     "text": [
      "Fitting 5 folds for each of 100 candidates, totalling 500 fits\n"
     ]
    },
    {
     "data": {
      "text/plain": [
       "RandomizedSearchCV(cv=5, estimator=RandomForestRegressor(), n_iter=100,\n",
       "                   n_jobs=-1,\n",
       "                   param_distributions={'bootstrap': [True, False],\n",
       "                                        'max_depth': [10, 20, 30, 40, 50, 60,\n",
       "                                                      70, 80, 90, 100, 110,\n",
       "                                                      None],\n",
       "                                        'max_features': ['auto', 'sqrt'],\n",
       "                                        'min_samples_leaf': [1, 2, 4],\n",
       "                                        'min_samples_split': [2, 5, 10],\n",
       "                                        'n_estimators': [200, 400, 600, 800,\n",
       "                                                         1000, 1200, 1400, 1600,\n",
       "                                                         1800, 2000]},\n",
       "                   random_state=42, verbose=2)"
      ]
     },
     "execution_count": 124,
     "metadata": {},
     "output_type": "execute_result"
    }
   ],
   "source": [
    "rf1 = RandomForestRegressor()\n",
    "rf_random = RandomizedSearchCV(estimator = rf1, \n",
    "                               param_distributions = random_grid, \n",
    "                               n_iter = 100, \n",
    "                               cv = 5, \n",
    "                               verbose=2, \n",
    "                               random_state=42, \n",
    "                               n_jobs = -1)\n",
    "rf_random.fit(train_scaled, log_y)"
   ]
  },
  {
   "cell_type": "code",
   "execution_count": 125,
   "id": "123cfeac",
   "metadata": {},
   "outputs": [
    {
     "data": {
      "text/plain": [
       "{'n_estimators': 800,\n",
       " 'min_samples_split': 5,\n",
       " 'min_samples_leaf': 1,\n",
       " 'max_features': 'sqrt',\n",
       " 'max_depth': 100,\n",
       " 'bootstrap': False}"
      ]
     },
     "execution_count": 125,
     "metadata": {},
     "output_type": "execute_result"
    }
   ],
   "source": [
    "rf_random.best_params_"
   ]
  },
  {
   "cell_type": "code",
   "execution_count": 126,
   "id": "dc9fff03",
   "metadata": {},
   "outputs": [],
   "source": [
    "def evaluate(model, test_features, test_labels):\n",
    "    predictions = model.predict(test_features)\n",
    "    errors = abs(predictions - test_labels)\n",
    "    mape = 100 * np.mean(errors / test_labels)\n",
    "    accuracy = 100 - mape\n",
    "    print('Model Performance')\n",
    "    print('Average Error: {:0.4f} degrees.'.format(np.mean(errors)))\n",
    "    print('Accuracy = {:0.2f}%.'.format(accuracy))\n",
    "    \n",
    "    return accuracy"
   ]
  },
  {
   "cell_type": "code",
   "execution_count": 127,
   "id": "b1a8c65c",
   "metadata": {},
   "outputs": [
    {
     "name": "stdout",
     "output_type": "stream",
     "text": [
      "Model Performance\n",
      "Average Error: 0.2064 degrees.\n",
      "Accuracy = 96.33%.\n"
     ]
    }
   ],
   "source": [
    "model2 = RandomForestRegressor(n_estimators= 400,\n",
    "                                     min_samples_split= 2,\n",
    "                                     min_samples_leaf= 1,\n",
    "                                     max_features= 'sqrt',\n",
    "                                     max_depth= None,\n",
    "                                     bootstrap= False)\n",
    "model2.fit(X_train, y_train)\n",
    "model2_accuracy = evaluate(model2, X_valid, y_valid)"
   ]
  },
  {
   "cell_type": "code",
   "execution_count": 128,
   "id": "05a271e1",
   "metadata": {},
   "outputs": [
    {
     "name": "stdout",
     "output_type": "stream",
     "text": [
      "랜덤포레스트 MAE 값 : 0.0000\n"
     ]
    }
   ],
   "source": [
    "# train 데이터로 예측\n",
    "train_preds = model2.predict(X_train)\n",
    "# train 지수변환\n",
    "train_preds = np.exp(train_preds)\n",
    "\n",
    "# MAE 성능검증\n",
    "print (f'랜덤포레스트 MAE 값 : {MAE(np.exp(y_train), train_preds):.4f}')"
   ]
  },
  {
   "cell_type": "code",
   "execution_count": 129,
   "id": "ce5b1fe9",
   "metadata": {},
   "outputs": [
    {
     "name": "stdout",
     "output_type": "stream",
     "text": [
      "랜덤포레스트의 MAE 값 : 115.2301\n"
     ]
    }
   ],
   "source": [
    "# valid 데이터로 예측\n",
    "valid_preds = model2.predict(X_valid)\n",
    "valid_preds = np.exp(valid_preds)\n",
    "\n",
    "# MAE 성능검증\n",
    "print (f'랜덤포레스트의 MAE 값 : {MAE(np.exp(y_valid), valid_preds):.4f}')"
   ]
  },
  {
   "cell_type": "markdown",
   "id": "f807dafc",
   "metadata": {},
   "source": [
    "### - 2 그리드 서치\n",
    "-> 더 성능 좋음"
   ]
  },
  {
   "cell_type": "code",
   "execution_count": 130,
   "id": "38da5c8f",
   "metadata": {},
   "outputs": [],
   "source": [
    "# Create the parameter grid based on the results of random search \n",
    "param_grid = {\n",
    "    'bootstrap': [True],\n",
    "    'max_depth': [80, 90, 100, 110],\n",
    "    'max_features': [2, 3],\n",
    "    'min_samples_leaf': [3, 4, 5],\n",
    "    'min_samples_split': [8, 10, 12],\n",
    "    'n_estimators': [100, 200, 300, 1000]\n",
    "}\n",
    "# Create a based model\n",
    "rf2 = RandomForestRegressor()\n",
    "# Instantiate the grid search model\n",
    "grid_search = GridSearchCV(estimator = rf2, param_grid = param_grid, \n",
    "                          cv = 5, n_jobs = -1, verbose = 2)"
   ]
  },
  {
   "cell_type": "code",
   "execution_count": 131,
   "id": "80153702",
   "metadata": {},
   "outputs": [
    {
     "name": "stdout",
     "output_type": "stream",
     "text": [
      "Fitting 5 folds for each of 288 candidates, totalling 1440 fits\n"
     ]
    },
    {
     "data": {
      "text/plain": [
       "{'bootstrap': True,\n",
       " 'max_depth': 100,\n",
       " 'max_features': 3,\n",
       " 'min_samples_leaf': 3,\n",
       " 'min_samples_split': 8,\n",
       " 'n_estimators': 200}"
      ]
     },
     "execution_count": 131,
     "metadata": {},
     "output_type": "execute_result"
    }
   ],
   "source": [
    "# Fit the grid search to the data\n",
    "grid_search.fit(train_scaled, log_y)\n",
    "grid_search.best_params_"
   ]
  },
  {
   "cell_type": "code",
   "execution_count": 132,
   "id": "f0e6900b",
   "metadata": {
    "scrolled": true
   },
   "outputs": [
    {
     "name": "stdout",
     "output_type": "stream",
     "text": [
      "Model Performance\n",
      "Average Error: 0.3010 degrees.\n",
      "Accuracy = 94.54%.\n"
     ]
    }
   ],
   "source": [
    "model3 = RandomForestRegressor(bootstrap= True,\n",
    "                             max_depth = 110,\n",
    "                             max_features = 3,\n",
    "                             min_samples_leaf = 3,\n",
    "                             min_samples_split = 10,\n",
    "                             n_estimators = 200)\n",
    "model3.fit(X_train, y_train)\n",
    "model3_accuracy = evaluate(model3, X_valid, y_valid)"
   ]
  },
  {
   "cell_type": "code",
   "execution_count": 133,
   "id": "6f9cb865",
   "metadata": {},
   "outputs": [
    {
     "name": "stdout",
     "output_type": "stream",
     "text": [
      "랜덤포레스트 MAE 값 : 132.8018\n"
     ]
    }
   ],
   "source": [
    "# train 데이터로 예측\n",
    "train_preds = model3.predict(X_train)\n",
    "# train 지수변환\n",
    "train_preds = np.exp(train_preds)\n",
    "\n",
    "# MAE 성능검증\n",
    "print (f'랜덤포레스트 MAE 값 : {MAE(np.exp(y_train), train_preds):.4f}')"
   ]
  },
  {
   "cell_type": "code",
   "execution_count": 134,
   "id": "ee8b7b0d",
   "metadata": {},
   "outputs": [
    {
     "name": "stdout",
     "output_type": "stream",
     "text": [
      "랜덤포레스트의 MAE 값 : 159.5150\n"
     ]
    }
   ],
   "source": [
    "# valid 데이터로 예측\n",
    "valid_preds = model3.predict(X_valid)\n",
    "valid_preds = np.exp(valid_preds)\n",
    "\n",
    "# MAE 성능검증\n",
    "print (f'랜덤포레스트의 MAE 값 : {MAE(np.exp(y_valid), valid_preds):.4f}')"
   ]
  },
  {
   "cell_type": "code",
   "execution_count": 148,
   "id": "8e1979da",
   "metadata": {},
   "outputs": [
    {
     "data": {
      "text/plain": [
       "Text(0.5, 0, 'Randomforest Feature Importance')"
      ]
     },
     "execution_count": 148,
     "metadata": {},
     "output_type": "execute_result"
    },
    {
     "data": {
      "image/png": "[encoded data removed]",
      "text/plain": [
       "<Figure size 720x1080 with 1 Axes>"
      ]
     },
     "metadata": {
      "needs_background": "light"
     },
     "output_type": "display_data"
    }
   ],
   "source": [
    "#피처 중요도 시각화\n",
    "plt.figure(figsize=(10,15))\n",
    "feature_names = new_train2.columns\n",
    "model3.feature_importances_\n",
    "sorted_idx = model3.feature_importances_.argsort()\n",
    "plt.barh(feature_names[sorted_idx], model3.feature_importances_[sorted_idx])\n",
    "plt.xlabel(\"Randomforest Feature Importance\")"
   ]
  },
  {
   "cell_type": "markdown",
   "id": "278aa8b5",
   "metadata": {},
   "source": [
    "# 앙상블 - RandomForest + XGBoost : 성능개선 X"
   ]
  },
  {
   "cell_type": "code",
   "execution_count": 135,
   "id": "67ff419f",
   "metadata": {},
   "outputs": [],
   "source": [
    "# 테스트 데이터로 예측\n",
    "# XGBoost\n",
    "gridsearch_model.fit(train_scaled, log_y)\n",
    "test_preds_xgb = gridsearch_model.best_estimator_.predict(test_scaled)\n",
    "\n",
    "# RandomForest\n",
    "model2.fit(train_scaled, log_y)\n",
    "test_preds_rf = model2.predict(test_scaled)\n",
    "\n",
    "# 앙상블 수행\n",
    "test_preds_ensemble = test_preds_xgb * 0.5 + test_preds_rf * 0.5"
   ]
  },
  {
   "cell_type": "code",
   "execution_count": 136,
   "id": "7d735c3e",
   "metadata": {},
   "outputs": [],
   "source": [
    "submission['num'] = np.exp(test_preds_ensemble)\n",
    "submission.to_csv('xgb_rf_submission3.csv', index=False)"
   ]
  },
  {
   "cell_type": "markdown",
   "id": "7fab7b53",
   "metadata": {},
   "source": [
    "# 6. 성능 개선3 - 앙상블(Lasso, RandomForest)"
   ]
  },
  {
   "cell_type": "code",
   "execution_count": 167,
   "id": "5ffbd3da",
   "metadata": {},
   "outputs": [],
   "source": [
    "# 테스트 데이터로 예측\n",
    "# Lasso\n",
    "test_preds_lasso = gridsearch_lasso_model.best_estimator_.predict(test_scaled)\n",
    "\n",
    "# RandomForest\n",
    "test_preds_rf = model2.predict(test_scaled)\n",
    "\n",
    "# 앙상블 수행\n",
    "test_preds_ensemble = test_preds_lasso * 0.5 + test_preds_rf * 0.5"
   ]
  },
  {
   "cell_type": "code",
   "execution_count": 138,
   "id": "2522da7e",
   "metadata": {},
   "outputs": [],
   "source": [
    "submission['num'] = np.exp(test_preds_ensemble)\n",
    "submission.to_csv('lasso_rf_submission2.csv', index=False)"
   ]
  },
  {
   "attachments": {
    "image.png": {
     "image/png": "[encoded data removed]"
    }
   },
   "cell_type": "markdown",
   "id": "4390efb3",
   "metadata": {},
   "source": [
    "![image.png](attachment:image.png)"
   ]
  },
  {
   "attachments": {
    "image.png": {
     "image/png": "[encoded data removed]"
    }
   },
   "cell_type": "markdown",
   "id": "0f9fe7a7",
   "metadata": {},
   "source": [
    "![image.png](attachment:image.png)"
   ]
  },
  {
   "cell_type": "code",
   "execution_count": 168,
   "id": "fd9aefde",
   "metadata": {},
   "outputs": [],
   "source": [
    "# 테스트 데이터로 예측\n",
    "# Lasso\n",
    "test_preds_lasso = gridsearch_lasso_model.best_estimator_.predict(test_scaled)\n",
    "\n",
    "# RandomForest\n",
    "test_preds_rf = model2.predict(test_scaled)\n",
    "\n",
    "# 앙상블 수행\n",
    "test_preds_ensemble = test_preds_lasso * 0.4 + test_preds_rf * 0.6"
   ]
  },
  {
   "cell_type": "code",
   "execution_count": 169,
   "id": "8751d18e",
   "metadata": {},
   "outputs": [],
   "source": [
    "submission['num'] = np.exp(test_preds_ensemble)\n",
    "submission.to_csv('lasso4_rf6.csv', index=False)"
   ]
  },
  {
   "cell_type": "code",
   "execution_count": null,
   "id": "3fe3e8c5",
   "metadata": {},
   "outputs": [],
   "source": []
  }
 ],
 "metadata": {
  "kernelspec": {
   "display_name": "Python 3 (ipykernel)",
   "language": "python",
   "name": "python3"
  },
  "language_info": {
   "codemirror_mode": {
    "name": "ipython",
    "version": 3
   },
   "file_extension": ".py",
   "mimetype": "text/x-python",
   "name": "python",
   "nbconvert_exporter": "python",
   "pygments_lexer": "ipython3",
   "version": "3.9.7"
  }
 },
 "nbformat": 4,
 "nbformat_minor": 5
}
