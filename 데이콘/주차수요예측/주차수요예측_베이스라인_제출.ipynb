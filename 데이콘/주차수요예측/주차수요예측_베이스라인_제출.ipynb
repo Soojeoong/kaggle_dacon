{
 "cells": [
  {
   "cell_type": "markdown",
   "id": "2bb92e7d",
   "metadata": {},
   "source": [
    "# 1. 데이터 탐색적 분석"
   ]
  },
  {
   "cell_type": "code",
   "execution_count": 1,
   "id": "0bc54a4b",
   "metadata": {},
   "outputs": [],
   "source": [
    "import pandas as pd\n",
    "import numpy as np\n",
    "import matplotlib as plt\n",
    "import seaborn as sns\n",
    "import warnings\n",
    "# 경고메세지 끄기\n",
    "warnings.filterwarnings(action='ignore')\n",
    "import matplotlib.pyplot as plt\n",
    "plt.rc('font', family='NanumBarunGothic')\n",
    "#한글 폰트 세팅\n",
    "import matplotlib\n",
    "matplotlib.rcParams['font.family'] ='Malgun Gothic'\n",
    "matplotlib.rcParams['axes.unicode_minus'] =False\n",
    "import numpy as np\n",
    "from tqdm import tqdm"
   ]
  },
  {
   "cell_type": "markdown",
   "id": "0bdf4078",
   "metadata": {},
   "source": [
    "## (1) 데이터 둘러보기"
   ]
  },
  {
   "cell_type": "code",
   "execution_count": 2,
   "id": "761b06e2",
   "metadata": {},
   "outputs": [],
   "source": [
    "train = pd.read_csv('train.csv')\n",
    "test = pd.read_csv('test.csv')\n",
    "age_gender = pd.read_csv('age_gender_info.csv')\n",
    "submission = pd.read_csv('sample_submission.csv')"
   ]
  },
  {
   "cell_type": "code",
   "execution_count": 3,
   "id": "f3659335",
   "metadata": {},
   "outputs": [
    {
     "data": {
      "text/html": [
       "<div>\n",
       "<style scoped>\n",
       "    .dataframe tbody tr th:only-of-type {\n",
       "        vertical-align: middle;\n",
       "    }\n",
       "\n",
       "    .dataframe tbody tr th {\n",
       "        vertical-align: top;\n",
       "    }\n",
       "\n",
       "    .dataframe thead th {\n",
       "        text-align: right;\n",
       "    }\n",
       "</style>\n",
       "<table border=\"1\" class=\"dataframe\">\n",
       "  <thead>\n",
       "    <tr style=\"text-align: right;\">\n",
       "      <th></th>\n",
       "      <th>단지코드</th>\n",
       "      <th>총세대수</th>\n",
       "      <th>임대건물구분</th>\n",
       "      <th>지역</th>\n",
       "      <th>공급유형</th>\n",
       "      <th>전용면적</th>\n",
       "      <th>전용면적별세대수</th>\n",
       "      <th>공가수</th>\n",
       "      <th>자격유형</th>\n",
       "      <th>임대보증금</th>\n",
       "      <th>임대료</th>\n",
       "      <th>도보 10분거리 내 지하철역 수(환승노선 수 반영)</th>\n",
       "      <th>도보 10분거리 내 버스정류장 수</th>\n",
       "      <th>단지내주차면수</th>\n",
       "      <th>등록차량수</th>\n",
       "    </tr>\n",
       "  </thead>\n",
       "  <tbody>\n",
       "    <tr>\n",
       "      <th>0</th>\n",
       "      <td>C2483</td>\n",
       "      <td>900</td>\n",
       "      <td>아파트</td>\n",
       "      <td>경상북도</td>\n",
       "      <td>국민임대</td>\n",
       "      <td>39.72</td>\n",
       "      <td>134</td>\n",
       "      <td>38.0</td>\n",
       "      <td>A</td>\n",
       "      <td>15667000</td>\n",
       "      <td>103680</td>\n",
       "      <td>0.0</td>\n",
       "      <td>3.0</td>\n",
       "      <td>1425.0</td>\n",
       "      <td>1015.0</td>\n",
       "    </tr>\n",
       "    <tr>\n",
       "      <th>1</th>\n",
       "      <td>C2483</td>\n",
       "      <td>900</td>\n",
       "      <td>아파트</td>\n",
       "      <td>경상북도</td>\n",
       "      <td>국민임대</td>\n",
       "      <td>39.72</td>\n",
       "      <td>15</td>\n",
       "      <td>38.0</td>\n",
       "      <td>A</td>\n",
       "      <td>15667000</td>\n",
       "      <td>103680</td>\n",
       "      <td>0.0</td>\n",
       "      <td>3.0</td>\n",
       "      <td>1425.0</td>\n",
       "      <td>1015.0</td>\n",
       "    </tr>\n",
       "    <tr>\n",
       "      <th>2</th>\n",
       "      <td>C2483</td>\n",
       "      <td>900</td>\n",
       "      <td>아파트</td>\n",
       "      <td>경상북도</td>\n",
       "      <td>국민임대</td>\n",
       "      <td>51.93</td>\n",
       "      <td>385</td>\n",
       "      <td>38.0</td>\n",
       "      <td>A</td>\n",
       "      <td>27304000</td>\n",
       "      <td>184330</td>\n",
       "      <td>0.0</td>\n",
       "      <td>3.0</td>\n",
       "      <td>1425.0</td>\n",
       "      <td>1015.0</td>\n",
       "    </tr>\n",
       "    <tr>\n",
       "      <th>3</th>\n",
       "      <td>C2483</td>\n",
       "      <td>900</td>\n",
       "      <td>아파트</td>\n",
       "      <td>경상북도</td>\n",
       "      <td>국민임대</td>\n",
       "      <td>51.93</td>\n",
       "      <td>15</td>\n",
       "      <td>38.0</td>\n",
       "      <td>A</td>\n",
       "      <td>27304000</td>\n",
       "      <td>184330</td>\n",
       "      <td>0.0</td>\n",
       "      <td>3.0</td>\n",
       "      <td>1425.0</td>\n",
       "      <td>1015.0</td>\n",
       "    </tr>\n",
       "    <tr>\n",
       "      <th>4</th>\n",
       "      <td>C2483</td>\n",
       "      <td>900</td>\n",
       "      <td>아파트</td>\n",
       "      <td>경상북도</td>\n",
       "      <td>국민임대</td>\n",
       "      <td>51.93</td>\n",
       "      <td>41</td>\n",
       "      <td>38.0</td>\n",
       "      <td>A</td>\n",
       "      <td>27304000</td>\n",
       "      <td>184330</td>\n",
       "      <td>0.0</td>\n",
       "      <td>3.0</td>\n",
       "      <td>1425.0</td>\n",
       "      <td>1015.0</td>\n",
       "    </tr>\n",
       "  </tbody>\n",
       "</table>\n",
       "</div>"
      ],
      "text/plain": [
       "    단지코드  총세대수 임대건물구분    지역  공급유형   전용면적  전용면적별세대수   공가수 자격유형     임대보증금  \\\n",
       "0  C2483   900    아파트  경상북도  국민임대  39.72       134  38.0    A  15667000   \n",
       "1  C2483   900    아파트  경상북도  국민임대  39.72        15  38.0    A  15667000   \n",
       "2  C2483   900    아파트  경상북도  국민임대  51.93       385  38.0    A  27304000   \n",
       "3  C2483   900    아파트  경상북도  국민임대  51.93        15  38.0    A  27304000   \n",
       "4  C2483   900    아파트  경상북도  국민임대  51.93        41  38.0    A  27304000   \n",
       "\n",
       "      임대료  도보 10분거리 내 지하철역 수(환승노선 수 반영)  도보 10분거리 내 버스정류장 수  단지내주차면수   등록차량수  \n",
       "0  103680                           0.0                 3.0   1425.0  1015.0  \n",
       "1  103680                           0.0                 3.0   1425.0  1015.0  \n",
       "2  184330                           0.0                 3.0   1425.0  1015.0  \n",
       "3  184330                           0.0                 3.0   1425.0  1015.0  \n",
       "4  184330                           0.0                 3.0   1425.0  1015.0  "
      ]
     },
     "execution_count": 3,
     "metadata": {},
     "output_type": "execute_result"
    }
   ],
   "source": [
    "train.head()"
   ]
  },
  {
   "cell_type": "code",
   "execution_count": 4,
   "id": "8647d4c2",
   "metadata": {},
   "outputs": [
    {
     "data": {
      "text/html": [
       "<div>\n",
       "<style scoped>\n",
       "    .dataframe tbody tr th:only-of-type {\n",
       "        vertical-align: middle;\n",
       "    }\n",
       "\n",
       "    .dataframe tbody tr th {\n",
       "        vertical-align: top;\n",
       "    }\n",
       "\n",
       "    .dataframe thead th {\n",
       "        text-align: right;\n",
       "    }\n",
       "</style>\n",
       "<table border=\"1\" class=\"dataframe\">\n",
       "  <thead>\n",
       "    <tr style=\"text-align: right;\">\n",
       "      <th></th>\n",
       "      <th>단지코드</th>\n",
       "      <th>총세대수</th>\n",
       "      <th>임대건물구분</th>\n",
       "      <th>지역</th>\n",
       "      <th>공급유형</th>\n",
       "      <th>전용면적</th>\n",
       "      <th>전용면적별세대수</th>\n",
       "      <th>공가수</th>\n",
       "      <th>자격유형</th>\n",
       "      <th>임대보증금</th>\n",
       "      <th>임대료</th>\n",
       "      <th>도보 10분거리 내 지하철역 수(환승노선 수 반영)</th>\n",
       "      <th>도보 10분거리 내 버스정류장 수</th>\n",
       "      <th>단지내주차면수</th>\n",
       "    </tr>\n",
       "  </thead>\n",
       "  <tbody>\n",
       "    <tr>\n",
       "      <th>0</th>\n",
       "      <td>C1072</td>\n",
       "      <td>754</td>\n",
       "      <td>아파트</td>\n",
       "      <td>경기도</td>\n",
       "      <td>국민임대</td>\n",
       "      <td>39.79</td>\n",
       "      <td>116</td>\n",
       "      <td>14.0</td>\n",
       "      <td>H</td>\n",
       "      <td>22830000</td>\n",
       "      <td>189840</td>\n",
       "      <td>0.0</td>\n",
       "      <td>2.0</td>\n",
       "      <td>683.0</td>\n",
       "    </tr>\n",
       "    <tr>\n",
       "      <th>1</th>\n",
       "      <td>C1072</td>\n",
       "      <td>754</td>\n",
       "      <td>아파트</td>\n",
       "      <td>경기도</td>\n",
       "      <td>국민임대</td>\n",
       "      <td>46.81</td>\n",
       "      <td>30</td>\n",
       "      <td>14.0</td>\n",
       "      <td>A</td>\n",
       "      <td>36048000</td>\n",
       "      <td>249930</td>\n",
       "      <td>0.0</td>\n",
       "      <td>2.0</td>\n",
       "      <td>683.0</td>\n",
       "    </tr>\n",
       "    <tr>\n",
       "      <th>2</th>\n",
       "      <td>C1072</td>\n",
       "      <td>754</td>\n",
       "      <td>아파트</td>\n",
       "      <td>경기도</td>\n",
       "      <td>국민임대</td>\n",
       "      <td>46.90</td>\n",
       "      <td>112</td>\n",
       "      <td>14.0</td>\n",
       "      <td>H</td>\n",
       "      <td>36048000</td>\n",
       "      <td>249930</td>\n",
       "      <td>0.0</td>\n",
       "      <td>2.0</td>\n",
       "      <td>683.0</td>\n",
       "    </tr>\n",
       "    <tr>\n",
       "      <th>3</th>\n",
       "      <td>C1072</td>\n",
       "      <td>754</td>\n",
       "      <td>아파트</td>\n",
       "      <td>경기도</td>\n",
       "      <td>국민임대</td>\n",
       "      <td>46.90</td>\n",
       "      <td>120</td>\n",
       "      <td>14.0</td>\n",
       "      <td>H</td>\n",
       "      <td>36048000</td>\n",
       "      <td>249930</td>\n",
       "      <td>0.0</td>\n",
       "      <td>2.0</td>\n",
       "      <td>683.0</td>\n",
       "    </tr>\n",
       "    <tr>\n",
       "      <th>4</th>\n",
       "      <td>C1072</td>\n",
       "      <td>754</td>\n",
       "      <td>아파트</td>\n",
       "      <td>경기도</td>\n",
       "      <td>국민임대</td>\n",
       "      <td>51.46</td>\n",
       "      <td>60</td>\n",
       "      <td>14.0</td>\n",
       "      <td>H</td>\n",
       "      <td>43497000</td>\n",
       "      <td>296780</td>\n",
       "      <td>0.0</td>\n",
       "      <td>2.0</td>\n",
       "      <td>683.0</td>\n",
       "    </tr>\n",
       "  </tbody>\n",
       "</table>\n",
       "</div>"
      ],
      "text/plain": [
       "    단지코드  총세대수 임대건물구분   지역  공급유형   전용면적  전용면적별세대수   공가수 자격유형     임대보증금  \\\n",
       "0  C1072   754    아파트  경기도  국민임대  39.79       116  14.0    H  22830000   \n",
       "1  C1072   754    아파트  경기도  국민임대  46.81        30  14.0    A  36048000   \n",
       "2  C1072   754    아파트  경기도  국민임대  46.90       112  14.0    H  36048000   \n",
       "3  C1072   754    아파트  경기도  국민임대  46.90       120  14.0    H  36048000   \n",
       "4  C1072   754    아파트  경기도  국민임대  51.46        60  14.0    H  43497000   \n",
       "\n",
       "      임대료  도보 10분거리 내 지하철역 수(환승노선 수 반영)  도보 10분거리 내 버스정류장 수  단지내주차면수  \n",
       "0  189840                           0.0                 2.0    683.0  \n",
       "1  249930                           0.0                 2.0    683.0  \n",
       "2  249930                           0.0                 2.0    683.0  \n",
       "3  249930                           0.0                 2.0    683.0  \n",
       "4  296780                           0.0                 2.0    683.0  "
      ]
     },
     "execution_count": 4,
     "metadata": {},
     "output_type": "execute_result"
    }
   ],
   "source": [
    "test.head()"
   ]
  },
  {
   "cell_type": "code",
   "execution_count": 5,
   "id": "b30b8b7d",
   "metadata": {},
   "outputs": [
    {
     "data": {
      "text/plain": [
       "((2952, 15), (1022, 14))"
      ]
     },
     "execution_count": 5,
     "metadata": {},
     "output_type": "execute_result"
    }
   ],
   "source": [
    "train.shape, test.shape"
   ]
  },
  {
   "cell_type": "code",
   "execution_count": 6,
   "id": "96c87e1d",
   "metadata": {
    "scrolled": true
   },
   "outputs": [
    {
     "name": "stdout",
     "output_type": "stream",
     "text": [
      "<class 'pandas.core.frame.DataFrame'>\n",
      "RangeIndex: 2952 entries, 0 to 2951\n",
      "Data columns (total 15 columns):\n",
      " #   Column                        Non-Null Count  Dtype  \n",
      "---  ------                        --------------  -----  \n",
      " 0   단지코드                          2952 non-null   object \n",
      " 1   총세대수                          2952 non-null   int64  \n",
      " 2   임대건물구분                        2952 non-null   object \n",
      " 3   지역                            2952 non-null   object \n",
      " 4   공급유형                          2952 non-null   object \n",
      " 5   전용면적                          2952 non-null   float64\n",
      " 6   전용면적별세대수                      2952 non-null   int64  \n",
      " 7   공가수                           2952 non-null   float64\n",
      " 8   자격유형                          2952 non-null   object \n",
      " 9   임대보증금                         2383 non-null   object \n",
      " 10  임대료                           2383 non-null   object \n",
      " 11  도보 10분거리 내 지하철역 수(환승노선 수 반영)  2741 non-null   float64\n",
      " 12  도보 10분거리 내 버스정류장 수            2948 non-null   float64\n",
      " 13  단지내주차면수                       2952 non-null   float64\n",
      " 14  등록차량수                         2952 non-null   float64\n",
      "dtypes: float64(6), int64(2), object(7)\n",
      "memory usage: 346.1+ KB\n"
     ]
    }
   ],
   "source": [
    "train.info()"
   ]
  },
  {
   "cell_type": "code",
   "execution_count": 7,
   "id": "2e1c83c7",
   "metadata": {},
   "outputs": [],
   "source": [
    "# 임대보증금과 임대료는 '-'을 null로 바꾼 후 float로 타입 변경\n",
    "# train\n",
    "train.loc[train.임대보증금=='-', '임대보증금'] = np.nan\n",
    "train['임대보증금'] = train['임대보증금'].astype(float)\n",
    "\n",
    "train.loc[train.임대료=='-', '임대료'] = np.nan\n",
    "train['임대료'] = train['임대료'].astype(float)\n",
    "#test\n",
    "test.loc[test.임대보증금=='-', '임대보증금'] = np.nan\n",
    "test['임대보증금'] = test['임대보증금'].astype(float)\n",
    "\n",
    "test.loc[test.임대료=='-', '임대료'] = np.nan\n",
    "test['임대료'] = test['임대료'].astype(float)"
   ]
  },
  {
   "cell_type": "code",
   "execution_count": 8,
   "id": "861191c2",
   "metadata": {
    "scrolled": true
   },
   "outputs": [
    {
     "name": "stdout",
     "output_type": "stream",
     "text": [
      "<class 'pandas.core.frame.DataFrame'>\n",
      "RangeIndex: 2952 entries, 0 to 2951\n",
      "Data columns (total 15 columns):\n",
      " #   Column                        Non-Null Count  Dtype  \n",
      "---  ------                        --------------  -----  \n",
      " 0   단지코드                          2952 non-null   object \n",
      " 1   총세대수                          2952 non-null   int64  \n",
      " 2   임대건물구분                        2952 non-null   object \n",
      " 3   지역                            2952 non-null   object \n",
      " 4   공급유형                          2952 non-null   object \n",
      " 5   전용면적                          2952 non-null   float64\n",
      " 6   전용면적별세대수                      2952 non-null   int64  \n",
      " 7   공가수                           2952 non-null   float64\n",
      " 8   자격유형                          2952 non-null   object \n",
      " 9   임대보증금                         2371 non-null   float64\n",
      " 10  임대료                           2362 non-null   float64\n",
      " 11  도보 10분거리 내 지하철역 수(환승노선 수 반영)  2741 non-null   float64\n",
      " 12  도보 10분거리 내 버스정류장 수            2948 non-null   float64\n",
      " 13  단지내주차면수                       2952 non-null   float64\n",
      " 14  등록차량수                         2952 non-null   float64\n",
      "dtypes: float64(8), int64(2), object(5)\n",
      "memory usage: 346.1+ KB\n"
     ]
    }
   ],
   "source": [
    "train.info()"
   ]
  },
  {
   "cell_type": "code",
   "execution_count": 9,
   "id": "af1c2c8b",
   "metadata": {},
   "outputs": [
    {
     "name": "stdout",
     "output_type": "stream",
     "text": [
      "<class 'pandas.core.frame.DataFrame'>\n",
      "RangeIndex: 1022 entries, 0 to 1021\n",
      "Data columns (total 14 columns):\n",
      " #   Column                        Non-Null Count  Dtype  \n",
      "---  ------                        --------------  -----  \n",
      " 0   단지코드                          1022 non-null   object \n",
      " 1   총세대수                          1022 non-null   int64  \n",
      " 2   임대건물구분                        1022 non-null   object \n",
      " 3   지역                            1022 non-null   object \n",
      " 4   공급유형                          1022 non-null   object \n",
      " 5   전용면적                          1022 non-null   float64\n",
      " 6   전용면적별세대수                      1022 non-null   int64  \n",
      " 7   공가수                           1022 non-null   float64\n",
      " 8   자격유형                          1020 non-null   object \n",
      " 9   임대보증금                         836 non-null    float64\n",
      " 10  임대료                           836 non-null    float64\n",
      " 11  도보 10분거리 내 지하철역 수(환승노선 수 반영)  980 non-null    float64\n",
      " 12  도보 10분거리 내 버스정류장 수            1022 non-null   float64\n",
      " 13  단지내주차면수                       1022 non-null   float64\n",
      "dtypes: float64(7), int64(2), object(5)\n",
      "memory usage: 111.9+ KB\n"
     ]
    }
   ],
   "source": [
    "test.info()"
   ]
  },
  {
   "cell_type": "markdown",
   "id": "8cd5cbe8",
   "metadata": {},
   "source": [
    "- null값 : 임대보증금, 임대료, 지하철, 버스정류장"
   ]
  },
  {
   "cell_type": "markdown",
   "id": "defbae62",
   "metadata": {},
   "source": [
    "## (2)피처 요약표"
   ]
  },
  {
   "cell_type": "code",
   "execution_count": 10,
   "id": "8c972fa7",
   "metadata": {
    "scrolled": true
   },
   "outputs": [],
   "source": [
    "# def resumetable(df):\n",
    "#     print(f'데이터셋 형상: {df.shape}')\n",
    "#     summary=pd.DataFrame(df.dtypes, columns={'데이터 타입'})\n",
    "#     summary=summary.reset_index()\n",
    "#     summary=summary.rename(columns={'index': '피처'})\n",
    "    \n",
    "#     summary['결측값 개수']=df.isnull().sum().values\n",
    "#     summary['고윳값 개수']=df.nunique().values\n",
    "#     summary['첫 번째 값']=df.loc[0].values \n",
    "#     summary['두 번째 값']=df.loc[1].values \n",
    "#     summary['세 번째 값']=df.loc[2].values \n",
    "    \n",
    "#     return summary\n",
    "\n",
    "# resumetable(train)"
   ]
  },
  {
   "cell_type": "markdown",
   "id": "941cb303",
   "metadata": {},
   "source": [
    "## (3) 타깃값 분포"
   ]
  },
  {
   "cell_type": "code",
   "execution_count": 11,
   "id": "a3058495",
   "metadata": {},
   "outputs": [
    {
     "data": {
      "text/plain": [
       "<AxesSubplot:xlabel='등록차량수', ylabel='Count'>"
      ]
     },
     "execution_count": 11,
     "metadata": {},
     "output_type": "execute_result"
    },
    {
     "data": {
      "image/png": "[encoded data removed]",
      "text/plain": [
       "<Figure size 432x288 with 1 Axes>"
      ]
     },
     "metadata": {
      "needs_background": "light"
     },
     "output_type": "display_data"
    }
   ],
   "source": [
    "sns.histplot(data=train, x='등록차량수', bins=10)"
   ]
  },
  {
   "cell_type": "markdown",
   "id": "29c79cd1",
   "metadata": {},
   "source": [
    "-> 성능 개선을 위해 나중에 로그변환할거임"
   ]
  },
  {
   "cell_type": "code",
   "execution_count": 12,
   "id": "26c16c6b",
   "metadata": {},
   "outputs": [
    {
     "data": {
      "text/plain": [
       "<seaborn.axisgrid.FacetGrid at 0x21541f601c0>"
      ]
     },
     "execution_count": 12,
     "metadata": {},
     "output_type": "execute_result"
    },
    {
     "data": {
      "image/png": "[encoded data removed]",
      "text/plain": [
       "<Figure size 360x360 with 1 Axes>"
      ]
     },
     "metadata": {
      "needs_background": "light"
     },
     "output_type": "display_data"
    }
   ],
   "source": [
    "#로그 변환시 그래프\n",
    "sns.displot(np.log(train['등록차량수']))"
   ]
  },
  {
   "cell_type": "markdown",
   "id": "076142d3",
   "metadata": {},
   "source": [
    "## (4) 전용면적 5의 배수로 변경 후 상/하한 적용"
   ]
  },
  {
   "cell_type": "code",
   "execution_count": 13,
   "id": "081650c3",
   "metadata": {},
   "outputs": [],
   "source": [
    "train['전용면적'] = train['전용면적']//5*5\n",
    "test['전용면적'] = test['전용면적']//5*5"
   ]
  },
  {
   "cell_type": "code",
   "execution_count": 14,
   "id": "ed4c6768",
   "metadata": {},
   "outputs": [],
   "source": [
    "#상한100, 하한 15\n",
    "idx = train[train['전용면적']>100].index\n",
    "train.loc[idx, '전용면적'] = 100\n",
    "idx = test[test['전용면적']>100].index\n",
    "test.loc[idx, '전용면적'] = 100\n",
    "\n",
    "idx = train[train['전용면적']<15].index\n",
    "train.loc[idx, '전용면적'] = 15\n",
    "idx = test[test['전용면적']<15].index\n",
    "test.loc[idx, '전용면적'] = 15"
   ]
  },
  {
   "cell_type": "code",
   "execution_count": 15,
   "id": "88769ab2",
   "metadata": {},
   "outputs": [
    {
     "data": {
      "text/plain": [
       "array([ 35.,  45.,  50.,  30.,  55.,  25.,  75., 100.,  15.,  20.,  40.,\n",
       "        60.,  80.,  70.])"
      ]
     },
     "execution_count": 15,
     "metadata": {},
     "output_type": "execute_result"
    }
   ],
   "source": [
    "test['전용면적'].unique()"
   ]
  },
  {
   "cell_type": "markdown",
   "id": "a2058277",
   "metadata": {},
   "source": [
    "## (5) 단지별 데이터 1차원으로 취합"
   ]
  },
  {
   "cell_type": "code",
   "execution_count": 16,
   "id": "e0ba506d",
   "metadata": {},
   "outputs": [],
   "source": [
    "columns = test.columns\n",
    "target = '등록차량수'\n",
    "area_columns = []\n",
    "for area in train['전용면적'].unique():\n",
    "    area_columns.append(f'면적_{area}')"
   ]
  },
  {
   "cell_type": "code",
   "execution_count": 17,
   "id": "6e195311",
   "metadata": {},
   "outputs": [],
   "source": [
    "train2 = pd.DataFrame()\n",
    "test2 = pd.DataFrame()"
   ]
  },
  {
   "cell_type": "code",
   "execution_count": 18,
   "id": "1e38db58",
   "metadata": {},
   "outputs": [
    {
     "name": "stderr",
     "output_type": "stream",
     "text": [
      "423it [00:26, 16.07it/s]\n",
      "150it [00:09, 15.74it/s]\n"
     ]
    }
   ],
   "source": [
    "for i, code in tqdm(enumerate(train['단지코드'].unique())):\n",
    "    temp = train[train['단지코드']==code]\n",
    "    temp.index = range(temp.shape[0])\n",
    "    for col in columns:\n",
    "        train2.loc[i, col] = temp.loc[0, col]\n",
    "    \n",
    "    for col in area_columns:\n",
    "        area = float(col.split('_')[-1])\n",
    "        train2.loc[i, col] = temp[temp['전용면적']==area]['전용면적별세대수'].sum()\n",
    "    \n",
    "    train2.loc[i, '등록차량수'] = temp.loc[0, '등록차량수']\n",
    "    \n",
    "for i, code in tqdm(enumerate(test['단지코드'].unique())):\n",
    "    temp = test[test['단지코드']==code]\n",
    "    temp.index = range(temp.shape[0])\n",
    "    for col in columns:\n",
    "        test2.loc[i, col] = temp.loc[0, col]\n",
    "    \n",
    "    for col in area_columns:\n",
    "        area = float(col.split('_')[-1])\n",
    "        test2.loc[i, col] = temp[temp['전용면적']==area]['전용면적별세대수'].sum()"
   ]
  },
  {
   "cell_type": "code",
   "execution_count": 19,
   "id": "9a062bde",
   "metadata": {},
   "outputs": [
    {
     "data": {
      "text/html": [
       "<div>\n",
       "<style scoped>\n",
       "    .dataframe tbody tr th:only-of-type {\n",
       "        vertical-align: middle;\n",
       "    }\n",
       "\n",
       "    .dataframe tbody tr th {\n",
       "        vertical-align: top;\n",
       "    }\n",
       "\n",
       "    .dataframe thead th {\n",
       "        text-align: right;\n",
       "    }\n",
       "</style>\n",
       "<table border=\"1\" class=\"dataframe\">\n",
       "  <thead>\n",
       "    <tr style=\"text-align: right;\">\n",
       "      <th></th>\n",
       "      <th>단지코드</th>\n",
       "      <th>총세대수</th>\n",
       "      <th>임대건물구분</th>\n",
       "      <th>지역</th>\n",
       "      <th>공급유형</th>\n",
       "      <th>전용면적</th>\n",
       "      <th>전용면적별세대수</th>\n",
       "      <th>공가수</th>\n",
       "      <th>자격유형</th>\n",
       "      <th>임대보증금</th>\n",
       "      <th>...</th>\n",
       "      <th>면적_25.0</th>\n",
       "      <th>면적_70.0</th>\n",
       "      <th>면적_15.0</th>\n",
       "      <th>면적_20.0</th>\n",
       "      <th>면적_100.0</th>\n",
       "      <th>면적_60.0</th>\n",
       "      <th>면적_75.0</th>\n",
       "      <th>면적_80.0</th>\n",
       "      <th>면적_65.0</th>\n",
       "      <th>등록차량수</th>\n",
       "    </tr>\n",
       "  </thead>\n",
       "  <tbody>\n",
       "    <tr>\n",
       "      <th>0</th>\n",
       "      <td>C2483</td>\n",
       "      <td>900.0</td>\n",
       "      <td>아파트</td>\n",
       "      <td>경상북도</td>\n",
       "      <td>국민임대</td>\n",
       "      <td>35.0</td>\n",
       "      <td>134.0</td>\n",
       "      <td>38.0</td>\n",
       "      <td>A</td>\n",
       "      <td>15667000.0</td>\n",
       "      <td>...</td>\n",
       "      <td>0.0</td>\n",
       "      <td>0.0</td>\n",
       "      <td>0.0</td>\n",
       "      <td>0.0</td>\n",
       "      <td>0.0</td>\n",
       "      <td>0.0</td>\n",
       "      <td>0.0</td>\n",
       "      <td>0.0</td>\n",
       "      <td>0.0</td>\n",
       "      <td>1015.0</td>\n",
       "    </tr>\n",
       "    <tr>\n",
       "      <th>1</th>\n",
       "      <td>C2515</td>\n",
       "      <td>545.0</td>\n",
       "      <td>아파트</td>\n",
       "      <td>경상남도</td>\n",
       "      <td>국민임대</td>\n",
       "      <td>30.0</td>\n",
       "      <td>276.0</td>\n",
       "      <td>17.0</td>\n",
       "      <td>A</td>\n",
       "      <td>9216000.0</td>\n",
       "      <td>...</td>\n",
       "      <td>0.0</td>\n",
       "      <td>0.0</td>\n",
       "      <td>0.0</td>\n",
       "      <td>0.0</td>\n",
       "      <td>0.0</td>\n",
       "      <td>0.0</td>\n",
       "      <td>0.0</td>\n",
       "      <td>0.0</td>\n",
       "      <td>0.0</td>\n",
       "      <td>205.0</td>\n",
       "    </tr>\n",
       "    <tr>\n",
       "      <th>2</th>\n",
       "      <td>C1407</td>\n",
       "      <td>1216.0</td>\n",
       "      <td>아파트</td>\n",
       "      <td>대전광역시</td>\n",
       "      <td>국민임대</td>\n",
       "      <td>30.0</td>\n",
       "      <td>288.0</td>\n",
       "      <td>13.0</td>\n",
       "      <td>A</td>\n",
       "      <td>15620000.0</td>\n",
       "      <td>...</td>\n",
       "      <td>0.0</td>\n",
       "      <td>0.0</td>\n",
       "      <td>0.0</td>\n",
       "      <td>0.0</td>\n",
       "      <td>0.0</td>\n",
       "      <td>0.0</td>\n",
       "      <td>0.0</td>\n",
       "      <td>0.0</td>\n",
       "      <td>0.0</td>\n",
       "      <td>1064.0</td>\n",
       "    </tr>\n",
       "    <tr>\n",
       "      <th>3</th>\n",
       "      <td>C1945</td>\n",
       "      <td>755.0</td>\n",
       "      <td>아파트</td>\n",
       "      <td>경기도</td>\n",
       "      <td>국민임대</td>\n",
       "      <td>35.0</td>\n",
       "      <td>120.0</td>\n",
       "      <td>6.0</td>\n",
       "      <td>B</td>\n",
       "      <td>15607000.0</td>\n",
       "      <td>...</td>\n",
       "      <td>0.0</td>\n",
       "      <td>0.0</td>\n",
       "      <td>0.0</td>\n",
       "      <td>0.0</td>\n",
       "      <td>0.0</td>\n",
       "      <td>0.0</td>\n",
       "      <td>0.0</td>\n",
       "      <td>0.0</td>\n",
       "      <td>0.0</td>\n",
       "      <td>730.0</td>\n",
       "    </tr>\n",
       "    <tr>\n",
       "      <th>4</th>\n",
       "      <td>C1470</td>\n",
       "      <td>696.0</td>\n",
       "      <td>아파트</td>\n",
       "      <td>전라북도</td>\n",
       "      <td>국민임대</td>\n",
       "      <td>35.0</td>\n",
       "      <td>228.0</td>\n",
       "      <td>14.0</td>\n",
       "      <td>A</td>\n",
       "      <td>12015000.0</td>\n",
       "      <td>...</td>\n",
       "      <td>0.0</td>\n",
       "      <td>0.0</td>\n",
       "      <td>0.0</td>\n",
       "      <td>0.0</td>\n",
       "      <td>0.0</td>\n",
       "      <td>0.0</td>\n",
       "      <td>0.0</td>\n",
       "      <td>0.0</td>\n",
       "      <td>0.0</td>\n",
       "      <td>553.0</td>\n",
       "    </tr>\n",
       "    <tr>\n",
       "      <th>...</th>\n",
       "      <td>...</td>\n",
       "      <td>...</td>\n",
       "      <td>...</td>\n",
       "      <td>...</td>\n",
       "      <td>...</td>\n",
       "      <td>...</td>\n",
       "      <td>...</td>\n",
       "      <td>...</td>\n",
       "      <td>...</td>\n",
       "      <td>...</td>\n",
       "      <td>...</td>\n",
       "      <td>...</td>\n",
       "      <td>...</td>\n",
       "      <td>...</td>\n",
       "      <td>...</td>\n",
       "      <td>...</td>\n",
       "      <td>...</td>\n",
       "      <td>...</td>\n",
       "      <td>...</td>\n",
       "      <td>...</td>\n",
       "      <td>...</td>\n",
       "    </tr>\n",
       "    <tr>\n",
       "      <th>418</th>\n",
       "      <td>C2586</td>\n",
       "      <td>90.0</td>\n",
       "      <td>아파트</td>\n",
       "      <td>제주특별자치도</td>\n",
       "      <td>행복주택</td>\n",
       "      <td>15.0</td>\n",
       "      <td>12.0</td>\n",
       "      <td>7.0</td>\n",
       "      <td>J</td>\n",
       "      <td>16800000.0</td>\n",
       "      <td>...</td>\n",
       "      <td>42.0</td>\n",
       "      <td>0.0</td>\n",
       "      <td>12.0</td>\n",
       "      <td>0.0</td>\n",
       "      <td>0.0</td>\n",
       "      <td>0.0</td>\n",
       "      <td>0.0</td>\n",
       "      <td>0.0</td>\n",
       "      <td>0.0</td>\n",
       "      <td>57.0</td>\n",
       "    </tr>\n",
       "    <tr>\n",
       "      <th>419</th>\n",
       "      <td>C2035</td>\n",
       "      <td>492.0</td>\n",
       "      <td>아파트</td>\n",
       "      <td>강원도</td>\n",
       "      <td>국민임대</td>\n",
       "      <td>25.0</td>\n",
       "      <td>132.0</td>\n",
       "      <td>24.0</td>\n",
       "      <td>A</td>\n",
       "      <td>10000000.0</td>\n",
       "      <td>...</td>\n",
       "      <td>156.0</td>\n",
       "      <td>0.0</td>\n",
       "      <td>0.0</td>\n",
       "      <td>0.0</td>\n",
       "      <td>0.0</td>\n",
       "      <td>0.0</td>\n",
       "      <td>0.0</td>\n",
       "      <td>0.0</td>\n",
       "      <td>0.0</td>\n",
       "      <td>246.0</td>\n",
       "    </tr>\n",
       "    <tr>\n",
       "      <th>420</th>\n",
       "      <td>C2020</td>\n",
       "      <td>40.0</td>\n",
       "      <td>아파트</td>\n",
       "      <td>부산광역시</td>\n",
       "      <td>행복주택</td>\n",
       "      <td>15.0</td>\n",
       "      <td>20.0</td>\n",
       "      <td>7.0</td>\n",
       "      <td>L</td>\n",
       "      <td>18000000.0</td>\n",
       "      <td>...</td>\n",
       "      <td>5.0</td>\n",
       "      <td>0.0</td>\n",
       "      <td>20.0</td>\n",
       "      <td>0.0</td>\n",
       "      <td>0.0</td>\n",
       "      <td>0.0</td>\n",
       "      <td>0.0</td>\n",
       "      <td>0.0</td>\n",
       "      <td>0.0</td>\n",
       "      <td>19.0</td>\n",
       "    </tr>\n",
       "    <tr>\n",
       "      <th>421</th>\n",
       "      <td>C2437</td>\n",
       "      <td>90.0</td>\n",
       "      <td>아파트</td>\n",
       "      <td>충청북도</td>\n",
       "      <td>영구임대</td>\n",
       "      <td>20.0</td>\n",
       "      <td>90.0</td>\n",
       "      <td>12.0</td>\n",
       "      <td>C</td>\n",
       "      <td>10346000.0</td>\n",
       "      <td>...</td>\n",
       "      <td>0.0</td>\n",
       "      <td>0.0</td>\n",
       "      <td>0.0</td>\n",
       "      <td>90.0</td>\n",
       "      <td>0.0</td>\n",
       "      <td>0.0</td>\n",
       "      <td>0.0</td>\n",
       "      <td>0.0</td>\n",
       "      <td>0.0</td>\n",
       "      <td>16.0</td>\n",
       "    </tr>\n",
       "    <tr>\n",
       "      <th>422</th>\n",
       "      <td>C2532</td>\n",
       "      <td>239.0</td>\n",
       "      <td>아파트</td>\n",
       "      <td>강원도</td>\n",
       "      <td>국민임대</td>\n",
       "      <td>45.0</td>\n",
       "      <td>19.0</td>\n",
       "      <td>7.0</td>\n",
       "      <td>A</td>\n",
       "      <td>11346000.0</td>\n",
       "      <td>...</td>\n",
       "      <td>0.0</td>\n",
       "      <td>0.0</td>\n",
       "      <td>0.0</td>\n",
       "      <td>0.0</td>\n",
       "      <td>0.0</td>\n",
       "      <td>0.0</td>\n",
       "      <td>0.0</td>\n",
       "      <td>0.0</td>\n",
       "      <td>0.0</td>\n",
       "      <td>146.0</td>\n",
       "    </tr>\n",
       "  </tbody>\n",
       "</table>\n",
       "<p>423 rows × 30 columns</p>\n",
       "</div>"
      ],
      "text/plain": [
       "      단지코드    총세대수 임대건물구분       지역  공급유형  전용면적  전용면적별세대수   공가수 자격유형  \\\n",
       "0    C2483   900.0    아파트     경상북도  국민임대  35.0     134.0  38.0    A   \n",
       "1    C2515   545.0    아파트     경상남도  국민임대  30.0     276.0  17.0    A   \n",
       "2    C1407  1216.0    아파트    대전광역시  국민임대  30.0     288.0  13.0    A   \n",
       "3    C1945   755.0    아파트      경기도  국민임대  35.0     120.0   6.0    B   \n",
       "4    C1470   696.0    아파트     전라북도  국민임대  35.0     228.0  14.0    A   \n",
       "..     ...     ...    ...      ...   ...   ...       ...   ...  ...   \n",
       "418  C2586    90.0    아파트  제주특별자치도  행복주택  15.0      12.0   7.0    J   \n",
       "419  C2035   492.0    아파트      강원도  국민임대  25.0     132.0  24.0    A   \n",
       "420  C2020    40.0    아파트    부산광역시  행복주택  15.0      20.0   7.0    L   \n",
       "421  C2437    90.0    아파트     충청북도  영구임대  20.0      90.0  12.0    C   \n",
       "422  C2532   239.0    아파트      강원도  국민임대  45.0      19.0   7.0    A   \n",
       "\n",
       "          임대보증금  ...  면적_25.0  면적_70.0  면적_15.0  면적_20.0  면적_100.0  면적_60.0  \\\n",
       "0    15667000.0  ...      0.0      0.0      0.0      0.0       0.0      0.0   \n",
       "1     9216000.0  ...      0.0      0.0      0.0      0.0       0.0      0.0   \n",
       "2    15620000.0  ...      0.0      0.0      0.0      0.0       0.0      0.0   \n",
       "3    15607000.0  ...      0.0      0.0      0.0      0.0       0.0      0.0   \n",
       "4    12015000.0  ...      0.0      0.0      0.0      0.0       0.0      0.0   \n",
       "..          ...  ...      ...      ...      ...      ...       ...      ...   \n",
       "418  16800000.0  ...     42.0      0.0     12.0      0.0       0.0      0.0   \n",
       "419  10000000.0  ...    156.0      0.0      0.0      0.0       0.0      0.0   \n",
       "420  18000000.0  ...      5.0      0.0     20.0      0.0       0.0      0.0   \n",
       "421  10346000.0  ...      0.0      0.0      0.0     90.0       0.0      0.0   \n",
       "422  11346000.0  ...      0.0      0.0      0.0      0.0       0.0      0.0   \n",
       "\n",
       "     면적_75.0  면적_80.0  면적_65.0   등록차량수  \n",
       "0        0.0      0.0      0.0  1015.0  \n",
       "1        0.0      0.0      0.0   205.0  \n",
       "2        0.0      0.0      0.0  1064.0  \n",
       "3        0.0      0.0      0.0   730.0  \n",
       "4        0.0      0.0      0.0   553.0  \n",
       "..       ...      ...      ...     ...  \n",
       "418      0.0      0.0      0.0    57.0  \n",
       "419      0.0      0.0      0.0   246.0  \n",
       "420      0.0      0.0      0.0    19.0  \n",
       "421      0.0      0.0      0.0    16.0  \n",
       "422      0.0      0.0      0.0   146.0  \n",
       "\n",
       "[423 rows x 30 columns]"
      ]
     },
     "execution_count": 19,
     "metadata": {},
     "output_type": "execute_result"
    }
   ],
   "source": [
    "train2"
   ]
  },
  {
   "cell_type": "code",
   "execution_count": 20,
   "id": "8055ac45",
   "metadata": {},
   "outputs": [
    {
     "data": {
      "text/plain": [
       "((423, 30), (150, 29))"
      ]
     },
     "execution_count": 20,
     "metadata": {},
     "output_type": "execute_result"
    }
   ],
   "source": [
    "train2.shape, test2.shape "
   ]
  },
  {
   "cell_type": "markdown",
   "id": "fd795985",
   "metadata": {},
   "source": [
    "## (6) 데이터 합치기"
   ]
  },
  {
   "cell_type": "code",
   "execution_count": 21,
   "id": "aeb62b13",
   "metadata": {
    "scrolled": true
   },
   "outputs": [
    {
     "data": {
      "text/plain": [
       "단지코드                              0\n",
       "총세대수                              0\n",
       "임대건물구분                            0\n",
       "지역                                0\n",
       "공급유형                              0\n",
       "전용면적                              0\n",
       "전용면적별세대수                          0\n",
       "공가수                               0\n",
       "자격유형                              1\n",
       "임대보증금                             5\n",
       "임대료                               7\n",
       "도보 10분거리 내 지하철역 수(환승노선 수 반영)     25\n",
       "도보 10분거리 내 버스정류장 수                1\n",
       "단지내주차면수                           0\n",
       "면적_35.0                           0\n",
       "면적_50.0                           0\n",
       "면적_55.0                           0\n",
       "면적_30.0                           0\n",
       "면적_45.0                           0\n",
       "면적_40.0                           0\n",
       "면적_25.0                           0\n",
       "면적_70.0                           0\n",
       "면적_15.0                           0\n",
       "면적_20.0                           0\n",
       "면적_100.0                          0\n",
       "면적_60.0                           0\n",
       "면적_75.0                           0\n",
       "면적_80.0                           0\n",
       "면적_65.0                           0\n",
       "등록차량수                           150\n",
       "dtype: int64"
      ]
     },
     "execution_count": 21,
     "metadata": {},
     "output_type": "execute_result"
    }
   ],
   "source": [
    "df = pd.concat([train2, test2])\n",
    "df.isnull().sum()"
   ]
  },
  {
   "cell_type": "code",
   "execution_count": 22,
   "id": "48c165d2",
   "metadata": {},
   "outputs": [
    {
     "data": {
      "text/plain": [
       "(573, 30)"
      ]
     },
     "execution_count": 22,
     "metadata": {},
     "output_type": "execute_result"
    }
   ],
   "source": [
    "df.shape"
   ]
  },
  {
   "cell_type": "code",
   "execution_count": 23,
   "id": "dec5a6d9",
   "metadata": {},
   "outputs": [
    {
     "data": {
      "text/plain": [
       "단지코드                             0\n",
       "총세대수                             0\n",
       "임대건물구분                           0\n",
       "지역                               0\n",
       "공급유형                             0\n",
       "전용면적                             0\n",
       "전용면적별세대수                         0\n",
       "공가수                              0\n",
       "자격유형                             0\n",
       "임대보증금                            4\n",
       "임대료                              6\n",
       "도보 10분거리 내 지하철역 수(환승노선 수 반영)    20\n",
       "도보 10분거리 내 버스정류장 수               1\n",
       "단지내주차면수                          0\n",
       "면적_35.0                          0\n",
       "면적_50.0                          0\n",
       "면적_55.0                          0\n",
       "면적_30.0                          0\n",
       "면적_45.0                          0\n",
       "면적_40.0                          0\n",
       "면적_25.0                          0\n",
       "면적_70.0                          0\n",
       "면적_15.0                          0\n",
       "면적_20.0                          0\n",
       "면적_100.0                         0\n",
       "면적_60.0                          0\n",
       "면적_75.0                          0\n",
       "면적_80.0                          0\n",
       "면적_65.0                          0\n",
       "등록차량수                            0\n",
       "dtype: int64"
      ]
     },
     "execution_count": 23,
     "metadata": {},
     "output_type": "execute_result"
    }
   ],
   "source": [
    "train2.isnull().sum()"
   ]
  },
  {
   "cell_type": "code",
   "execution_count": 24,
   "id": "d5dd0906",
   "metadata": {},
   "outputs": [
    {
     "data": {
      "text/plain": [
       "단지코드                              0\n",
       "총세대수                              0\n",
       "임대건물구분                            0\n",
       "지역                                0\n",
       "공급유형                              0\n",
       "전용면적                              0\n",
       "전용면적별세대수                          0\n",
       "공가수                               0\n",
       "자격유형                              2\n",
       "임대보증금                           186\n",
       "임대료                             186\n",
       "도보 10분거리 내 지하철역 수(환승노선 수 반영)     42\n",
       "도보 10분거리 내 버스정류장 수                0\n",
       "단지내주차면수                           0\n",
       "dtype: int64"
      ]
     },
     "execution_count": 24,
     "metadata": {},
     "output_type": "execute_result"
    }
   ],
   "source": [
    "test.isnull().sum()"
   ]
  },
  {
   "cell_type": "markdown",
   "id": "082f95ca",
   "metadata": {},
   "source": [
    "train 결측: 임대료, 임대보증금, 지하철역, 버스정류장  \n",
    "test 결측: 자격유형, 임대료, 임대보증금, 지하철역"
   ]
  },
  {
   "cell_type": "markdown",
   "id": "d6ebe250",
   "metadata": {},
   "source": [
    "## (7) EAD"
   ]
  },
  {
   "cell_type": "markdown",
   "id": "94bf66a5",
   "metadata": {},
   "source": [
    "### 1. 자격유형\n",
    "- 행 하나밖에 없으므로 자격유형 중 많은 값으로 채움 -> 'A'로 채움"
   ]
  },
  {
   "cell_type": "code",
   "execution_count": 25,
   "id": "7c67f55c",
   "metadata": {
    "scrolled": true
   },
   "outputs": [
    {
     "data": {
      "text/html": [
       "<div>\n",
       "<style scoped>\n",
       "    .dataframe tbody tr th:only-of-type {\n",
       "        vertical-align: middle;\n",
       "    }\n",
       "\n",
       "    .dataframe tbody tr th {\n",
       "        vertical-align: top;\n",
       "    }\n",
       "\n",
       "    .dataframe thead th {\n",
       "        text-align: right;\n",
       "    }\n",
       "</style>\n",
       "<table border=\"1\" class=\"dataframe\">\n",
       "  <thead>\n",
       "    <tr style=\"text-align: right;\">\n",
       "      <th></th>\n",
       "      <th>단지코드</th>\n",
       "      <th>총세대수</th>\n",
       "      <th>임대건물구분</th>\n",
       "      <th>지역</th>\n",
       "      <th>공급유형</th>\n",
       "      <th>전용면적</th>\n",
       "      <th>전용면적별세대수</th>\n",
       "      <th>공가수</th>\n",
       "      <th>자격유형</th>\n",
       "      <th>임대보증금</th>\n",
       "      <th>...</th>\n",
       "      <th>면적_25.0</th>\n",
       "      <th>면적_70.0</th>\n",
       "      <th>면적_15.0</th>\n",
       "      <th>면적_20.0</th>\n",
       "      <th>면적_100.0</th>\n",
       "      <th>면적_60.0</th>\n",
       "      <th>면적_75.0</th>\n",
       "      <th>면적_80.0</th>\n",
       "      <th>면적_65.0</th>\n",
       "      <th>등록차량수</th>\n",
       "    </tr>\n",
       "  </thead>\n",
       "  <tbody>\n",
       "    <tr>\n",
       "      <th>26</th>\n",
       "      <td>C2253</td>\n",
       "      <td>1161.0</td>\n",
       "      <td>아파트</td>\n",
       "      <td>강원도</td>\n",
       "      <td>영구임대</td>\n",
       "      <td>25.0</td>\n",
       "      <td>745.0</td>\n",
       "      <td>0.0</td>\n",
       "      <td>NaN</td>\n",
       "      <td>2249000.0</td>\n",
       "      <td>...</td>\n",
       "      <td>759.0</td>\n",
       "      <td>0.0</td>\n",
       "      <td>1.0</td>\n",
       "      <td>7.0</td>\n",
       "      <td>1.0</td>\n",
       "      <td>0.0</td>\n",
       "      <td>0.0</td>\n",
       "      <td>1.0</td>\n",
       "      <td>0.0</td>\n",
       "      <td>NaN</td>\n",
       "    </tr>\n",
       "  </tbody>\n",
       "</table>\n",
       "<p>1 rows × 30 columns</p>\n",
       "</div>"
      ],
      "text/plain": [
       "     단지코드    총세대수 임대건물구분   지역  공급유형  전용면적  전용면적별세대수  공가수 자격유형      임대보증금  ...  \\\n",
       "26  C2253  1161.0    아파트  강원도  영구임대  25.0     745.0  0.0  NaN  2249000.0  ...   \n",
       "\n",
       "    면적_25.0  면적_70.0  면적_15.0  면적_20.0  면적_100.0  면적_60.0  면적_75.0  면적_80.0  \\\n",
       "26    759.0      0.0      1.0      7.0       1.0      0.0      0.0      1.0   \n",
       "\n",
       "    면적_65.0  등록차량수  \n",
       "26      0.0    NaN  \n",
       "\n",
       "[1 rows x 30 columns]"
      ]
     },
     "execution_count": 25,
     "metadata": {},
     "output_type": "execute_result"
    }
   ],
   "source": [
    "df[df['자격유형'].isnull()]"
   ]
  },
  {
   "cell_type": "code",
   "execution_count": 26,
   "id": "2668fd90",
   "metadata": {},
   "outputs": [
    {
     "data": {
      "text/html": [
       "<div>\n",
       "<style scoped>\n",
       "    .dataframe tbody tr th:only-of-type {\n",
       "        vertical-align: middle;\n",
       "    }\n",
       "\n",
       "    .dataframe tbody tr th {\n",
       "        vertical-align: top;\n",
       "    }\n",
       "\n",
       "    .dataframe thead th {\n",
       "        text-align: right;\n",
       "    }\n",
       "</style>\n",
       "<table border=\"1\" class=\"dataframe\">\n",
       "  <thead>\n",
       "    <tr style=\"text-align: right;\">\n",
       "      <th></th>\n",
       "      <th>단지코드</th>\n",
       "      <th>총세대수</th>\n",
       "      <th>임대건물구분</th>\n",
       "      <th>지역</th>\n",
       "      <th>공급유형</th>\n",
       "      <th>전용면적</th>\n",
       "      <th>전용면적별세대수</th>\n",
       "      <th>공가수</th>\n",
       "      <th>자격유형</th>\n",
       "      <th>임대보증금</th>\n",
       "      <th>...</th>\n",
       "      <th>면적_25.0</th>\n",
       "      <th>면적_70.0</th>\n",
       "      <th>면적_15.0</th>\n",
       "      <th>면적_20.0</th>\n",
       "      <th>면적_100.0</th>\n",
       "      <th>면적_60.0</th>\n",
       "      <th>면적_75.0</th>\n",
       "      <th>면적_80.0</th>\n",
       "      <th>면적_65.0</th>\n",
       "      <th>등록차량수</th>\n",
       "    </tr>\n",
       "  </thead>\n",
       "  <tbody>\n",
       "    <tr>\n",
       "      <th>26</th>\n",
       "      <td>C2253</td>\n",
       "      <td>1161.0</td>\n",
       "      <td>아파트</td>\n",
       "      <td>강원도</td>\n",
       "      <td>영구임대</td>\n",
       "      <td>25.0</td>\n",
       "      <td>745.0</td>\n",
       "      <td>0.0</td>\n",
       "      <td>NaN</td>\n",
       "      <td>2249000.0</td>\n",
       "      <td>...</td>\n",
       "      <td>759.0</td>\n",
       "      <td>0.0</td>\n",
       "      <td>1.0</td>\n",
       "      <td>7.0</td>\n",
       "      <td>1.0</td>\n",
       "      <td>0.0</td>\n",
       "      <td>0.0</td>\n",
       "      <td>1.0</td>\n",
       "      <td>0.0</td>\n",
       "      <td>NaN</td>\n",
       "    </tr>\n",
       "  </tbody>\n",
       "</table>\n",
       "<p>1 rows × 30 columns</p>\n",
       "</div>"
      ],
      "text/plain": [
       "     단지코드    총세대수 임대건물구분   지역  공급유형  전용면적  전용면적별세대수  공가수 자격유형      임대보증금  ...  \\\n",
       "26  C2253  1161.0    아파트  강원도  영구임대  25.0     745.0  0.0  NaN  2249000.0  ...   \n",
       "\n",
       "    면적_25.0  면적_70.0  면적_15.0  면적_20.0  면적_100.0  면적_60.0  면적_75.0  면적_80.0  \\\n",
       "26    759.0      0.0      1.0      7.0       1.0      0.0      0.0      1.0   \n",
       "\n",
       "    면적_65.0  등록차량수  \n",
       "26      0.0    NaN  \n",
       "\n",
       "[1 rows x 30 columns]"
      ]
     },
     "execution_count": 26,
     "metadata": {},
     "output_type": "execute_result"
    }
   ],
   "source": [
    "df[df['단지코드']=='C2253']"
   ]
  },
  {
   "cell_type": "code",
   "execution_count": 27,
   "id": "2af9a8f9",
   "metadata": {},
   "outputs": [
    {
     "data": {
      "text/plain": [
       "A      434\n",
       "H       43\n",
       "C       38\n",
       "J       27\n",
       "K        7\n",
       "E        5\n",
       "L        5\n",
       "B        3\n",
       "G        3\n",
       "N        3\n",
       "M        2\n",
       "F        1\n",
       "D        1\n",
       "NaN      1\n",
       "Name: 자격유형, dtype: int64"
      ]
     },
     "execution_count": 27,
     "metadata": {},
     "output_type": "execute_result"
    }
   ],
   "source": [
    "df['자격유형'].value_counts(dropna=False)"
   ]
  },
  {
   "cell_type": "code",
   "execution_count": 28,
   "id": "bc7b3aa7",
   "metadata": {},
   "outputs": [],
   "source": [
    "# 자격유형 중 가장 많은 값인 A로 채움\n",
    "df.loc[df['자격유형'].isnull(), '자격유형'] ='A'"
   ]
  },
  {
   "cell_type": "markdown",
   "id": "feb07038",
   "metadata": {},
   "source": [
    "### 2. 임대보증금, 임대료\n",
    "-> 평균으로 대체"
   ]
  },
  {
   "cell_type": "code",
   "execution_count": 29,
   "id": "3619df6a",
   "metadata": {
    "scrolled": true
   },
   "outputs": [
    {
     "data": {
      "text/html": [
       "<div>\n",
       "<style scoped>\n",
       "    .dataframe tbody tr th:only-of-type {\n",
       "        vertical-align: middle;\n",
       "    }\n",
       "\n",
       "    .dataframe tbody tr th {\n",
       "        vertical-align: top;\n",
       "    }\n",
       "\n",
       "    .dataframe thead th {\n",
       "        text-align: right;\n",
       "    }\n",
       "</style>\n",
       "<table border=\"1\" class=\"dataframe\">\n",
       "  <thead>\n",
       "    <tr style=\"text-align: right;\">\n",
       "      <th></th>\n",
       "      <th>단지코드</th>\n",
       "      <th>총세대수</th>\n",
       "      <th>임대건물구분</th>\n",
       "      <th>지역</th>\n",
       "      <th>공급유형</th>\n",
       "      <th>전용면적</th>\n",
       "      <th>전용면적별세대수</th>\n",
       "      <th>공가수</th>\n",
       "      <th>자격유형</th>\n",
       "      <th>임대보증금</th>\n",
       "      <th>...</th>\n",
       "      <th>면적_25.0</th>\n",
       "      <th>면적_70.0</th>\n",
       "      <th>면적_15.0</th>\n",
       "      <th>면적_20.0</th>\n",
       "      <th>면적_100.0</th>\n",
       "      <th>면적_60.0</th>\n",
       "      <th>면적_75.0</th>\n",
       "      <th>면적_80.0</th>\n",
       "      <th>면적_65.0</th>\n",
       "      <th>등록차량수</th>\n",
       "    </tr>\n",
       "  </thead>\n",
       "  <tbody>\n",
       "    <tr>\n",
       "      <th>321</th>\n",
       "      <td>C1350</td>\n",
       "      <td>1401.0</td>\n",
       "      <td>아파트</td>\n",
       "      <td>대전광역시</td>\n",
       "      <td>공공분양</td>\n",
       "      <td>70.0</td>\n",
       "      <td>317.0</td>\n",
       "      <td>2.0</td>\n",
       "      <td>D</td>\n",
       "      <td>NaN</td>\n",
       "      <td>...</td>\n",
       "      <td>0.0</td>\n",
       "      <td>476.0</td>\n",
       "      <td>0.0</td>\n",
       "      <td>0.0</td>\n",
       "      <td>0.0</td>\n",
       "      <td>0.0</td>\n",
       "      <td>0.0</td>\n",
       "      <td>235.0</td>\n",
       "      <td>0.0</td>\n",
       "      <td>2315.0</td>\n",
       "    </tr>\n",
       "    <tr>\n",
       "      <th>358</th>\n",
       "      <td>C1326</td>\n",
       "      <td>1934.0</td>\n",
       "      <td>아파트</td>\n",
       "      <td>부산광역시</td>\n",
       "      <td>국민임대</td>\n",
       "      <td>20.0</td>\n",
       "      <td>472.0</td>\n",
       "      <td>43.0</td>\n",
       "      <td>H</td>\n",
       "      <td>NaN</td>\n",
       "      <td>...</td>\n",
       "      <td>590.0</td>\n",
       "      <td>0.0</td>\n",
       "      <td>0.0</td>\n",
       "      <td>576.0</td>\n",
       "      <td>0.0</td>\n",
       "      <td>0.0</td>\n",
       "      <td>0.0</td>\n",
       "      <td>0.0</td>\n",
       "      <td>0.0</td>\n",
       "      <td>1153.0</td>\n",
       "    </tr>\n",
       "    <tr>\n",
       "      <th>377</th>\n",
       "      <td>C1786</td>\n",
       "      <td>480.0</td>\n",
       "      <td>아파트</td>\n",
       "      <td>강원도</td>\n",
       "      <td>행복주택</td>\n",
       "      <td>15.0</td>\n",
       "      <td>156.0</td>\n",
       "      <td>25.0</td>\n",
       "      <td>K</td>\n",
       "      <td>NaN</td>\n",
       "      <td>...</td>\n",
       "      <td>232.0</td>\n",
       "      <td>0.0</td>\n",
       "      <td>156.0</td>\n",
       "      <td>0.0</td>\n",
       "      <td>0.0</td>\n",
       "      <td>0.0</td>\n",
       "      <td>0.0</td>\n",
       "      <td>0.0</td>\n",
       "      <td>0.0</td>\n",
       "      <td>345.0</td>\n",
       "    </tr>\n",
       "    <tr>\n",
       "      <th>415</th>\n",
       "      <td>C2186</td>\n",
       "      <td>924.0</td>\n",
       "      <td>아파트</td>\n",
       "      <td>대구광역시</td>\n",
       "      <td>국민임대</td>\n",
       "      <td>25.0</td>\n",
       "      <td>238.0</td>\n",
       "      <td>0.0</td>\n",
       "      <td>H</td>\n",
       "      <td>NaN</td>\n",
       "      <td>...</td>\n",
       "      <td>508.0</td>\n",
       "      <td>0.0</td>\n",
       "      <td>0.0</td>\n",
       "      <td>0.0</td>\n",
       "      <td>0.0</td>\n",
       "      <td>0.0</td>\n",
       "      <td>0.0</td>\n",
       "      <td>0.0</td>\n",
       "      <td>0.0</td>\n",
       "      <td>744.0</td>\n",
       "    </tr>\n",
       "    <tr>\n",
       "      <th>147</th>\n",
       "      <td>C2152</td>\n",
       "      <td>120.0</td>\n",
       "      <td>아파트</td>\n",
       "      <td>강원도</td>\n",
       "      <td>영구임대</td>\n",
       "      <td>20.0</td>\n",
       "      <td>66.0</td>\n",
       "      <td>9.0</td>\n",
       "      <td>C</td>\n",
       "      <td>NaN</td>\n",
       "      <td>...</td>\n",
       "      <td>0.0</td>\n",
       "      <td>0.0</td>\n",
       "      <td>0.0</td>\n",
       "      <td>66.0</td>\n",
       "      <td>0.0</td>\n",
       "      <td>0.0</td>\n",
       "      <td>0.0</td>\n",
       "      <td>0.0</td>\n",
       "      <td>0.0</td>\n",
       "      <td>NaN</td>\n",
       "    </tr>\n",
       "  </tbody>\n",
       "</table>\n",
       "<p>5 rows × 30 columns</p>\n",
       "</div>"
      ],
      "text/plain": [
       "      단지코드    총세대수 임대건물구분     지역  공급유형  전용면적  전용면적별세대수   공가수 자격유형  임대보증금  ...  \\\n",
       "321  C1350  1401.0    아파트  대전광역시  공공분양  70.0     317.0   2.0    D    NaN  ...   \n",
       "358  C1326  1934.0    아파트  부산광역시  국민임대  20.0     472.0  43.0    H    NaN  ...   \n",
       "377  C1786   480.0    아파트    강원도  행복주택  15.0     156.0  25.0    K    NaN  ...   \n",
       "415  C2186   924.0    아파트  대구광역시  국민임대  25.0     238.0   0.0    H    NaN  ...   \n",
       "147  C2152   120.0    아파트    강원도  영구임대  20.0      66.0   9.0    C    NaN  ...   \n",
       "\n",
       "     면적_25.0  면적_70.0  면적_15.0  면적_20.0  면적_100.0  면적_60.0  면적_75.0  면적_80.0  \\\n",
       "321      0.0    476.0      0.0      0.0       0.0      0.0      0.0    235.0   \n",
       "358    590.0      0.0      0.0    576.0       0.0      0.0      0.0      0.0   \n",
       "377    232.0      0.0    156.0      0.0       0.0      0.0      0.0      0.0   \n",
       "415    508.0      0.0      0.0      0.0       0.0      0.0      0.0      0.0   \n",
       "147      0.0      0.0      0.0     66.0       0.0      0.0      0.0      0.0   \n",
       "\n",
       "     면적_65.0   등록차량수  \n",
       "321      0.0  2315.0  \n",
       "358      0.0  1153.0  \n",
       "377      0.0   345.0  \n",
       "415      0.0   744.0  \n",
       "147      0.0     NaN  \n",
       "\n",
       "[5 rows x 30 columns]"
      ]
     },
     "execution_count": 29,
     "metadata": {},
     "output_type": "execute_result"
    }
   ],
   "source": [
    "df[df['임대보증금'].isnull()]"
   ]
  },
  {
   "cell_type": "code",
   "execution_count": 30,
   "id": "203b5a47",
   "metadata": {
    "scrolled": false
   },
   "outputs": [
    {
     "data": {
      "text/html": [
       "<div>\n",
       "<style scoped>\n",
       "    .dataframe tbody tr th:only-of-type {\n",
       "        vertical-align: middle;\n",
       "    }\n",
       "\n",
       "    .dataframe tbody tr th {\n",
       "        vertical-align: top;\n",
       "    }\n",
       "\n",
       "    .dataframe thead th {\n",
       "        text-align: right;\n",
       "    }\n",
       "</style>\n",
       "<table border=\"1\" class=\"dataframe\">\n",
       "  <thead>\n",
       "    <tr style=\"text-align: right;\">\n",
       "      <th></th>\n",
       "      <th>단지코드</th>\n",
       "      <th>총세대수</th>\n",
       "      <th>임대건물구분</th>\n",
       "      <th>지역</th>\n",
       "      <th>공급유형</th>\n",
       "      <th>전용면적</th>\n",
       "      <th>전용면적별세대수</th>\n",
       "      <th>공가수</th>\n",
       "      <th>자격유형</th>\n",
       "      <th>임대보증금</th>\n",
       "      <th>...</th>\n",
       "      <th>면적_25.0</th>\n",
       "      <th>면적_70.0</th>\n",
       "      <th>면적_15.0</th>\n",
       "      <th>면적_20.0</th>\n",
       "      <th>면적_100.0</th>\n",
       "      <th>면적_60.0</th>\n",
       "      <th>면적_75.0</th>\n",
       "      <th>면적_80.0</th>\n",
       "      <th>면적_65.0</th>\n",
       "      <th>등록차량수</th>\n",
       "    </tr>\n",
       "  </thead>\n",
       "  <tbody>\n",
       "    <tr>\n",
       "      <th>274</th>\n",
       "      <td>C1397</td>\n",
       "      <td>370.0</td>\n",
       "      <td>아파트</td>\n",
       "      <td>서울특별시</td>\n",
       "      <td>장기전세</td>\n",
       "      <td>20.0</td>\n",
       "      <td>51.0</td>\n",
       "      <td>9.0</td>\n",
       "      <td>A</td>\n",
       "      <td>87444000.0</td>\n",
       "      <td>...</td>\n",
       "      <td>0.0</td>\n",
       "      <td>0.0</td>\n",
       "      <td>0.0</td>\n",
       "      <td>51.0</td>\n",
       "      <td>0.0</td>\n",
       "      <td>0.0</td>\n",
       "      <td>0.0</td>\n",
       "      <td>0.0</td>\n",
       "      <td>0.0</td>\n",
       "      <td>1595.0</td>\n",
       "    </tr>\n",
       "    <tr>\n",
       "      <th>282</th>\n",
       "      <td>C1039</td>\n",
       "      <td>790.0</td>\n",
       "      <td>아파트</td>\n",
       "      <td>서울특별시</td>\n",
       "      <td>장기전세</td>\n",
       "      <td>50.0</td>\n",
       "      <td>126.0</td>\n",
       "      <td>13.0</td>\n",
       "      <td>A</td>\n",
       "      <td>187694000.0</td>\n",
       "      <td>...</td>\n",
       "      <td>96.0</td>\n",
       "      <td>0.0</td>\n",
       "      <td>0.0</td>\n",
       "      <td>0.0</td>\n",
       "      <td>0.0</td>\n",
       "      <td>0.0</td>\n",
       "      <td>0.0</td>\n",
       "      <td>0.0</td>\n",
       "      <td>0.0</td>\n",
       "      <td>645.0</td>\n",
       "    </tr>\n",
       "    <tr>\n",
       "      <th>321</th>\n",
       "      <td>C1350</td>\n",
       "      <td>1401.0</td>\n",
       "      <td>아파트</td>\n",
       "      <td>대전광역시</td>\n",
       "      <td>공공분양</td>\n",
       "      <td>70.0</td>\n",
       "      <td>317.0</td>\n",
       "      <td>2.0</td>\n",
       "      <td>D</td>\n",
       "      <td>NaN</td>\n",
       "      <td>...</td>\n",
       "      <td>0.0</td>\n",
       "      <td>476.0</td>\n",
       "      <td>0.0</td>\n",
       "      <td>0.0</td>\n",
       "      <td>0.0</td>\n",
       "      <td>0.0</td>\n",
       "      <td>0.0</td>\n",
       "      <td>235.0</td>\n",
       "      <td>0.0</td>\n",
       "      <td>2315.0</td>\n",
       "    </tr>\n",
       "    <tr>\n",
       "      <th>358</th>\n",
       "      <td>C1326</td>\n",
       "      <td>1934.0</td>\n",
       "      <td>아파트</td>\n",
       "      <td>부산광역시</td>\n",
       "      <td>국민임대</td>\n",
       "      <td>20.0</td>\n",
       "      <td>472.0</td>\n",
       "      <td>43.0</td>\n",
       "      <td>H</td>\n",
       "      <td>NaN</td>\n",
       "      <td>...</td>\n",
       "      <td>590.0</td>\n",
       "      <td>0.0</td>\n",
       "      <td>0.0</td>\n",
       "      <td>576.0</td>\n",
       "      <td>0.0</td>\n",
       "      <td>0.0</td>\n",
       "      <td>0.0</td>\n",
       "      <td>0.0</td>\n",
       "      <td>0.0</td>\n",
       "      <td>1153.0</td>\n",
       "    </tr>\n",
       "    <tr>\n",
       "      <th>377</th>\n",
       "      <td>C1786</td>\n",
       "      <td>480.0</td>\n",
       "      <td>아파트</td>\n",
       "      <td>강원도</td>\n",
       "      <td>행복주택</td>\n",
       "      <td>15.0</td>\n",
       "      <td>156.0</td>\n",
       "      <td>25.0</td>\n",
       "      <td>K</td>\n",
       "      <td>NaN</td>\n",
       "      <td>...</td>\n",
       "      <td>232.0</td>\n",
       "      <td>0.0</td>\n",
       "      <td>156.0</td>\n",
       "      <td>0.0</td>\n",
       "      <td>0.0</td>\n",
       "      <td>0.0</td>\n",
       "      <td>0.0</td>\n",
       "      <td>0.0</td>\n",
       "      <td>0.0</td>\n",
       "      <td>345.0</td>\n",
       "    </tr>\n",
       "    <tr>\n",
       "      <th>415</th>\n",
       "      <td>C2186</td>\n",
       "      <td>924.0</td>\n",
       "      <td>아파트</td>\n",
       "      <td>대구광역시</td>\n",
       "      <td>국민임대</td>\n",
       "      <td>25.0</td>\n",
       "      <td>238.0</td>\n",
       "      <td>0.0</td>\n",
       "      <td>H</td>\n",
       "      <td>NaN</td>\n",
       "      <td>...</td>\n",
       "      <td>508.0</td>\n",
       "      <td>0.0</td>\n",
       "      <td>0.0</td>\n",
       "      <td>0.0</td>\n",
       "      <td>0.0</td>\n",
       "      <td>0.0</td>\n",
       "      <td>0.0</td>\n",
       "      <td>0.0</td>\n",
       "      <td>0.0</td>\n",
       "      <td>744.0</td>\n",
       "    </tr>\n",
       "    <tr>\n",
       "      <th>147</th>\n",
       "      <td>C2152</td>\n",
       "      <td>120.0</td>\n",
       "      <td>아파트</td>\n",
       "      <td>강원도</td>\n",
       "      <td>영구임대</td>\n",
       "      <td>20.0</td>\n",
       "      <td>66.0</td>\n",
       "      <td>9.0</td>\n",
       "      <td>C</td>\n",
       "      <td>NaN</td>\n",
       "      <td>...</td>\n",
       "      <td>0.0</td>\n",
       "      <td>0.0</td>\n",
       "      <td>0.0</td>\n",
       "      <td>66.0</td>\n",
       "      <td>0.0</td>\n",
       "      <td>0.0</td>\n",
       "      <td>0.0</td>\n",
       "      <td>0.0</td>\n",
       "      <td>0.0</td>\n",
       "      <td>NaN</td>\n",
       "    </tr>\n",
       "  </tbody>\n",
       "</table>\n",
       "<p>7 rows × 30 columns</p>\n",
       "</div>"
      ],
      "text/plain": [
       "      단지코드    총세대수 임대건물구분     지역  공급유형  전용면적  전용면적별세대수   공가수 자격유형  \\\n",
       "274  C1397   370.0    아파트  서울특별시  장기전세  20.0      51.0   9.0    A   \n",
       "282  C1039   790.0    아파트  서울특별시  장기전세  50.0     126.0  13.0    A   \n",
       "321  C1350  1401.0    아파트  대전광역시  공공분양  70.0     317.0   2.0    D   \n",
       "358  C1326  1934.0    아파트  부산광역시  국민임대  20.0     472.0  43.0    H   \n",
       "377  C1786   480.0    아파트    강원도  행복주택  15.0     156.0  25.0    K   \n",
       "415  C2186   924.0    아파트  대구광역시  국민임대  25.0     238.0   0.0    H   \n",
       "147  C2152   120.0    아파트    강원도  영구임대  20.0      66.0   9.0    C   \n",
       "\n",
       "           임대보증금  ...  면적_25.0  면적_70.0  면적_15.0  면적_20.0  면적_100.0  면적_60.0  \\\n",
       "274   87444000.0  ...      0.0      0.0      0.0     51.0       0.0      0.0   \n",
       "282  187694000.0  ...     96.0      0.0      0.0      0.0       0.0      0.0   \n",
       "321          NaN  ...      0.0    476.0      0.0      0.0       0.0      0.0   \n",
       "358          NaN  ...    590.0      0.0      0.0    576.0       0.0      0.0   \n",
       "377          NaN  ...    232.0      0.0    156.0      0.0       0.0      0.0   \n",
       "415          NaN  ...    508.0      0.0      0.0      0.0       0.0      0.0   \n",
       "147          NaN  ...      0.0      0.0      0.0     66.0       0.0      0.0   \n",
       "\n",
       "     면적_75.0  면적_80.0  면적_65.0   등록차량수  \n",
       "274      0.0      0.0      0.0  1595.0  \n",
       "282      0.0      0.0      0.0   645.0  \n",
       "321      0.0    235.0      0.0  2315.0  \n",
       "358      0.0      0.0      0.0  1153.0  \n",
       "377      0.0      0.0      0.0   345.0  \n",
       "415      0.0      0.0      0.0   744.0  \n",
       "147      0.0      0.0      0.0     NaN  \n",
       "\n",
       "[7 rows x 30 columns]"
      ]
     },
     "execution_count": 30,
     "metadata": {},
     "output_type": "execute_result"
    }
   ],
   "source": [
    "df[df['임대료'].isnull()]"
   ]
  },
  {
   "cell_type": "code",
   "execution_count": 31,
   "id": "33c79a60",
   "metadata": {},
   "outputs": [
    {
     "data": {
      "text/plain": [
       "<AxesSubplot:xlabel='자격유형', ylabel='임대료'>"
      ]
     },
     "execution_count": 31,
     "metadata": {},
     "output_type": "execute_result"
    },
    {
     "data": {
      "image/png": "[encoded data removed]",
      "text/plain": [
       "<Figure size 432x288 with 1 Axes>"
      ]
     },
     "metadata": {
      "needs_background": "light"
     },
     "output_type": "display_data"
    }
   ],
   "source": [
    "sns.barplot(x='자격유형', y='임대료', data=df) "
   ]
  },
  {
   "cell_type": "code",
   "execution_count": 32,
   "id": "73da9d43",
   "metadata": {
    "scrolled": true
   },
   "outputs": [
    {
     "data": {
      "text/plain": [
       "<AxesSubplot:xlabel='자격유형', ylabel='임대보증금'>"
      ]
     },
     "execution_count": 32,
     "metadata": {},
     "output_type": "execute_result"
    },
    {
     "data": {
      "image/png": "[encoded data removed]",
      "text/plain": [
       "<Figure size 432x288 with 1 Axes>"
      ]
     },
     "metadata": {
      "needs_background": "light"
     },
     "output_type": "display_data"
    }
   ],
   "source": [
    "sns.barplot(x='자격유형', y='임대보증금', data=df)"
   ]
  },
  {
   "cell_type": "code",
   "execution_count": 33,
   "id": "c3b636b9",
   "metadata": {},
   "outputs": [],
   "source": [
    "#임대료 - train데이터의 평균으로 채우기\n",
    "df.loc[df['임대료'].isnull(), '임대료'] = train2['임대료'].mean()"
   ]
  },
  {
   "cell_type": "code",
   "execution_count": 34,
   "id": "f81c92f1",
   "metadata": {
    "scrolled": true
   },
   "outputs": [],
   "source": [
    "#임대보증금 - train데이터의 평균으로 채우기\n",
    "df.loc[df['임대보증금'].isnull(), '임대보증금'] = train2['임대보증금'].mean()"
   ]
  },
  {
   "cell_type": "markdown",
   "id": "47117878",
   "metadata": {},
   "source": [
    "### 4. 버스\n",
    "- 젤 많은 값인 2로 채움"
   ]
  },
  {
   "cell_type": "code",
   "execution_count": 35,
   "id": "25bd4e86",
   "metadata": {},
   "outputs": [
    {
     "data": {
      "text/html": [
       "<div>\n",
       "<style scoped>\n",
       "    .dataframe tbody tr th:only-of-type {\n",
       "        vertical-align: middle;\n",
       "    }\n",
       "\n",
       "    .dataframe tbody tr th {\n",
       "        vertical-align: top;\n",
       "    }\n",
       "\n",
       "    .dataframe thead th {\n",
       "        text-align: right;\n",
       "    }\n",
       "</style>\n",
       "<table border=\"1\" class=\"dataframe\">\n",
       "  <thead>\n",
       "    <tr style=\"text-align: right;\">\n",
       "      <th></th>\n",
       "      <th>단지코드</th>\n",
       "      <th>총세대수</th>\n",
       "      <th>임대건물구분</th>\n",
       "      <th>지역</th>\n",
       "      <th>공급유형</th>\n",
       "      <th>전용면적</th>\n",
       "      <th>전용면적별세대수</th>\n",
       "      <th>공가수</th>\n",
       "      <th>자격유형</th>\n",
       "      <th>임대보증금</th>\n",
       "      <th>...</th>\n",
       "      <th>면적_25.0</th>\n",
       "      <th>면적_70.0</th>\n",
       "      <th>면적_15.0</th>\n",
       "      <th>면적_20.0</th>\n",
       "      <th>면적_100.0</th>\n",
       "      <th>면적_60.0</th>\n",
       "      <th>면적_75.0</th>\n",
       "      <th>면적_80.0</th>\n",
       "      <th>면적_65.0</th>\n",
       "      <th>등록차량수</th>\n",
       "    </tr>\n",
       "  </thead>\n",
       "  <tbody>\n",
       "    <tr>\n",
       "      <th>318</th>\n",
       "      <td>C1649</td>\n",
       "      <td>575.0</td>\n",
       "      <td>아파트</td>\n",
       "      <td>경상남도</td>\n",
       "      <td>공공임대(10년)</td>\n",
       "      <td>70.0</td>\n",
       "      <td>80.0</td>\n",
       "      <td>15.0</td>\n",
       "      <td>A</td>\n",
       "      <td>46000000.0</td>\n",
       "      <td>...</td>\n",
       "      <td>0.0</td>\n",
       "      <td>80.0</td>\n",
       "      <td>0.0</td>\n",
       "      <td>0.0</td>\n",
       "      <td>0.0</td>\n",
       "      <td>0.0</td>\n",
       "      <td>0.0</td>\n",
       "      <td>495.0</td>\n",
       "      <td>0.0</td>\n",
       "      <td>855.0</td>\n",
       "    </tr>\n",
       "  </tbody>\n",
       "</table>\n",
       "<p>1 rows × 30 columns</p>\n",
       "</div>"
      ],
      "text/plain": [
       "      단지코드   총세대수 임대건물구분    지역       공급유형  전용면적  전용면적별세대수   공가수 자격유형  \\\n",
       "318  C1649  575.0    아파트  경상남도  공공임대(10년)  70.0      80.0  15.0    A   \n",
       "\n",
       "          임대보증금  ...  면적_25.0  면적_70.0  면적_15.0  면적_20.0  면적_100.0  면적_60.0  \\\n",
       "318  46000000.0  ...      0.0     80.0      0.0      0.0       0.0      0.0   \n",
       "\n",
       "     면적_75.0  면적_80.0  면적_65.0  등록차량수  \n",
       "318      0.0    495.0      0.0  855.0  \n",
       "\n",
       "[1 rows x 30 columns]"
      ]
     },
     "execution_count": 35,
     "metadata": {},
     "output_type": "execute_result"
    }
   ],
   "source": [
    "df[df['도보 10분거리 내 버스정류장 수'].isnull()]"
   ]
  },
  {
   "cell_type": "code",
   "execution_count": 36,
   "id": "934074c4",
   "metadata": {
    "scrolled": true
   },
   "outputs": [
    {
     "data": {
      "text/plain": [
       "2.0     113\n",
       "3.0     104\n",
       "4.0      64\n",
       "1.0      45\n",
       "5.0      27\n",
       "6.0      25\n",
       "8.0      13\n",
       "7.0      10\n",
       "10.0      8\n",
       "12.0      4\n",
       "20.0      3\n",
       "16.0      1\n",
       "NaN       1\n",
       "15.0      1\n",
       "14.0      1\n",
       "11.0      1\n",
       "0.0       1\n",
       "19.0      1\n",
       "Name: 도보 10분거리 내 버스정류장 수, dtype: int64"
      ]
     },
     "execution_count": 36,
     "metadata": {},
     "output_type": "execute_result"
    }
   ],
   "source": [
    "train2['도보 10분거리 내 버스정류장 수'].value_counts(dropna=False)"
   ]
  },
  {
   "cell_type": "code",
   "execution_count": 37,
   "id": "6b9b010c",
   "metadata": {},
   "outputs": [],
   "source": [
    "# 제일 많은 값인 2로 채움\n",
    "df['도보 10분거리 내 버스정류장 수'] = df['도보 10분거리 내 버스정류장 수'].fillna(2)"
   ]
  },
  {
   "cell_type": "markdown",
   "id": "039a8c4e",
   "metadata": {},
   "source": [
    "### 5. 지하철\n",
    "- 제일 많은 값이 0으로 채움"
   ]
  },
  {
   "cell_type": "code",
   "execution_count": 38,
   "id": "2cbf1cda",
   "metadata": {},
   "outputs": [
    {
     "data": {
      "text/html": [
       "<div>\n",
       "<style scoped>\n",
       "    .dataframe tbody tr th:only-of-type {\n",
       "        vertical-align: middle;\n",
       "    }\n",
       "\n",
       "    .dataframe tbody tr th {\n",
       "        vertical-align: top;\n",
       "    }\n",
       "\n",
       "    .dataframe thead th {\n",
       "        text-align: right;\n",
       "    }\n",
       "</style>\n",
       "<table border=\"1\" class=\"dataframe\">\n",
       "  <thead>\n",
       "    <tr style=\"text-align: right;\">\n",
       "      <th></th>\n",
       "      <th>단지코드</th>\n",
       "      <th>총세대수</th>\n",
       "      <th>임대건물구분</th>\n",
       "      <th>지역</th>\n",
       "      <th>공급유형</th>\n",
       "      <th>전용면적</th>\n",
       "      <th>전용면적별세대수</th>\n",
       "      <th>공가수</th>\n",
       "      <th>자격유형</th>\n",
       "      <th>임대보증금</th>\n",
       "      <th>...</th>\n",
       "      <th>면적_25.0</th>\n",
       "      <th>면적_70.0</th>\n",
       "      <th>면적_15.0</th>\n",
       "      <th>면적_20.0</th>\n",
       "      <th>면적_100.0</th>\n",
       "      <th>면적_60.0</th>\n",
       "      <th>면적_75.0</th>\n",
       "      <th>면적_80.0</th>\n",
       "      <th>면적_65.0</th>\n",
       "      <th>등록차량수</th>\n",
       "    </tr>\n",
       "  </thead>\n",
       "  <tbody>\n",
       "    <tr>\n",
       "      <th>15</th>\n",
       "      <td>C1312</td>\n",
       "      <td>518.0</td>\n",
       "      <td>아파트</td>\n",
       "      <td>충청남도</td>\n",
       "      <td>국민임대</td>\n",
       "      <td>35.0</td>\n",
       "      <td>60.0</td>\n",
       "      <td>12.0</td>\n",
       "      <td>A</td>\n",
       "      <td>1.746000e+07</td>\n",
       "      <td>...</td>\n",
       "      <td>0.0</td>\n",
       "      <td>0.0</td>\n",
       "      <td>0.0</td>\n",
       "      <td>0.0</td>\n",
       "      <td>0.0</td>\n",
       "      <td>0.0</td>\n",
       "      <td>0.0</td>\n",
       "      <td>0.0</td>\n",
       "      <td>0.0</td>\n",
       "      <td>359.0</td>\n",
       "    </tr>\n",
       "    <tr>\n",
       "      <th>16</th>\n",
       "      <td>C1874</td>\n",
       "      <td>619.0</td>\n",
       "      <td>아파트</td>\n",
       "      <td>충청남도</td>\n",
       "      <td>영구임대</td>\n",
       "      <td>25.0</td>\n",
       "      <td>294.0</td>\n",
       "      <td>2.0</td>\n",
       "      <td>C</td>\n",
       "      <td>3.141000e+06</td>\n",
       "      <td>...</td>\n",
       "      <td>455.0</td>\n",
       "      <td>0.0</td>\n",
       "      <td>3.0</td>\n",
       "      <td>4.0</td>\n",
       "      <td>0.0</td>\n",
       "      <td>0.0</td>\n",
       "      <td>0.0</td>\n",
       "      <td>0.0</td>\n",
       "      <td>0.0</td>\n",
       "      <td>62.0</td>\n",
       "    </tr>\n",
       "    <tr>\n",
       "      <th>20</th>\n",
       "      <td>C1424</td>\n",
       "      <td>625.0</td>\n",
       "      <td>아파트</td>\n",
       "      <td>대전광역시</td>\n",
       "      <td>공공임대(50년)</td>\n",
       "      <td>35.0</td>\n",
       "      <td>268.0</td>\n",
       "      <td>2.0</td>\n",
       "      <td>A</td>\n",
       "      <td>1.424700e+07</td>\n",
       "      <td>...</td>\n",
       "      <td>0.0</td>\n",
       "      <td>0.0</td>\n",
       "      <td>0.0</td>\n",
       "      <td>0.0</td>\n",
       "      <td>0.0</td>\n",
       "      <td>0.0</td>\n",
       "      <td>0.0</td>\n",
       "      <td>0.0</td>\n",
       "      <td>0.0</td>\n",
       "      <td>179.0</td>\n",
       "    </tr>\n",
       "    <tr>\n",
       "      <th>21</th>\n",
       "      <td>C2100</td>\n",
       "      <td>880.0</td>\n",
       "      <td>아파트</td>\n",
       "      <td>대전광역시</td>\n",
       "      <td>국민임대</td>\n",
       "      <td>50.0</td>\n",
       "      <td>46.0</td>\n",
       "      <td>4.0</td>\n",
       "      <td>A</td>\n",
       "      <td>2.230700e+07</td>\n",
       "      <td>...</td>\n",
       "      <td>0.0</td>\n",
       "      <td>0.0</td>\n",
       "      <td>0.0</td>\n",
       "      <td>0.0</td>\n",
       "      <td>0.0</td>\n",
       "      <td>0.0</td>\n",
       "      <td>0.0</td>\n",
       "      <td>0.0</td>\n",
       "      <td>0.0</td>\n",
       "      <td>671.0</td>\n",
       "    </tr>\n",
       "    <tr>\n",
       "      <th>23</th>\n",
       "      <td>C2520</td>\n",
       "      <td>970.0</td>\n",
       "      <td>아파트</td>\n",
       "      <td>대전광역시</td>\n",
       "      <td>공공임대(50년)</td>\n",
       "      <td>35.0</td>\n",
       "      <td>960.0</td>\n",
       "      <td>2.0</td>\n",
       "      <td>A</td>\n",
       "      <td>1.315500e+07</td>\n",
       "      <td>...</td>\n",
       "      <td>0.0</td>\n",
       "      <td>0.0</td>\n",
       "      <td>0.0</td>\n",
       "      <td>0.0</td>\n",
       "      <td>0.0</td>\n",
       "      <td>0.0</td>\n",
       "      <td>0.0</td>\n",
       "      <td>0.0</td>\n",
       "      <td>0.0</td>\n",
       "      <td>386.0</td>\n",
       "    </tr>\n",
       "    <tr>\n",
       "      <th>25</th>\n",
       "      <td>C1616</td>\n",
       "      <td>1507.0</td>\n",
       "      <td>아파트</td>\n",
       "      <td>대전광역시</td>\n",
       "      <td>영구임대</td>\n",
       "      <td>25.0</td>\n",
       "      <td>588.0</td>\n",
       "      <td>1.0</td>\n",
       "      <td>C</td>\n",
       "      <td>5.787000e+06</td>\n",
       "      <td>...</td>\n",
       "      <td>588.0</td>\n",
       "      <td>0.0</td>\n",
       "      <td>0.0</td>\n",
       "      <td>0.0</td>\n",
       "      <td>2.0</td>\n",
       "      <td>0.0</td>\n",
       "      <td>1.0</td>\n",
       "      <td>0.0</td>\n",
       "      <td>0.0</td>\n",
       "      <td>98.0</td>\n",
       "    </tr>\n",
       "    <tr>\n",
       "      <th>26</th>\n",
       "      <td>C1704</td>\n",
       "      <td>639.0</td>\n",
       "      <td>아파트</td>\n",
       "      <td>대전광역시</td>\n",
       "      <td>영구임대</td>\n",
       "      <td>35.0</td>\n",
       "      <td>204.0</td>\n",
       "      <td>34.0</td>\n",
       "      <td>C</td>\n",
       "      <td>8.625000e+06</td>\n",
       "      <td>...</td>\n",
       "      <td>0.0</td>\n",
       "      <td>0.0</td>\n",
       "      <td>0.0</td>\n",
       "      <td>0.0</td>\n",
       "      <td>1.0</td>\n",
       "      <td>0.0</td>\n",
       "      <td>0.0</td>\n",
       "      <td>0.0</td>\n",
       "      <td>0.0</td>\n",
       "      <td>131.0</td>\n",
       "    </tr>\n",
       "    <tr>\n",
       "      <th>27</th>\n",
       "      <td>C2258</td>\n",
       "      <td>965.0</td>\n",
       "      <td>아파트</td>\n",
       "      <td>대전광역시</td>\n",
       "      <td>영구임대</td>\n",
       "      <td>25.0</td>\n",
       "      <td>588.0</td>\n",
       "      <td>13.0</td>\n",
       "      <td>C</td>\n",
       "      <td>5.787000e+06</td>\n",
       "      <td>...</td>\n",
       "      <td>589.0</td>\n",
       "      <td>0.0</td>\n",
       "      <td>3.0</td>\n",
       "      <td>7.0</td>\n",
       "      <td>1.0</td>\n",
       "      <td>0.0</td>\n",
       "      <td>0.0</td>\n",
       "      <td>0.0</td>\n",
       "      <td>0.0</td>\n",
       "      <td>78.0</td>\n",
       "    </tr>\n",
       "    <tr>\n",
       "      <th>36</th>\n",
       "      <td>C1068</td>\n",
       "      <td>806.0</td>\n",
       "      <td>아파트</td>\n",
       "      <td>충청남도</td>\n",
       "      <td>국민임대</td>\n",
       "      <td>35.0</td>\n",
       "      <td>200.0</td>\n",
       "      <td>11.0</td>\n",
       "      <td>A</td>\n",
       "      <td>1.123400e+07</td>\n",
       "      <td>...</td>\n",
       "      <td>0.0</td>\n",
       "      <td>0.0</td>\n",
       "      <td>0.0</td>\n",
       "      <td>0.0</td>\n",
       "      <td>0.0</td>\n",
       "      <td>0.0</td>\n",
       "      <td>0.0</td>\n",
       "      <td>0.0</td>\n",
       "      <td>0.0</td>\n",
       "      <td>510.0</td>\n",
       "    </tr>\n",
       "    <tr>\n",
       "      <th>37</th>\n",
       "      <td>C1983</td>\n",
       "      <td>903.0</td>\n",
       "      <td>아파트</td>\n",
       "      <td>충청남도</td>\n",
       "      <td>공공임대(50년)</td>\n",
       "      <td>35.0</td>\n",
       "      <td>40.0</td>\n",
       "      <td>3.0</td>\n",
       "      <td>A</td>\n",
       "      <td>1.036300e+07</td>\n",
       "      <td>...</td>\n",
       "      <td>478.0</td>\n",
       "      <td>0.0</td>\n",
       "      <td>0.0</td>\n",
       "      <td>0.0</td>\n",
       "      <td>1.0</td>\n",
       "      <td>1.0</td>\n",
       "      <td>0.0</td>\n",
       "      <td>0.0</td>\n",
       "      <td>0.0</td>\n",
       "      <td>253.0</td>\n",
       "    </tr>\n",
       "    <tr>\n",
       "      <th>49</th>\n",
       "      <td>C2216</td>\n",
       "      <td>390.0</td>\n",
       "      <td>아파트</td>\n",
       "      <td>충청남도</td>\n",
       "      <td>공공임대(50년)</td>\n",
       "      <td>35.0</td>\n",
       "      <td>210.0</td>\n",
       "      <td>2.0</td>\n",
       "      <td>A</td>\n",
       "      <td>9.401000e+06</td>\n",
       "      <td>...</td>\n",
       "      <td>0.0</td>\n",
       "      <td>0.0</td>\n",
       "      <td>0.0</td>\n",
       "      <td>0.0</td>\n",
       "      <td>0.0</td>\n",
       "      <td>0.0</td>\n",
       "      <td>0.0</td>\n",
       "      <td>0.0</td>\n",
       "      <td>0.0</td>\n",
       "      <td>149.0</td>\n",
       "    </tr>\n",
       "    <tr>\n",
       "      <th>52</th>\n",
       "      <td>C2644</td>\n",
       "      <td>779.0</td>\n",
       "      <td>아파트</td>\n",
       "      <td>충청남도</td>\n",
       "      <td>공공임대(50년)</td>\n",
       "      <td>35.0</td>\n",
       "      <td>89.0</td>\n",
       "      <td>7.0</td>\n",
       "      <td>A</td>\n",
       "      <td>1.187900e+07</td>\n",
       "      <td>...</td>\n",
       "      <td>388.0</td>\n",
       "      <td>0.0</td>\n",
       "      <td>0.0</td>\n",
       "      <td>0.0</td>\n",
       "      <td>0.0</td>\n",
       "      <td>0.0</td>\n",
       "      <td>0.0</td>\n",
       "      <td>0.0</td>\n",
       "      <td>0.0</td>\n",
       "      <td>177.0</td>\n",
       "    </tr>\n",
       "    <tr>\n",
       "      <th>65</th>\n",
       "      <td>C1005</td>\n",
       "      <td>1144.0</td>\n",
       "      <td>아파트</td>\n",
       "      <td>충청남도</td>\n",
       "      <td>국민임대</td>\n",
       "      <td>50.0</td>\n",
       "      <td>304.0</td>\n",
       "      <td>16.0</td>\n",
       "      <td>A</td>\n",
       "      <td>1.620500e+07</td>\n",
       "      <td>...</td>\n",
       "      <td>0.0</td>\n",
       "      <td>0.0</td>\n",
       "      <td>0.0</td>\n",
       "      <td>0.0</td>\n",
       "      <td>0.0</td>\n",
       "      <td>0.0</td>\n",
       "      <td>0.0</td>\n",
       "      <td>0.0</td>\n",
       "      <td>0.0</td>\n",
       "      <td>376.0</td>\n",
       "    </tr>\n",
       "    <tr>\n",
       "      <th>66</th>\n",
       "      <td>C1004</td>\n",
       "      <td>521.0</td>\n",
       "      <td>아파트</td>\n",
       "      <td>충청남도</td>\n",
       "      <td>영구임대</td>\n",
       "      <td>35.0</td>\n",
       "      <td>240.0</td>\n",
       "      <td>3.0</td>\n",
       "      <td>C</td>\n",
       "      <td>4.682000e+06</td>\n",
       "      <td>...</td>\n",
       "      <td>1.0</td>\n",
       "      <td>0.0</td>\n",
       "      <td>3.0</td>\n",
       "      <td>7.0</td>\n",
       "      <td>1.0</td>\n",
       "      <td>0.0</td>\n",
       "      <td>0.0</td>\n",
       "      <td>0.0</td>\n",
       "      <td>0.0</td>\n",
       "      <td>93.0</td>\n",
       "    </tr>\n",
       "    <tr>\n",
       "      <th>67</th>\n",
       "      <td>C1875</td>\n",
       "      <td>1003.0</td>\n",
       "      <td>아파트</td>\n",
       "      <td>충청남도</td>\n",
       "      <td>영구임대</td>\n",
       "      <td>25.0</td>\n",
       "      <td>596.0</td>\n",
       "      <td>5.0</td>\n",
       "      <td>C</td>\n",
       "      <td>3.141000e+06</td>\n",
       "      <td>...</td>\n",
       "      <td>837.0</td>\n",
       "      <td>0.0</td>\n",
       "      <td>3.0</td>\n",
       "      <td>9.0</td>\n",
       "      <td>1.0</td>\n",
       "      <td>0.0</td>\n",
       "      <td>0.0</td>\n",
       "      <td>0.0</td>\n",
       "      <td>0.0</td>\n",
       "      <td>209.0</td>\n",
       "    </tr>\n",
       "    <tr>\n",
       "      <th>68</th>\n",
       "      <td>C2156</td>\n",
       "      <td>306.0</td>\n",
       "      <td>아파트</td>\n",
       "      <td>충청남도</td>\n",
       "      <td>국민임대</td>\n",
       "      <td>35.0</td>\n",
       "      <td>120.0</td>\n",
       "      <td>0.0</td>\n",
       "      <td>A</td>\n",
       "      <td>8.670000e+06</td>\n",
       "      <td>...</td>\n",
       "      <td>0.0</td>\n",
       "      <td>0.0</td>\n",
       "      <td>0.0</td>\n",
       "      <td>0.0</td>\n",
       "      <td>0.0</td>\n",
       "      <td>0.0</td>\n",
       "      <td>0.0</td>\n",
       "      <td>0.0</td>\n",
       "      <td>0.0</td>\n",
       "      <td>204.0</td>\n",
       "    </tr>\n",
       "    <tr>\n",
       "      <th>72</th>\n",
       "      <td>C1175</td>\n",
       "      <td>468.0</td>\n",
       "      <td>아파트</td>\n",
       "      <td>충청남도</td>\n",
       "      <td>국민임대</td>\n",
       "      <td>45.0</td>\n",
       "      <td>198.0</td>\n",
       "      <td>15.0</td>\n",
       "      <td>A</td>\n",
       "      <td>2.113400e+07</td>\n",
       "      <td>...</td>\n",
       "      <td>0.0</td>\n",
       "      <td>0.0</td>\n",
       "      <td>0.0</td>\n",
       "      <td>0.0</td>\n",
       "      <td>0.0</td>\n",
       "      <td>0.0</td>\n",
       "      <td>0.0</td>\n",
       "      <td>0.0</td>\n",
       "      <td>0.0</td>\n",
       "      <td>430.0</td>\n",
       "    </tr>\n",
       "    <tr>\n",
       "      <th>313</th>\n",
       "      <td>C2583</td>\n",
       "      <td>1106.0</td>\n",
       "      <td>아파트</td>\n",
       "      <td>대전광역시</td>\n",
       "      <td>국민임대</td>\n",
       "      <td>35.0</td>\n",
       "      <td>24.0</td>\n",
       "      <td>21.0</td>\n",
       "      <td>A</td>\n",
       "      <td>1.139700e+07</td>\n",
       "      <td>...</td>\n",
       "      <td>180.0</td>\n",
       "      <td>0.0</td>\n",
       "      <td>0.0</td>\n",
       "      <td>60.0</td>\n",
       "      <td>0.0</td>\n",
       "      <td>0.0</td>\n",
       "      <td>0.0</td>\n",
       "      <td>0.0</td>\n",
       "      <td>0.0</td>\n",
       "      <td>982.0</td>\n",
       "    </tr>\n",
       "    <tr>\n",
       "      <th>318</th>\n",
       "      <td>C1649</td>\n",
       "      <td>575.0</td>\n",
       "      <td>아파트</td>\n",
       "      <td>경상남도</td>\n",
       "      <td>공공임대(10년)</td>\n",
       "      <td>70.0</td>\n",
       "      <td>80.0</td>\n",
       "      <td>15.0</td>\n",
       "      <td>A</td>\n",
       "      <td>4.600000e+07</td>\n",
       "      <td>...</td>\n",
       "      <td>0.0</td>\n",
       "      <td>80.0</td>\n",
       "      <td>0.0</td>\n",
       "      <td>0.0</td>\n",
       "      <td>0.0</td>\n",
       "      <td>0.0</td>\n",
       "      <td>0.0</td>\n",
       "      <td>495.0</td>\n",
       "      <td>0.0</td>\n",
       "      <td>855.0</td>\n",
       "    </tr>\n",
       "    <tr>\n",
       "      <th>321</th>\n",
       "      <td>C1350</td>\n",
       "      <td>1401.0</td>\n",
       "      <td>아파트</td>\n",
       "      <td>대전광역시</td>\n",
       "      <td>공공분양</td>\n",
       "      <td>70.0</td>\n",
       "      <td>317.0</td>\n",
       "      <td>2.0</td>\n",
       "      <td>D</td>\n",
       "      <td>1.815170e+07</td>\n",
       "      <td>...</td>\n",
       "      <td>0.0</td>\n",
       "      <td>476.0</td>\n",
       "      <td>0.0</td>\n",
       "      <td>0.0</td>\n",
       "      <td>0.0</td>\n",
       "      <td>0.0</td>\n",
       "      <td>0.0</td>\n",
       "      <td>235.0</td>\n",
       "      <td>0.0</td>\n",
       "      <td>2315.0</td>\n",
       "    </tr>\n",
       "    <tr>\n",
       "      <th>10</th>\n",
       "      <td>C1472</td>\n",
       "      <td>548.0</td>\n",
       "      <td>아파트</td>\n",
       "      <td>충청남도</td>\n",
       "      <td>국민임대</td>\n",
       "      <td>35.0</td>\n",
       "      <td>116.0</td>\n",
       "      <td>2.0</td>\n",
       "      <td>A</td>\n",
       "      <td>8.738000e+06</td>\n",
       "      <td>...</td>\n",
       "      <td>0.0</td>\n",
       "      <td>0.0</td>\n",
       "      <td>0.0</td>\n",
       "      <td>0.0</td>\n",
       "      <td>0.0</td>\n",
       "      <td>0.0</td>\n",
       "      <td>0.0</td>\n",
       "      <td>0.0</td>\n",
       "      <td>0.0</td>\n",
       "      <td>NaN</td>\n",
       "    </tr>\n",
       "    <tr>\n",
       "      <th>12</th>\n",
       "      <td>C1083</td>\n",
       "      <td>427.0</td>\n",
       "      <td>아파트</td>\n",
       "      <td>대전광역시</td>\n",
       "      <td>국민임대</td>\n",
       "      <td>35.0</td>\n",
       "      <td>40.0</td>\n",
       "      <td>0.0</td>\n",
       "      <td>A</td>\n",
       "      <td>1.248300e+07</td>\n",
       "      <td>...</td>\n",
       "      <td>0.0</td>\n",
       "      <td>0.0</td>\n",
       "      <td>0.0</td>\n",
       "      <td>0.0</td>\n",
       "      <td>0.0</td>\n",
       "      <td>0.0</td>\n",
       "      <td>0.0</td>\n",
       "      <td>0.0</td>\n",
       "      <td>0.0</td>\n",
       "      <td>NaN</td>\n",
       "    </tr>\n",
       "    <tr>\n",
       "      <th>18</th>\n",
       "      <td>C2177</td>\n",
       "      <td>1245.0</td>\n",
       "      <td>아파트</td>\n",
       "      <td>충청남도</td>\n",
       "      <td>영구임대</td>\n",
       "      <td>25.0</td>\n",
       "      <td>478.0</td>\n",
       "      <td>2.0</td>\n",
       "      <td>C</td>\n",
       "      <td>3.141000e+06</td>\n",
       "      <td>...</td>\n",
       "      <td>1077.0</td>\n",
       "      <td>0.0</td>\n",
       "      <td>5.0</td>\n",
       "      <td>6.0</td>\n",
       "      <td>1.0</td>\n",
       "      <td>1.0</td>\n",
       "      <td>0.0</td>\n",
       "      <td>0.0</td>\n",
       "      <td>0.0</td>\n",
       "      <td>NaN</td>\n",
       "    </tr>\n",
       "    <tr>\n",
       "      <th>33</th>\n",
       "      <td>C1318</td>\n",
       "      <td>312.0</td>\n",
       "      <td>아파트</td>\n",
       "      <td>충청남도</td>\n",
       "      <td>공공임대(50년)</td>\n",
       "      <td>35.0</td>\n",
       "      <td>135.0</td>\n",
       "      <td>1.0</td>\n",
       "      <td>A</td>\n",
       "      <td>1.444000e+07</td>\n",
       "      <td>...</td>\n",
       "      <td>0.0</td>\n",
       "      <td>0.0</td>\n",
       "      <td>0.0</td>\n",
       "      <td>0.0</td>\n",
       "      <td>0.0</td>\n",
       "      <td>0.0</td>\n",
       "      <td>0.0</td>\n",
       "      <td>0.0</td>\n",
       "      <td>0.0</td>\n",
       "      <td>NaN</td>\n",
       "    </tr>\n",
       "    <tr>\n",
       "      <th>130</th>\n",
       "      <td>C1327</td>\n",
       "      <td>98.0</td>\n",
       "      <td>아파트</td>\n",
       "      <td>대전광역시</td>\n",
       "      <td>행복주택</td>\n",
       "      <td>15.0</td>\n",
       "      <td>30.0</td>\n",
       "      <td>13.0</td>\n",
       "      <td>J</td>\n",
       "      <td>1.880000e+07</td>\n",
       "      <td>...</td>\n",
       "      <td>20.0</td>\n",
       "      <td>0.0</td>\n",
       "      <td>30.0</td>\n",
       "      <td>0.0</td>\n",
       "      <td>0.0</td>\n",
       "      <td>0.0</td>\n",
       "      <td>0.0</td>\n",
       "      <td>0.0</td>\n",
       "      <td>0.0</td>\n",
       "      <td>NaN</td>\n",
       "    </tr>\n",
       "  </tbody>\n",
       "</table>\n",
       "<p>25 rows × 30 columns</p>\n",
       "</div>"
      ],
      "text/plain": [
       "      단지코드    총세대수 임대건물구분     지역       공급유형  전용면적  전용면적별세대수   공가수 자격유형  \\\n",
       "15   C1312   518.0    아파트   충청남도       국민임대  35.0      60.0  12.0    A   \n",
       "16   C1874   619.0    아파트   충청남도       영구임대  25.0     294.0   2.0    C   \n",
       "20   C1424   625.0    아파트  대전광역시  공공임대(50년)  35.0     268.0   2.0    A   \n",
       "21   C2100   880.0    아파트  대전광역시       국민임대  50.0      46.0   4.0    A   \n",
       "23   C2520   970.0    아파트  대전광역시  공공임대(50년)  35.0     960.0   2.0    A   \n",
       "25   C1616  1507.0    아파트  대전광역시       영구임대  25.0     588.0   1.0    C   \n",
       "26   C1704   639.0    아파트  대전광역시       영구임대  35.0     204.0  34.0    C   \n",
       "27   C2258   965.0    아파트  대전광역시       영구임대  25.0     588.0  13.0    C   \n",
       "36   C1068   806.0    아파트   충청남도       국민임대  35.0     200.0  11.0    A   \n",
       "37   C1983   903.0    아파트   충청남도  공공임대(50년)  35.0      40.0   3.0    A   \n",
       "49   C2216   390.0    아파트   충청남도  공공임대(50년)  35.0     210.0   2.0    A   \n",
       "52   C2644   779.0    아파트   충청남도  공공임대(50년)  35.0      89.0   7.0    A   \n",
       "65   C1005  1144.0    아파트   충청남도       국민임대  50.0     304.0  16.0    A   \n",
       "66   C1004   521.0    아파트   충청남도       영구임대  35.0     240.0   3.0    C   \n",
       "67   C1875  1003.0    아파트   충청남도       영구임대  25.0     596.0   5.0    C   \n",
       "68   C2156   306.0    아파트   충청남도       국민임대  35.0     120.0   0.0    A   \n",
       "72   C1175   468.0    아파트   충청남도       국민임대  45.0     198.0  15.0    A   \n",
       "313  C2583  1106.0    아파트  대전광역시       국민임대  35.0      24.0  21.0    A   \n",
       "318  C1649   575.0    아파트   경상남도  공공임대(10년)  70.0      80.0  15.0    A   \n",
       "321  C1350  1401.0    아파트  대전광역시       공공분양  70.0     317.0   2.0    D   \n",
       "10   C1472   548.0    아파트   충청남도       국민임대  35.0     116.0   2.0    A   \n",
       "12   C1083   427.0    아파트  대전광역시       국민임대  35.0      40.0   0.0    A   \n",
       "18   C2177  1245.0    아파트   충청남도       영구임대  25.0     478.0   2.0    C   \n",
       "33   C1318   312.0    아파트   충청남도  공공임대(50년)  35.0     135.0   1.0    A   \n",
       "130  C1327    98.0    아파트  대전광역시       행복주택  15.0      30.0  13.0    J   \n",
       "\n",
       "            임대보증금  ...  면적_25.0  면적_70.0  면적_15.0  면적_20.0  면적_100.0  면적_60.0  \\\n",
       "15   1.746000e+07  ...      0.0      0.0      0.0      0.0       0.0      0.0   \n",
       "16   3.141000e+06  ...    455.0      0.0      3.0      4.0       0.0      0.0   \n",
       "20   1.424700e+07  ...      0.0      0.0      0.0      0.0       0.0      0.0   \n",
       "21   2.230700e+07  ...      0.0      0.0      0.0      0.0       0.0      0.0   \n",
       "23   1.315500e+07  ...      0.0      0.0      0.0      0.0       0.0      0.0   \n",
       "25   5.787000e+06  ...    588.0      0.0      0.0      0.0       2.0      0.0   \n",
       "26   8.625000e+06  ...      0.0      0.0      0.0      0.0       1.0      0.0   \n",
       "27   5.787000e+06  ...    589.0      0.0      3.0      7.0       1.0      0.0   \n",
       "36   1.123400e+07  ...      0.0      0.0      0.0      0.0       0.0      0.0   \n",
       "37   1.036300e+07  ...    478.0      0.0      0.0      0.0       1.0      1.0   \n",
       "49   9.401000e+06  ...      0.0      0.0      0.0      0.0       0.0      0.0   \n",
       "52   1.187900e+07  ...    388.0      0.0      0.0      0.0       0.0      0.0   \n",
       "65   1.620500e+07  ...      0.0      0.0      0.0      0.0       0.0      0.0   \n",
       "66   4.682000e+06  ...      1.0      0.0      3.0      7.0       1.0      0.0   \n",
       "67   3.141000e+06  ...    837.0      0.0      3.0      9.0       1.0      0.0   \n",
       "68   8.670000e+06  ...      0.0      0.0      0.0      0.0       0.0      0.0   \n",
       "72   2.113400e+07  ...      0.0      0.0      0.0      0.0       0.0      0.0   \n",
       "313  1.139700e+07  ...    180.0      0.0      0.0     60.0       0.0      0.0   \n",
       "318  4.600000e+07  ...      0.0     80.0      0.0      0.0       0.0      0.0   \n",
       "321  1.815170e+07  ...      0.0    476.0      0.0      0.0       0.0      0.0   \n",
       "10   8.738000e+06  ...      0.0      0.0      0.0      0.0       0.0      0.0   \n",
       "12   1.248300e+07  ...      0.0      0.0      0.0      0.0       0.0      0.0   \n",
       "18   3.141000e+06  ...   1077.0      0.0      5.0      6.0       1.0      1.0   \n",
       "33   1.444000e+07  ...      0.0      0.0      0.0      0.0       0.0      0.0   \n",
       "130  1.880000e+07  ...     20.0      0.0     30.0      0.0       0.0      0.0   \n",
       "\n",
       "     면적_75.0  면적_80.0  면적_65.0   등록차량수  \n",
       "15       0.0      0.0      0.0   359.0  \n",
       "16       0.0      0.0      0.0    62.0  \n",
       "20       0.0      0.0      0.0   179.0  \n",
       "21       0.0      0.0      0.0   671.0  \n",
       "23       0.0      0.0      0.0   386.0  \n",
       "25       1.0      0.0      0.0    98.0  \n",
       "26       0.0      0.0      0.0   131.0  \n",
       "27       0.0      0.0      0.0    78.0  \n",
       "36       0.0      0.0      0.0   510.0  \n",
       "37       0.0      0.0      0.0   253.0  \n",
       "49       0.0      0.0      0.0   149.0  \n",
       "52       0.0      0.0      0.0   177.0  \n",
       "65       0.0      0.0      0.0   376.0  \n",
       "66       0.0      0.0      0.0    93.0  \n",
       "67       0.0      0.0      0.0   209.0  \n",
       "68       0.0      0.0      0.0   204.0  \n",
       "72       0.0      0.0      0.0   430.0  \n",
       "313      0.0      0.0      0.0   982.0  \n",
       "318      0.0    495.0      0.0   855.0  \n",
       "321      0.0    235.0      0.0  2315.0  \n",
       "10       0.0      0.0      0.0     NaN  \n",
       "12       0.0      0.0      0.0     NaN  \n",
       "18       0.0      0.0      0.0     NaN  \n",
       "33       0.0      0.0      0.0     NaN  \n",
       "130      0.0      0.0      0.0     NaN  \n",
       "\n",
       "[25 rows x 30 columns]"
      ]
     },
     "execution_count": 38,
     "metadata": {},
     "output_type": "execute_result"
    }
   ],
   "source": [
    "df[df['도보 10분거리 내 지하철역 수(환승노선 수 반영)'].isnull()]"
   ]
  },
  {
   "cell_type": "code",
   "execution_count": 39,
   "id": "2ee8bda9",
   "metadata": {},
   "outputs": [
    {
     "data": {
      "text/plain": [
       "0.0    359\n",
       "1.0     38\n",
       "NaN     20\n",
       "2.0      5\n",
       "3.0      1\n",
       "Name: 도보 10분거리 내 지하철역 수(환승노선 수 반영), dtype: int64"
      ]
     },
     "execution_count": 39,
     "metadata": {},
     "output_type": "execute_result"
    }
   ],
   "source": [
    "train2['도보 10분거리 내 지하철역 수(환승노선 수 반영)'].value_counts(dropna=False)"
   ]
  },
  {
   "cell_type": "code",
   "execution_count": 40,
   "id": "e821df1b",
   "metadata": {},
   "outputs": [],
   "source": [
    "# 원래는 단지코드에 해당하는 역 수를 채울려고 했는데 없으니까 그냥 역 수 중에서 가장 많은 값인 0으로 채운다.\n",
    "df['도보 10분거리 내 지하철역 수(환승노선 수 반영)'] = df['도보 10분거리 내 지하철역 수(환승노선 수 반영)'].fillna(0)"
   ]
  },
  {
   "cell_type": "markdown",
   "id": "fea44264",
   "metadata": {},
   "source": [
    "결측값 처리 최종!!!"
   ]
  },
  {
   "cell_type": "code",
   "execution_count": 41,
   "id": "209b7d6f",
   "metadata": {},
   "outputs": [
    {
     "data": {
      "text/plain": [
       "단지코드                              0\n",
       "총세대수                              0\n",
       "임대건물구분                            0\n",
       "지역                                0\n",
       "공급유형                              0\n",
       "전용면적                              0\n",
       "전용면적별세대수                          0\n",
       "공가수                               0\n",
       "자격유형                              0\n",
       "임대보증금                             0\n",
       "임대료                               0\n",
       "도보 10분거리 내 지하철역 수(환승노선 수 반영)      0\n",
       "도보 10분거리 내 버스정류장 수                0\n",
       "단지내주차면수                           0\n",
       "면적_35.0                           0\n",
       "면적_50.0                           0\n",
       "면적_55.0                           0\n",
       "면적_30.0                           0\n",
       "면적_45.0                           0\n",
       "면적_40.0                           0\n",
       "면적_25.0                           0\n",
       "면적_70.0                           0\n",
       "면적_15.0                           0\n",
       "면적_20.0                           0\n",
       "면적_100.0                          0\n",
       "면적_60.0                           0\n",
       "면적_75.0                           0\n",
       "면적_80.0                           0\n",
       "면적_65.0                           0\n",
       "등록차량수                           150\n",
       "dtype: int64"
      ]
     },
     "execution_count": 41,
     "metadata": {},
     "output_type": "execute_result"
    }
   ],
   "source": [
    "#결측값 처리: 최종\n",
    "df.isnull().sum()"
   ]
  },
  {
   "cell_type": "markdown",
   "id": "957af139",
   "metadata": {},
   "source": [
    "# 2. 시각화"
   ]
  },
  {
   "cell_type": "code",
   "execution_count": 42,
   "id": "8ed51688",
   "metadata": {},
   "outputs": [
    {
     "data": {
      "text/html": [
       "<div>\n",
       "<style scoped>\n",
       "    .dataframe tbody tr th:only-of-type {\n",
       "        vertical-align: middle;\n",
       "    }\n",
       "\n",
       "    .dataframe tbody tr th {\n",
       "        vertical-align: top;\n",
       "    }\n",
       "\n",
       "    .dataframe thead th {\n",
       "        text-align: right;\n",
       "    }\n",
       "</style>\n",
       "<table border=\"1\" class=\"dataframe\">\n",
       "  <thead>\n",
       "    <tr style=\"text-align: right;\">\n",
       "      <th></th>\n",
       "      <th>단지코드</th>\n",
       "      <th>총세대수</th>\n",
       "      <th>임대건물구분</th>\n",
       "      <th>지역</th>\n",
       "      <th>공급유형</th>\n",
       "      <th>전용면적</th>\n",
       "      <th>전용면적별세대수</th>\n",
       "      <th>공가수</th>\n",
       "      <th>자격유형</th>\n",
       "      <th>임대보증금</th>\n",
       "      <th>...</th>\n",
       "      <th>면적_25.0</th>\n",
       "      <th>면적_70.0</th>\n",
       "      <th>면적_15.0</th>\n",
       "      <th>면적_20.0</th>\n",
       "      <th>면적_100.0</th>\n",
       "      <th>면적_60.0</th>\n",
       "      <th>면적_75.0</th>\n",
       "      <th>면적_80.0</th>\n",
       "      <th>면적_65.0</th>\n",
       "      <th>등록차량수</th>\n",
       "    </tr>\n",
       "  </thead>\n",
       "  <tbody>\n",
       "    <tr>\n",
       "      <th>0</th>\n",
       "      <td>C2483</td>\n",
       "      <td>900.0</td>\n",
       "      <td>아파트</td>\n",
       "      <td>경상북도</td>\n",
       "      <td>국민임대</td>\n",
       "      <td>35.0</td>\n",
       "      <td>134.0</td>\n",
       "      <td>38.0</td>\n",
       "      <td>A</td>\n",
       "      <td>15667000.0</td>\n",
       "      <td>...</td>\n",
       "      <td>0.0</td>\n",
       "      <td>0.0</td>\n",
       "      <td>0.0</td>\n",
       "      <td>0.0</td>\n",
       "      <td>0.0</td>\n",
       "      <td>0.0</td>\n",
       "      <td>0.0</td>\n",
       "      <td>0.0</td>\n",
       "      <td>0.0</td>\n",
       "      <td>1015.0</td>\n",
       "    </tr>\n",
       "    <tr>\n",
       "      <th>1</th>\n",
       "      <td>C2515</td>\n",
       "      <td>545.0</td>\n",
       "      <td>아파트</td>\n",
       "      <td>경상남도</td>\n",
       "      <td>국민임대</td>\n",
       "      <td>30.0</td>\n",
       "      <td>276.0</td>\n",
       "      <td>17.0</td>\n",
       "      <td>A</td>\n",
       "      <td>9216000.0</td>\n",
       "      <td>...</td>\n",
       "      <td>0.0</td>\n",
       "      <td>0.0</td>\n",
       "      <td>0.0</td>\n",
       "      <td>0.0</td>\n",
       "      <td>0.0</td>\n",
       "      <td>0.0</td>\n",
       "      <td>0.0</td>\n",
       "      <td>0.0</td>\n",
       "      <td>0.0</td>\n",
       "      <td>205.0</td>\n",
       "    </tr>\n",
       "    <tr>\n",
       "      <th>2</th>\n",
       "      <td>C1407</td>\n",
       "      <td>1216.0</td>\n",
       "      <td>아파트</td>\n",
       "      <td>대전광역시</td>\n",
       "      <td>국민임대</td>\n",
       "      <td>30.0</td>\n",
       "      <td>288.0</td>\n",
       "      <td>13.0</td>\n",
       "      <td>A</td>\n",
       "      <td>15620000.0</td>\n",
       "      <td>...</td>\n",
       "      <td>0.0</td>\n",
       "      <td>0.0</td>\n",
       "      <td>0.0</td>\n",
       "      <td>0.0</td>\n",
       "      <td>0.0</td>\n",
       "      <td>0.0</td>\n",
       "      <td>0.0</td>\n",
       "      <td>0.0</td>\n",
       "      <td>0.0</td>\n",
       "      <td>1064.0</td>\n",
       "    </tr>\n",
       "    <tr>\n",
       "      <th>3</th>\n",
       "      <td>C1945</td>\n",
       "      <td>755.0</td>\n",
       "      <td>아파트</td>\n",
       "      <td>경기도</td>\n",
       "      <td>국민임대</td>\n",
       "      <td>35.0</td>\n",
       "      <td>120.0</td>\n",
       "      <td>6.0</td>\n",
       "      <td>B</td>\n",
       "      <td>15607000.0</td>\n",
       "      <td>...</td>\n",
       "      <td>0.0</td>\n",
       "      <td>0.0</td>\n",
       "      <td>0.0</td>\n",
       "      <td>0.0</td>\n",
       "      <td>0.0</td>\n",
       "      <td>0.0</td>\n",
       "      <td>0.0</td>\n",
       "      <td>0.0</td>\n",
       "      <td>0.0</td>\n",
       "      <td>730.0</td>\n",
       "    </tr>\n",
       "    <tr>\n",
       "      <th>4</th>\n",
       "      <td>C1470</td>\n",
       "      <td>696.0</td>\n",
       "      <td>아파트</td>\n",
       "      <td>전라북도</td>\n",
       "      <td>국민임대</td>\n",
       "      <td>35.0</td>\n",
       "      <td>228.0</td>\n",
       "      <td>14.0</td>\n",
       "      <td>A</td>\n",
       "      <td>12015000.0</td>\n",
       "      <td>...</td>\n",
       "      <td>0.0</td>\n",
       "      <td>0.0</td>\n",
       "      <td>0.0</td>\n",
       "      <td>0.0</td>\n",
       "      <td>0.0</td>\n",
       "      <td>0.0</td>\n",
       "      <td>0.0</td>\n",
       "      <td>0.0</td>\n",
       "      <td>0.0</td>\n",
       "      <td>553.0</td>\n",
       "    </tr>\n",
       "  </tbody>\n",
       "</table>\n",
       "<p>5 rows × 30 columns</p>\n",
       "</div>"
      ],
      "text/plain": [
       "    단지코드    총세대수 임대건물구분     지역  공급유형  전용면적  전용면적별세대수   공가수 자격유형       임대보증금  \\\n",
       "0  C2483   900.0    아파트   경상북도  국민임대  35.0     134.0  38.0    A  15667000.0   \n",
       "1  C2515   545.0    아파트   경상남도  국민임대  30.0     276.0  17.0    A   9216000.0   \n",
       "2  C1407  1216.0    아파트  대전광역시  국민임대  30.0     288.0  13.0    A  15620000.0   \n",
       "3  C1945   755.0    아파트    경기도  국민임대  35.0     120.0   6.0    B  15607000.0   \n",
       "4  C1470   696.0    아파트   전라북도  국민임대  35.0     228.0  14.0    A  12015000.0   \n",
       "\n",
       "   ...  면적_25.0  면적_70.0  면적_15.0  면적_20.0  면적_100.0  면적_60.0  면적_75.0  \\\n",
       "0  ...      0.0      0.0      0.0      0.0       0.0      0.0      0.0   \n",
       "1  ...      0.0      0.0      0.0      0.0       0.0      0.0      0.0   \n",
       "2  ...      0.0      0.0      0.0      0.0       0.0      0.0      0.0   \n",
       "3  ...      0.0      0.0      0.0      0.0       0.0      0.0      0.0   \n",
       "4  ...      0.0      0.0      0.0      0.0       0.0      0.0      0.0   \n",
       "\n",
       "   면적_80.0  면적_65.0   등록차량수  \n",
       "0      0.0      0.0  1015.0  \n",
       "1      0.0      0.0   205.0  \n",
       "2      0.0      0.0  1064.0  \n",
       "3      0.0      0.0   730.0  \n",
       "4      0.0      0.0   553.0  \n",
       "\n",
       "[5 rows x 30 columns]"
      ]
     },
     "execution_count": 42,
     "metadata": {},
     "output_type": "execute_result"
    }
   ],
   "source": [
    "#타깃값과의 관계를 시각화하기 위해 new_train 만들기\n",
    "new_train=df.iloc[:len(train2), :]\n",
    "new_test=df.iloc[len(train2):, :-1]\n",
    "new_train.head()"
   ]
  },
  {
   "cell_type": "code",
   "execution_count": 43,
   "id": "848b1ef1",
   "metadata": {},
   "outputs": [
    {
     "data": {
      "text/plain": [
       "((423, 30), (150, 29))"
      ]
     },
     "execution_count": 43,
     "metadata": {},
     "output_type": "execute_result"
    }
   ],
   "source": [
    "new_train.shape, new_test.shape"
   ]
  },
  {
   "cell_type": "markdown",
   "id": "70b7c849",
   "metadata": {},
   "source": [
    "## (1) 범주형 변수\n",
    "- 공급유형, 단지코드, 임대건물구분, 자격유형, 지역"
   ]
  },
  {
   "cell_type": "markdown",
   "id": "36050183",
   "metadata": {},
   "source": [
    "### 1. 공급유형과 자격유형간의 관계 \n",
    "-> 매우 높음"
   ]
  },
  {
   "cell_type": "code",
   "execution_count": 44,
   "id": "d240f4e2",
   "metadata": {
    "scrolled": true
   },
   "outputs": [
    {
     "data": {
      "text/html": [
       "<div>\n",
       "<style scoped>\n",
       "    .dataframe tbody tr th:only-of-type {\n",
       "        vertical-align: middle;\n",
       "    }\n",
       "\n",
       "    .dataframe tbody tr th {\n",
       "        vertical-align: top;\n",
       "    }\n",
       "\n",
       "    .dataframe thead th {\n",
       "        text-align: right;\n",
       "    }\n",
       "</style>\n",
       "<table border=\"1\" class=\"dataframe\">\n",
       "  <thead>\n",
       "    <tr style=\"text-align: right;\">\n",
       "      <th>자격유형</th>\n",
       "      <th>A</th>\n",
       "      <th>B</th>\n",
       "      <th>C</th>\n",
       "      <th>D</th>\n",
       "      <th>E</th>\n",
       "      <th>F</th>\n",
       "      <th>G</th>\n",
       "      <th>H</th>\n",
       "      <th>J</th>\n",
       "      <th>K</th>\n",
       "      <th>L</th>\n",
       "      <th>M</th>\n",
       "      <th>N</th>\n",
       "    </tr>\n",
       "    <tr>\n",
       "      <th>공급유형</th>\n",
       "      <th></th>\n",
       "      <th></th>\n",
       "      <th></th>\n",
       "      <th></th>\n",
       "      <th></th>\n",
       "      <th></th>\n",
       "      <th></th>\n",
       "      <th></th>\n",
       "      <th></th>\n",
       "      <th></th>\n",
       "      <th></th>\n",
       "      <th></th>\n",
       "      <th></th>\n",
       "    </tr>\n",
       "  </thead>\n",
       "  <tbody>\n",
       "    <tr>\n",
       "      <th>공공분양</th>\n",
       "      <td>0</td>\n",
       "      <td>0</td>\n",
       "      <td>0</td>\n",
       "      <td>1</td>\n",
       "      <td>0</td>\n",
       "      <td>0</td>\n",
       "      <td>0</td>\n",
       "      <td>0</td>\n",
       "      <td>0</td>\n",
       "      <td>0</td>\n",
       "      <td>0</td>\n",
       "      <td>0</td>\n",
       "      <td>0</td>\n",
       "    </tr>\n",
       "    <tr>\n",
       "      <th>공공임대(10년)</th>\n",
       "      <td>45</td>\n",
       "      <td>0</td>\n",
       "      <td>0</td>\n",
       "      <td>0</td>\n",
       "      <td>0</td>\n",
       "      <td>0</td>\n",
       "      <td>0</td>\n",
       "      <td>0</td>\n",
       "      <td>0</td>\n",
       "      <td>0</td>\n",
       "      <td>0</td>\n",
       "      <td>0</td>\n",
       "      <td>0</td>\n",
       "    </tr>\n",
       "    <tr>\n",
       "      <th>공공임대(50년)</th>\n",
       "      <td>14</td>\n",
       "      <td>0</td>\n",
       "      <td>0</td>\n",
       "      <td>0</td>\n",
       "      <td>0</td>\n",
       "      <td>0</td>\n",
       "      <td>0</td>\n",
       "      <td>0</td>\n",
       "      <td>0</td>\n",
       "      <td>0</td>\n",
       "      <td>0</td>\n",
       "      <td>0</td>\n",
       "      <td>0</td>\n",
       "    </tr>\n",
       "    <tr>\n",
       "      <th>공공임대(5년)</th>\n",
       "      <td>1</td>\n",
       "      <td>0</td>\n",
       "      <td>0</td>\n",
       "      <td>0</td>\n",
       "      <td>0</td>\n",
       "      <td>0</td>\n",
       "      <td>0</td>\n",
       "      <td>0</td>\n",
       "      <td>0</td>\n",
       "      <td>0</td>\n",
       "      <td>0</td>\n",
       "      <td>0</td>\n",
       "      <td>0</td>\n",
       "    </tr>\n",
       "    <tr>\n",
       "      <th>국민임대</th>\n",
       "      <td>372</td>\n",
       "      <td>3</td>\n",
       "      <td>0</td>\n",
       "      <td>0</td>\n",
       "      <td>5</td>\n",
       "      <td>0</td>\n",
       "      <td>3</td>\n",
       "      <td>43</td>\n",
       "      <td>0</td>\n",
       "      <td>0</td>\n",
       "      <td>0</td>\n",
       "      <td>0</td>\n",
       "      <td>0</td>\n",
       "    </tr>\n",
       "    <tr>\n",
       "      <th>영구임대</th>\n",
       "      <td>1</td>\n",
       "      <td>0</td>\n",
       "      <td>38</td>\n",
       "      <td>0</td>\n",
       "      <td>0</td>\n",
       "      <td>1</td>\n",
       "      <td>0</td>\n",
       "      <td>0</td>\n",
       "      <td>0</td>\n",
       "      <td>0</td>\n",
       "      <td>0</td>\n",
       "      <td>0</td>\n",
       "      <td>0</td>\n",
       "    </tr>\n",
       "    <tr>\n",
       "      <th>장기전세</th>\n",
       "      <td>2</td>\n",
       "      <td>0</td>\n",
       "      <td>0</td>\n",
       "      <td>0</td>\n",
       "      <td>0</td>\n",
       "      <td>0</td>\n",
       "      <td>0</td>\n",
       "      <td>0</td>\n",
       "      <td>0</td>\n",
       "      <td>0</td>\n",
       "      <td>0</td>\n",
       "      <td>0</td>\n",
       "      <td>0</td>\n",
       "    </tr>\n",
       "    <tr>\n",
       "      <th>행복주택</th>\n",
       "      <td>0</td>\n",
       "      <td>0</td>\n",
       "      <td>0</td>\n",
       "      <td>0</td>\n",
       "      <td>0</td>\n",
       "      <td>0</td>\n",
       "      <td>0</td>\n",
       "      <td>0</td>\n",
       "      <td>27</td>\n",
       "      <td>7</td>\n",
       "      <td>5</td>\n",
       "      <td>2</td>\n",
       "      <td>3</td>\n",
       "    </tr>\n",
       "  </tbody>\n",
       "</table>\n",
       "</div>"
      ],
      "text/plain": [
       "자격유형         A  B   C  D  E  F  G   H   J  K  L  M  N\n",
       "공급유형                                                 \n",
       "공공분양         0  0   0  1  0  0  0   0   0  0  0  0  0\n",
       "공공임대(10년)   45  0   0  0  0  0  0   0   0  0  0  0  0\n",
       "공공임대(50년)   14  0   0  0  0  0  0   0   0  0  0  0  0\n",
       "공공임대(5년)     1  0   0  0  0  0  0   0   0  0  0  0  0\n",
       "국민임대       372  3   0  0  5  0  3  43   0  0  0  0  0\n",
       "영구임대         1  0  38  0  0  1  0   0   0  0  0  0  0\n",
       "장기전세         2  0   0  0  0  0  0   0   0  0  0  0  0\n",
       "행복주택         0  0   0  0  0  0  0   0  27  7  5  2  3"
      ]
     },
     "execution_count": 44,
     "metadata": {},
     "output_type": "execute_result"
    }
   ],
   "source": [
    "pd.crosstab(df['공급유형'], df['자격유형'])"
   ]
  },
  {
   "cell_type": "markdown",
   "id": "8d2d9a0c",
   "metadata": {},
   "source": [
    "### 2. 단지코드와 타깃값과의 관계\n",
    "-> 제거 X"
   ]
  },
  {
   "cell_type": "code",
   "execution_count": 45,
   "id": "38fd23f4",
   "metadata": {
    "scrolled": true
   },
   "outputs": [
    {
     "data": {
      "text/plain": [
       "<AxesSubplot:xlabel='단지코드', ylabel='등록차량수'>"
      ]
     },
     "execution_count": 45,
     "metadata": {},
     "output_type": "execute_result"
    },
    {
     "data": {
      "image/png": "[encoded data removed]",
      "text/plain": [
       "<Figure size 432x288 with 1 Axes>"
      ]
     },
     "metadata": {
      "needs_background": "light"
     },
     "output_type": "display_data"
    }
   ],
   "source": [
    "sns.barplot(data=new_train, x='단지코드', y='등록차량수')"
   ]
  },
  {
   "cell_type": "markdown",
   "id": "5df96a77",
   "metadata": {},
   "source": [
    "### 3. 임대건물구분과 타깃값과의 관계\n",
    "-> 모두 다 아파트니까 삭제"
   ]
  },
  {
   "cell_type": "code",
   "execution_count": 46,
   "id": "f0cf3c65",
   "metadata": {
    "scrolled": true
   },
   "outputs": [
    {
     "data": {
      "text/plain": [
       "<AxesSubplot:xlabel='임대건물구분', ylabel='등록차량수'>"
      ]
     },
     "execution_count": 46,
     "metadata": {},
     "output_type": "execute_result"
    },
    {
     "data": {
      "image/png": "[encoded data removed]",
      "text/plain": [
       "<Figure size 432x288 with 1 Axes>"
      ]
     },
     "metadata": {
      "needs_background": "light"
     },
     "output_type": "display_data"
    }
   ],
   "source": [
    "sns.barplot(data=new_train, x='임대건물구분', y='등록차량수')"
   ]
  },
  {
   "cell_type": "markdown",
   "id": "429860b7",
   "metadata": {},
   "source": [
    "### 4. 지역과 타깃값과의 관계\n",
    "-> 제거 X"
   ]
  },
  {
   "cell_type": "code",
   "execution_count": 47,
   "id": "c65af466",
   "metadata": {},
   "outputs": [
    {
     "data": {
      "text/plain": [
       "<AxesSubplot:xlabel='지역', ylabel='등록차량수'>"
      ]
     },
     "execution_count": 47,
     "metadata": {},
     "output_type": "execute_result"
    },
    {
     "data": {
      "image/png": "[encoded data removed]",
      "text/plain": [
       "<Figure size 1296x504 with 1 Axes>"
      ]
     },
     "metadata": {
      "needs_background": "light"
     },
     "output_type": "display_data"
    }
   ],
   "source": [
    "plt.figure(figsize=(18,7))\n",
    "sns.barplot(data=new_train, x='지역', y='등록차량수')"
   ]
  },
  {
   "cell_type": "markdown",
   "id": "6aefd75b",
   "metadata": {},
   "source": [
    "### 5. 공급유형\n",
    "-> 공공분양, 장기전세는 임대가 아니므로 없애고, 다른 임대유형들은 따로 컬럼을 만들어줌"
   ]
  },
  {
   "cell_type": "code",
   "execution_count": 48,
   "id": "5ff289b5",
   "metadata": {},
   "outputs": [],
   "source": [
    "# # 원핫 인코딩 이용\n",
    "# new_train = pd.get_dummies(new_train, columns=['공급유형'])\n",
    "# new_test = pd.get_dummies(new_test, columns=['공급유형'])"
   ]
  },
  {
   "cell_type": "code",
   "execution_count": 49,
   "id": "e89da709",
   "metadata": {},
   "outputs": [],
   "source": [
    "# new_train.drop(['공급유형_공공분양', '공급유형_장기전세', '자격유형'], axis=1, inplace=True)\n",
    "# new_test.drop(['자격유형'], axis=1, inplace=True) #테스트에는 공공분양, 장기전세 없음"
   ]
  },
  {
   "cell_type": "markdown",
   "id": "cdae4d04",
   "metadata": {},
   "source": [
    "## (2) 수치형 변수\n",
    "공가수, 단지내주차면수, 버스정류장 수, 지하철역 수, 임대료, 임대보증금, 전용면적, 전용면적별세대수, 총세대수  "
   ]
  },
  {
   "cell_type": "markdown",
   "id": "cfc762cb",
   "metadata": {},
   "source": [
    "### 히트맵\n",
    "히트맵을 통해서는 단지내주차면수의 값만 가장 유의미하게 타깃값과 관계성이 있음"
   ]
  },
  {
   "cell_type": "code",
   "execution_count": 50,
   "id": "73fd14df",
   "metadata": {},
   "outputs": [
    {
     "data": {
      "text/plain": [
       "Index(['단지코드', '총세대수', '임대건물구분', '지역', '공급유형', '전용면적', '전용면적별세대수', '공가수',\n",
       "       '자격유형', '임대보증금', '임대료', '지하철역 수', '버스정류장 수', '단지내주차면수', '면적_35.0',\n",
       "       '면적_50.0', '면적_55.0', '면적_30.0', '면적_45.0', '면적_40.0', '면적_25.0',\n",
       "       '면적_70.0', '면적_15.0', '면적_20.0', '면적_100.0', '면적_60.0', '면적_75.0',\n",
       "       '면적_80.0', '면적_65.0', '등록차량수'],\n",
       "      dtype='object')"
      ]
     },
     "execution_count": 50,
     "metadata": {},
     "output_type": "execute_result"
    }
   ],
   "source": [
    "train_heat = new_train.rename(columns={'도보 10분거리 내 지하철역 수(환승노선 수 반영)':'지하철역 수', '도보 10분거리 내 버스정류장 수': '버스정류장 수'})\n",
    "train_heat.columns"
   ]
  },
  {
   "cell_type": "code",
   "execution_count": 51,
   "id": "1496960a",
   "metadata": {
    "scrolled": true
   },
   "outputs": [
    {
     "data": {
      "text/plain": [
       "<AxesSubplot:>"
      ]
     },
     "execution_count": 51,
     "metadata": {},
     "output_type": "execute_result"
    },
    {
     "data": {
      "image/png": "[encoded data removed]",
      "text/plain": [
       "<Figure size 1080x1080 with 2 Axes>"
      ]
     },
     "metadata": {
      "needs_background": "light"
     },
     "output_type": "display_data"
    }
   ],
   "source": [
    "plt.figure(figsize=(15,15))\n",
    "sns.heatmap(train_heat.corr(),annot= True,cmap=\"YlGnBu\")"
   ]
  },
  {
   "cell_type": "markdown",
   "id": "cb870daf",
   "metadata": {},
   "source": [
    "### 1. 단지내주차면수\n",
    ": 제거X"
   ]
  },
  {
   "cell_type": "markdown",
   "id": "77c6e448",
   "metadata": {},
   "source": [
    "### 2. 공가수\n",
    "- 공가수: 11인 데이터만 제거 (신뢰구간 너무 넓음)"
   ]
  },
  {
   "cell_type": "code",
   "execution_count": 52,
   "id": "da350298",
   "metadata": {
    "scrolled": true
   },
   "outputs": [
    {
     "data": {
      "text/plain": [
       "<AxesSubplot:xlabel='공가수', ylabel='등록차량수'>"
      ]
     },
     "execution_count": 52,
     "metadata": {},
     "output_type": "execute_result"
    },
    {
     "data": {
      "image/png": "[encoded data removed]",
      "text/plain": [
       "<Figure size 2160x720 with 1 Axes>"
      ]
     },
     "metadata": {
      "needs_background": "light"
     },
     "output_type": "display_data"
    }
   ],
   "source": [
    "plt.figure(figsize=(30,10))\n",
    "sns.barplot(data=new_train, x='공가수', y='등록차량수')"
   ]
  },
  {
   "cell_type": "code",
   "execution_count": 53,
   "id": "6eb2e64c",
   "metadata": {},
   "outputs": [],
   "source": [
    "# #공가수 11인 데이터 행 제거\n",
    "# df_idx=df[df.공가수==11.0].index\n",
    "# df.drop(df_idx, axis=0, inplace=True)"
   ]
  },
  {
   "cell_type": "markdown",
   "id": "13b8216f",
   "metadata": {},
   "source": [
    "### 3. 버스\n",
    "도보 10분거리 내 버스정류장 수: 0인 데이터만 제거\n",
    "주변에 버스정류장이 하나도 없는데 등록차량수의 비율이 가장 낮다는 것은 서로 관계성이 떨어진다고 판단하여 0인 데이터만 제거"
   ]
  },
  {
   "cell_type": "code",
   "execution_count": 54,
   "id": "0c051645",
   "metadata": {},
   "outputs": [
    {
     "data": {
      "text/plain": [
       "<AxesSubplot:xlabel='도보 10분거리 내 버스정류장 수', ylabel='등록차량수'>"
      ]
     },
     "execution_count": 54,
     "metadata": {},
     "output_type": "execute_result"
    },
    {
     "data": {
      "image/png": "[encoded data removed]",
      "text/plain": [
       "<Figure size 432x288 with 1 Axes>"
      ]
     },
     "metadata": {
      "needs_background": "light"
     },
     "output_type": "display_data"
    }
   ],
   "source": [
    "sns.barplot(data=new_train, x='도보 10분거리 내 버스정류장 수', y='등록차량수')"
   ]
  },
  {
   "cell_type": "code",
   "execution_count": 55,
   "id": "34798543",
   "metadata": {},
   "outputs": [
    {
     "data": {
      "text/plain": [
       "<AxesSubplot:xlabel='도보 10분거리 내 버스정류장 수', ylabel='count'>"
      ]
     },
     "execution_count": 55,
     "metadata": {},
     "output_type": "execute_result"
    },
    {
     "data": {
      "image/png": "[encoded data removed]",
      "text/plain": [
       "<Figure size 432x288 with 1 Axes>"
      ]
     },
     "metadata": {
      "needs_background": "light"
     },
     "output_type": "display_data"
    }
   ],
   "source": [
    "sns.countplot(x=new_train['도보 10분거리 내 버스정류장 수'])"
   ]
  },
  {
   "cell_type": "code",
   "execution_count": 56,
   "id": "e62abac1",
   "metadata": {},
   "outputs": [],
   "source": [
    "# #버스정류장 수가 0인 데이터 행 제거\n",
    "# train_idx=new_train[new_train['도보 10분거리 내 버스정류장 수']==0.0].index\n",
    "# new_train.drop(train_idx, axis=0, inplace=True)\n",
    "\n",
    "# test_idx=new_test[new_test['도보 10분거리 내 버스정류장 수']==0.0].index\n",
    "# new_test.drop(test_idx, axis=0, inplace=True)"
   ]
  },
  {
   "cell_type": "markdown",
   "id": "c8122816",
   "metadata": {},
   "source": [
    "### 4. 지하철\n",
    "- 제거 X (연관성 있으니까)"
   ]
  },
  {
   "cell_type": "code",
   "execution_count": 57,
   "id": "5b72f159",
   "metadata": {},
   "outputs": [
    {
     "data": {
      "text/plain": [
       "<AxesSubplot:xlabel='도보 10분거리 내 지하철역 수(환승노선 수 반영)', ylabel='등록차량수'>"
      ]
     },
     "execution_count": 57,
     "metadata": {},
     "output_type": "execute_result"
    },
    {
     "data": {
      "image/png": "[encoded data removed]",
      "text/plain": [
       "<Figure size 432x288 with 1 Axes>"
      ]
     },
     "metadata": {
      "needs_background": "light"
     },
     "output_type": "display_data"
    }
   ],
   "source": [
    "sns.barplot(data=new_train, x='도보 10분거리 내 지하철역 수(환승노선 수 반영)', y='등록차량수')"
   ]
  },
  {
   "cell_type": "code",
   "execution_count": 58,
   "id": "b5040076",
   "metadata": {
    "scrolled": true
   },
   "outputs": [
    {
     "data": {
      "text/plain": [
       "<AxesSubplot:xlabel='도보 10분거리 내 지하철역 수(환승노선 수 반영)', ylabel='count'>"
      ]
     },
     "execution_count": 58,
     "metadata": {},
     "output_type": "execute_result"
    },
    {
     "data": {
      "image/png": "[encoded data removed]",
      "text/plain": [
       "<Figure size 432x288 with 1 Axes>"
      ]
     },
     "metadata": {
      "needs_background": "light"
     },
     "output_type": "display_data"
    }
   ],
   "source": [
    "sns.countplot(x=new_train['도보 10분거리 내 지하철역 수(환승노선 수 반영)'])"
   ]
  },
  {
   "cell_type": "markdown",
   "id": "d9a4eb80",
   "metadata": {},
   "source": [
    "### 5. 임대료, 임대보증금\n",
    "제거X  \n",
    "신뢰구간이 넓기는 하지만 전반적으로 약한 양의 상관관계가 있어 제거하지 않음"
   ]
  },
  {
   "cell_type": "code",
   "execution_count": 59,
   "id": "5aa216d7",
   "metadata": {},
   "outputs": [
    {
     "data": {
      "text/plain": [
       "<AxesSubplot:xlabel='임대료', ylabel='등록차량수'>"
      ]
     },
     "execution_count": 59,
     "metadata": {},
     "output_type": "execute_result"
    },
    {
     "data": {
      "image/png": "[encoded data removed]",
      "text/plain": [
       "<Figure size 432x288 with 1 Axes>"
      ]
     },
     "metadata": {
      "needs_background": "light"
     },
     "output_type": "display_data"
    }
   ],
   "source": [
    "sns.barplot(data=new_train, x='임대료', y='등록차량수')"
   ]
  },
  {
   "cell_type": "code",
   "execution_count": 60,
   "id": "ce565da8",
   "metadata": {
    "scrolled": true
   },
   "outputs": [
    {
     "data": {
      "text/plain": [
       "<AxesSubplot:xlabel='임대보증금', ylabel='등록차량수'>"
      ]
     },
     "execution_count": 60,
     "metadata": {},
     "output_type": "execute_result"
    },
    {
     "data": {
      "image/png": "[encoded data removed]",
      "text/plain": [
       "<Figure size 432x288 with 1 Axes>"
      ]
     },
     "metadata": {
      "needs_background": "light"
     },
     "output_type": "display_data"
    }
   ],
   "source": [
    "sns.barplot(data=new_train, x='임대보증금', y='등록차량수')"
   ]
  },
  {
   "cell_type": "markdown",
   "id": "2db8f908",
   "metadata": {},
   "source": [
    "### 6. 전용면적, 전용면적별세대수\n",
    "- 전용면적: 파생 변수 만들었으므로 삭제\n",
    "- 전용면적별세대수: 신뢰구간이 너무 넓고 타깃값과의 전반적인 상관관계도 많이 떨어져서 제거"
   ]
  },
  {
   "cell_type": "code",
   "execution_count": 61,
   "id": "8acb7d38",
   "metadata": {},
   "outputs": [
    {
     "data": {
      "text/plain": [
       "<AxesSubplot:xlabel='전용면적', ylabel='등록차량수'>"
      ]
     },
     "execution_count": 61,
     "metadata": {},
     "output_type": "execute_result"
    },
    {
     "data": {
      "image/png": "[encoded data removed]",
      "text/plain": [
       "<Figure size 432x288 with 1 Axes>"
      ]
     },
     "metadata": {
      "needs_background": "light"
     },
     "output_type": "display_data"
    }
   ],
   "source": [
    "sns.barplot(data=new_train, x='전용면적', y='등록차량수')"
   ]
  },
  {
   "cell_type": "code",
   "execution_count": 62,
   "id": "da6688d3",
   "metadata": {},
   "outputs": [
    {
     "data": {
      "text/plain": [
       "<AxesSubplot:xlabel='전용면적별세대수', ylabel='등록차량수'>"
      ]
     },
     "execution_count": 62,
     "metadata": {},
     "output_type": "execute_result"
    },
    {
     "data": {
      "image/png": "[encoded data removed]",
      "text/plain": [
       "<Figure size 432x288 with 1 Axes>"
      ]
     },
     "metadata": {
      "needs_background": "light"
     },
     "output_type": "display_data"
    }
   ],
   "source": [
    "sns.barplot(data=new_train, x='전용면적별세대수', y='등록차량수')"
   ]
  },
  {
   "cell_type": "code",
   "execution_count": 63,
   "id": "6d08967e",
   "metadata": {},
   "outputs": [],
   "source": [
    "# #의미없는 컬럼 제거\n",
    "# df.drop(['전용면적', '전용면적별세대수'], axis=1, inplace=True)"
   ]
  },
  {
   "cell_type": "markdown",
   "id": "502fc083",
   "metadata": {},
   "source": [
    "### 7. 총세대수\n",
    "- 제거 X"
   ]
  },
  {
   "cell_type": "code",
   "execution_count": 64,
   "id": "6897cf1f",
   "metadata": {
    "scrolled": true
   },
   "outputs": [
    {
     "data": {
      "text/plain": [
       "<AxesSubplot:xlabel='총세대수', ylabel='등록차량수'>"
      ]
     },
     "execution_count": 64,
     "metadata": {},
     "output_type": "execute_result"
    },
    {
     "data": {
      "image/png": "[encoded data removed]",
      "text/plain": [
       "<Figure size 432x288 with 1 Axes>"
      ]
     },
     "metadata": {
      "needs_background": "light"
     },
     "output_type": "display_data"
    }
   ],
   "source": [
    "sns.barplot(data=new_train, x='총세대수', y='등록차량수')"
   ]
  },
  {
   "cell_type": "markdown",
   "id": "9316313f",
   "metadata": {},
   "source": [
    "### 피처, 이상치 제거"
   ]
  },
  {
   "cell_type": "code",
   "execution_count": 65,
   "id": "c384633c",
   "metadata": {},
   "outputs": [
    {
     "data": {
      "text/plain": [
       "((423, 30), (150, 29))"
      ]
     },
     "execution_count": 65,
     "metadata": {},
     "output_type": "execute_result"
    }
   ],
   "source": [
    "new_train.shape, new_test.shape"
   ]
  },
  {
   "cell_type": "code",
   "execution_count": 66,
   "id": "c508cc18",
   "metadata": {},
   "outputs": [],
   "source": [
    "# 1. 공가수: 11인 데이터 행만 제거\n",
    "train_idx=new_train[new_train.공가수==11.0].index\n",
    "new_train.drop(train_idx, axis=0, inplace=True)\n",
    "# test_idx=new_test[new_test.공가수==11.0].index\n",
    "# new_test.drop(test_idx, axis=0, inplace=True)\n",
    "\n",
    "# 2. 버스정류장: 0인 데이터 행만 제거\n",
    "train_idx=new_train[new_train['도보 10분거리 내 버스정류장 수']==0.0].index\n",
    "new_train.drop(train_idx, axis=0, inplace=True)\n",
    "# test_idx=new_test[new_test['도보 10분거리 내 버스정류장 수']==0.0].index\n",
    "# new_test.drop(test_idx, axis=0, inplace=True)\n",
    "\n",
    "# 3. 임대건물구분, 전용면적, 전용면적별세대수 컬럼 삭제\n",
    "# + '면적_30.0', '면적_15.0', 지하철역 수\n",
    "new_train.drop(['전용면적', '전용면적별세대수','임대건물구분','면적_30.0', '면적_15.0','면적_75.0', '도보 10분거리 내 지하철역 수(환승노선 수 반영)'], axis=1, inplace=True)\n",
    "new_test.drop(['전용면적', '전용면적별세대수','임대건물구분','면적_30.0', '면적_15.0','면적_75.0','도보 10분거리 내 지하철역 수(환승노선 수 반영)'], axis=1, inplace=True)"
   ]
  },
  {
   "cell_type": "code",
   "execution_count": 67,
   "id": "1ed8d50c",
   "metadata": {},
   "outputs": [
    {
     "data": {
      "text/plain": [
       "((416, 23), (150, 22))"
      ]
     },
     "execution_count": 67,
     "metadata": {},
     "output_type": "execute_result"
    }
   ],
   "source": [
    "new_train.shape, new_test.shape"
   ]
  },
  {
   "cell_type": "code",
   "execution_count": 68,
   "id": "a577d1cd",
   "metadata": {},
   "outputs": [],
   "source": [
    "# 공급유형: 파생 컬럼 만들고 의미없는 컬럼 제거\n",
    "# new_train, new_test합치기\n",
    "df2 = pd.concat([new_train, new_test])\n",
    "\n",
    "# 파생 컬럼 만들기\n",
    "df2 = pd.get_dummies(df2, columns=['공급유형'])\n",
    "\n",
    "# 의미없는 컬럼 제거\n",
    "df2.drop(['공급유형_공공분양', '공급유형_장기전세', '자격유형'], axis=1, inplace=True)"
   ]
  },
  {
   "cell_type": "code",
   "execution_count": 69,
   "id": "40594a87",
   "metadata": {},
   "outputs": [
    {
     "name": "stdout",
     "output_type": "stream",
     "text": [
      "<class 'pandas.core.frame.DataFrame'>\n",
      "Int64Index: 566 entries, 0 to 149\n",
      "Data columns (total 27 columns):\n",
      " #   Column              Non-Null Count  Dtype  \n",
      "---  ------              --------------  -----  \n",
      " 0   단지코드                566 non-null    object \n",
      " 1   총세대수                566 non-null    float64\n",
      " 2   지역                  566 non-null    object \n",
      " 3   공가수                 566 non-null    float64\n",
      " 4   임대보증금               566 non-null    float64\n",
      " 5   임대료                 566 non-null    float64\n",
      " 6   도보 10분거리 내 버스정류장 수  566 non-null    float64\n",
      " 7   단지내주차면수             566 non-null    float64\n",
      " 8   면적_35.0             566 non-null    float64\n",
      " 9   면적_50.0             566 non-null    float64\n",
      " 10  면적_55.0             566 non-null    float64\n",
      " 11  면적_45.0             566 non-null    float64\n",
      " 12  면적_40.0             566 non-null    float64\n",
      " 13  면적_25.0             566 non-null    float64\n",
      " 14  면적_70.0             566 non-null    float64\n",
      " 15  면적_20.0             566 non-null    float64\n",
      " 16  면적_100.0            566 non-null    float64\n",
      " 17  면적_60.0             566 non-null    float64\n",
      " 18  면적_80.0             566 non-null    float64\n",
      " 19  면적_65.0             566 non-null    float64\n",
      " 20  등록차량수               416 non-null    float64\n",
      " 21  공급유형_공공임대(10년)      566 non-null    uint8  \n",
      " 22  공급유형_공공임대(50년)      566 non-null    uint8  \n",
      " 23  공급유형_공공임대(5년)       566 non-null    uint8  \n",
      " 24  공급유형_국민임대           566 non-null    uint8  \n",
      " 25  공급유형_영구임대           566 non-null    uint8  \n",
      " 26  공급유형_행복주택           566 non-null    uint8  \n",
      "dtypes: float64(19), object(2), uint8(6)\n",
      "memory usage: 100.6+ KB\n"
     ]
    }
   ],
   "source": [
    "df2.info()"
   ]
  },
  {
   "cell_type": "markdown",
   "id": "241d4d0c",
   "metadata": {},
   "source": [
    "# 3. 베이스라인"
   ]
  },
  {
   "cell_type": "markdown",
   "id": "6ba2331d",
   "metadata": {},
   "source": [
    "## (1) 인코딩"
   ]
  },
  {
   "cell_type": "code",
   "execution_count": 70,
   "id": "e7807165",
   "metadata": {},
   "outputs": [
    {
     "data": {
      "text/html": [
       "<div>\n",
       "<style scoped>\n",
       "    .dataframe tbody tr th:only-of-type {\n",
       "        vertical-align: middle;\n",
       "    }\n",
       "\n",
       "    .dataframe tbody tr th {\n",
       "        vertical-align: top;\n",
       "    }\n",
       "\n",
       "    .dataframe thead th {\n",
       "        text-align: right;\n",
       "    }\n",
       "</style>\n",
       "<table border=\"1\" class=\"dataframe\">\n",
       "  <thead>\n",
       "    <tr style=\"text-align: right;\">\n",
       "      <th></th>\n",
       "      <th>단지코드</th>\n",
       "      <th>지역</th>\n",
       "    </tr>\n",
       "  </thead>\n",
       "  <tbody>\n",
       "    <tr>\n",
       "      <th>0</th>\n",
       "      <td>C2483</td>\n",
       "      <td>경상북도</td>\n",
       "    </tr>\n",
       "    <tr>\n",
       "      <th>1</th>\n",
       "      <td>C2515</td>\n",
       "      <td>경상남도</td>\n",
       "    </tr>\n",
       "    <tr>\n",
       "      <th>2</th>\n",
       "      <td>C1407</td>\n",
       "      <td>대전광역시</td>\n",
       "    </tr>\n",
       "    <tr>\n",
       "      <th>3</th>\n",
       "      <td>C1945</td>\n",
       "      <td>경기도</td>\n",
       "    </tr>\n",
       "    <tr>\n",
       "      <th>4</th>\n",
       "      <td>C1470</td>\n",
       "      <td>전라북도</td>\n",
       "    </tr>\n",
       "    <tr>\n",
       "      <th>...</th>\n",
       "      <td>...</td>\n",
       "      <td>...</td>\n",
       "    </tr>\n",
       "    <tr>\n",
       "      <th>145</th>\n",
       "      <td>C2456</td>\n",
       "      <td>제주특별자치도</td>\n",
       "    </tr>\n",
       "    <tr>\n",
       "      <th>146</th>\n",
       "      <td>C1266</td>\n",
       "      <td>충청북도</td>\n",
       "    </tr>\n",
       "    <tr>\n",
       "      <th>147</th>\n",
       "      <td>C2152</td>\n",
       "      <td>강원도</td>\n",
       "    </tr>\n",
       "    <tr>\n",
       "      <th>148</th>\n",
       "      <td>C1267</td>\n",
       "      <td>경상남도</td>\n",
       "    </tr>\n",
       "    <tr>\n",
       "      <th>149</th>\n",
       "      <td>C2189</td>\n",
       "      <td>전라북도</td>\n",
       "    </tr>\n",
       "  </tbody>\n",
       "</table>\n",
       "<p>566 rows × 2 columns</p>\n",
       "</div>"
      ],
      "text/plain": [
       "      단지코드       지역\n",
       "0    C2483     경상북도\n",
       "1    C2515     경상남도\n",
       "2    C1407    대전광역시\n",
       "3    C1945      경기도\n",
       "4    C1470     전라북도\n",
       "..     ...      ...\n",
       "145  C2456  제주특별자치도\n",
       "146  C1266     충청북도\n",
       "147  C2152      강원도\n",
       "148  C1267     경상남도\n",
       "149  C2189     전라북도\n",
       "\n",
       "[566 rows x 2 columns]"
      ]
     },
     "execution_count": 70,
     "metadata": {},
     "output_type": "execute_result"
    }
   ],
   "source": [
    "df2.select_dtypes(\"object\")"
   ]
  },
  {
   "cell_type": "code",
   "execution_count": 71,
   "id": "7df32cb9",
   "metadata": {},
   "outputs": [],
   "source": [
    "#명목형 변수 원핫 인코딩\n",
    "df2 = pd.get_dummies(df2, columns=['단지코드','지역'])"
   ]
  },
  {
   "cell_type": "code",
   "execution_count": 72,
   "id": "6540d1b9",
   "metadata": {
    "scrolled": true
   },
   "outputs": [
    {
     "data": {
      "text/html": [
       "<div>\n",
       "<style scoped>\n",
       "    .dataframe tbody tr th:only-of-type {\n",
       "        vertical-align: middle;\n",
       "    }\n",
       "\n",
       "    .dataframe tbody tr th {\n",
       "        vertical-align: top;\n",
       "    }\n",
       "\n",
       "    .dataframe thead th {\n",
       "        text-align: right;\n",
       "    }\n",
       "</style>\n",
       "<table border=\"1\" class=\"dataframe\">\n",
       "  <thead>\n",
       "    <tr style=\"text-align: right;\">\n",
       "      <th></th>\n",
       "      <th>총세대수</th>\n",
       "      <th>공가수</th>\n",
       "      <th>임대보증금</th>\n",
       "      <th>임대료</th>\n",
       "      <th>도보 10분거리 내 버스정류장 수</th>\n",
       "      <th>단지내주차면수</th>\n",
       "      <th>면적_35.0</th>\n",
       "      <th>면적_50.0</th>\n",
       "      <th>면적_55.0</th>\n",
       "      <th>면적_45.0</th>\n",
       "      <th>...</th>\n",
       "      <th>지역_대전광역시</th>\n",
       "      <th>지역_부산광역시</th>\n",
       "      <th>지역_서울특별시</th>\n",
       "      <th>지역_세종특별자치시</th>\n",
       "      <th>지역_울산광역시</th>\n",
       "      <th>지역_전라남도</th>\n",
       "      <th>지역_전라북도</th>\n",
       "      <th>지역_제주특별자치도</th>\n",
       "      <th>지역_충청남도</th>\n",
       "      <th>지역_충청북도</th>\n",
       "    </tr>\n",
       "  </thead>\n",
       "  <tbody>\n",
       "    <tr>\n",
       "      <th>0</th>\n",
       "      <td>900.0</td>\n",
       "      <td>38.0</td>\n",
       "      <td>15667000.0</td>\n",
       "      <td>103680.0</td>\n",
       "      <td>3.0</td>\n",
       "      <td>1425.0</td>\n",
       "      <td>149.0</td>\n",
       "      <td>665.0</td>\n",
       "      <td>86.0</td>\n",
       "      <td>0.0</td>\n",
       "      <td>...</td>\n",
       "      <td>0</td>\n",
       "      <td>0</td>\n",
       "      <td>0</td>\n",
       "      <td>0</td>\n",
       "      <td>0</td>\n",
       "      <td>0</td>\n",
       "      <td>0</td>\n",
       "      <td>0</td>\n",
       "      <td>0</td>\n",
       "      <td>0</td>\n",
       "    </tr>\n",
       "    <tr>\n",
       "      <th>1</th>\n",
       "      <td>545.0</td>\n",
       "      <td>17.0</td>\n",
       "      <td>9216000.0</td>\n",
       "      <td>82940.0</td>\n",
       "      <td>3.0</td>\n",
       "      <td>624.0</td>\n",
       "      <td>80.0</td>\n",
       "      <td>132.0</td>\n",
       "      <td>0.0</td>\n",
       "      <td>57.0</td>\n",
       "      <td>...</td>\n",
       "      <td>0</td>\n",
       "      <td>0</td>\n",
       "      <td>0</td>\n",
       "      <td>0</td>\n",
       "      <td>0</td>\n",
       "      <td>0</td>\n",
       "      <td>0</td>\n",
       "      <td>0</td>\n",
       "      <td>0</td>\n",
       "      <td>0</td>\n",
       "    </tr>\n",
       "    <tr>\n",
       "      <th>2</th>\n",
       "      <td>1216.0</td>\n",
       "      <td>13.0</td>\n",
       "      <td>15620000.0</td>\n",
       "      <td>127350.0</td>\n",
       "      <td>1.0</td>\n",
       "      <td>1285.0</td>\n",
       "      <td>0.0</td>\n",
       "      <td>124.0</td>\n",
       "      <td>0.0</td>\n",
       "      <td>340.0</td>\n",
       "      <td>...</td>\n",
       "      <td>1</td>\n",
       "      <td>0</td>\n",
       "      <td>0</td>\n",
       "      <td>0</td>\n",
       "      <td>0</td>\n",
       "      <td>0</td>\n",
       "      <td>0</td>\n",
       "      <td>0</td>\n",
       "      <td>0</td>\n",
       "      <td>0</td>\n",
       "    </tr>\n",
       "    <tr>\n",
       "      <th>3</th>\n",
       "      <td>755.0</td>\n",
       "      <td>6.0</td>\n",
       "      <td>15607000.0</td>\n",
       "      <td>130070.0</td>\n",
       "      <td>3.0</td>\n",
       "      <td>734.0</td>\n",
       "      <td>240.0</td>\n",
       "      <td>303.0</td>\n",
       "      <td>212.0</td>\n",
       "      <td>0.0</td>\n",
       "      <td>...</td>\n",
       "      <td>0</td>\n",
       "      <td>0</td>\n",
       "      <td>0</td>\n",
       "      <td>0</td>\n",
       "      <td>0</td>\n",
       "      <td>0</td>\n",
       "      <td>0</td>\n",
       "      <td>0</td>\n",
       "      <td>0</td>\n",
       "      <td>0</td>\n",
       "    </tr>\n",
       "    <tr>\n",
       "      <th>4</th>\n",
       "      <td>696.0</td>\n",
       "      <td>14.0</td>\n",
       "      <td>12015000.0</td>\n",
       "      <td>102130.0</td>\n",
       "      <td>2.0</td>\n",
       "      <td>645.0</td>\n",
       "      <td>254.0</td>\n",
       "      <td>246.0</td>\n",
       "      <td>0.0</td>\n",
       "      <td>196.0</td>\n",
       "      <td>...</td>\n",
       "      <td>0</td>\n",
       "      <td>0</td>\n",
       "      <td>0</td>\n",
       "      <td>0</td>\n",
       "      <td>0</td>\n",
       "      <td>0</td>\n",
       "      <td>1</td>\n",
       "      <td>0</td>\n",
       "      <td>0</td>\n",
       "      <td>0</td>\n",
       "    </tr>\n",
       "  </tbody>\n",
       "</table>\n",
       "<p>5 rows × 607 columns</p>\n",
       "</div>"
      ],
      "text/plain": [
       "     총세대수   공가수       임대보증금       임대료  도보 10분거리 내 버스정류장 수  단지내주차면수  면적_35.0  \\\n",
       "0   900.0  38.0  15667000.0  103680.0                 3.0   1425.0    149.0   \n",
       "1   545.0  17.0   9216000.0   82940.0                 3.0    624.0     80.0   \n",
       "2  1216.0  13.0  15620000.0  127350.0                 1.0   1285.0      0.0   \n",
       "3   755.0   6.0  15607000.0  130070.0                 3.0    734.0    240.0   \n",
       "4   696.0  14.0  12015000.0  102130.0                 2.0    645.0    254.0   \n",
       "\n",
       "   면적_50.0  면적_55.0  면적_45.0  ...  지역_대전광역시  지역_부산광역시  지역_서울특별시  지역_세종특별자치시  \\\n",
       "0    665.0     86.0      0.0  ...         0         0         0           0   \n",
       "1    132.0      0.0     57.0  ...         0         0         0           0   \n",
       "2    124.0      0.0    340.0  ...         1         0         0           0   \n",
       "3    303.0    212.0      0.0  ...         0         0         0           0   \n",
       "4    246.0      0.0    196.0  ...         0         0         0           0   \n",
       "\n",
       "   지역_울산광역시  지역_전라남도  지역_전라북도  지역_제주특별자치도  지역_충청남도  지역_충청북도  \n",
       "0         0        0        0           0        0        0  \n",
       "1         0        0        0           0        0        0  \n",
       "2         0        0        0           0        0        0  \n",
       "3         0        0        0           0        0        0  \n",
       "4         0        0        1           0        0        0  \n",
       "\n",
       "[5 rows x 607 columns]"
      ]
     },
     "execution_count": 72,
     "metadata": {},
     "output_type": "execute_result"
    }
   ],
   "source": [
    "df2.head()"
   ]
  },
  {
   "cell_type": "code",
   "execution_count": 73,
   "id": "c853dd8b",
   "metadata": {},
   "outputs": [],
   "source": [
    "# # row 생략 없이 출력\n",
    "# pd.set_option('display.max_rows', None)"
   ]
  },
  {
   "cell_type": "code",
   "execution_count": 74,
   "id": "c8642d78",
   "metadata": {},
   "outputs": [
    {
     "data": {
      "text/plain": [
       "총세대수                  0\n",
       "공가수                   0\n",
       "임대보증금                 0\n",
       "임대료                   0\n",
       "도보 10분거리 내 버스정류장 수    0\n",
       "                     ..\n",
       "지역_전라남도               0\n",
       "지역_전라북도               0\n",
       "지역_제주특별자치도            0\n",
       "지역_충청남도               0\n",
       "지역_충청북도               0\n",
       "Length: 607, dtype: int64"
      ]
     },
     "execution_count": 74,
     "metadata": {},
     "output_type": "execute_result"
    }
   ],
   "source": [
    "df2.isnull().sum()"
   ]
  },
  {
   "cell_type": "markdown",
   "id": "53744a50",
   "metadata": {},
   "source": [
    "## (2) train_test 나누기"
   ]
  },
  {
   "cell_type": "code",
   "execution_count": 75,
   "id": "50e113e3",
   "metadata": {},
   "outputs": [
    {
     "data": {
      "text/plain": [
       "((416, 607), (150, 607))"
      ]
     },
     "execution_count": 75,
     "metadata": {},
     "output_type": "execute_result"
    }
   ],
   "source": [
    "new_train2 = df2.iloc[:len(new_train), :] #타깃값 포함\n",
    "new_test2 = df2.iloc[len(new_train):, :] #타깂값 포함\n",
    "y = new_train2['등록차량수']\n",
    "\n",
    "new_train2.shape, new_test2.shape"
   ]
  },
  {
   "cell_type": "code",
   "execution_count": 76,
   "id": "e0b026cb",
   "metadata": {},
   "outputs": [
    {
     "data": {
      "text/plain": [
       "0      1015.0\n",
       "1       205.0\n",
       "2      1064.0\n",
       "3       730.0\n",
       "4       553.0\n",
       "        ...  \n",
       "418      57.0\n",
       "419     246.0\n",
       "420      19.0\n",
       "421      16.0\n",
       "422     146.0\n",
       "Name: 등록차량수, Length: 416, dtype: float64"
      ]
     },
     "execution_count": 76,
     "metadata": {},
     "output_type": "execute_result"
    }
   ],
   "source": [
    "y"
   ]
  },
  {
   "cell_type": "code",
   "execution_count": 77,
   "id": "82a2dc20",
   "metadata": {},
   "outputs": [
    {
     "data": {
      "text/plain": [
       "((416, 607), (150, 606))"
      ]
     },
     "execution_count": 77,
     "metadata": {},
     "output_type": "execute_result"
    }
   ],
   "source": [
    "# test 타깃값 등록차량수 제거\n",
    "new_test2 = new_test2.drop(['등록차량수'], axis=1)\n",
    "\n",
    "new_train2.shape, new_test2.shape"
   ]
  },
  {
   "cell_type": "code",
   "execution_count": 78,
   "id": "38f0c9dd",
   "metadata": {},
   "outputs": [
    {
     "data": {
      "text/plain": [
       "((416, 606), (150, 606))"
      ]
     },
     "execution_count": 78,
     "metadata": {},
     "output_type": "execute_result"
    }
   ],
   "source": [
    "# tain 타깃값 등록차량수 제거\n",
    "new_train2 = new_train2.drop(['등록차량수'], axis=1)\n",
    "\n",
    "new_train2.shape, new_test2.shape"
   ]
  },
  {
   "cell_type": "markdown",
   "id": "c4a6d846",
   "metadata": {},
   "source": [
    "## (3) 스케일링"
   ]
  },
  {
   "cell_type": "code",
   "execution_count": 79,
   "id": "272636e1",
   "metadata": {},
   "outputs": [],
   "source": [
    "from sklearn.preprocessing import StandardScaler\n",
    "\n",
    "scaler = StandardScaler()\n",
    "\n",
    "scaler.fit(new_train2)\n",
    "train_scaled = scaler.transform(new_train2)\n",
    "test_scaled = scaler.transform(new_test2)"
   ]
  },
  {
   "cell_type": "code",
   "execution_count": 80,
   "id": "a2dab989",
   "metadata": {},
   "outputs": [
    {
     "data": {
      "text/plain": [
       "array([[ 8.02872284e-02,  4.33097690e-02,  3.16227472e-01, ...,\n",
       "        -1.79605302e-01, -2.12664362e-01, -2.73743311e-01],\n",
       "       [ 1.59500319e+00, -4.35862144e-01,  3.16227472e-01, ...,\n",
       "        -1.79605302e-01, -2.12664362e-01, -2.73743311e-01],\n",
       "       [-2.60523864e-01,  4.26647299e-01,  1.05392567e-01, ...,\n",
       "        -1.79605302e-01, -2.12664362e-01, -2.73743311e-01],\n",
       "       ...,\n",
       "       [-1.52026264e+00, -4.35862144e-01,  4.94665350e-04, ...,\n",
       "        -1.79605302e-01, -2.12664362e-01, -2.73743311e-01],\n",
       "       [-1.19150374e-01,  2.34333495e+00, -7.60083368e-01, ...,\n",
       "        -1.79605302e-01, -2.12664362e-01, -2.73743311e-01],\n",
       "       [-8.58836669e-01,  3.01417563e+00, -7.60758256e-01, ...,\n",
       "        -1.79605302e-01, -2.12664362e-01, -2.73743311e-01]])"
      ]
     },
     "execution_count": 80,
     "metadata": {},
     "output_type": "execute_result"
    }
   ],
   "source": [
    "test_scaled"
   ]
  },
  {
   "cell_type": "markdown",
   "id": "4838984f",
   "metadata": {},
   "source": [
    "## (4) 모델 학습 - 랜덤포레스트"
   ]
  },
  {
   "cell_type": "code",
   "execution_count": 81,
   "id": "90841c0c",
   "metadata": {},
   "outputs": [
    {
     "data": {
      "text/plain": [
       "0"
      ]
     },
     "execution_count": 81,
     "metadata": {},
     "output_type": "execute_result"
    }
   ],
   "source": [
    "y.isnull().sum()"
   ]
  },
  {
   "cell_type": "code",
   "execution_count": 82,
   "id": "9ab29806",
   "metadata": {},
   "outputs": [
    {
     "data": {
      "text/plain": [
       "RandomForestRegressor()"
      ]
     },
     "execution_count": 82,
     "metadata": {},
     "output_type": "execute_result"
    }
   ],
   "source": [
    "from sklearn.ensemble import RandomForestRegressor\n",
    "\n",
    "model = RandomForestRegressor() # 랜덤포레스트 모델 생성\n",
    "log_y = np.log(y) # 타깃값 로그변환\n",
    "model.fit(train_scaled, log_y) # 모델 훈련"
   ]
  },
  {
   "cell_type": "code",
   "execution_count": 83,
   "id": "7c821bdf",
   "metadata": {},
   "outputs": [
    {
     "name": "stdout",
     "output_type": "stream",
     "text": [
      "랜덤포레스트의 MAE 값 : 47.6291\n"
     ]
    }
   ],
   "source": [
    "# train 데이터로 예측\n",
    "preds = model.predict(train_scaled)\n",
    "# train 지수변환\n",
    "train_preds = np.exp(preds)\n",
    "\n",
    "# MAE 성능검증\n",
    "from sklearn.metrics import mean_absolute_error\n",
    "print (f'랜덤포레스트의 MAE 값 : {mean_absolute_error(np.exp(log_y), train_preds):.4f}')"
   ]
  },
  {
   "cell_type": "code",
   "execution_count": 84,
   "id": "b05556fa",
   "metadata": {
    "scrolled": true
   },
   "outputs": [
    {
     "data": {
      "text/plain": [
       "array([ 733.96653725, 1265.33138117,  541.57211944,  531.40563381,\n",
       "       1178.0873373 , 1536.19780932,  876.33135283,  527.90998652,\n",
       "        393.19465181,  266.68758911,  445.97720838,  180.50844619,\n",
       "        399.5717773 ,  273.4716837 ,  184.34475051,  268.88667461,\n",
       "        472.47296779,  284.84310098,  161.95440901,  642.44747783,\n",
       "        175.23386508,  461.27847998,  518.49479448,  496.51414193,\n",
       "        495.92556541,  136.17152313,  133.41237209,  542.53264063,\n",
       "        555.01451722,  544.11714438,  965.63302518,  129.95730589,\n",
       "        528.09382795,  253.17269896,   85.49116057,  294.99167951,\n",
       "        392.82271017,  600.77222109,  799.8529345 ,  294.12701679,\n",
       "        444.66220769,  487.67097317,  435.18174756,  545.70695394,\n",
       "        799.23646152, 1096.87413201,  480.64352215,  634.93998294,\n",
       "        332.75369705,  399.10729098,  791.61943664,  288.73555165,\n",
       "       1056.67311486,  685.24375645,  631.39690323,  307.98181486,\n",
       "        571.33193651,  261.19867869,  439.08610037,   88.18962173,\n",
       "        348.52892969,  549.15922503,  834.59512319,  444.36811406,\n",
       "         70.50257053,  272.38261118,  561.76032248,  893.4012374 ,\n",
       "        574.24108042,  491.30724367,  582.75139683,  276.84699887,\n",
       "        611.02546484,  799.1716589 ,  782.21054735,  456.70200793,\n",
       "        716.72071525,  989.74795354,  661.40350553,  813.58370719,\n",
       "        702.25922445, 1104.6856292 ,  310.41720698,  271.5825166 ,\n",
       "        294.85489839,  230.97007938,  245.88390321,  410.89068939,\n",
       "        273.69282206,  905.0865319 ,  885.50679288,  585.19546036,\n",
       "        268.23347272,  528.34320139, 1005.57686632,  834.32549018,\n",
       "        583.48790326,  948.4169912 ,  925.21583888,  804.285951  ,\n",
       "        894.10335065,  410.51681376,  771.3549081 ,  598.68466941,\n",
       "        918.7001148 ,  568.38894256, 1091.65389695,  550.28555553,\n",
       "        841.62690348,  272.48611577,  540.88103009, 1013.45392658,\n",
       "        728.1728245 ,  853.4226113 ,  810.43077267,  128.43419066,\n",
       "        181.54704674,  542.06440622,  832.77908927, 1314.43763245,\n",
       "        541.46792006,  683.14324203,  687.12920937,  379.30681868,\n",
       "        663.51668767,  252.79396836,  487.07716396,  596.53747285,\n",
       "         87.09699253,   19.48561567,   84.20772747,  539.48524538,\n",
       "        552.8024635 ,  264.57551194,  267.3316416 ,  252.86808444,\n",
       "        441.05941189,  474.18413791,  509.45448018,  102.80209795,\n",
       "        464.00838837,   68.35841923,  132.20687244,  249.87891769,\n",
       "        263.63557287,  261.82663248,  502.8761915 ,   22.8501897 ,\n",
       "        465.06748483,  234.09234899])"
      ]
     },
     "execution_count": 84,
     "metadata": {},
     "output_type": "execute_result"
    }
   ],
   "source": [
    "# 테스트 데이터로 예측\n",
    "test_preds = model.predict(test_scaled)\n",
    "np.exp(test_preds)"
   ]
  },
  {
   "cell_type": "code",
   "execution_count": 85,
   "id": "e4ae968a",
   "metadata": {},
   "outputs": [],
   "source": [
    "# submission['num'] = np.exp(test_preds)\n",
    "# submission.to_csv('baseline_randomforest.csv', index=False)"
   ]
  },
  {
   "cell_type": "markdown",
   "id": "aeef05a7",
   "metadata": {},
   "source": [
    "- public 점수 : 114.9015\n",
    "- private 점수 : 117.3511"
   ]
  },
  {
   "cell_type": "markdown",
   "id": "6e6a7fac",
   "metadata": {},
   "source": [
    "### train, valid 검증"
   ]
  },
  {
   "cell_type": "code",
   "execution_count": 90,
   "id": "9304cd66",
   "metadata": {},
   "outputs": [],
   "source": [
    "from sklearn.model_selection import train_test_split\n",
    "\n",
    "X_train, X_valid, y_train, y_valid = train_test_split(train_scaled, log_y, test_size=0.2, random_state=22)"
   ]
  },
  {
   "cell_type": "code",
   "execution_count": 91,
   "id": "2407d93b",
   "metadata": {},
   "outputs": [
    {
     "data": {
      "text/plain": [
       "RandomForestRegressor()"
      ]
     },
     "execution_count": 91,
     "metadata": {},
     "output_type": "execute_result"
    }
   ],
   "source": [
    "model = RandomForestRegressor() # 랜덤포레스트 모델 생성\n",
    "model.fit(X_train, y_train) # 모델 훈련"
   ]
  },
  {
   "cell_type": "code",
   "execution_count": 93,
   "id": "8a897aea",
   "metadata": {},
   "outputs": [
    {
     "name": "stdout",
     "output_type": "stream",
     "text": [
      "랜덤포레스트의 MAE 값 : 50.2236\n"
     ]
    }
   ],
   "source": [
    "# train 데이터로 예측\n",
    "preds = model.predict(X_train)\n",
    "# train 지수변환\n",
    "train_preds = np.exp(preds)\n",
    "\n",
    "# MAE 성능검증\n",
    "print (f'랜덤포레스트의 MAE 값 : {mean_absolute_error(np.exp(y_train), train_preds):.4f}')"
   ]
  },
  {
   "cell_type": "code",
   "execution_count": 89,
   "id": "f22fb4cb",
   "metadata": {},
   "outputs": [
    {
     "name": "stdout",
     "output_type": "stream",
     "text": [
      "랜덤포레스트의 MAE 값 : 101.8525\n"
     ]
    }
   ],
   "source": [
    "# valid 데이터로 예측\n",
    "valid_preds = model.predict(X_valid)\n",
    "valid_preds = np.exp(valid_preds)\n",
    "\n",
    "# MAE 성능검증\n",
    "print (f'랜덤포레스트의 MAE 값 : {mean_absolute_error(np.exp(y_valid), valid_preds):.4f}')"
   ]
  },
  {
   "cell_type": "code",
   "execution_count": null,
   "id": "98edb75c",
   "metadata": {},
   "outputs": [],
   "source": []
  }
 ],
 "metadata": {
  "kernelspec": {
   "display_name": "Python 3 (ipykernel)",
   "language": "python",
   "name": "python3"
  },
  "language_info": {
   "codemirror_mode": {
    "name": "ipython",
    "version": 3
   },
   "file_extension": ".py",
   "mimetype": "text/x-python",
   "name": "python",
   "nbconvert_exporter": "python",
   "pygments_lexer": "ipython3",
   "version": "3.9.7"
  }
 },
 "nbformat": 4,
 "nbformat_minor": 5
}
